{
 "cells": [
  {
   "cell_type": "code",
   "execution_count": 1,
   "metadata": {},
   "outputs": [
    {
     "name": "stderr",
     "output_type": "stream",
     "text": [
      "/usr/local/lib/python3.7/site-packages/matplotlib/__init__.py:886: MatplotlibDeprecationWarning: \n",
      "examples.directory is deprecated; in the future, examples will be found relative to the 'datapath' directory.\n",
      "  \"found relative to the 'datapath' directory.\".format(key))\n"
     ]
    }
   ],
   "source": [
    "# -*- coding: utf-8 -*-\n",
    "\n",
    "#Imports\n",
    "import pandas as pd\n",
    "import csv\n",
    "import numpy as np\n",
    "import os\n",
    "import matplotlib.pyplot as plt\n",
    "from matplotlib.dates import DateFormatter\n",
    "import seaborn as sns"
   ]
  },
  {
   "cell_type": "code",
   "execution_count": 2,
   "metadata": {},
   "outputs": [
    {
     "data": {
      "text/html": [
       "<div>\n",
       "<style scoped>\n",
       "    .dataframe tbody tr th:only-of-type {\n",
       "        vertical-align: middle;\n",
       "    }\n",
       "\n",
       "    .dataframe tbody tr th {\n",
       "        vertical-align: top;\n",
       "    }\n",
       "\n",
       "    .dataframe thead th {\n",
       "        text-align: right;\n",
       "    }\n",
       "</style>\n",
       "<table border=\"1\" class=\"dataframe\">\n",
       "  <thead>\n",
       "    <tr style=\"text-align: right;\">\n",
       "      <th></th>\n",
       "      <th>fecha</th>\n",
       "      <th>dia_semana</th>\n",
       "      <th>hora</th>\n",
       "      <th>id_tramo</th>\n",
       "      <th>des_tramo</th>\n",
       "      <th>estado</th>\n",
       "      <th>longitud</th>\n",
       "      <th>latitud</th>\n",
       "    </tr>\n",
       "  </thead>\n",
       "  <tbody>\n",
       "    <tr>\n",
       "      <th>0</th>\n",
       "      <td>2015-01-01</td>\n",
       "      <td>Jueves</td>\n",
       "      <td>00:15:01</td>\n",
       "      <td>A102</td>\n",
       "      <td>ERNESTO FERRER</td>\n",
       "      <td>37</td>\n",
       "      <td>-0.354378</td>\n",
       "      <td>39.471478</td>\n",
       "    </tr>\n",
       "    <tr>\n",
       "      <th>1</th>\n",
       "      <td>2015-01-01</td>\n",
       "      <td>Jueves</td>\n",
       "      <td>00:15:01</td>\n",
       "      <td>A104</td>\n",
       "      <td>EUGENIA VIÑES</td>\n",
       "      <td>33</td>\n",
       "      <td>-0.325181</td>\n",
       "      <td>39.467414</td>\n",
       "    </tr>\n",
       "    <tr>\n",
       "      <th>2</th>\n",
       "      <td>2015-01-01</td>\n",
       "      <td>Jueves</td>\n",
       "      <td>00:15:01</td>\n",
       "      <td>A124</td>\n",
       "      <td>GUILLEM DE CASTRO</td>\n",
       "      <td>139</td>\n",
       "      <td>-0.383419</td>\n",
       "      <td>39.470396</td>\n",
       "    </tr>\n",
       "    <tr>\n",
       "      <th>3</th>\n",
       "      <td>2015-01-01</td>\n",
       "      <td>Jueves</td>\n",
       "      <td>00:15:01</td>\n",
       "      <td>A127</td>\n",
       "      <td>GUILLEM DE CASTRO</td>\n",
       "      <td>187</td>\n",
       "      <td>-0.384150</td>\n",
       "      <td>39.475677</td>\n",
       "    </tr>\n",
       "    <tr>\n",
       "      <th>4</th>\n",
       "      <td>2015-01-01</td>\n",
       "      <td>Jueves</td>\n",
       "      <td>00:15:01</td>\n",
       "      <td>A122</td>\n",
       "      <td>GRAN VIA RAMON Y CAJAL</td>\n",
       "      <td>218</td>\n",
       "      <td>-0.335824</td>\n",
       "      <td>39.460994</td>\n",
       "    </tr>\n",
       "    <tr>\n",
       "      <th>5</th>\n",
       "      <td>2015-01-01</td>\n",
       "      <td>Jueves</td>\n",
       "      <td>00:15:01</td>\n",
       "      <td>A13</td>\n",
       "      <td>ALBORAIA</td>\n",
       "      <td>40</td>\n",
       "      <td>-0.368968</td>\n",
       "      <td>39.485116</td>\n",
       "    </tr>\n",
       "    <tr>\n",
       "      <th>6</th>\n",
       "      <td>2015-01-01</td>\n",
       "      <td>Jueves</td>\n",
       "      <td>00:15:01</td>\n",
       "      <td>A130</td>\n",
       "      <td>HERNAN CORTES</td>\n",
       "      <td>55</td>\n",
       "      <td>-0.371882</td>\n",
       "      <td>39.469184</td>\n",
       "    </tr>\n",
       "    <tr>\n",
       "      <th>7</th>\n",
       "      <td>2015-01-01</td>\n",
       "      <td>Jueves</td>\n",
       "      <td>00:15:01</td>\n",
       "      <td>A131</td>\n",
       "      <td>ISABEL DE VILLENA</td>\n",
       "      <td>16</td>\n",
       "      <td>-0.325794</td>\n",
       "      <td>39.479083</td>\n",
       "    </tr>\n",
       "    <tr>\n",
       "      <th>8</th>\n",
       "      <td>2015-01-01</td>\n",
       "      <td>Jueves</td>\n",
       "      <td>00:15:01</td>\n",
       "      <td>A132</td>\n",
       "      <td>ISABEL LA CATOLICA</td>\n",
       "      <td>18</td>\n",
       "      <td>-0.371171</td>\n",
       "      <td>39.469726</td>\n",
       "    </tr>\n",
       "    <tr>\n",
       "      <th>9</th>\n",
       "      <td>2015-01-01</td>\n",
       "      <td>Jueves</td>\n",
       "      <td>00:15:01</td>\n",
       "      <td>A133</td>\n",
       "      <td>ISLAS CANARIAS</td>\n",
       "      <td>49</td>\n",
       "      <td>-0.335863</td>\n",
       "      <td>39.461000</td>\n",
       "    </tr>\n",
       "  </tbody>\n",
       "</table>\n",
       "</div>"
      ],
      "text/plain": [
       "        fecha dia_semana      hora id_tramo               des_tramo  estado  \\\n",
       "0  2015-01-01     Jueves  00:15:01     A102          ERNESTO FERRER      37   \n",
       "1  2015-01-01     Jueves  00:15:01     A104           EUGENIA VIÑES      33   \n",
       "2  2015-01-01     Jueves  00:15:01     A124       GUILLEM DE CASTRO     139   \n",
       "3  2015-01-01     Jueves  00:15:01     A127       GUILLEM DE CASTRO     187   \n",
       "4  2015-01-01     Jueves  00:15:01     A122  GRAN VIA RAMON Y CAJAL     218   \n",
       "5  2015-01-01     Jueves  00:15:01      A13                ALBORAIA      40   \n",
       "6  2015-01-01     Jueves  00:15:01     A130           HERNAN CORTES      55   \n",
       "7  2015-01-01     Jueves  00:15:01     A131       ISABEL DE VILLENA      16   \n",
       "8  2015-01-01     Jueves  00:15:01     A132      ISABEL LA CATOLICA      18   \n",
       "9  2015-01-01     Jueves  00:15:01     A133          ISLAS CANARIAS      49   \n",
       "\n",
       "   longitud    latitud  \n",
       "0 -0.354378  39.471478  \n",
       "1 -0.325181  39.467414  \n",
       "2 -0.383419  39.470396  \n",
       "3 -0.384150  39.475677  \n",
       "4 -0.335824  39.460994  \n",
       "5 -0.368968  39.485116  \n",
       "6 -0.371882  39.469184  \n",
       "7 -0.325794  39.479083  \n",
       "8 -0.371171  39.469726  \n",
       "9 -0.335863  39.461000  "
      ]
     },
     "execution_count": 2,
     "metadata": {},
     "output_type": "execute_result"
    }
   ],
   "source": [
    "#Cargamos fichero datos_filtrados.csv\n",
    "df_datos_filtrados = pd.read_csv('../TFM/csv_bigdata/datos_filtrados.csv', sep=';')\n",
    "df_datos_filtrados.head(10)"
   ]
  },
  {
   "cell_type": "code",
   "execution_count": 3,
   "metadata": {},
   "outputs": [
    {
     "data": {
      "text/plain": [
       "fecha          object\n",
       "dia_semana     object\n",
       "hora           object\n",
       "id_tramo       object\n",
       "des_tramo      object\n",
       "estado          int64\n",
       "longitud      float64\n",
       "latitud       float64\n",
       "dtype: object"
      ]
     },
     "execution_count": 3,
     "metadata": {},
     "output_type": "execute_result"
    }
   ],
   "source": [
    "df_datos_filtrados.dtypes"
   ]
  },
  {
   "cell_type": "code",
   "execution_count": 4,
   "metadata": {},
   "outputs": [
    {
     "data": {
      "text/plain": [
       "fecha         11817827\n",
       "dia_semana    11817827\n",
       "hora          11817827\n",
       "id_tramo      11817827\n",
       "des_tramo     11817827\n",
       "estado        11817827\n",
       "longitud      11817827\n",
       "latitud       11817827\n",
       "dtype: int64"
      ]
     },
     "execution_count": 4,
     "metadata": {},
     "output_type": "execute_result"
    }
   ],
   "source": [
    "df_datos_filtrados.count()"
   ]
  },
  {
   "cell_type": "markdown",
   "metadata": {},
   "source": [
    "### Enero 2015"
   ]
  },
  {
   "cell_type": "code",
   "execution_count": 5,
   "metadata": {
    "scrolled": true
   },
   "outputs": [
    {
     "data": {
      "text/html": [
       "<div>\n",
       "<style scoped>\n",
       "    .dataframe tbody tr th:only-of-type {\n",
       "        vertical-align: middle;\n",
       "    }\n",
       "\n",
       "    .dataframe tbody tr th {\n",
       "        vertical-align: top;\n",
       "    }\n",
       "\n",
       "    .dataframe thead th {\n",
       "        text-align: right;\n",
       "    }\n",
       "</style>\n",
       "<table border=\"1\" class=\"dataframe\">\n",
       "  <thead>\n",
       "    <tr style=\"text-align: right;\">\n",
       "      <th></th>\n",
       "      <th>fecha</th>\n",
       "      <th>estado</th>\n",
       "    </tr>\n",
       "  </thead>\n",
       "  <tbody>\n",
       "    <tr>\n",
       "      <th>0</th>\n",
       "      <td>2015-01-01</td>\n",
       "      <td>493.433296</td>\n",
       "    </tr>\n",
       "    <tr>\n",
       "      <th>1</th>\n",
       "      <td>2015-01-02</td>\n",
       "      <td>583.876004</td>\n",
       "    </tr>\n",
       "    <tr>\n",
       "      <th>2</th>\n",
       "      <td>2015-01-03</td>\n",
       "      <td>613.272727</td>\n",
       "    </tr>\n",
       "    <tr>\n",
       "      <th>3</th>\n",
       "      <td>2015-01-04</td>\n",
       "      <td>937.628987</td>\n",
       "    </tr>\n",
       "    <tr>\n",
       "      <th>4</th>\n",
       "      <td>2015-01-05</td>\n",
       "      <td>555.306586</td>\n",
       "    </tr>\n",
       "    <tr>\n",
       "      <th>5</th>\n",
       "      <td>2015-01-06</td>\n",
       "      <td>874.261390</td>\n",
       "    </tr>\n",
       "    <tr>\n",
       "      <th>6</th>\n",
       "      <td>2015-01-07</td>\n",
       "      <td>906.280544</td>\n",
       "    </tr>\n",
       "    <tr>\n",
       "      <th>7</th>\n",
       "      <td>2015-01-08</td>\n",
       "      <td>1341.575682</td>\n",
       "    </tr>\n",
       "    <tr>\n",
       "      <th>8</th>\n",
       "      <td>2015-01-09</td>\n",
       "      <td>762.667467</td>\n",
       "    </tr>\n",
       "    <tr>\n",
       "      <th>9</th>\n",
       "      <td>2015-01-10</td>\n",
       "      <td>795.008835</td>\n",
       "    </tr>\n",
       "    <tr>\n",
       "      <th>10</th>\n",
       "      <td>2015-01-11</td>\n",
       "      <td>541.785110</td>\n",
       "    </tr>\n",
       "    <tr>\n",
       "      <th>11</th>\n",
       "      <td>2015-01-12</td>\n",
       "      <td>890.712341</td>\n",
       "    </tr>\n",
       "    <tr>\n",
       "      <th>12</th>\n",
       "      <td>2015-01-13</td>\n",
       "      <td>852.610556</td>\n",
       "    </tr>\n",
       "    <tr>\n",
       "      <th>13</th>\n",
       "      <td>2015-01-14</td>\n",
       "      <td>885.188485</td>\n",
       "    </tr>\n",
       "    <tr>\n",
       "      <th>14</th>\n",
       "      <td>2015-01-15</td>\n",
       "      <td>869.969696</td>\n",
       "    </tr>\n",
       "    <tr>\n",
       "      <th>15</th>\n",
       "      <td>2015-01-16</td>\n",
       "      <td>933.697692</td>\n",
       "    </tr>\n",
       "    <tr>\n",
       "      <th>16</th>\n",
       "      <td>2015-01-17</td>\n",
       "      <td>704.864221</td>\n",
       "    </tr>\n",
       "    <tr>\n",
       "      <th>17</th>\n",
       "      <td>2015-01-18</td>\n",
       "      <td>545.466844</td>\n",
       "    </tr>\n",
       "    <tr>\n",
       "      <th>18</th>\n",
       "      <td>2015-01-19</td>\n",
       "      <td>857.363598</td>\n",
       "    </tr>\n",
       "    <tr>\n",
       "      <th>19</th>\n",
       "      <td>2015-01-20</td>\n",
       "      <td>873.067186</td>\n",
       "    </tr>\n",
       "    <tr>\n",
       "      <th>20</th>\n",
       "      <td>2015-01-21</td>\n",
       "      <td>904.089558</td>\n",
       "    </tr>\n",
       "    <tr>\n",
       "      <th>21</th>\n",
       "      <td>2015-01-22</td>\n",
       "      <td>584.241951</td>\n",
       "    </tr>\n",
       "    <tr>\n",
       "      <th>22</th>\n",
       "      <td>2015-01-23</td>\n",
       "      <td>907.949600</td>\n",
       "    </tr>\n",
       "    <tr>\n",
       "      <th>23</th>\n",
       "      <td>2015-01-24</td>\n",
       "      <td>670.717912</td>\n",
       "    </tr>\n",
       "    <tr>\n",
       "      <th>24</th>\n",
       "      <td>2015-01-25</td>\n",
       "      <td>587.160157</td>\n",
       "    </tr>\n",
       "    <tr>\n",
       "      <th>25</th>\n",
       "      <td>2015-01-26</td>\n",
       "      <td>895.993240</td>\n",
       "    </tr>\n",
       "    <tr>\n",
       "      <th>26</th>\n",
       "      <td>2015-01-27</td>\n",
       "      <td>863.428944</td>\n",
       "    </tr>\n",
       "    <tr>\n",
       "      <th>27</th>\n",
       "      <td>2015-01-28</td>\n",
       "      <td>870.020471</td>\n",
       "    </tr>\n",
       "    <tr>\n",
       "      <th>28</th>\n",
       "      <td>2015-01-29</td>\n",
       "      <td>888.901843</td>\n",
       "    </tr>\n",
       "    <tr>\n",
       "      <th>29</th>\n",
       "      <td>2015-01-30</td>\n",
       "      <td>941.499583</td>\n",
       "    </tr>\n",
       "    <tr>\n",
       "      <th>30</th>\n",
       "      <td>2015-01-31</td>\n",
       "      <td>713.233378</td>\n",
       "    </tr>\n",
       "  </tbody>\n",
       "</table>\n",
       "</div>"
      ],
      "text/plain": [
       "         fecha       estado\n",
       "0   2015-01-01   493.433296\n",
       "1   2015-01-02   583.876004\n",
       "2   2015-01-03   613.272727\n",
       "3   2015-01-04   937.628987\n",
       "4   2015-01-05   555.306586\n",
       "5   2015-01-06   874.261390\n",
       "6   2015-01-07   906.280544\n",
       "7   2015-01-08  1341.575682\n",
       "8   2015-01-09   762.667467\n",
       "9   2015-01-10   795.008835\n",
       "10  2015-01-11   541.785110\n",
       "11  2015-01-12   890.712341\n",
       "12  2015-01-13   852.610556\n",
       "13  2015-01-14   885.188485\n",
       "14  2015-01-15   869.969696\n",
       "15  2015-01-16   933.697692\n",
       "16  2015-01-17   704.864221\n",
       "17  2015-01-18   545.466844\n",
       "18  2015-01-19   857.363598\n",
       "19  2015-01-20   873.067186\n",
       "20  2015-01-21   904.089558\n",
       "21  2015-01-22   584.241951\n",
       "22  2015-01-23   907.949600\n",
       "23  2015-01-24   670.717912\n",
       "24  2015-01-25   587.160157\n",
       "25  2015-01-26   895.993240\n",
       "26  2015-01-27   863.428944\n",
       "27  2015-01-28   870.020471\n",
       "28  2015-01-29   888.901843\n",
       "29  2015-01-30   941.499583\n",
       "30  2015-01-31   713.233378"
      ]
     },
     "execution_count": 5,
     "metadata": {},
     "output_type": "execute_result"
    }
   ],
   "source": [
    "#Filtramos por Enero 2015\n",
    "df_enero = df_datos_filtrados[(df_datos_filtrados['fecha'] >= '2015-01-01')& \\\n",
    "                              (df_datos_filtrados['fecha'] <= '2015-01-31')]\\\n",
    "                              .groupby(df_datos_filtrados['fecha'])\\\n",
    "                              .estado.mean().to_frame().reset_index()\n",
    "\n",
    "#Añadimos valor faltante con el valor de la media de la columna estado en Enero de 2015\n",
    "row_enero = {'fecha':'2015-01-10', 'estado': df_enero.estado.mean()}\n",
    "df_enero = df_enero.append(row_enero, ignore_index=True)\n",
    "\n",
    "df_enero.sort_values(by=['fecha'],inplace=True)\n",
    "\n",
    "df_enero.set_index('fecha',inplace=True)\n",
    "df_enero.reset_index()"
   ]
  },
  {
   "cell_type": "code",
   "execution_count": 6,
   "metadata": {},
   "outputs": [
    {
     "data": {
      "text/html": [
       "<div>\n",
       "<style scoped>\n",
       "    .dataframe tbody tr th:only-of-type {\n",
       "        vertical-align: middle;\n",
       "    }\n",
       "\n",
       "    .dataframe tbody tr th {\n",
       "        vertical-align: top;\n",
       "    }\n",
       "\n",
       "    .dataframe thead th {\n",
       "        text-align: right;\n",
       "    }\n",
       "</style>\n",
       "<table border=\"1\" class=\"dataframe\">\n",
       "  <thead>\n",
       "    <tr style=\"text-align: right;\">\n",
       "      <th></th>\n",
       "      <th>fecha</th>\n",
       "      <th>estado</th>\n",
       "    </tr>\n",
       "  </thead>\n",
       "  <tbody>\n",
       "    <tr>\n",
       "      <th>0</th>\n",
       "      <td>2015-01-08</td>\n",
       "      <td>1341.575682</td>\n",
       "    </tr>\n",
       "  </tbody>\n",
       "</table>\n",
       "</div>"
      ],
      "text/plain": [
       "        fecha       estado\n",
       "0  2015-01-08  1341.575682"
      ]
     },
     "execution_count": 6,
     "metadata": {},
     "output_type": "execute_result"
    }
   ],
   "source": [
    "#Máximo Valor Estado Enero 2015\n",
    "df_enero[df_enero.estado == df_enero.estado.max()].reset_index()"
   ]
  },
  {
   "cell_type": "code",
   "execution_count": 7,
   "metadata": {},
   "outputs": [
    {
     "data": {
      "text/html": [
       "<div>\n",
       "<style scoped>\n",
       "    .dataframe tbody tr th:only-of-type {\n",
       "        vertical-align: middle;\n",
       "    }\n",
       "\n",
       "    .dataframe tbody tr th {\n",
       "        vertical-align: top;\n",
       "    }\n",
       "\n",
       "    .dataframe thead th {\n",
       "        text-align: right;\n",
       "    }\n",
       "</style>\n",
       "<table border=\"1\" class=\"dataframe\">\n",
       "  <thead>\n",
       "    <tr style=\"text-align: right;\">\n",
       "      <th></th>\n",
       "      <th>fecha</th>\n",
       "      <th>estado</th>\n",
       "    </tr>\n",
       "  </thead>\n",
       "  <tbody>\n",
       "    <tr>\n",
       "      <th>0</th>\n",
       "      <td>2015-01-01</td>\n",
       "      <td>493.433296</td>\n",
       "    </tr>\n",
       "  </tbody>\n",
       "</table>\n",
       "</div>"
      ],
      "text/plain": [
       "        fecha      estado\n",
       "0  2015-01-01  493.433296"
      ]
     },
     "execution_count": 7,
     "metadata": {},
     "output_type": "execute_result"
    }
   ],
   "source": [
    "#Mínimo Valor Estado Enero 2015\n",
    "df_enero[df_enero.estado == df_enero.estado.min()].reset_index()"
   ]
  },
  {
   "cell_type": "code",
   "execution_count": 8,
   "metadata": {},
   "outputs": [
    {
     "data": {
      "image/png": "[encoded data removed]",
      "text/plain": [
       "<Figure size 864x432 with 1 Axes>"
      ]
     },
     "metadata": {
      "needs_background": "light"
     },
     "output_type": "display_data"
    }
   ],
   "source": [
    "#Gráfica para mostrar el tráfico por días en Enero 2015\n",
    "df_enero.plot(kind='bar',color='darkorange',edgecolor='blue',figsize=(12,6))\n",
    "plt.title('Tráfico Enero 2015',fontweight='bold',fontsize=14)\n",
    "plt.legend(['valores'],loc=\"upper right\",fontsize=10,shadow=True)\n",
    "plt.xlabel('fecha',fontsize=12)\n",
    "plt.ylabel('tráfico',fontsize=12)\n",
    "plt.xticks(rotation=70)\n",
    "plt.subplots_adjust(bottom=1, top=2)\n",
    "plt.grid(True)\n",
    "plt.show()"
   ]
  },
  {
   "cell_type": "markdown",
   "metadata": {},
   "source": [
    "### Febrero 2015"
   ]
  },
  {
   "cell_type": "code",
   "execution_count": 9,
   "metadata": {
    "scrolled": true
   },
   "outputs": [
    {
     "data": {
      "text/html": [
       "<div>\n",
       "<style scoped>\n",
       "    .dataframe tbody tr th:only-of-type {\n",
       "        vertical-align: middle;\n",
       "    }\n",
       "\n",
       "    .dataframe tbody tr th {\n",
       "        vertical-align: top;\n",
       "    }\n",
       "\n",
       "    .dataframe thead th {\n",
       "        text-align: right;\n",
       "    }\n",
       "</style>\n",
       "<table border=\"1\" class=\"dataframe\">\n",
       "  <thead>\n",
       "    <tr style=\"text-align: right;\">\n",
       "      <th></th>\n",
       "      <th>fecha</th>\n",
       "      <th>estado</th>\n",
       "    </tr>\n",
       "  </thead>\n",
       "  <tbody>\n",
       "    <tr>\n",
       "      <th>0</th>\n",
       "      <td>2015-02-01</td>\n",
       "      <td>775.352368</td>\n",
       "    </tr>\n",
       "    <tr>\n",
       "      <th>1</th>\n",
       "      <td>2015-02-02</td>\n",
       "      <td>866.176572</td>\n",
       "    </tr>\n",
       "    <tr>\n",
       "      <th>2</th>\n",
       "      <td>2015-02-03</td>\n",
       "      <td>871.044889</td>\n",
       "    </tr>\n",
       "    <tr>\n",
       "      <th>3</th>\n",
       "      <td>2015-02-04</td>\n",
       "      <td>844.571518</td>\n",
       "    </tr>\n",
       "    <tr>\n",
       "      <th>4</th>\n",
       "      <td>2015-02-05</td>\n",
       "      <td>665.140298</td>\n",
       "    </tr>\n",
       "  </tbody>\n",
       "</table>\n",
       "</div>"
      ],
      "text/plain": [
       "        fecha      estado\n",
       "0  2015-02-01  775.352368\n",
       "1  2015-02-02  866.176572\n",
       "2  2015-02-03  871.044889\n",
       "3  2015-02-04  844.571518\n",
       "4  2015-02-05  665.140298"
      ]
     },
     "execution_count": 9,
     "metadata": {},
     "output_type": "execute_result"
    }
   ],
   "source": [
    "#Filtramos por Febrero 2015\n",
    "df_febrero = df_datos_filtrados[(df_datos_filtrados['fecha'] >= '2015-02-01')&\\\n",
    "                                (df_datos_filtrados['fecha'] <= '2015-02-29')]\\\n",
    "                                .groupby(df_datos_filtrados['fecha'])\\\n",
    "                                .estado.mean().to_frame().reset_index()\n",
    "\n",
    "\n",
    "#Añadimos valor faltante con el valor de la media de la columna estado en Febrero de 2015\n",
    "row_febrero = {'fecha':'2015-02-10', 'estado': df_febrero.estado.mean()}\n",
    "df_febrero = df_febrero.append(row_febrero, ignore_index=True)\n",
    "\n",
    "df_febrero.sort_values(by=['fecha'],inplace=True)\n",
    "\n",
    "df_febrero.set_index('fecha',inplace=True)\n",
    "df_febrero.reset_index().head(5)"
   ]
  },
  {
   "cell_type": "code",
   "execution_count": 10,
   "metadata": {},
   "outputs": [
    {
     "data": {
      "text/html": [
       "<div>\n",
       "<style scoped>\n",
       "    .dataframe tbody tr th:only-of-type {\n",
       "        vertical-align: middle;\n",
       "    }\n",
       "\n",
       "    .dataframe tbody tr th {\n",
       "        vertical-align: top;\n",
       "    }\n",
       "\n",
       "    .dataframe thead th {\n",
       "        text-align: right;\n",
       "    }\n",
       "</style>\n",
       "<table border=\"1\" class=\"dataframe\">\n",
       "  <thead>\n",
       "    <tr style=\"text-align: right;\">\n",
       "      <th></th>\n",
       "      <th>fecha</th>\n",
       "      <th>estado</th>\n",
       "    </tr>\n",
       "  </thead>\n",
       "  <tbody>\n",
       "    <tr>\n",
       "      <th>0</th>\n",
       "      <td>2015-02-08</td>\n",
       "      <td>1341.575682</td>\n",
       "    </tr>\n",
       "  </tbody>\n",
       "</table>\n",
       "</div>"
      ],
      "text/plain": [
       "        fecha       estado\n",
       "0  2015-02-08  1341.575682"
      ]
     },
     "execution_count": 10,
     "metadata": {},
     "output_type": "execute_result"
    }
   ],
   "source": [
    "#Máximo Valor Estado Febrero 2015\n",
    "df_febrero[df_febrero.estado == df_febrero.estado.max()].reset_index()"
   ]
  },
  {
   "cell_type": "code",
   "execution_count": 11,
   "metadata": {},
   "outputs": [
    {
     "data": {
      "text/html": [
       "<div>\n",
       "<style scoped>\n",
       "    .dataframe tbody tr th:only-of-type {\n",
       "        vertical-align: middle;\n",
       "    }\n",
       "\n",
       "    .dataframe tbody tr th {\n",
       "        vertical-align: top;\n",
       "    }\n",
       "\n",
       "    .dataframe thead th {\n",
       "        text-align: right;\n",
       "    }\n",
       "</style>\n",
       "<table border=\"1\" class=\"dataframe\">\n",
       "  <thead>\n",
       "    <tr style=\"text-align: right;\">\n",
       "      <th></th>\n",
       "      <th>fecha</th>\n",
       "      <th>estado</th>\n",
       "    </tr>\n",
       "  </thead>\n",
       "  <tbody>\n",
       "    <tr>\n",
       "      <th>0</th>\n",
       "      <td>2015-02-22</td>\n",
       "      <td>487.384402</td>\n",
       "    </tr>\n",
       "  </tbody>\n",
       "</table>\n",
       "</div>"
      ],
      "text/plain": [
       "        fecha      estado\n",
       "0  2015-02-22  487.384402"
      ]
     },
     "execution_count": 11,
     "metadata": {},
     "output_type": "execute_result"
    }
   ],
   "source": [
    "#Mínimo Valor Estado Febrero 2015\n",
    "df_febrero[df_febrero.estado == df_febrero.estado.min()].reset_index()"
   ]
  },
  {
   "cell_type": "code",
   "execution_count": 12,
   "metadata": {},
   "outputs": [
    {
     "data": {
      "image/png": "[encoded data removed]",
      "text/plain": [
       "<Figure size 864x432 with 1 Axes>"
      ]
     },
     "metadata": {
      "needs_background": "light"
     },
     "output_type": "display_data"
    }
   ],
   "source": [
    "#Gráfica para mostrar el tráfico por días en cada mes\n",
    "df_febrero.plot(kind='bar',color='blue',edgecolor='#f9480b',figsize=(12,6))\n",
    "plt.title('Tráfico Febrero 2015',fontweight='bold',fontsize=14)\n",
    "plt.legend(['valores'],loc=\"upper right\",fontsize=10,shadow=True)\n",
    "plt.xlabel('fecha',fontsize=12)\n",
    "plt.ylabel('tráfico',fontsize=12)\n",
    "plt.xticks(rotation=70)\n",
    "plt.subplots_adjust(bottom=1, top=2)\n",
    "plt.grid(True)\n",
    "plt.show()"
   ]
  },
  {
   "cell_type": "markdown",
   "metadata": {},
   "source": [
    "### Marzo 2015"
   ]
  },
  {
   "cell_type": "code",
   "execution_count": 13,
   "metadata": {
    "scrolled": true
   },
   "outputs": [
    {
     "data": {
      "text/html": [
       "<div>\n",
       "<style scoped>\n",
       "    .dataframe tbody tr th:only-of-type {\n",
       "        vertical-align: middle;\n",
       "    }\n",
       "\n",
       "    .dataframe tbody tr th {\n",
       "        vertical-align: top;\n",
       "    }\n",
       "\n",
       "    .dataframe thead th {\n",
       "        text-align: right;\n",
       "    }\n",
       "</style>\n",
       "<table border=\"1\" class=\"dataframe\">\n",
       "  <thead>\n",
       "    <tr style=\"text-align: right;\">\n",
       "      <th></th>\n",
       "      <th>fecha</th>\n",
       "      <th>estado</th>\n",
       "    </tr>\n",
       "  </thead>\n",
       "  <tbody>\n",
       "    <tr>\n",
       "      <th>0</th>\n",
       "      <td>2015-03-01</td>\n",
       "      <td>683.931399</td>\n",
       "    </tr>\n",
       "    <tr>\n",
       "      <th>1</th>\n",
       "      <td>2015-03-02</td>\n",
       "      <td>876.307396</td>\n",
       "    </tr>\n",
       "    <tr>\n",
       "      <th>2</th>\n",
       "      <td>2015-03-03</td>\n",
       "      <td>872.529709</td>\n",
       "    </tr>\n",
       "    <tr>\n",
       "      <th>3</th>\n",
       "      <td>2015-03-04</td>\n",
       "      <td>491.837642</td>\n",
       "    </tr>\n",
       "    <tr>\n",
       "      <th>4</th>\n",
       "      <td>2015-03-05</td>\n",
       "      <td>639.449569</td>\n",
       "    </tr>\n",
       "  </tbody>\n",
       "</table>\n",
       "</div>"
      ],
      "text/plain": [
       "        fecha      estado\n",
       "0  2015-03-01  683.931399\n",
       "1  2015-03-02  876.307396\n",
       "2  2015-03-03  872.529709\n",
       "3  2015-03-04  491.837642\n",
       "4  2015-03-05  639.449569"
      ]
     },
     "execution_count": 13,
     "metadata": {},
     "output_type": "execute_result"
    }
   ],
   "source": [
    "#Filtramos por Marzo 2015\n",
    "df_marzo = df_datos_filtrados[(df_datos_filtrados['fecha'] >= '2015-03-01')&\\\n",
    "                              (df_datos_filtrados['fecha'] <= '2015-03-31')]\\\n",
    "                              .groupby(df_datos_filtrados['fecha'])\\\n",
    "                              .estado.mean().to_frame().reset_index()\n",
    "\n",
    "#Añadimos valor faltante con el valor de la media de la columna estado en Marzo de 2015\n",
    "row_marzo = {'fecha':'2015-03-10', 'estado': df_marzo.estado.mean()}\n",
    "df_marzo = df_marzo.append(row_marzo, ignore_index=True)\n",
    "\n",
    "df_marzo.sort_values(by=['fecha'],inplace=True)\n",
    "\n",
    "df_marzo.set_index('fecha',inplace=True)\n",
    "df_marzo.reset_index().head(5)"
   ]
  },
  {
   "cell_type": "code",
   "execution_count": 14,
   "metadata": {},
   "outputs": [
    {
     "data": {
      "text/html": [
       "<div>\n",
       "<style scoped>\n",
       "    .dataframe tbody tr th:only-of-type {\n",
       "        vertical-align: middle;\n",
       "    }\n",
       "\n",
       "    .dataframe tbody tr th {\n",
       "        vertical-align: top;\n",
       "    }\n",
       "\n",
       "    .dataframe thead th {\n",
       "        text-align: right;\n",
       "    }\n",
       "</style>\n",
       "<table border=\"1\" class=\"dataframe\">\n",
       "  <thead>\n",
       "    <tr style=\"text-align: right;\">\n",
       "      <th></th>\n",
       "      <th>fecha</th>\n",
       "      <th>estado</th>\n",
       "    </tr>\n",
       "  </thead>\n",
       "  <tbody>\n",
       "    <tr>\n",
       "      <th>0</th>\n",
       "      <td>2015-03-12</td>\n",
       "      <td>1303.176215</td>\n",
       "    </tr>\n",
       "  </tbody>\n",
       "</table>\n",
       "</div>"
      ],
      "text/plain": [
       "        fecha       estado\n",
       "0  2015-03-12  1303.176215"
      ]
     },
     "execution_count": 14,
     "metadata": {},
     "output_type": "execute_result"
    }
   ],
   "source": [
    "#Máximo Valor Estado Marzo 2015\n",
    "df_marzo[df_marzo.estado == df_marzo.estado.max()].reset_index()"
   ]
  },
  {
   "cell_type": "code",
   "execution_count": 15,
   "metadata": {},
   "outputs": [
    {
     "data": {
      "text/html": [
       "<div>\n",
       "<style scoped>\n",
       "    .dataframe tbody tr th:only-of-type {\n",
       "        vertical-align: middle;\n",
       "    }\n",
       "\n",
       "    .dataframe tbody tr th {\n",
       "        vertical-align: top;\n",
       "    }\n",
       "\n",
       "    .dataframe thead th {\n",
       "        text-align: right;\n",
       "    }\n",
       "</style>\n",
       "<table border=\"1\" class=\"dataframe\">\n",
       "  <thead>\n",
       "    <tr style=\"text-align: right;\">\n",
       "      <th></th>\n",
       "      <th>fecha</th>\n",
       "      <th>estado</th>\n",
       "    </tr>\n",
       "  </thead>\n",
       "  <tbody>\n",
       "    <tr>\n",
       "      <th>0</th>\n",
       "      <td>2015-03-09</td>\n",
       "      <td>266.850719</td>\n",
       "    </tr>\n",
       "  </tbody>\n",
       "</table>\n",
       "</div>"
      ],
      "text/plain": [
       "        fecha      estado\n",
       "0  2015-03-09  266.850719"
      ]
     },
     "execution_count": 15,
     "metadata": {},
     "output_type": "execute_result"
    }
   ],
   "source": [
    "#Mínimo Valor Estado Marzo 2015\n",
    "df_marzo[df_marzo.estado == df_marzo.estado.min()].reset_index()"
   ]
  },
  {
   "cell_type": "code",
   "execution_count": 16,
   "metadata": {},
   "outputs": [
    {
     "data": {
      "image/png": "[encoded data removed]",
      "text/plain": [
       "<Figure size 864x432 with 1 Axes>"
      ]
     },
     "metadata": {
      "needs_background": "light"
     },
     "output_type": "display_data"
    }
   ],
   "source": [
    "#Gráfica para mostrar el tráfico por días en Marzo\n",
    "df_marzo.plot(kind='bar',color='#f9bf0b',edgecolor='#94f90b',figsize=(12,6))\n",
    "plt.title('Tráfico Marzo 2015',fontweight='bold',fontsize=14)\n",
    "plt.legend(['valores'],loc=\"upper right\",fontsize=10,shadow=True)\n",
    "plt.xlabel('fecha',fontsize=12)\n",
    "plt.ylabel('tráfico',fontsize=12)\n",
    "plt.xticks(rotation=70)\n",
    "plt.subplots_adjust(bottom=1, top=2)\n",
    "plt.grid(True)\n",
    "plt.show()"
   ]
  },
  {
   "cell_type": "markdown",
   "metadata": {},
   "source": [
    "### Abril 2015"
   ]
  },
  {
   "cell_type": "code",
   "execution_count": 17,
   "metadata": {
    "scrolled": true
   },
   "outputs": [
    {
     "data": {
      "text/html": [
       "<div>\n",
       "<style scoped>\n",
       "    .dataframe tbody tr th:only-of-type {\n",
       "        vertical-align: middle;\n",
       "    }\n",
       "\n",
       "    .dataframe tbody tr th {\n",
       "        vertical-align: top;\n",
       "    }\n",
       "\n",
       "    .dataframe thead th {\n",
       "        text-align: right;\n",
       "    }\n",
       "</style>\n",
       "<table border=\"1\" class=\"dataframe\">\n",
       "  <thead>\n",
       "    <tr style=\"text-align: right;\">\n",
       "      <th></th>\n",
       "      <th>fecha</th>\n",
       "      <th>estado</th>\n",
       "    </tr>\n",
       "  </thead>\n",
       "  <tbody>\n",
       "    <tr>\n",
       "      <th>0</th>\n",
       "      <td>2015-04-01</td>\n",
       "      <td>435.276563</td>\n",
       "    </tr>\n",
       "    <tr>\n",
       "      <th>1</th>\n",
       "      <td>2015-04-02</td>\n",
       "      <td>907.835117</td>\n",
       "    </tr>\n",
       "    <tr>\n",
       "      <th>2</th>\n",
       "      <td>2015-04-03</td>\n",
       "      <td>884.480096</td>\n",
       "    </tr>\n",
       "    <tr>\n",
       "      <th>3</th>\n",
       "      <td>2015-04-04</td>\n",
       "      <td>526.943475</td>\n",
       "    </tr>\n",
       "    <tr>\n",
       "      <th>4</th>\n",
       "      <td>2015-04-05</td>\n",
       "      <td>876.453743</td>\n",
       "    </tr>\n",
       "  </tbody>\n",
       "</table>\n",
       "</div>"
      ],
      "text/plain": [
       "        fecha      estado\n",
       "0  2015-04-01  435.276563\n",
       "1  2015-04-02  907.835117\n",
       "2  2015-04-03  884.480096\n",
       "3  2015-04-04  526.943475\n",
       "4  2015-04-05  876.453743"
      ]
     },
     "execution_count": 17,
     "metadata": {},
     "output_type": "execute_result"
    }
   ],
   "source": [
    "#Filtramos por Abril 2015\n",
    "df_abril = df_datos_filtrados[(df_datos_filtrados['fecha'] >= '2015-04-01')&\\\n",
    "                              (df_datos_filtrados['fecha'] <= '2015-04-30')]\\\n",
    "                              .groupby(df_datos_filtrados['fecha'])\\\n",
    "                              .estado.mean().to_frame().reset_index()\n",
    "\n",
    "\n",
    "#Añadimos valor faltante con el valor de la media de la columna estado en Abril de 2015\n",
    "row_abril_1 = {'fecha':'2015-04-09', 'estado': df_abril.estado.mean()}\n",
    "df_abril = df_abril.append(row_abril_1, ignore_index=True)\n",
    "\n",
    "row_abril_2 = {'fecha':'2015-04-10', 'estado': df_abril.estado.mean()}\n",
    "df_abril = df_abril.append(row_abril_2, ignore_index=True)\n",
    "\n",
    "df_abril.sort_values(by=['fecha'],inplace=True)\n",
    "\n",
    "df_abril.set_index('fecha',inplace=True)\n",
    "df_abril.reset_index().head(5)"
   ]
  },
  {
   "cell_type": "code",
   "execution_count": 18,
   "metadata": {},
   "outputs": [
    {
     "data": {
      "text/html": [
       "<div>\n",
       "<style scoped>\n",
       "    .dataframe tbody tr th:only-of-type {\n",
       "        vertical-align: middle;\n",
       "    }\n",
       "\n",
       "    .dataframe tbody tr th {\n",
       "        vertical-align: top;\n",
       "    }\n",
       "\n",
       "    .dataframe thead th {\n",
       "        text-align: right;\n",
       "    }\n",
       "</style>\n",
       "<table border=\"1\" class=\"dataframe\">\n",
       "  <thead>\n",
       "    <tr style=\"text-align: right;\">\n",
       "      <th></th>\n",
       "      <th>fecha</th>\n",
       "      <th>estado</th>\n",
       "    </tr>\n",
       "  </thead>\n",
       "  <tbody>\n",
       "    <tr>\n",
       "      <th>0</th>\n",
       "      <td>2015-04-21</td>\n",
       "      <td>1271.678716</td>\n",
       "    </tr>\n",
       "  </tbody>\n",
       "</table>\n",
       "</div>"
      ],
      "text/plain": [
       "        fecha       estado\n",
       "0  2015-04-21  1271.678716"
      ]
     },
     "execution_count": 18,
     "metadata": {},
     "output_type": "execute_result"
    }
   ],
   "source": [
    "#Máximo Valor Estado Abril 2015\n",
    "df_abril[df_abril.estado == df_abril.estado.max()].reset_index()"
   ]
  },
  {
   "cell_type": "code",
   "execution_count": 19,
   "metadata": {},
   "outputs": [
    {
     "data": {
      "text/html": [
       "<div>\n",
       "<style scoped>\n",
       "    .dataframe tbody tr th:only-of-type {\n",
       "        vertical-align: middle;\n",
       "    }\n",
       "\n",
       "    .dataframe tbody tr th {\n",
       "        vertical-align: top;\n",
       "    }\n",
       "\n",
       "    .dataframe thead th {\n",
       "        text-align: right;\n",
       "    }\n",
       "</style>\n",
       "<table border=\"1\" class=\"dataframe\">\n",
       "  <thead>\n",
       "    <tr style=\"text-align: right;\">\n",
       "      <th></th>\n",
       "      <th>fecha</th>\n",
       "      <th>estado</th>\n",
       "    </tr>\n",
       "  </thead>\n",
       "  <tbody>\n",
       "    <tr>\n",
       "      <th>0</th>\n",
       "      <td>2015-04-01</td>\n",
       "      <td>435.276563</td>\n",
       "    </tr>\n",
       "  </tbody>\n",
       "</table>\n",
       "</div>"
      ],
      "text/plain": [
       "        fecha      estado\n",
       "0  2015-04-01  435.276563"
      ]
     },
     "execution_count": 19,
     "metadata": {},
     "output_type": "execute_result"
    }
   ],
   "source": [
    "#Mínimo Valor Estado Abril 2015\n",
    "df_abril[df_abril.estado == df_abril.estado.min()].reset_index()"
   ]
  },
  {
   "cell_type": "code",
   "execution_count": 20,
   "metadata": {},
   "outputs": [
    {
     "data": {
      "image/png": "[encoded data removed]",
      "text/plain": [
       "<Figure size 864x432 with 1 Axes>"
      ]
     },
     "metadata": {
      "needs_background": "light"
     },
     "output_type": "display_data"
    }
   ],
   "source": [
    "#Gráfica para mostrar el tráfico por días en Abril\n",
    "df_abril.plot(kind='bar',color='#FF00BF',edgecolor='#29088A',figsize=(12,6))\n",
    "plt.title('Tráfico Abril 2015',fontweight='bold',fontsize=14)\n",
    "plt.legend(['valores'],loc=\"upper right\",fontsize=10,shadow=True)\n",
    "plt.xlabel('fecha',fontsize=12)\n",
    "plt.ylabel('tráfico',fontsize=12)\n",
    "plt.xticks(rotation=70)\n",
    "plt.subplots_adjust(bottom=1, top=2)\n",
    "plt.grid(True)\n",
    "plt.show()"
   ]
  },
  {
   "cell_type": "markdown",
   "metadata": {},
   "source": [
    "### Mayo 2015"
   ]
  },
  {
   "cell_type": "code",
   "execution_count": 21,
   "metadata": {
    "scrolled": true
   },
   "outputs": [
    {
     "data": {
      "text/html": [
       "<div>\n",
       "<style scoped>\n",
       "    .dataframe tbody tr th:only-of-type {\n",
       "        vertical-align: middle;\n",
       "    }\n",
       "\n",
       "    .dataframe tbody tr th {\n",
       "        vertical-align: top;\n",
       "    }\n",
       "\n",
       "    .dataframe thead th {\n",
       "        text-align: right;\n",
       "    }\n",
       "</style>\n",
       "<table border=\"1\" class=\"dataframe\">\n",
       "  <thead>\n",
       "    <tr style=\"text-align: right;\">\n",
       "      <th></th>\n",
       "      <th>fecha</th>\n",
       "      <th>estado</th>\n",
       "    </tr>\n",
       "  </thead>\n",
       "  <tbody>\n",
       "    <tr>\n",
       "      <th>0</th>\n",
       "      <td>2015-05-01</td>\n",
       "      <td>814.566392</td>\n",
       "    </tr>\n",
       "    <tr>\n",
       "      <th>1</th>\n",
       "      <td>2015-05-02</td>\n",
       "      <td>961.691855</td>\n",
       "    </tr>\n",
       "    <tr>\n",
       "      <th>2</th>\n",
       "      <td>2015-05-03</td>\n",
       "      <td>914.218956</td>\n",
       "    </tr>\n",
       "    <tr>\n",
       "      <th>3</th>\n",
       "      <td>2015-05-04</td>\n",
       "      <td>480.466872</td>\n",
       "    </tr>\n",
       "    <tr>\n",
       "      <th>4</th>\n",
       "      <td>2015-05-05</td>\n",
       "      <td>878.942703</td>\n",
       "    </tr>\n",
       "  </tbody>\n",
       "</table>\n",
       "</div>"
      ],
      "text/plain": [
       "        fecha      estado\n",
       "0  2015-05-01  814.566392\n",
       "1  2015-05-02  961.691855\n",
       "2  2015-05-03  914.218956\n",
       "3  2015-05-04  480.466872\n",
       "4  2015-05-05  878.942703"
      ]
     },
     "execution_count": 21,
     "metadata": {},
     "output_type": "execute_result"
    }
   ],
   "source": [
    "#Filtramos por Mayo 2015\n",
    "df_mayo = df_datos_filtrados[(df_datos_filtrados['fecha'] >= '2015-05-01')&\\\n",
    "                             (df_datos_filtrados['fecha'] <= '2015-05-31')]\\\n",
    "                             .groupby(df_datos_filtrados['fecha'])\\\n",
    "                             .estado.mean().to_frame().reset_index()\n",
    "\n",
    "\n",
    "#Añadimos valor faltante con el valor de la media de la columna estado en Mayo de 2015\n",
    "row_mayo_1 = {'fecha':'2015-05-09', 'estado': df_mayo.estado.mean()}\n",
    "df_mayo = df_mayo.append(row_mayo_1, ignore_index=True)\n",
    "\n",
    "row_mayo_2 = {'fecha':'2015-05-10', 'estado': df_mayo.estado.mean()}\n",
    "df_mayo = df_mayo.append(row_mayo_2, ignore_index=True)\n",
    "\n",
    "df_mayo.sort_values(by=['fecha'],inplace=True)\n",
    "\n",
    "df_mayo.set_index('fecha',inplace=True)\n",
    "df_mayo.reset_index().head(5)"
   ]
  },
  {
   "cell_type": "code",
   "execution_count": 22,
   "metadata": {},
   "outputs": [
    {
     "data": {
      "text/html": [
       "<div>\n",
       "<style scoped>\n",
       "    .dataframe tbody tr th:only-of-type {\n",
       "        vertical-align: middle;\n",
       "    }\n",
       "\n",
       "    .dataframe tbody tr th {\n",
       "        vertical-align: top;\n",
       "    }\n",
       "\n",
       "    .dataframe thead th {\n",
       "        text-align: right;\n",
       "    }\n",
       "</style>\n",
       "<table border=\"1\" class=\"dataframe\">\n",
       "  <thead>\n",
       "    <tr style=\"text-align: right;\">\n",
       "      <th></th>\n",
       "      <th>fecha</th>\n",
       "      <th>estado</th>\n",
       "    </tr>\n",
       "  </thead>\n",
       "  <tbody>\n",
       "    <tr>\n",
       "      <th>0</th>\n",
       "      <td>2015-05-18</td>\n",
       "      <td>1104.903301</td>\n",
       "    </tr>\n",
       "  </tbody>\n",
       "</table>\n",
       "</div>"
      ],
      "text/plain": [
       "        fecha       estado\n",
       "0  2015-05-18  1104.903301"
      ]
     },
     "execution_count": 22,
     "metadata": {},
     "output_type": "execute_result"
    }
   ],
   "source": [
    "#Máximo Valor Estado Mayo 2015\n",
    "df_mayo[df_mayo.estado == df_mayo.estado.max()].reset_index()"
   ]
  },
  {
   "cell_type": "code",
   "execution_count": 23,
   "metadata": {},
   "outputs": [
    {
     "data": {
      "text/html": [
       "<div>\n",
       "<style scoped>\n",
       "    .dataframe tbody tr th:only-of-type {\n",
       "        vertical-align: middle;\n",
       "    }\n",
       "\n",
       "    .dataframe tbody tr th {\n",
       "        vertical-align: top;\n",
       "    }\n",
       "\n",
       "    .dataframe thead th {\n",
       "        text-align: right;\n",
       "    }\n",
       "</style>\n",
       "<table border=\"1\" class=\"dataframe\">\n",
       "  <thead>\n",
       "    <tr style=\"text-align: right;\">\n",
       "      <th></th>\n",
       "      <th>fecha</th>\n",
       "      <th>estado</th>\n",
       "    </tr>\n",
       "  </thead>\n",
       "  <tbody>\n",
       "    <tr>\n",
       "      <th>0</th>\n",
       "      <td>2015-05-04</td>\n",
       "      <td>480.466872</td>\n",
       "    </tr>\n",
       "  </tbody>\n",
       "</table>\n",
       "</div>"
      ],
      "text/plain": [
       "        fecha      estado\n",
       "0  2015-05-04  480.466872"
      ]
     },
     "execution_count": 23,
     "metadata": {},
     "output_type": "execute_result"
    }
   ],
   "source": [
    "#Mínimo Valor Estado Mayo 2015\n",
    "df_mayo[df_mayo.estado == df_mayo.estado.min()].reset_index()"
   ]
  },
  {
   "cell_type": "code",
   "execution_count": 24,
   "metadata": {},
   "outputs": [
    {
     "data": {
      "image/png": "[encoded data removed]",
      "text/plain": [
       "<Figure size 864x432 with 1 Axes>"
      ]
     },
     "metadata": {
      "needs_background": "light"
     },
     "output_type": "display_data"
    }
   ],
   "source": [
    "#Gráfica para mostrar el tráfico por días en Mayo\n",
    "df_mayo.plot(kind='bar',color='#5882FA',edgecolor='#3ADF00',figsize=(12,6))\n",
    "plt.title('Tráfico Mayo 2015',fontweight='bold',fontsize=14)\n",
    "plt.legend(['valores'],loc=\"upper right\",fontsize=10,shadow=True)\n",
    "plt.xlabel('fecha',fontsize=12)\n",
    "plt.ylabel('tráfico',fontsize=12)\n",
    "plt.xticks(rotation=70)\n",
    "plt.subplots_adjust(bottom=1, top=2)\n",
    "plt.grid(True)\n",
    "plt.show()"
   ]
  },
  {
   "cell_type": "markdown",
   "metadata": {},
   "source": [
    "### Junio 2015"
   ]
  },
  {
   "cell_type": "code",
   "execution_count": 25,
   "metadata": {
    "scrolled": true
   },
   "outputs": [
    {
     "data": {
      "text/html": [
       "<div>\n",
       "<style scoped>\n",
       "    .dataframe tbody tr th:only-of-type {\n",
       "        vertical-align: middle;\n",
       "    }\n",
       "\n",
       "    .dataframe tbody tr th {\n",
       "        vertical-align: top;\n",
       "    }\n",
       "\n",
       "    .dataframe thead th {\n",
       "        text-align: right;\n",
       "    }\n",
       "</style>\n",
       "<table border=\"1\" class=\"dataframe\">\n",
       "  <thead>\n",
       "    <tr style=\"text-align: right;\">\n",
       "      <th></th>\n",
       "      <th>fecha</th>\n",
       "      <th>estado</th>\n",
       "    </tr>\n",
       "  </thead>\n",
       "  <tbody>\n",
       "    <tr>\n",
       "      <th>0</th>\n",
       "      <td>2015-06-01</td>\n",
       "      <td>549.998896</td>\n",
       "    </tr>\n",
       "    <tr>\n",
       "      <th>1</th>\n",
       "      <td>2015-06-02</td>\n",
       "      <td>944.505391</td>\n",
       "    </tr>\n",
       "    <tr>\n",
       "      <th>2</th>\n",
       "      <td>2015-06-03</td>\n",
       "      <td>950.007947</td>\n",
       "    </tr>\n",
       "    <tr>\n",
       "      <th>3</th>\n",
       "      <td>2015-06-04</td>\n",
       "      <td>455.211904</td>\n",
       "    </tr>\n",
       "    <tr>\n",
       "      <th>4</th>\n",
       "      <td>2015-06-05</td>\n",
       "      <td>887.873746</td>\n",
       "    </tr>\n",
       "  </tbody>\n",
       "</table>\n",
       "</div>"
      ],
      "text/plain": [
       "        fecha      estado\n",
       "0  2015-06-01  549.998896\n",
       "1  2015-06-02  944.505391\n",
       "2  2015-06-03  950.007947\n",
       "3  2015-06-04  455.211904\n",
       "4  2015-06-05  887.873746"
      ]
     },
     "execution_count": 25,
     "metadata": {},
     "output_type": "execute_result"
    }
   ],
   "source": [
    "#Filtramos por Junio 2015\n",
    "df_junio = df_datos_filtrados[(df_datos_filtrados['fecha'] >= '2015-06-01')&\\\n",
    "                              (df_datos_filtrados['fecha'] <= '2015-06-30')]\\\n",
    "                              .groupby(df_datos_filtrados['fecha'])\\\n",
    "                              .estado.mean().to_frame().reset_index()\n",
    "\n",
    "#Añadimos valor faltante con el valor de la media de la columna estado en Junio de 2015\n",
    "row_junio_1 = {'fecha':'2015-06-09', 'estado': df_junio.estado.mean()}\n",
    "df_junio = df_junio.append(row_junio_1, ignore_index=True)\n",
    "\n",
    "row_junio_2 = {'fecha':'2015-06-10', 'estado': df_junio.estado.mean()}\n",
    "df_junio = df_junio.append(row_junio_2, ignore_index=True)\n",
    "\n",
    "df_junio.sort_values(by=['fecha'],inplace=True)\n",
    "\n",
    "df_junio.set_index('fecha',inplace=True)\n",
    "df_junio.reset_index().head(5)"
   ]
  },
  {
   "cell_type": "code",
   "execution_count": 26,
   "metadata": {},
   "outputs": [
    {
     "data": {
      "text/html": [
       "<div>\n",
       "<style scoped>\n",
       "    .dataframe tbody tr th:only-of-type {\n",
       "        vertical-align: middle;\n",
       "    }\n",
       "\n",
       "    .dataframe tbody tr th {\n",
       "        vertical-align: top;\n",
       "    }\n",
       "\n",
       "    .dataframe thead th {\n",
       "        text-align: right;\n",
       "    }\n",
       "</style>\n",
       "<table border=\"1\" class=\"dataframe\">\n",
       "  <thead>\n",
       "    <tr style=\"text-align: right;\">\n",
       "      <th></th>\n",
       "      <th>fecha</th>\n",
       "      <th>estado</th>\n",
       "    </tr>\n",
       "  </thead>\n",
       "  <tbody>\n",
       "    <tr>\n",
       "      <th>0</th>\n",
       "      <td>2015-06-29</td>\n",
       "      <td>1122.377312</td>\n",
       "    </tr>\n",
       "  </tbody>\n",
       "</table>\n",
       "</div>"
      ],
      "text/plain": [
       "        fecha       estado\n",
       "0  2015-06-29  1122.377312"
      ]
     },
     "execution_count": 26,
     "metadata": {},
     "output_type": "execute_result"
    }
   ],
   "source": [
    "#Máximo Valor Estado Junio 2015\n",
    "df_junio[df_junio.estado == df_junio.estado.max()].reset_index()"
   ]
  },
  {
   "cell_type": "code",
   "execution_count": 27,
   "metadata": {},
   "outputs": [
    {
     "data": {
      "text/html": [
       "<div>\n",
       "<style scoped>\n",
       "    .dataframe tbody tr th:only-of-type {\n",
       "        vertical-align: middle;\n",
       "    }\n",
       "\n",
       "    .dataframe tbody tr th {\n",
       "        vertical-align: top;\n",
       "    }\n",
       "\n",
       "    .dataframe thead th {\n",
       "        text-align: right;\n",
       "    }\n",
       "</style>\n",
       "<table border=\"1\" class=\"dataframe\">\n",
       "  <thead>\n",
       "    <tr style=\"text-align: right;\">\n",
       "      <th></th>\n",
       "      <th>fecha</th>\n",
       "      <th>estado</th>\n",
       "    </tr>\n",
       "  </thead>\n",
       "  <tbody>\n",
       "    <tr>\n",
       "      <th>0</th>\n",
       "      <td>2015-06-07</td>\n",
       "      <td>187.237769</td>\n",
       "    </tr>\n",
       "  </tbody>\n",
       "</table>\n",
       "</div>"
      ],
      "text/plain": [
       "        fecha      estado\n",
       "0  2015-06-07  187.237769"
      ]
     },
     "execution_count": 27,
     "metadata": {},
     "output_type": "execute_result"
    }
   ],
   "source": [
    "#Mínimo Valor Estado Junio 2015\n",
    "df_junio[df_junio.estado == df_junio.estado.min()].reset_index()"
   ]
  },
  {
   "cell_type": "code",
   "execution_count": 28,
   "metadata": {},
   "outputs": [
    {
     "data": {
      "image/png": "[encoded data removed]",
      "text/plain": [
       "<Figure size 864x432 with 1 Axes>"
      ]
     },
     "metadata": {
      "needs_background": "light"
     },
     "output_type": "display_data"
    }
   ],
   "source": [
    "#Gráfica para mostrar el tráfico por días en Junio\n",
    "df_junio.plot(kind='bar',color='#740bf9',edgecolor='#f90b3d',figsize=(12,6))\n",
    "plt.title('Tráfico Junio 2015',fontweight='bold',fontsize=14)\n",
    "plt.legend(['valores'],loc=\"upper right\",fontsize=10,shadow=True)\n",
    "plt.xlabel('fecha',fontsize=12)\n",
    "plt.ylabel('tráfico',fontsize=12)\n",
    "plt.xticks(rotation=70)\n",
    "plt.subplots_adjust(bottom=1, top=2)\n",
    "plt.grid(True)\n",
    "plt.show()"
   ]
  },
  {
   "cell_type": "markdown",
   "metadata": {},
   "source": [
    "### Julio 2015"
   ]
  },
  {
   "cell_type": "code",
   "execution_count": 29,
   "metadata": {
    "scrolled": true
   },
   "outputs": [
    {
     "data": {
      "text/html": [
       "<div>\n",
       "<style scoped>\n",
       "    .dataframe tbody tr th:only-of-type {\n",
       "        vertical-align: middle;\n",
       "    }\n",
       "\n",
       "    .dataframe tbody tr th {\n",
       "        vertical-align: top;\n",
       "    }\n",
       "\n",
       "    .dataframe thead th {\n",
       "        text-align: right;\n",
       "    }\n",
       "</style>\n",
       "<table border=\"1\" class=\"dataframe\">\n",
       "  <thead>\n",
       "    <tr style=\"text-align: right;\">\n",
       "      <th></th>\n",
       "      <th>fecha</th>\n",
       "      <th>estado</th>\n",
       "    </tr>\n",
       "  </thead>\n",
       "  <tbody>\n",
       "    <tr>\n",
       "      <th>0</th>\n",
       "      <td>2015-07-01</td>\n",
       "      <td>864.078836</td>\n",
       "    </tr>\n",
       "    <tr>\n",
       "      <th>1</th>\n",
       "      <td>2015-07-02</td>\n",
       "      <td>729.075984</td>\n",
       "    </tr>\n",
       "    <tr>\n",
       "      <th>2</th>\n",
       "      <td>2015-07-03</td>\n",
       "      <td>706.745111</td>\n",
       "    </tr>\n",
       "    <tr>\n",
       "      <th>3</th>\n",
       "      <td>2015-07-04</td>\n",
       "      <td>804.766072</td>\n",
       "    </tr>\n",
       "    <tr>\n",
       "      <th>4</th>\n",
       "      <td>2015-07-05</td>\n",
       "      <td>1058.856615</td>\n",
       "    </tr>\n",
       "  </tbody>\n",
       "</table>\n",
       "</div>"
      ],
      "text/plain": [
       "        fecha       estado\n",
       "0  2015-07-01   864.078836\n",
       "1  2015-07-02   729.075984\n",
       "2  2015-07-03   706.745111\n",
       "3  2015-07-04   804.766072\n",
       "4  2015-07-05  1058.856615"
      ]
     },
     "execution_count": 29,
     "metadata": {},
     "output_type": "execute_result"
    }
   ],
   "source": [
    "#Filtramos por Julio 2015\n",
    "df_julio = df_datos_filtrados[(df_datos_filtrados['fecha'] >= '2015-07-01')&\\\n",
    "                      (df_datos_filtrados['fecha'] <= '2015-07-31')]\\\n",
    "                      .groupby(df_datos_filtrados['fecha'])\\\n",
    "                      .estado.mean().to_frame().reset_index()\n",
    "\n",
    "\n",
    "#Añadimos valor faltante con el valor de la media de la columna estado en Julio de 2015\n",
    "row_julio_1 = {'fecha':'2015-07-09', 'estado': df_julio.estado.mean()}\n",
    "df_julio = df_julio.append(row_julio_1, ignore_index=True)\n",
    "\n",
    "df_julio.sort_values(by=['fecha'],inplace=True)\n",
    "\n",
    "df_julio.set_index('fecha',inplace=True)\n",
    "df_julio.reset_index().head(5)"
   ]
  },
  {
   "cell_type": "code",
   "execution_count": 30,
   "metadata": {},
   "outputs": [
    {
     "data": {
      "text/html": [
       "<div>\n",
       "<style scoped>\n",
       "    .dataframe tbody tr th:only-of-type {\n",
       "        vertical-align: middle;\n",
       "    }\n",
       "\n",
       "    .dataframe tbody tr th {\n",
       "        vertical-align: top;\n",
       "    }\n",
       "\n",
       "    .dataframe thead th {\n",
       "        text-align: right;\n",
       "    }\n",
       "</style>\n",
       "<table border=\"1\" class=\"dataframe\">\n",
       "  <thead>\n",
       "    <tr style=\"text-align: right;\">\n",
       "      <th></th>\n",
       "      <th>fecha</th>\n",
       "      <th>estado</th>\n",
       "    </tr>\n",
       "  </thead>\n",
       "  <tbody>\n",
       "    <tr>\n",
       "      <th>0</th>\n",
       "      <td>2015-07-10</td>\n",
       "      <td>1251.974937</td>\n",
       "    </tr>\n",
       "  </tbody>\n",
       "</table>\n",
       "</div>"
      ],
      "text/plain": [
       "        fecha       estado\n",
       "0  2015-07-10  1251.974937"
      ]
     },
     "execution_count": 30,
     "metadata": {},
     "output_type": "execute_result"
    }
   ],
   "source": [
    "#Máximo Valor Estado Julio 2015\n",
    "df_julio[df_julio.estado == df_julio.estado.max()].reset_index()"
   ]
  },
  {
   "cell_type": "code",
   "execution_count": 31,
   "metadata": {},
   "outputs": [
    {
     "data": {
      "text/html": [
       "<div>\n",
       "<style scoped>\n",
       "    .dataframe tbody tr th:only-of-type {\n",
       "        vertical-align: middle;\n",
       "    }\n",
       "\n",
       "    .dataframe tbody tr th {\n",
       "        vertical-align: top;\n",
       "    }\n",
       "\n",
       "    .dataframe thead th {\n",
       "        text-align: right;\n",
       "    }\n",
       "</style>\n",
       "<table border=\"1\" class=\"dataframe\">\n",
       "  <thead>\n",
       "    <tr style=\"text-align: right;\">\n",
       "      <th></th>\n",
       "      <th>fecha</th>\n",
       "      <th>estado</th>\n",
       "    </tr>\n",
       "  </thead>\n",
       "  <tbody>\n",
       "    <tr>\n",
       "      <th>0</th>\n",
       "      <td>2015-07-07</td>\n",
       "      <td>191.713568</td>\n",
       "    </tr>\n",
       "  </tbody>\n",
       "</table>\n",
       "</div>"
      ],
      "text/plain": [
       "        fecha      estado\n",
       "0  2015-07-07  191.713568"
      ]
     },
     "execution_count": 31,
     "metadata": {},
     "output_type": "execute_result"
    }
   ],
   "source": [
    "#Mínimo Valor Estado Julio 2015\n",
    "df_julio[df_julio.estado == df_julio.estado.min()].reset_index()"
   ]
  },
  {
   "cell_type": "code",
   "execution_count": 32,
   "metadata": {},
   "outputs": [
    {
     "data": {
      "image/png": "[encoded data removed]",
      "text/plain": [
       "<Figure size 864x432 with 1 Axes>"
      ]
     },
     "metadata": {
      "needs_background": "light"
     },
     "output_type": "display_data"
    }
   ],
   "source": [
    "#Gráfica para mostrar el tráfico por días en Julio\n",
    "df_julio.plot(kind='bar',color='#0bf9d5',edgecolor='#f50bf9',figsize=(12,6))\n",
    "plt.title('Tráfico Julio 2015',fontweight='bold',fontsize=14)\n",
    "plt.legend(['valores'],loc=\"upper right\",fontsize=10,shadow=True)\n",
    "plt.xlabel('fecha',fontsize=12)\n",
    "plt.ylabel('tráfico',fontsize=12)\n",
    "plt.xticks(rotation=70)\n",
    "plt.subplots_adjust(bottom=1, top=2)\n",
    "plt.grid(True)\n",
    "plt.show()"
   ]
  },
  {
   "cell_type": "markdown",
   "metadata": {},
   "source": [
    "### Agosto 2015"
   ]
  },
  {
   "cell_type": "code",
   "execution_count": 33,
   "metadata": {
    "scrolled": true
   },
   "outputs": [
    {
     "data": {
      "text/html": [
       "<div>\n",
       "<style scoped>\n",
       "    .dataframe tbody tr th:only-of-type {\n",
       "        vertical-align: middle;\n",
       "    }\n",
       "\n",
       "    .dataframe tbody tr th {\n",
       "        vertical-align: top;\n",
       "    }\n",
       "\n",
       "    .dataframe thead th {\n",
       "        text-align: right;\n",
       "    }\n",
       "</style>\n",
       "<table border=\"1\" class=\"dataframe\">\n",
       "  <thead>\n",
       "    <tr style=\"text-align: right;\">\n",
       "      <th></th>\n",
       "      <th>fecha</th>\n",
       "      <th>estado</th>\n",
       "    </tr>\n",
       "  </thead>\n",
       "  <tbody>\n",
       "    <tr>\n",
       "      <th>0</th>\n",
       "      <td>2015-08-01</td>\n",
       "      <td>857.862061</td>\n",
       "    </tr>\n",
       "    <tr>\n",
       "      <th>1</th>\n",
       "      <td>2015-08-02</td>\n",
       "      <td>562.744719</td>\n",
       "    </tr>\n",
       "    <tr>\n",
       "      <th>2</th>\n",
       "      <td>2015-08-03</td>\n",
       "      <td>587.305795</td>\n",
       "    </tr>\n",
       "    <tr>\n",
       "      <th>3</th>\n",
       "      <td>2015-08-04</td>\n",
       "      <td>807.373482</td>\n",
       "    </tr>\n",
       "    <tr>\n",
       "      <th>4</th>\n",
       "      <td>2015-08-05</td>\n",
       "      <td>940.040297</td>\n",
       "    </tr>\n",
       "  </tbody>\n",
       "</table>\n",
       "</div>"
      ],
      "text/plain": [
       "        fecha      estado\n",
       "0  2015-08-01  857.862061\n",
       "1  2015-08-02  562.744719\n",
       "2  2015-08-03  587.305795\n",
       "3  2015-08-04  807.373482\n",
       "4  2015-08-05  940.040297"
      ]
     },
     "execution_count": 33,
     "metadata": {},
     "output_type": "execute_result"
    }
   ],
   "source": [
    "#Filtramos por Agosto 2015\n",
    "df_agosto = df_datos_filtrados[(df_datos_filtrados['fecha'] >= '2015-08-01')&\\\n",
    "                               (df_datos_filtrados['fecha'] <= '2015-08-31')]\\\n",
    "                                .groupby(df_datos_filtrados['fecha'])\\\n",
    "                                .estado.mean().to_frame().reset_index()\n",
    "\n",
    "#Añadimos valor faltante con el valor de la media de la columna estado en Agosto de 2015\n",
    "row_agosto_1 = {'fecha':'2015-08-23', 'estado': df_agosto.estado.mean()}\n",
    "df_agosto = df_agosto.append(row_agosto_1, ignore_index=True)\n",
    "\n",
    "df_agosto.sort_values(by=['fecha'],inplace=True)\n",
    "\n",
    "df_agosto.set_index('fecha',inplace=True)\n",
    "df_agosto.reset_index().head(5)"
   ]
  },
  {
   "cell_type": "code",
   "execution_count": 34,
   "metadata": {},
   "outputs": [
    {
     "data": {
      "text/html": [
       "<div>\n",
       "<style scoped>\n",
       "    .dataframe tbody tr th:only-of-type {\n",
       "        vertical-align: middle;\n",
       "    }\n",
       "\n",
       "    .dataframe tbody tr th {\n",
       "        vertical-align: top;\n",
       "    }\n",
       "\n",
       "    .dataframe thead th {\n",
       "        text-align: right;\n",
       "    }\n",
       "</style>\n",
       "<table border=\"1\" class=\"dataframe\">\n",
       "  <thead>\n",
       "    <tr style=\"text-align: right;\">\n",
       "      <th></th>\n",
       "      <th>fecha</th>\n",
       "      <th>estado</th>\n",
       "    </tr>\n",
       "  </thead>\n",
       "  <tbody>\n",
       "    <tr>\n",
       "      <th>0</th>\n",
       "      <td>2015-08-31</td>\n",
       "      <td>996.517171</td>\n",
       "    </tr>\n",
       "  </tbody>\n",
       "</table>\n",
       "</div>"
      ],
      "text/plain": [
       "        fecha      estado\n",
       "0  2015-08-31  996.517171"
      ]
     },
     "execution_count": 34,
     "metadata": {},
     "output_type": "execute_result"
    }
   ],
   "source": [
    "#Máximo Valor Estado Agosto 2015\n",
    "df_agosto[df_agosto.estado == df_agosto.estado.max()].reset_index()"
   ]
  },
  {
   "cell_type": "code",
   "execution_count": 35,
   "metadata": {},
   "outputs": [
    {
     "data": {
      "text/html": [
       "<div>\n",
       "<style scoped>\n",
       "    .dataframe tbody tr th:only-of-type {\n",
       "        vertical-align: middle;\n",
       "    }\n",
       "\n",
       "    .dataframe tbody tr th {\n",
       "        vertical-align: top;\n",
       "    }\n",
       "\n",
       "    .dataframe thead th {\n",
       "        text-align: right;\n",
       "    }\n",
       "</style>\n",
       "<table border=\"1\" class=\"dataframe\">\n",
       "  <thead>\n",
       "    <tr style=\"text-align: right;\">\n",
       "      <th></th>\n",
       "      <th>fecha</th>\n",
       "      <th>estado</th>\n",
       "    </tr>\n",
       "  </thead>\n",
       "  <tbody>\n",
       "    <tr>\n",
       "      <th>0</th>\n",
       "      <td>2015-08-07</td>\n",
       "      <td>191.713568</td>\n",
       "    </tr>\n",
       "  </tbody>\n",
       "</table>\n",
       "</div>"
      ],
      "text/plain": [
       "        fecha      estado\n",
       "0  2015-08-07  191.713568"
      ]
     },
     "execution_count": 35,
     "metadata": {},
     "output_type": "execute_result"
    }
   ],
   "source": [
    "#Mínimo Valor Estado Agosto 2015\n",
    "df_agosto[df_agosto.estado == df_agosto.estado.min()].reset_index()"
   ]
  },
  {
   "cell_type": "code",
   "execution_count": 36,
   "metadata": {},
   "outputs": [
    {
     "data": {
      "image/png": "[encoded data removed]",
      "text/plain": [
       "<Figure size 864x432 with 1 Axes>"
      ]
     },
     "metadata": {
      "needs_background": "light"
     },
     "output_type": "display_data"
    }
   ],
   "source": [
    "#Gráfica para mostrar el tráfico por días en Agosto\n",
    "df_agosto.plot(kind='bar',color='#f90b33',edgecolor='#3a0bf9',figsize=(12,6))\n",
    "plt.title('Tráfico Agosto 2015',fontweight='bold',fontsize=14)\n",
    "plt.legend(['valores'],loc=\"upper left\",fontsize=10,shadow=True)\n",
    "plt.xlabel('fecha',fontsize=12)\n",
    "plt.ylabel('tráfico',fontsize=12)\n",
    "plt.xticks(rotation=70)\n",
    "plt.subplots_adjust(bottom=1, top=2)\n",
    "plt.grid(True)\n",
    "plt.show()"
   ]
  },
  {
   "cell_type": "markdown",
   "metadata": {},
   "source": [
    "### Septiembre 2015"
   ]
  },
  {
   "cell_type": "code",
   "execution_count": 37,
   "metadata": {
    "scrolled": true
   },
   "outputs": [
    {
     "data": {
      "text/html": [
       "<div>\n",
       "<style scoped>\n",
       "    .dataframe tbody tr th:only-of-type {\n",
       "        vertical-align: middle;\n",
       "    }\n",
       "\n",
       "    .dataframe tbody tr th {\n",
       "        vertical-align: top;\n",
       "    }\n",
       "\n",
       "    .dataframe thead th {\n",
       "        text-align: right;\n",
       "    }\n",
       "</style>\n",
       "<table border=\"1\" class=\"dataframe\">\n",
       "  <thead>\n",
       "    <tr style=\"text-align: right;\">\n",
       "      <th></th>\n",
       "      <th>fecha</th>\n",
       "      <th>estado</th>\n",
       "    </tr>\n",
       "  </thead>\n",
       "  <tbody>\n",
       "    <tr>\n",
       "      <th>0</th>\n",
       "      <td>2015-09-01</td>\n",
       "      <td>930.496998</td>\n",
       "    </tr>\n",
       "    <tr>\n",
       "      <th>1</th>\n",
       "      <td>2015-09-02</td>\n",
       "      <td>873.671769</td>\n",
       "    </tr>\n",
       "    <tr>\n",
       "      <th>2</th>\n",
       "      <td>2015-09-03</td>\n",
       "      <td>741.428433</td>\n",
       "    </tr>\n",
       "    <tr>\n",
       "      <th>3</th>\n",
       "      <td>2015-09-04</td>\n",
       "      <td>809.804102</td>\n",
       "    </tr>\n",
       "    <tr>\n",
       "      <th>4</th>\n",
       "      <td>2015-09-05</td>\n",
       "      <td>1128.044922</td>\n",
       "    </tr>\n",
       "  </tbody>\n",
       "</table>\n",
       "</div>"
      ],
      "text/plain": [
       "        fecha       estado\n",
       "0  2015-09-01   930.496998\n",
       "1  2015-09-02   873.671769\n",
       "2  2015-09-03   741.428433\n",
       "3  2015-09-04   809.804102\n",
       "4  2015-09-05  1128.044922"
      ]
     },
     "execution_count": 37,
     "metadata": {},
     "output_type": "execute_result"
    }
   ],
   "source": [
    "#Filtramos por Septiembre 2015\n",
    "df_septiembre = df_datos_filtrados[(df_datos_filtrados['fecha'] >= '2015-09-01')&\\\n",
    "                                   (df_datos_filtrados['fecha'] <= '2015-09-30')]\\\n",
    "                                   .groupby(df_datos_filtrados['fecha']).estado.mean().to_frame()\n",
    "\n",
    "df_septiembre.reset_index().head(5)"
   ]
  },
  {
   "cell_type": "code",
   "execution_count": 38,
   "metadata": {},
   "outputs": [
    {
     "data": {
      "text/html": [
       "<div>\n",
       "<style scoped>\n",
       "    .dataframe tbody tr th:only-of-type {\n",
       "        vertical-align: middle;\n",
       "    }\n",
       "\n",
       "    .dataframe tbody tr th {\n",
       "        vertical-align: top;\n",
       "    }\n",
       "\n",
       "    .dataframe thead th {\n",
       "        text-align: right;\n",
       "    }\n",
       "</style>\n",
       "<table border=\"1\" class=\"dataframe\">\n",
       "  <thead>\n",
       "    <tr style=\"text-align: right;\">\n",
       "      <th></th>\n",
       "      <th>fecha</th>\n",
       "      <th>estado</th>\n",
       "    </tr>\n",
       "  </thead>\n",
       "  <tbody>\n",
       "    <tr>\n",
       "      <th>0</th>\n",
       "      <td>2015-09-29</td>\n",
       "      <td>1638.717109</td>\n",
       "    </tr>\n",
       "  </tbody>\n",
       "</table>\n",
       "</div>"
      ],
      "text/plain": [
       "        fecha       estado\n",
       "0  2015-09-29  1638.717109"
      ]
     },
     "execution_count": 38,
     "metadata": {},
     "output_type": "execute_result"
    }
   ],
   "source": [
    "#Máximo Valor Estado Septiembre 2015\n",
    "df_septiembre[df_septiembre.estado == df_septiembre.estado.max()].reset_index()"
   ]
  },
  {
   "cell_type": "code",
   "execution_count": 39,
   "metadata": {},
   "outputs": [
    {
     "data": {
      "text/html": [
       "<div>\n",
       "<style scoped>\n",
       "    .dataframe tbody tr th:only-of-type {\n",
       "        vertical-align: middle;\n",
       "    }\n",
       "\n",
       "    .dataframe tbody tr th {\n",
       "        vertical-align: top;\n",
       "    }\n",
       "\n",
       "    .dataframe thead th {\n",
       "        text-align: right;\n",
       "    }\n",
       "</style>\n",
       "<table border=\"1\" class=\"dataframe\">\n",
       "  <thead>\n",
       "    <tr style=\"text-align: right;\">\n",
       "      <th></th>\n",
       "      <th>fecha</th>\n",
       "      <th>estado</th>\n",
       "    </tr>\n",
       "  </thead>\n",
       "  <tbody>\n",
       "    <tr>\n",
       "      <th>0</th>\n",
       "      <td>2015-09-07</td>\n",
       "      <td>207.896262</td>\n",
       "    </tr>\n",
       "  </tbody>\n",
       "</table>\n",
       "</div>"
      ],
      "text/plain": [
       "        fecha      estado\n",
       "0  2015-09-07  207.896262"
      ]
     },
     "execution_count": 39,
     "metadata": {},
     "output_type": "execute_result"
    }
   ],
   "source": [
    "#Mínimo Valor Estado Septiembre 2015\n",
    "df_septiembre[df_septiembre.estado == df_septiembre.estado.min()].reset_index()"
   ]
  },
  {
   "cell_type": "code",
   "execution_count": 40,
   "metadata": {},
   "outputs": [
    {
     "data": {
      "image/png": "[encoded data removed]",
      "text/plain": [
       "<Figure size 864x432 with 1 Axes>"
      ]
     },
     "metadata": {
      "needs_background": "light"
     },
     "output_type": "display_data"
    }
   ],
   "source": [
    "#Gráfica para mostrar el tráfico por días en Septiembre\n",
    "df_septiembre.plot(kind='bar',color='#0b5af9',edgecolor='#f9ce0b',figsize=(12,6))\n",
    "plt.title('Tráfico Septiembre 2015',fontweight='bold',fontsize=14)\n",
    "plt.legend(['valores'],loc=\"upper left\",fontsize=10,shadow=True)\n",
    "plt.xlabel('fecha',fontsize=12)\n",
    "plt.ylabel('tráfico',fontsize=12)\n",
    "plt.xticks(rotation=70)\n",
    "plt.subplots_adjust(bottom=1, top=2)\n",
    "plt.grid(True)\n",
    "plt.show()"
   ]
  },
  {
   "cell_type": "markdown",
   "metadata": {},
   "source": [
    "### Octubre 2015"
   ]
  },
  {
   "cell_type": "code",
   "execution_count": 41,
   "metadata": {
    "scrolled": true
   },
   "outputs": [
    {
     "data": {
      "text/html": [
       "<div>\n",
       "<style scoped>\n",
       "    .dataframe tbody tr th:only-of-type {\n",
       "        vertical-align: middle;\n",
       "    }\n",
       "\n",
       "    .dataframe tbody tr th {\n",
       "        vertical-align: top;\n",
       "    }\n",
       "\n",
       "    .dataframe thead th {\n",
       "        text-align: right;\n",
       "    }\n",
       "</style>\n",
       "<table border=\"1\" class=\"dataframe\">\n",
       "  <thead>\n",
       "    <tr style=\"text-align: right;\">\n",
       "      <th></th>\n",
       "      <th>fecha</th>\n",
       "      <th>estado</th>\n",
       "    </tr>\n",
       "  </thead>\n",
       "  <tbody>\n",
       "    <tr>\n",
       "      <th>0</th>\n",
       "      <td>2015-10-01</td>\n",
       "      <td>710.525082</td>\n",
       "    </tr>\n",
       "    <tr>\n",
       "      <th>1</th>\n",
       "      <td>2015-10-02</td>\n",
       "      <td>892.597189</td>\n",
       "    </tr>\n",
       "    <tr>\n",
       "      <th>2</th>\n",
       "      <td>2015-10-03</td>\n",
       "      <td>870.547189</td>\n",
       "    </tr>\n",
       "    <tr>\n",
       "      <th>3</th>\n",
       "      <td>2015-10-04</td>\n",
       "      <td>839.272934</td>\n",
       "    </tr>\n",
       "    <tr>\n",
       "      <th>4</th>\n",
       "      <td>2015-10-05</td>\n",
       "      <td>627.364622</td>\n",
       "    </tr>\n",
       "  </tbody>\n",
       "</table>\n",
       "</div>"
      ],
      "text/plain": [
       "        fecha      estado\n",
       "0  2015-10-01  710.525082\n",
       "1  2015-10-02  892.597189\n",
       "2  2015-10-03  870.547189\n",
       "3  2015-10-04  839.272934\n",
       "4  2015-10-05  627.364622"
      ]
     },
     "execution_count": 41,
     "metadata": {},
     "output_type": "execute_result"
    }
   ],
   "source": [
    "#Filtramos por Ocutbre 2015\n",
    "df_octubre = df_datos_filtrados[(df_datos_filtrados['fecha'] >= '2015-10-01')&\\\n",
    "                                (df_datos_filtrados['fecha'] <= '2015-10-31')]\\\n",
    "                                .groupby(df_datos_filtrados['fecha']).estado.mean().to_frame()\n",
    "\n",
    "df_octubre.reset_index().head(5)"
   ]
  },
  {
   "cell_type": "code",
   "execution_count": 42,
   "metadata": {},
   "outputs": [
    {
     "data": {
      "text/html": [
       "<div>\n",
       "<style scoped>\n",
       "    .dataframe tbody tr th:only-of-type {\n",
       "        vertical-align: middle;\n",
       "    }\n",
       "\n",
       "    .dataframe tbody tr th {\n",
       "        vertical-align: top;\n",
       "    }\n",
       "\n",
       "    .dataframe thead th {\n",
       "        text-align: right;\n",
       "    }\n",
       "</style>\n",
       "<table border=\"1\" class=\"dataframe\">\n",
       "  <thead>\n",
       "    <tr style=\"text-align: right;\">\n",
       "      <th></th>\n",
       "      <th>fecha</th>\n",
       "      <th>estado</th>\n",
       "    </tr>\n",
       "  </thead>\n",
       "  <tbody>\n",
       "    <tr>\n",
       "      <th>0</th>\n",
       "      <td>2015-10-20</td>\n",
       "      <td>1317.342945</td>\n",
       "    </tr>\n",
       "  </tbody>\n",
       "</table>\n",
       "</div>"
      ],
      "text/plain": [
       "        fecha       estado\n",
       "0  2015-10-20  1317.342945"
      ]
     },
     "execution_count": 42,
     "metadata": {},
     "output_type": "execute_result"
    }
   ],
   "source": [
    "#Máximo Valor Estado Octubre 2015\n",
    "df_octubre[df_octubre.estado == df_octubre.estado.max()].reset_index()"
   ]
  },
  {
   "cell_type": "code",
   "execution_count": 43,
   "metadata": {},
   "outputs": [
    {
     "data": {
      "text/html": [
       "<div>\n",
       "<style scoped>\n",
       "    .dataframe tbody tr th:only-of-type {\n",
       "        vertical-align: middle;\n",
       "    }\n",
       "\n",
       "    .dataframe tbody tr th {\n",
       "        vertical-align: top;\n",
       "    }\n",
       "\n",
       "    .dataframe thead th {\n",
       "        text-align: right;\n",
       "    }\n",
       "</style>\n",
       "<table border=\"1\" class=\"dataframe\">\n",
       "  <thead>\n",
       "    <tr style=\"text-align: right;\">\n",
       "      <th></th>\n",
       "      <th>fecha</th>\n",
       "      <th>estado</th>\n",
       "    </tr>\n",
       "  </thead>\n",
       "  <tbody>\n",
       "    <tr>\n",
       "      <th>0</th>\n",
       "      <td>2015-10-08</td>\n",
       "      <td>365.755556</td>\n",
       "    </tr>\n",
       "  </tbody>\n",
       "</table>\n",
       "</div>"
      ],
      "text/plain": [
       "        fecha      estado\n",
       "0  2015-10-08  365.755556"
      ]
     },
     "execution_count": 43,
     "metadata": {},
     "output_type": "execute_result"
    }
   ],
   "source": [
    "#Mínimo Valor Estado Octubre 2015\n",
    "df_octubre[df_octubre.estado == df_octubre.estado.min()].reset_index()"
   ]
  },
  {
   "cell_type": "code",
   "execution_count": 44,
   "metadata": {},
   "outputs": [
    {
     "data": {
      "image/png": "[encoded data removed]",
      "text/plain": [
       "<Figure size 864x432 with 1 Axes>"
      ]
     },
     "metadata": {
      "needs_background": "light"
     },
     "output_type": "display_data"
    }
   ],
   "source": [
    "#Gráfica para mostrar el tráfico por días en Octubre\n",
    "df_octubre.plot(kind='bar',color='#f9f20b',edgecolor='#358709',figsize=(12,6))\n",
    "plt.title('Tráfico Octubre 2015',fontweight='bold',fontsize=14)\n",
    "plt.legend(['valores'],loc=\"upper right\",fontsize=10,shadow=True)\n",
    "plt.xlabel('fecha',fontsize=12)\n",
    "plt.ylabel('tráfico',fontsize=12)\n",
    "plt.xticks(rotation=70)\n",
    "plt.subplots_adjust(bottom=1, top=2)\n",
    "plt.grid(True)\n",
    "plt.show()"
   ]
  },
  {
   "cell_type": "markdown",
   "metadata": {},
   "source": [
    "### Noviembre 2015"
   ]
  },
  {
   "cell_type": "code",
   "execution_count": 45,
   "metadata": {
    "scrolled": true
   },
   "outputs": [
    {
     "data": {
      "text/html": [
       "<div>\n",
       "<style scoped>\n",
       "    .dataframe tbody tr th:only-of-type {\n",
       "        vertical-align: middle;\n",
       "    }\n",
       "\n",
       "    .dataframe tbody tr th {\n",
       "        vertical-align: top;\n",
       "    }\n",
       "\n",
       "    .dataframe thead th {\n",
       "        text-align: right;\n",
       "    }\n",
       "</style>\n",
       "<table border=\"1\" class=\"dataframe\">\n",
       "  <thead>\n",
       "    <tr style=\"text-align: right;\">\n",
       "      <th></th>\n",
       "      <th>fecha</th>\n",
       "      <th>estado</th>\n",
       "    </tr>\n",
       "  </thead>\n",
       "  <tbody>\n",
       "    <tr>\n",
       "      <th>0</th>\n",
       "      <td>2015-11-01</td>\n",
       "      <td>587.398966</td>\n",
       "    </tr>\n",
       "    <tr>\n",
       "      <th>1</th>\n",
       "      <td>2015-11-02</td>\n",
       "      <td>894.856464</td>\n",
       "    </tr>\n",
       "    <tr>\n",
       "      <th>2</th>\n",
       "      <td>2015-11-03</td>\n",
       "      <td>879.392617</td>\n",
       "    </tr>\n",
       "    <tr>\n",
       "      <th>3</th>\n",
       "      <td>2015-11-04</td>\n",
       "      <td>610.410552</td>\n",
       "    </tr>\n",
       "    <tr>\n",
       "      <th>4</th>\n",
       "      <td>2015-11-05</td>\n",
       "      <td>1061.195737</td>\n",
       "    </tr>\n",
       "  </tbody>\n",
       "</table>\n",
       "</div>"
      ],
      "text/plain": [
       "        fecha       estado\n",
       "0  2015-11-01   587.398966\n",
       "1  2015-11-02   894.856464\n",
       "2  2015-11-03   879.392617\n",
       "3  2015-11-04   610.410552\n",
       "4  2015-11-05  1061.195737"
      ]
     },
     "execution_count": 45,
     "metadata": {},
     "output_type": "execute_result"
    }
   ],
   "source": [
    "#Filtramos por Noviembre 2015\n",
    "df_noviembre = df_datos_filtrados[(df_datos_filtrados['fecha'] >= '2015-11-01')&\\\n",
    "                                  (df_datos_filtrados['fecha'] <= '2015-11-30')]\\\n",
    "                                  .groupby(df_datos_filtrados['fecha']).estado.mean().to_frame()\n",
    "\n",
    "df_noviembre.reset_index().head(5)"
   ]
  },
  {
   "cell_type": "code",
   "execution_count": 46,
   "metadata": {},
   "outputs": [
    {
     "data": {
      "text/html": [
       "<div>\n",
       "<style scoped>\n",
       "    .dataframe tbody tr th:only-of-type {\n",
       "        vertical-align: middle;\n",
       "    }\n",
       "\n",
       "    .dataframe tbody tr th {\n",
       "        vertical-align: top;\n",
       "    }\n",
       "\n",
       "    .dataframe thead th {\n",
       "        text-align: right;\n",
       "    }\n",
       "</style>\n",
       "<table border=\"1\" class=\"dataframe\">\n",
       "  <thead>\n",
       "    <tr style=\"text-align: right;\">\n",
       "      <th></th>\n",
       "      <th>fecha</th>\n",
       "      <th>estado</th>\n",
       "    </tr>\n",
       "  </thead>\n",
       "  <tbody>\n",
       "    <tr>\n",
       "      <th>0</th>\n",
       "      <td>2015-11-09</td>\n",
       "      <td>1453.500845</td>\n",
       "    </tr>\n",
       "  </tbody>\n",
       "</table>\n",
       "</div>"
      ],
      "text/plain": [
       "        fecha       estado\n",
       "0  2015-11-09  1453.500845"
      ]
     },
     "execution_count": 46,
     "metadata": {},
     "output_type": "execute_result"
    }
   ],
   "source": [
    "#Máximo Valor Estado Noviembre 2015\n",
    "df_noviembre[df_noviembre.estado == df_noviembre.estado.max()].reset_index()"
   ]
  },
  {
   "cell_type": "code",
   "execution_count": 47,
   "metadata": {},
   "outputs": [
    {
     "data": {
      "text/html": [
       "<div>\n",
       "<style scoped>\n",
       "    .dataframe tbody tr th:only-of-type {\n",
       "        vertical-align: middle;\n",
       "    }\n",
       "\n",
       "    .dataframe tbody tr th {\n",
       "        vertical-align: top;\n",
       "    }\n",
       "\n",
       "    .dataframe thead th {\n",
       "        text-align: right;\n",
       "    }\n",
       "</style>\n",
       "<table border=\"1\" class=\"dataframe\">\n",
       "  <thead>\n",
       "    <tr style=\"text-align: right;\">\n",
       "      <th></th>\n",
       "      <th>fecha</th>\n",
       "      <th>estado</th>\n",
       "    </tr>\n",
       "  </thead>\n",
       "  <tbody>\n",
       "    <tr>\n",
       "      <th>0</th>\n",
       "      <td>2015-11-08</td>\n",
       "      <td>365.755556</td>\n",
       "    </tr>\n",
       "  </tbody>\n",
       "</table>\n",
       "</div>"
      ],
      "text/plain": [
       "        fecha      estado\n",
       "0  2015-11-08  365.755556"
      ]
     },
     "execution_count": 47,
     "metadata": {},
     "output_type": "execute_result"
    }
   ],
   "source": [
    "#Mínimo Valor Estado Noviembre 2015\n",
    "df_noviembre[df_noviembre.estado == df_noviembre.estado.min()].reset_index()"
   ]
  },
  {
   "cell_type": "code",
   "execution_count": 48,
   "metadata": {},
   "outputs": [
    {
     "data": {
      "image/png": "[encoded data removed]",
      "text/plain": [
       "<Figure size 864x432 with 1 Axes>"
      ]
     },
     "metadata": {
      "needs_background": "light"
     },
     "output_type": "display_data"
    }
   ],
   "source": [
    "#Gráfica para mostrar el tráfico por días en Noviembre\n",
    "df_noviembre.plot(kind='bar',color='#833e36',edgecolor='#1a0402',figsize=(12,6))\n",
    "plt.title('Tráfico Noviembre 2015',fontweight='bold',fontsize=14)\n",
    "plt.legend(['valores'],loc=\"upper right\",fontsize=10,shadow=True)\n",
    "plt.xlabel('fecha',fontsize=12)\n",
    "plt.ylabel('tráfico',fontsize=12)\n",
    "plt.xticks(rotation=70)\n",
    "plt.subplots_adjust(bottom=1, top=2)\n",
    "plt.grid(True)\n",
    "plt.show()"
   ]
  },
  {
   "cell_type": "markdown",
   "metadata": {},
   "source": [
    "### Diciembre 2015"
   ]
  },
  {
   "cell_type": "code",
   "execution_count": 49,
   "metadata": {
    "scrolled": true
   },
   "outputs": [
    {
     "data": {
      "text/html": [
       "<div>\n",
       "<style scoped>\n",
       "    .dataframe tbody tr th:only-of-type {\n",
       "        vertical-align: middle;\n",
       "    }\n",
       "\n",
       "    .dataframe tbody tr th {\n",
       "        vertical-align: top;\n",
       "    }\n",
       "\n",
       "    .dataframe thead th {\n",
       "        text-align: right;\n",
       "    }\n",
       "</style>\n",
       "<table border=\"1\" class=\"dataframe\">\n",
       "  <thead>\n",
       "    <tr style=\"text-align: right;\">\n",
       "      <th></th>\n",
       "      <th>fecha</th>\n",
       "      <th>estado</th>\n",
       "    </tr>\n",
       "  </thead>\n",
       "  <tbody>\n",
       "    <tr>\n",
       "      <th>0</th>\n",
       "      <td>2015-12-01</td>\n",
       "      <td>868.120400</td>\n",
       "    </tr>\n",
       "    <tr>\n",
       "      <th>1</th>\n",
       "      <td>2015-12-02</td>\n",
       "      <td>940.375445</td>\n",
       "    </tr>\n",
       "    <tr>\n",
       "      <th>2</th>\n",
       "      <td>2015-12-03</td>\n",
       "      <td>903.610848</td>\n",
       "    </tr>\n",
       "    <tr>\n",
       "      <th>3</th>\n",
       "      <td>2015-12-04</td>\n",
       "      <td>477.565906</td>\n",
       "    </tr>\n",
       "    <tr>\n",
       "      <th>4</th>\n",
       "      <td>2015-12-05</td>\n",
       "      <td>880.204503</td>\n",
       "    </tr>\n",
       "  </tbody>\n",
       "</table>\n",
       "</div>"
      ],
      "text/plain": [
       "        fecha      estado\n",
       "0  2015-12-01  868.120400\n",
       "1  2015-12-02  940.375445\n",
       "2  2015-12-03  903.610848\n",
       "3  2015-12-04  477.565906\n",
       "4  2015-12-05  880.204503"
      ]
     },
     "execution_count": 49,
     "metadata": {},
     "output_type": "execute_result"
    }
   ],
   "source": [
    "#Filtramos por Diciembre 2015\n",
    "df_diciembre = df_datos_filtrados[(df_datos_filtrados['fecha'] >= '2015-12-01')&\\\n",
    "                                  (df_datos_filtrados['fecha'] <= '2015-12-31')]\\\n",
    "                                    .groupby(df_datos_filtrados['fecha']).estado.mean().to_frame()\n",
    "\n",
    "df_diciembre.reset_index().head(5)"
   ]
  },
  {
   "cell_type": "code",
   "execution_count": 50,
   "metadata": {},
   "outputs": [
    {
     "data": {
      "text/html": [
       "<div>\n",
       "<style scoped>\n",
       "    .dataframe tbody tr th:only-of-type {\n",
       "        vertical-align: middle;\n",
       "    }\n",
       "\n",
       "    .dataframe tbody tr th {\n",
       "        vertical-align: top;\n",
       "    }\n",
       "\n",
       "    .dataframe thead th {\n",
       "        text-align: right;\n",
       "    }\n",
       "</style>\n",
       "<table border=\"1\" class=\"dataframe\">\n",
       "  <thead>\n",
       "    <tr style=\"text-align: right;\">\n",
       "      <th></th>\n",
       "      <th>fecha</th>\n",
       "      <th>estado</th>\n",
       "    </tr>\n",
       "  </thead>\n",
       "  <tbody>\n",
       "    <tr>\n",
       "      <th>0</th>\n",
       "      <td>2015-12-23</td>\n",
       "      <td>1012.412104</td>\n",
       "    </tr>\n",
       "  </tbody>\n",
       "</table>\n",
       "</div>"
      ],
      "text/plain": [
       "        fecha       estado\n",
       "0  2015-12-23  1012.412104"
      ]
     },
     "execution_count": 50,
     "metadata": {},
     "output_type": "execute_result"
    }
   ],
   "source": [
    "#Máximo Valor Estado Diciembre 2015\n",
    "df_diciembre[df_diciembre.estado == df_diciembre.estado.max()].reset_index()"
   ]
  },
  {
   "cell_type": "code",
   "execution_count": 51,
   "metadata": {},
   "outputs": [
    {
     "data": {
      "text/html": [
       "<div>\n",
       "<style scoped>\n",
       "    .dataframe tbody tr th:only-of-type {\n",
       "        vertical-align: middle;\n",
       "    }\n",
       "\n",
       "    .dataframe tbody tr th {\n",
       "        vertical-align: top;\n",
       "    }\n",
       "\n",
       "    .dataframe thead th {\n",
       "        text-align: right;\n",
       "    }\n",
       "</style>\n",
       "<table border=\"1\" class=\"dataframe\">\n",
       "  <thead>\n",
       "    <tr style=\"text-align: right;\">\n",
       "      <th></th>\n",
       "      <th>fecha</th>\n",
       "      <th>estado</th>\n",
       "    </tr>\n",
       "  </thead>\n",
       "  <tbody>\n",
       "    <tr>\n",
       "      <th>0</th>\n",
       "      <td>2015-12-04</td>\n",
       "      <td>477.565906</td>\n",
       "    </tr>\n",
       "  </tbody>\n",
       "</table>\n",
       "</div>"
      ],
      "text/plain": [
       "        fecha      estado\n",
       "0  2015-12-04  477.565906"
      ]
     },
     "execution_count": 51,
     "metadata": {},
     "output_type": "execute_result"
    }
   ],
   "source": [
    "#Mínimo Valor Estado Diciembre 2015\n",
    "df_diciembre[df_diciembre.estado == df_diciembre.estado.min()].reset_index()"
   ]
  },
  {
   "cell_type": "code",
   "execution_count": 52,
   "metadata": {},
   "outputs": [
    {
     "data": {
      "image/png": "[encoded data removed]",
      "text/plain": [
       "<Figure size 864x432 with 1 Axes>"
      ]
     },
     "metadata": {
      "needs_background": "light"
     },
     "output_type": "display_data"
    }
   ],
   "source": [
    "#Gráfica para mostrar el tráfico por días en Diciembre\n",
    "df_diciembre.plot(kind='bar',color='#0fe7cd',edgecolor='#e74c3c',figsize=(12,6))\n",
    "plt.title('Tráfico Diciembre 2015',fontweight='bold',fontsize=14)\n",
    "plt.legend(['valores'],loc=\"upper right\",fontsize=10,shadow=True)\n",
    "plt.xlabel('fecha',fontsize=12)\n",
    "plt.ylabel('tráfico',fontsize=12)\n",
    "plt.xticks(rotation=70)\n",
    "plt.subplots_adjust(bottom=1, top=2)\n",
    "plt.grid(True)\n",
    "plt.show()"
   ]
  },
  {
   "cell_type": "markdown",
   "metadata": {},
   "source": [
    "### Medias por Meses 2015"
   ]
  },
  {
   "cell_type": "code",
   "execution_count": 55,
   "metadata": {},
   "outputs": [],
   "source": [
    "medias_meses = [] #lista vacía\n",
    "\n",
    "#Pasamos los valores a la lista media_meses\n",
    "medias_meses.append(df_enero.estado.mean())\n",
    "medias_meses.append(df_febrero.estado.mean())\n",
    "medias_meses.append(df_marzo.estado.mean())\n",
    "medias_meses.append(df_abril.estado.mean())\n",
    "medias_meses.append(df_mayo.estado.mean())\n",
    "medias_meses.append(df_junio.estado.mean())\n",
    "medias_meses.append(df_julio.estado.mean())\n",
    "medias_meses.append(df_agosto.estado.mean())\n",
    "medias_meses.append(df_septiembre.estado.mean())\n",
    "medias_meses.append(df_octubre.estado.mean())\n",
    "medias_meses.append(df_noviembre.estado.mean())\n",
    "medias_meses.append(df_diciembre.estado.mean())"
   ]
  },
  {
   "cell_type": "code",
   "execution_count": 57,
   "metadata": {},
   "outputs": [
    {
     "data": {
      "text/html": [
       "<div>\n",
       "<style scoped>\n",
       "    .dataframe tbody tr th:only-of-type {\n",
       "        vertical-align: middle;\n",
       "    }\n",
       "\n",
       "    .dataframe tbody tr th {\n",
       "        vertical-align: top;\n",
       "    }\n",
       "\n",
       "    .dataframe thead th {\n",
       "        text-align: right;\n",
       "    }\n",
       "</style>\n",
       "<table border=\"1\" class=\"dataframe\">\n",
       "  <thead>\n",
       "    <tr style=\"text-align: right;\">\n",
       "      <th></th>\n",
       "      <th>mes</th>\n",
       "      <th>media</th>\n",
       "    </tr>\n",
       "  </thead>\n",
       "  <tbody>\n",
       "    <tr>\n",
       "      <th>0</th>\n",
       "      <td>Enero</td>\n",
       "      <td>795.008835</td>\n",
       "    </tr>\n",
       "    <tr>\n",
       "      <th>1</th>\n",
       "      <td>Febrero</td>\n",
       "      <td>907.916959</td>\n",
       "    </tr>\n",
       "    <tr>\n",
       "      <th>2</th>\n",
       "      <td>Marzo</td>\n",
       "      <td>769.637529</td>\n",
       "    </tr>\n",
       "    <tr>\n",
       "      <th>3</th>\n",
       "      <td>Abril</td>\n",
       "      <td>862.182478</td>\n",
       "    </tr>\n",
       "    <tr>\n",
       "      <th>4</th>\n",
       "      <td>Mayo</td>\n",
       "      <td>820.688396</td>\n",
       "    </tr>\n",
       "    <tr>\n",
       "      <th>5</th>\n",
       "      <td>Junio</td>\n",
       "      <td>779.321996</td>\n",
       "    </tr>\n",
       "    <tr>\n",
       "      <th>6</th>\n",
       "      <td>Julio</td>\n",
       "      <td>859.761358</td>\n",
       "    </tr>\n",
       "    <tr>\n",
       "      <th>7</th>\n",
       "      <td>Agosto</td>\n",
       "      <td>645.030745</td>\n",
       "    </tr>\n",
       "    <tr>\n",
       "      <th>8</th>\n",
       "      <td>Septiembre</td>\n",
       "      <td>879.402118</td>\n",
       "    </tr>\n",
       "    <tr>\n",
       "      <th>9</th>\n",
       "      <td>Octubre</td>\n",
       "      <td>866.105368</td>\n",
       "    </tr>\n",
       "    <tr>\n",
       "      <th>10</th>\n",
       "      <td>Noviembre</td>\n",
       "      <td>836.379755</td>\n",
       "    </tr>\n",
       "    <tr>\n",
       "      <th>11</th>\n",
       "      <td>Diciembre</td>\n",
       "      <td>782.687038</td>\n",
       "    </tr>\n",
       "  </tbody>\n",
       "</table>\n",
       "</div>"
      ],
      "text/plain": [
       "           mes       media\n",
       "0        Enero  795.008835\n",
       "1      Febrero  907.916959\n",
       "2        Marzo  769.637529\n",
       "3        Abril  862.182478\n",
       "4         Mayo  820.688396\n",
       "5        Junio  779.321996\n",
       "6        Julio  859.761358\n",
       "7       Agosto  645.030745\n",
       "8   Septiembre  879.402118\n",
       "9      Octubre  866.105368\n",
       "10   Noviembre  836.379755\n",
       "11   Diciembre  782.687038"
      ]
     },
     "execution_count": 57,
     "metadata": {},
     "output_type": "execute_result"
    }
   ],
   "source": [
    "mes = ['Enero','Febrero','Marzo','Abril','Mayo','Junio','Julio',\\\n",
    "       'Agosto','Septiembre','Octubre','Noviembre','Diciembre'] #añadimos los nombres de los meses\n",
    "list_zip = list(zip(mes,medias_meses)) #juntamos las dos listas de nombres y medias\n",
    "df_meses = pd.DataFrame(list_zip,columns = ['mes','media']) #pasamos los resultados a un dataframe\n",
    "df_meses.set_index('mes',inplace=True)\n",
    "df_meses.reset_index()"
   ]
  },
  {
   "cell_type": "code",
   "execution_count": 67,
   "metadata": {},
   "outputs": [
    {
     "data": {
      "image/png": "[encoded data removed]",
      "text/plain": [
       "<Figure size 864x432 with 1 Axes>"
      ]
     },
     "metadata": {
      "needs_background": "light"
     },
     "output_type": "display_data"
    }
   ],
   "source": [
    "#Gráfica para mostrar el tráfico por media de meses en 2015\n",
    "df_meses.plot(kind='bar',color='#808080',edgecolor='#2F4F4F',figsize=(12,6))\n",
    "plt.title('Tráfico Meses por Media 2015',fontweight='bold',fontsize=14)\n",
    "plt.legend(['valores'],loc=\"upper right\",fontsize=10,shadow=True)\n",
    "plt.xlabel('mes',fontsize=12)\n",
    "plt.ylabel('tráfico',fontsize=12)\n",
    "plt.xticks(rotation=70)\n",
    "plt.subplots_adjust(bottom=1, top=2)\n",
    "plt.grid(True)\n",
    "plt.show()"
   ]
  },
  {
   "cell_type": "code",
   "execution_count": 58,
   "metadata": {},
   "outputs": [
    {
     "name": "stdout",
     "output_type": "stream",
     "text": [
      "Agosto:  645.03\n"
     ]
    }
   ],
   "source": [
    "#Mes con menor media\n",
    "min_value = df_meses['media'].min()\n",
    "print('Agosto: ',round(min_value,2))"
   ]
  },
  {
   "cell_type": "code",
   "execution_count": 59,
   "metadata": {},
   "outputs": [
    {
     "name": "stdout",
     "output_type": "stream",
     "text": [
      "Febrero:  907.92\n"
     ]
    }
   ],
   "source": [
    "#Mes con mayor media\n",
    "max_value = df_meses['media'].max()\n",
    "print('Febrero: ',round(max_value,2))"
   ]
  },
  {
   "cell_type": "code",
   "execution_count": 62,
   "metadata": {},
   "outputs": [
    {
     "name": "stdout",
     "output_type": "stream",
     "text": [
      "Media Anual:  817.01\n"
     ]
    }
   ],
   "source": [
    "#Media Anual\n",
    "avg_meses = df_meses['media'].mean()\n",
    "print('Media Anual: ',round(avg_meses,2))"
   ]
  },
  {
   "cell_type": "code",
   "execution_count": 35,
   "metadata": {},
   "outputs": [],
   "source": [
    "df_1 = df_enero.reset_index()\n",
    "df_2 = df_febrero.reset_index()\n",
    "df_3 = df_marzo.reset_index()\n",
    "df_4 = df_abril.reset_index()\n",
    "df_5 = df_mayo.reset_index()\n",
    "df_6 = df_junio.reset_index()\n",
    "df_7 = df_julio.reset_index()\n",
    "df_8 = df_agosto.reset_index()\n",
    "df_9 = df_septiembre.reset_index()\n",
    "df_10 = df_octubre.reset_index()\n",
    "df_11 = df_noviembre.reset_index()\n",
    "df_12 = df_diciembre.reset_index()"
   ]
  },
  {
   "cell_type": "code",
   "execution_count": 39,
   "metadata": {},
   "outputs": [
    {
     "data": {
      "text/html": [
       "<div>\n",
       "<style scoped>\n",
       "    .dataframe tbody tr th:only-of-type {\n",
       "        vertical-align: middle;\n",
       "    }\n",
       "\n",
       "    .dataframe tbody tr th {\n",
       "        vertical-align: top;\n",
       "    }\n",
       "\n",
       "    .dataframe thead th {\n",
       "        text-align: right;\n",
       "    }\n",
       "</style>\n",
       "<table border=\"1\" class=\"dataframe\">\n",
       "  <thead>\n",
       "    <tr style=\"text-align: right;\">\n",
       "      <th></th>\n",
       "      <th>fecha</th>\n",
       "      <th>estado</th>\n",
       "    </tr>\n",
       "  </thead>\n",
       "  <tbody>\n",
       "    <tr>\n",
       "      <th>0</th>\n",
       "      <td>2015-01-01</td>\n",
       "      <td>493.433296</td>\n",
       "    </tr>\n",
       "    <tr>\n",
       "      <th>1</th>\n",
       "      <td>2015-01-02</td>\n",
       "      <td>583.876004</td>\n",
       "    </tr>\n",
       "    <tr>\n",
       "      <th>2</th>\n",
       "      <td>2015-01-03</td>\n",
       "      <td>613.272727</td>\n",
       "    </tr>\n",
       "    <tr>\n",
       "      <th>3</th>\n",
       "      <td>2015-01-04</td>\n",
       "      <td>937.628987</td>\n",
       "    </tr>\n",
       "    <tr>\n",
       "      <th>4</th>\n",
       "      <td>2015-01-05</td>\n",
       "      <td>555.306586</td>\n",
       "    </tr>\n",
       "    <tr>\n",
       "      <th>...</th>\n",
       "      <td>...</td>\n",
       "      <td>...</td>\n",
       "    </tr>\n",
       "    <tr>\n",
       "      <th>360</th>\n",
       "      <td>2015-12-27</td>\n",
       "      <td>618.328742</td>\n",
       "    </tr>\n",
       "    <tr>\n",
       "      <th>361</th>\n",
       "      <td>2015-12-28</td>\n",
       "      <td>784.022130</td>\n",
       "    </tr>\n",
       "    <tr>\n",
       "      <th>362</th>\n",
       "      <td>2015-12-29</td>\n",
       "      <td>845.548183</td>\n",
       "    </tr>\n",
       "    <tr>\n",
       "      <th>363</th>\n",
       "      <td>2015-12-30</td>\n",
       "      <td>850.371451</td>\n",
       "    </tr>\n",
       "    <tr>\n",
       "      <th>364</th>\n",
       "      <td>2015-12-31</td>\n",
       "      <td>696.151985</td>\n",
       "    </tr>\n",
       "  </tbody>\n",
       "</table>\n",
       "<p>365 rows × 2 columns</p>\n",
       "</div>"
      ],
      "text/plain": [
       "          fecha      estado\n",
       "0    2015-01-01  493.433296\n",
       "1    2015-01-02  583.876004\n",
       "2    2015-01-03  613.272727\n",
       "3    2015-01-04  937.628987\n",
       "4    2015-01-05  555.306586\n",
       "..          ...         ...\n",
       "360  2015-12-27  618.328742\n",
       "361  2015-12-28  784.022130\n",
       "362  2015-12-29  845.548183\n",
       "363  2015-12-30  850.371451\n",
       "364  2015-12-31  696.151985\n",
       "\n",
       "[365 rows x 2 columns]"
      ]
     },
     "execution_count": 39,
     "metadata": {},
     "output_type": "execute_result"
    }
   ],
   "source": [
    "list_frames = [df_1,df_2,df_3,df_4,df_5,df_6,df_7,df_8,df_9,df_10,df_11,df_12]\n",
    "df_total_meses = pd.concat(list_frames,ignore_index=True)\n",
    "df_total_meses"
   ]
  }
 ],
 "metadata": {
  "kernelspec": {
   "display_name": "Python 3",
   "language": "python",
   "name": "python3"
  },
  "language_info": {
   "codemirror_mode": {
    "name": "ipython",
    "version": 3
   },
   "file_extension": ".py",
   "mimetype": "text/x-python",
   "name": "python",
   "nbconvert_exporter": "python",
   "pygments_lexer": "ipython3",
   "version": "3.7.6"
  }
 },
 "nbformat": 4,
 "nbformat_minor": 4
}
