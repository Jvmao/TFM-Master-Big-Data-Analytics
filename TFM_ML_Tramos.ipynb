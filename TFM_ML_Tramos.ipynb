{
 "cells": [
  {
   "cell_type": "code",
   "execution_count": 1,
   "metadata": {},
   "outputs": [
    {
     "name": "stderr",
     "output_type": "stream",
     "text": [
      "/usr/local/lib/python3.7/site-packages/matplotlib/__init__.py:886: MatplotlibDeprecationWarning: \n",
      "examples.directory is deprecated; in the future, examples will be found relative to the 'datapath' directory.\n",
      "  \"found relative to the 'datapath' directory.\".format(key))\n"
     ]
    }
   ],
   "source": [
    "#Imports\n",
    "# -*- coding: utf-8 -*-\n",
    "\n",
    "import pandas as pd\n",
    "import csv\n",
    "import numpy as np\n",
    "import os\n",
    "import glob\n",
    "import matplotlib.pyplot as plt\n",
    "import seaborn as sns\n",
    "import datetime\n",
    "import time\n",
    "import re\n",
    "\n",
    "from sklearn.model_selection import train_test_split\n",
    "from sklearn.metrics import classification_report, confusion_matrix\n",
    "from sklearn import metrics"
   ]
  },
  {
   "cell_type": "code",
   "execution_count": 2,
   "metadata": {},
   "outputs": [],
   "source": [
    "#Cargamos dataset\n",
    "dataML_section = pd.read_csv('../TFM/csv_bigdata/datos_filtrados.csv',sep=';',engine='python')"
   ]
  },
  {
   "cell_type": "code",
   "execution_count": 3,
   "metadata": {},
   "outputs": [
    {
     "data": {
      "text/plain": [
       "fecha          object\n",
       "dia_semana     object\n",
       "hora           object\n",
       "id_tramo       object\n",
       "des_tramo      object\n",
       "estado          int64\n",
       "longitud      float64\n",
       "latitud       float64\n",
       "dtype: object"
      ]
     },
     "execution_count": 3,
     "metadata": {},
     "output_type": "execute_result"
    }
   ],
   "source": [
    "dataML_section.dtypes"
   ]
  },
  {
   "cell_type": "code",
   "execution_count": 4,
   "metadata": {},
   "outputs": [
    {
     "data": {
      "text/html": [
       "<div>\n",
       "<style scoped>\n",
       "    .dataframe tbody tr th:only-of-type {\n",
       "        vertical-align: middle;\n",
       "    }\n",
       "\n",
       "    .dataframe tbody tr th {\n",
       "        vertical-align: top;\n",
       "    }\n",
       "\n",
       "    .dataframe thead th {\n",
       "        text-align: right;\n",
       "    }\n",
       "</style>\n",
       "<table border=\"1\" class=\"dataframe\">\n",
       "  <thead>\n",
       "    <tr style=\"text-align: right;\">\n",
       "      <th></th>\n",
       "      <th>fecha</th>\n",
       "      <th>dia_semana</th>\n",
       "      <th>hora</th>\n",
       "      <th>id_tramo</th>\n",
       "      <th>des_tramo</th>\n",
       "      <th>estado</th>\n",
       "      <th>longitud</th>\n",
       "      <th>latitud</th>\n",
       "      <th>tiempo</th>\n",
       "      <th>timestamp</th>\n",
       "      <th>dias</th>\n",
       "      <th>id</th>\n",
       "    </tr>\n",
       "  </thead>\n",
       "  <tbody>\n",
       "    <tr>\n",
       "      <th>0</th>\n",
       "      <td>2015-01-01</td>\n",
       "      <td>Jueves</td>\n",
       "      <td>00:15:01</td>\n",
       "      <td>A102</td>\n",
       "      <td>ERNESTO FERRER</td>\n",
       "      <td>37</td>\n",
       "      <td>-0.354378</td>\n",
       "      <td>39.471478</td>\n",
       "      <td>2015-01-01 00:15:01</td>\n",
       "      <td>1420071301</td>\n",
       "      <td>4</td>\n",
       "      <td>10102</td>\n",
       "    </tr>\n",
       "    <tr>\n",
       "      <th>1</th>\n",
       "      <td>2015-01-01</td>\n",
       "      <td>Jueves</td>\n",
       "      <td>00:15:01</td>\n",
       "      <td>A104</td>\n",
       "      <td>EUGENIA VIÑES</td>\n",
       "      <td>33</td>\n",
       "      <td>-0.325181</td>\n",
       "      <td>39.467414</td>\n",
       "      <td>2015-01-01 00:15:01</td>\n",
       "      <td>1420071301</td>\n",
       "      <td>4</td>\n",
       "      <td>10104</td>\n",
       "    </tr>\n",
       "    <tr>\n",
       "      <th>2</th>\n",
       "      <td>2015-01-01</td>\n",
       "      <td>Jueves</td>\n",
       "      <td>00:15:01</td>\n",
       "      <td>A124</td>\n",
       "      <td>GUILLEM DE CASTRO</td>\n",
       "      <td>139</td>\n",
       "      <td>-0.383419</td>\n",
       "      <td>39.470396</td>\n",
       "      <td>2015-01-01 00:15:01</td>\n",
       "      <td>1420071301</td>\n",
       "      <td>4</td>\n",
       "      <td>10124</td>\n",
       "    </tr>\n",
       "    <tr>\n",
       "      <th>3</th>\n",
       "      <td>2015-01-01</td>\n",
       "      <td>Jueves</td>\n",
       "      <td>00:15:01</td>\n",
       "      <td>A127</td>\n",
       "      <td>GUILLEM DE CASTRO</td>\n",
       "      <td>187</td>\n",
       "      <td>-0.384150</td>\n",
       "      <td>39.475677</td>\n",
       "      <td>2015-01-01 00:15:01</td>\n",
       "      <td>1420071301</td>\n",
       "      <td>4</td>\n",
       "      <td>10127</td>\n",
       "    </tr>\n",
       "    <tr>\n",
       "      <th>4</th>\n",
       "      <td>2015-01-01</td>\n",
       "      <td>Jueves</td>\n",
       "      <td>00:15:01</td>\n",
       "      <td>A122</td>\n",
       "      <td>GRAN VIA RAMON Y CAJAL</td>\n",
       "      <td>218</td>\n",
       "      <td>-0.335824</td>\n",
       "      <td>39.460994</td>\n",
       "      <td>2015-01-01 00:15:01</td>\n",
       "      <td>1420071301</td>\n",
       "      <td>4</td>\n",
       "      <td>10122</td>\n",
       "    </tr>\n",
       "  </tbody>\n",
       "</table>\n",
       "</div>"
      ],
      "text/plain": [
       "        fecha dia_semana      hora id_tramo               des_tramo  estado  \\\n",
       "0  2015-01-01     Jueves  00:15:01     A102          ERNESTO FERRER      37   \n",
       "1  2015-01-01     Jueves  00:15:01     A104           EUGENIA VIÑES      33   \n",
       "2  2015-01-01     Jueves  00:15:01     A124       GUILLEM DE CASTRO     139   \n",
       "3  2015-01-01     Jueves  00:15:01     A127       GUILLEM DE CASTRO     187   \n",
       "4  2015-01-01     Jueves  00:15:01     A122  GRAN VIA RAMON Y CAJAL     218   \n",
       "\n",
       "   longitud    latitud              tiempo   timestamp  dias     id  \n",
       "0 -0.354378  39.471478 2015-01-01 00:15:01  1420071301     4  10102  \n",
       "1 -0.325181  39.467414 2015-01-01 00:15:01  1420071301     4  10104  \n",
       "2 -0.383419  39.470396 2015-01-01 00:15:01  1420071301     4  10124  \n",
       "3 -0.384150  39.475677 2015-01-01 00:15:01  1420071301     4  10127  \n",
       "4 -0.335824  39.460994 2015-01-01 00:15:01  1420071301     4  10122  "
      ]
     },
     "execution_count": 4,
     "metadata": {},
     "output_type": "execute_result"
    }
   ],
   "source": [
    "#Convertimos la columna estado a integuer\n",
    "dataML_section[\"estado\"] = dataML_section[\"estado\"].astype(int)\n",
    "\n",
    "#Unimos columna fecha con columna hora, para crear columna tiempo\n",
    "dataML_section['tiempo'] = pd.to_datetime(dataML_section['fecha'] + ' ' + dataML_section['hora'])\n",
    "#dataML_section['tiempo'] = pd.to_datetime(dataML_section['fecha'])\n",
    "\n",
    "#Cambiamos la columna tiempo a datetime\n",
    "dataML_section[\"tiempo\"] = dataML_section[\"tiempo\"].astype('datetime64[ns]') \n",
    "\n",
    "#Convertimos la columna tiempo a timestamp\n",
    "dataML_section['timestamp'] = dataML_section['tiempo'].values.astype(np.int64) // 10 ** 9  #Convert to timestamp\n",
    "\n",
    "#Convertimos la columna dia_semana a categórica\n",
    "conditions_days = [(dataML_section['dia_semana'] == 'Lunes'),\n",
    "                  (dataML_section['dia_semana'] == 'Martes'),\n",
    "                  (dataML_section['dia_semana'] == 'Miércoles'),\n",
    "                  (dataML_section['dia_semana'] == 'Jueves'),\n",
    "                  (dataML_section['dia_semana'] == 'Viernes'),\n",
    "                  (dataML_section['dia_semana'] == 'Sábado'),\n",
    "                  (dataML_section['dia_semana'] == 'Domingo')]\n",
    "\n",
    "values_days = [1,2,3,4,5,6,7]\n",
    "\n",
    "dataML_section['dias'] = np.select(conditions_days,values_days)\n",
    "dataML_section['dias'].values.astype(np.int64)\n",
    "\n",
    "#Create new column id from id_tramo replacing column A -> 10 and B -> 20 to int\n",
    "dataML_section['id'] = dataML_section['id_tramo'].str.replace(r'^A', '10').str.replace(r'^B', '20').astype(int)\n",
    "\n",
    "dataML_section.head(5)"
   ]
  },
  {
   "cell_type": "markdown",
   "metadata": {},
   "source": [
    "**Categorizamos el tráfico:**\n",
    "\n",
    "- 1 -> FLUIDO\n",
    "- 2 -> DENSO\n",
    "- 3 -> CONGESTIONADO\n",
    "- 4 -> ATASCADO"
   ]
  },
  {
   "cell_type": "code",
   "execution_count": 5,
   "metadata": {},
   "outputs": [
    {
     "data": {
      "text/html": [
       "<div>\n",
       "<style scoped>\n",
       "    .dataframe tbody tr th:only-of-type {\n",
       "        vertical-align: middle;\n",
       "    }\n",
       "\n",
       "    .dataframe tbody tr th {\n",
       "        vertical-align: top;\n",
       "    }\n",
       "\n",
       "    .dataframe thead th {\n",
       "        text-align: right;\n",
       "    }\n",
       "</style>\n",
       "<table border=\"1\" class=\"dataframe\">\n",
       "  <thead>\n",
       "    <tr style=\"text-align: right;\">\n",
       "      <th></th>\n",
       "      <th>fecha</th>\n",
       "      <th>dia_semana</th>\n",
       "      <th>hora</th>\n",
       "      <th>id_tramo</th>\n",
       "      <th>des_tramo</th>\n",
       "      <th>estado</th>\n",
       "      <th>longitud</th>\n",
       "      <th>latitud</th>\n",
       "      <th>tiempo</th>\n",
       "      <th>timestamp</th>\n",
       "      <th>dias</th>\n",
       "      <th>id</th>\n",
       "      <th>desc_estado</th>\n",
       "      <th>tipo_estado</th>\n",
       "    </tr>\n",
       "  </thead>\n",
       "  <tbody>\n",
       "    <tr>\n",
       "      <th>0</th>\n",
       "      <td>2015-01-01</td>\n",
       "      <td>Jueves</td>\n",
       "      <td>00:15:01</td>\n",
       "      <td>A102</td>\n",
       "      <td>ERNESTO FERRER</td>\n",
       "      <td>37</td>\n",
       "      <td>-0.354378</td>\n",
       "      <td>39.471478</td>\n",
       "      <td>2015-01-01 00:15:01</td>\n",
       "      <td>1420071301</td>\n",
       "      <td>4</td>\n",
       "      <td>10102</td>\n",
       "      <td>FLUIDO</td>\n",
       "      <td>1</td>\n",
       "    </tr>\n",
       "    <tr>\n",
       "      <th>1</th>\n",
       "      <td>2015-01-01</td>\n",
       "      <td>Jueves</td>\n",
       "      <td>00:15:01</td>\n",
       "      <td>A104</td>\n",
       "      <td>EUGENIA VIÑES</td>\n",
       "      <td>33</td>\n",
       "      <td>-0.325181</td>\n",
       "      <td>39.467414</td>\n",
       "      <td>2015-01-01 00:15:01</td>\n",
       "      <td>1420071301</td>\n",
       "      <td>4</td>\n",
       "      <td>10104</td>\n",
       "      <td>FLUIDO</td>\n",
       "      <td>1</td>\n",
       "    </tr>\n",
       "    <tr>\n",
       "      <th>2</th>\n",
       "      <td>2015-01-01</td>\n",
       "      <td>Jueves</td>\n",
       "      <td>00:15:01</td>\n",
       "      <td>A124</td>\n",
       "      <td>GUILLEM DE CASTRO</td>\n",
       "      <td>139</td>\n",
       "      <td>-0.383419</td>\n",
       "      <td>39.470396</td>\n",
       "      <td>2015-01-01 00:15:01</td>\n",
       "      <td>1420071301</td>\n",
       "      <td>4</td>\n",
       "      <td>10124</td>\n",
       "      <td>FLUIDO</td>\n",
       "      <td>1</td>\n",
       "    </tr>\n",
       "    <tr>\n",
       "      <th>3</th>\n",
       "      <td>2015-01-01</td>\n",
       "      <td>Jueves</td>\n",
       "      <td>00:15:01</td>\n",
       "      <td>A127</td>\n",
       "      <td>GUILLEM DE CASTRO</td>\n",
       "      <td>187</td>\n",
       "      <td>-0.384150</td>\n",
       "      <td>39.475677</td>\n",
       "      <td>2015-01-01 00:15:01</td>\n",
       "      <td>1420071301</td>\n",
       "      <td>4</td>\n",
       "      <td>10127</td>\n",
       "      <td>FLUIDO</td>\n",
       "      <td>1</td>\n",
       "    </tr>\n",
       "    <tr>\n",
       "      <th>4</th>\n",
       "      <td>2015-01-01</td>\n",
       "      <td>Jueves</td>\n",
       "      <td>00:15:01</td>\n",
       "      <td>A122</td>\n",
       "      <td>GRAN VIA RAMON Y CAJAL</td>\n",
       "      <td>218</td>\n",
       "      <td>-0.335824</td>\n",
       "      <td>39.460994</td>\n",
       "      <td>2015-01-01 00:15:01</td>\n",
       "      <td>1420071301</td>\n",
       "      <td>4</td>\n",
       "      <td>10122</td>\n",
       "      <td>FLUIDO</td>\n",
       "      <td>1</td>\n",
       "    </tr>\n",
       "  </tbody>\n",
       "</table>\n",
       "</div>"
      ],
      "text/plain": [
       "        fecha dia_semana      hora id_tramo               des_tramo  estado  \\\n",
       "0  2015-01-01     Jueves  00:15:01     A102          ERNESTO FERRER      37   \n",
       "1  2015-01-01     Jueves  00:15:01     A104           EUGENIA VIÑES      33   \n",
       "2  2015-01-01     Jueves  00:15:01     A124       GUILLEM DE CASTRO     139   \n",
       "3  2015-01-01     Jueves  00:15:01     A127       GUILLEM DE CASTRO     187   \n",
       "4  2015-01-01     Jueves  00:15:01     A122  GRAN VIA RAMON Y CAJAL     218   \n",
       "\n",
       "   longitud    latitud              tiempo   timestamp  dias     id  \\\n",
       "0 -0.354378  39.471478 2015-01-01 00:15:01  1420071301     4  10102   \n",
       "1 -0.325181  39.467414 2015-01-01 00:15:01  1420071301     4  10104   \n",
       "2 -0.383419  39.470396 2015-01-01 00:15:01  1420071301     4  10124   \n",
       "3 -0.384150  39.475677 2015-01-01 00:15:01  1420071301     4  10127   \n",
       "4 -0.335824  39.460994 2015-01-01 00:15:01  1420071301     4  10122   \n",
       "\n",
       "  desc_estado  tipo_estado  \n",
       "0      FLUIDO            1  \n",
       "1      FLUIDO            1  \n",
       "2      FLUIDO            1  \n",
       "3      FLUIDO            1  \n",
       "4      FLUIDO            1  "
      ]
     },
     "execution_count": 5,
     "metadata": {},
     "output_type": "execute_result"
    }
   ],
   "source": [
    "#Creación Variable desc_estado string\n",
    "dataML_section['desc_estado'] = \\\n",
    "np.where(\n",
    "    (dataML_section['estado'] > 0) & (dataML_section['estado']<= 500), 'FLUIDO',\\\n",
    "    np.where(\n",
    "        (dataML_section['estado'] > 500) & (dataML_section['estado']<= 1500), 'DENSO',\\\n",
    "            np.where(\n",
    "                (dataML_section['estado'] > 1500) & (dataML_section['estado']<= 3000), 'CONGESTIONADO','ATASCADO'\\\n",
    "                    )\n",
    "        )\n",
    ")\n",
    "\n",
    "                               \n",
    "#Creación Variable tipo_estado integer\n",
    "dataML_section['tipo_estado'] = \\\n",
    "np.where(\n",
    "    (dataML_section['desc_estado'] == 'FLUIDO'), 1,\\\n",
    "    np.where(\n",
    "        (dataML_section['desc_estado'] == 'DENSO'), 2,\\\n",
    "        np.where(\n",
    "            (dataML_section['desc_estado'] == 'CONGESTIONADO'), 3,4\\\n",
    "        )\n",
    "    )\n",
    ")\n",
    "\n",
    "dataML_section.head(5)"
   ]
  },
  {
   "cell_type": "markdown",
   "metadata": {},
   "source": [
    "**Frecuencias Estado Tráfico**"
   ]
  },
  {
   "cell_type": "code",
   "execution_count": 6,
   "metadata": {},
   "outputs": [
    {
     "data": {
      "image/png": "[encoded data removed]",
      "text/plain": [
       "<Figure size 864x432 with 1 Axes>"
      ]
     },
     "metadata": {
      "needs_background": "light"
     },
     "output_type": "display_data"
    }
   ],
   "source": [
    "freq_time = dataML_section.groupby(\"desc_estado\").agg(frequency=(\"desc_estado\", \"count\"))\n",
    "freq_time.plot(kind='bar',color='blue',edgecolor='darkorange',figsize=(12,6))\n",
    "plt.title('Frecuencias Tráfico',fontweight='bold',fontsize=14)\n",
    "plt.xticks(rotation=70)\n",
    "plt.show()"
   ]
  },
  {
   "cell_type": "code",
   "execution_count": 7,
   "metadata": {},
   "outputs": [
    {
     "data": {
      "text/plain": [
       "(11817827, 14)"
      ]
     },
     "execution_count": 7,
     "metadata": {},
     "output_type": "execute_result"
    }
   ],
   "source": [
    "#Comprobamos Dimensión\n",
    "dataML_section.shape"
   ]
  },
  {
   "cell_type": "code",
   "execution_count": 8,
   "metadata": {},
   "outputs": [
    {
     "name": "stdout",
     "output_type": "stream",
     "text": [
      "Filas:  11817827\n"
     ]
    }
   ],
   "source": [
    "#Comprobamos Filas Totales\n",
    "counter = dataML_section.shape[0]\n",
    "print('Filas: ',counter)"
   ]
  },
  {
   "cell_type": "code",
   "execution_count": 9,
   "metadata": {},
   "outputs": [
    {
     "data": {
      "text/html": [
       "<div>\n",
       "<style scoped>\n",
       "    .dataframe tbody tr th:only-of-type {\n",
       "        vertical-align: middle;\n",
       "    }\n",
       "\n",
       "    .dataframe tbody tr th {\n",
       "        vertical-align: top;\n",
       "    }\n",
       "\n",
       "    .dataframe thead th {\n",
       "        text-align: right;\n",
       "    }\n",
       "</style>\n",
       "<table border=\"1\" class=\"dataframe\">\n",
       "  <thead>\n",
       "    <tr style=\"text-align: right;\">\n",
       "      <th></th>\n",
       "      <th>count</th>\n",
       "      <th>mean</th>\n",
       "      <th>std</th>\n",
       "      <th>min</th>\n",
       "      <th>25%</th>\n",
       "      <th>50%</th>\n",
       "      <th>75%</th>\n",
       "      <th>max</th>\n",
       "    </tr>\n",
       "  </thead>\n",
       "  <tbody>\n",
       "    <tr>\n",
       "      <th>estado</th>\n",
       "      <td>11817827.0</td>\n",
       "      <td>809.592015</td>\n",
       "      <td>1093.228395</td>\n",
       "      <td>1.0</td>\n",
       "      <td>98.0</td>\n",
       "      <td>346.0</td>\n",
       "      <td>1059.0</td>\n",
       "      <td>17982.0</td>\n",
       "    </tr>\n",
       "  </tbody>\n",
       "</table>\n",
       "</div>"
      ],
      "text/plain": [
       "             count        mean          std  min   25%    50%     75%      max\n",
       "estado  11817827.0  809.592015  1093.228395  1.0  98.0  346.0  1059.0  17982.0"
      ]
     },
     "execution_count": 9,
     "metadata": {},
     "output_type": "execute_result"
    }
   ],
   "source": [
    "#Descripción Variables\n",
    "dataML_section['estado'].describe().to_frame().T"
   ]
  },
  {
   "cell_type": "code",
   "execution_count": 10,
   "metadata": {},
   "outputs": [
    {
     "data": {
      "text/plain": [
       "timestamp      int64\n",
       "dias           int64\n",
       "id             int64\n",
       "estado         int64\n",
       "tipo_estado    int64\n",
       "dtype: object"
      ]
     },
     "execution_count": 10,
     "metadata": {},
     "output_type": "execute_result"
    }
   ],
   "source": [
    "dataML_section[['timestamp','dias','id','estado','tipo_estado']].dtypes"
   ]
  },
  {
   "cell_type": "code",
   "execution_count": 11,
   "metadata": {},
   "outputs": [
    {
     "data": {
      "text/html": [
       "<div>\n",
       "<style scoped>\n",
       "    .dataframe tbody tr th:only-of-type {\n",
       "        vertical-align: middle;\n",
       "    }\n",
       "\n",
       "    .dataframe tbody tr th {\n",
       "        vertical-align: top;\n",
       "    }\n",
       "\n",
       "    .dataframe thead th {\n",
       "        text-align: right;\n",
       "    }\n",
       "</style>\n",
       "<table border=\"1\" class=\"dataframe\">\n",
       "  <thead>\n",
       "    <tr style=\"text-align: right;\">\n",
       "      <th></th>\n",
       "      <th>timestamp</th>\n",
       "      <th>dias</th>\n",
       "      <th>id</th>\n",
       "      <th>tipo_estado</th>\n",
       "      <th>estado</th>\n",
       "    </tr>\n",
       "  </thead>\n",
       "  <tbody>\n",
       "    <tr>\n",
       "      <th>0</th>\n",
       "      <td>1420071301</td>\n",
       "      <td>4</td>\n",
       "      <td>101</td>\n",
       "      <td>1</td>\n",
       "      <td>140</td>\n",
       "    </tr>\n",
       "    <tr>\n",
       "      <th>1</th>\n",
       "      <td>1420071301</td>\n",
       "      <td>4</td>\n",
       "      <td>103</td>\n",
       "      <td>1</td>\n",
       "      <td>35</td>\n",
       "    </tr>\n",
       "    <tr>\n",
       "      <th>2</th>\n",
       "      <td>1420071301</td>\n",
       "      <td>4</td>\n",
       "      <td>105</td>\n",
       "      <td>1</td>\n",
       "      <td>173</td>\n",
       "    </tr>\n",
       "    <tr>\n",
       "      <th>3</th>\n",
       "      <td>1420071301</td>\n",
       "      <td>4</td>\n",
       "      <td>107</td>\n",
       "      <td>1</td>\n",
       "      <td>120</td>\n",
       "    </tr>\n",
       "    <tr>\n",
       "      <th>4</th>\n",
       "      <td>1420071301</td>\n",
       "      <td>4</td>\n",
       "      <td>108</td>\n",
       "      <td>1</td>\n",
       "      <td>143</td>\n",
       "    </tr>\n",
       "  </tbody>\n",
       "</table>\n",
       "</div>"
      ],
      "text/plain": [
       "    timestamp  dias   id  tipo_estado  estado\n",
       "0  1420071301     4  101            1     140\n",
       "1  1420071301     4  103            1      35\n",
       "2  1420071301     4  105            1     173\n",
       "3  1420071301     4  107            1     120\n",
       "4  1420071301     4  108            1     143"
      ]
     },
     "execution_count": 11,
     "metadata": {},
     "output_type": "execute_result"
    }
   ],
   "source": [
    "#dataML_section_LR = dataML_section.groupby(['timestamp','id'],as_index = False).estado.mean() #58%\n",
    "#dataML_section_LR = dataML_section.groupby(['timestamp','dias'],as_index = False).estado.mean() #59%\n",
    "#dataML_section_LR = dataML_section.groupby(['timestamp'],as_index = False).estado.mean() #59%\n",
    "dataML_section_LR = dataML_section.groupby(['timestamp','dias','id','tipo_estado'],as_index = False).estado.mean() #59%\n",
    "dataML_section_LR.head(5)"
   ]
  },
  {
   "cell_type": "code",
   "execution_count": 12,
   "metadata": {},
   "outputs": [
    {
     "name": "stdout",
     "output_type": "stream",
     "text": [
      "Filas:  11729306\n"
     ]
    }
   ],
   "source": [
    "#Comprobamos Filas Totales\n",
    "#Con horas = 11729306\n",
    "#Sin horas = 142182\n",
    "\n",
    "counter_2 = dataML_section_LR.shape[0]\n",
    "print('Filas: ',counter_2)"
   ]
  },
  {
   "cell_type": "code",
   "execution_count": 13,
   "metadata": {},
   "outputs": [
    {
     "name": "stdout",
     "output_type": "stream",
     "text": [
      "Filas:  11729306\n"
     ]
    }
   ],
   "source": [
    "counter_2 = dataML_section_LR.shape[0]\n",
    "print('Filas: ',counter_2)"
   ]
  },
  {
   "cell_type": "code",
   "execution_count": 49,
   "metadata": {},
   "outputs": [
    {
     "name": "stdout",
     "output_type": "stream",
     "text": [
      "Archivo Creado Correctamente\n"
     ]
    }
   ],
   "source": [
    "#Guardamos los datos filtrados anteriormente en un csv\n",
    "ml_data = 'datos_DL.csv'\n",
    "try:\n",
    "    dataML_section_LR.to_csv(ml_data,sep=';', index=False, header = True)\n",
    "    print('Archivo Creado Correctamente')\n",
    "except EmptyDataError as ex:\n",
    "    print('Datos Vacíos: \\n',ex)\n",
    "except ParserError as ex:\n",
    "    print('Error Parseo Archivo: \\n',ex)\n",
    "except Exception as ex:\n",
    "    print('Archivo Creado con Errores: \\n',ex)"
   ]
  },
  {
   "cell_type": "markdown",
   "metadata": {},
   "source": [
    "**Dataset Predicciones**"
   ]
  },
  {
   "cell_type": "code",
   "execution_count": 24,
   "metadata": {},
   "outputs": [
    {
     "data": {
      "text/html": [
       "<div>\n",
       "<style scoped>\n",
       "    .dataframe tbody tr th:only-of-type {\n",
       "        vertical-align: middle;\n",
       "    }\n",
       "\n",
       "    .dataframe tbody tr th {\n",
       "        vertical-align: top;\n",
       "    }\n",
       "\n",
       "    .dataframe thead th {\n",
       "        text-align: right;\n",
       "    }\n",
       "</style>\n",
       "<table border=\"1\" class=\"dataframe\">\n",
       "  <thead>\n",
       "    <tr style=\"text-align: right;\">\n",
       "      <th></th>\n",
       "      <th>index</th>\n",
       "      <th>fecha</th>\n",
       "      <th>dia_semana</th>\n",
       "      <th>hora</th>\n",
       "      <th>id_tramo</th>\n",
       "      <th>des_tramo</th>\n",
       "      <th>estado</th>\n",
       "      <th>longitud</th>\n",
       "      <th>latitud</th>\n",
       "      <th>tiempo</th>\n",
       "      <th>timestamp</th>\n",
       "      <th>dias</th>\n",
       "      <th>id</th>\n",
       "      <th>desc_estado</th>\n",
       "      <th>tipo_estado</th>\n",
       "    </tr>\n",
       "  </thead>\n",
       "  <tbody>\n",
       "    <tr>\n",
       "      <th>0</th>\n",
       "      <td>0</td>\n",
       "      <td>2015-01-01</td>\n",
       "      <td>Jueves</td>\n",
       "      <td>00:15:01</td>\n",
       "      <td>A102</td>\n",
       "      <td>ERNESTO FERRER</td>\n",
       "      <td>37</td>\n",
       "      <td>-0.354378</td>\n",
       "      <td>39.471478</td>\n",
       "      <td>2015-01-01 00:15:01</td>\n",
       "      <td>1420071301</td>\n",
       "      <td>4</td>\n",
       "      <td>10102</td>\n",
       "      <td>FLUIDO</td>\n",
       "      <td>1</td>\n",
       "    </tr>\n",
       "    <tr>\n",
       "      <th>1</th>\n",
       "      <td>1</td>\n",
       "      <td>2015-01-01</td>\n",
       "      <td>Jueves</td>\n",
       "      <td>00:15:01</td>\n",
       "      <td>A104</td>\n",
       "      <td>EUGENIA VIÑES</td>\n",
       "      <td>33</td>\n",
       "      <td>-0.325181</td>\n",
       "      <td>39.467414</td>\n",
       "      <td>2015-01-01 00:15:01</td>\n",
       "      <td>1420071301</td>\n",
       "      <td>4</td>\n",
       "      <td>10104</td>\n",
       "      <td>FLUIDO</td>\n",
       "      <td>1</td>\n",
       "    </tr>\n",
       "    <tr>\n",
       "      <th>2</th>\n",
       "      <td>2</td>\n",
       "      <td>2015-01-01</td>\n",
       "      <td>Jueves</td>\n",
       "      <td>00:15:01</td>\n",
       "      <td>A124</td>\n",
       "      <td>GUILLEM DE CASTRO</td>\n",
       "      <td>139</td>\n",
       "      <td>-0.383419</td>\n",
       "      <td>39.470396</td>\n",
       "      <td>2015-01-01 00:15:01</td>\n",
       "      <td>1420071301</td>\n",
       "      <td>4</td>\n",
       "      <td>10124</td>\n",
       "      <td>FLUIDO</td>\n",
       "      <td>1</td>\n",
       "    </tr>\n",
       "    <tr>\n",
       "      <th>3</th>\n",
       "      <td>3</td>\n",
       "      <td>2015-01-01</td>\n",
       "      <td>Jueves</td>\n",
       "      <td>00:15:01</td>\n",
       "      <td>A127</td>\n",
       "      <td>GUILLEM DE CASTRO</td>\n",
       "      <td>187</td>\n",
       "      <td>-0.384150</td>\n",
       "      <td>39.475677</td>\n",
       "      <td>2015-01-01 00:15:01</td>\n",
       "      <td>1420071301</td>\n",
       "      <td>4</td>\n",
       "      <td>10127</td>\n",
       "      <td>FLUIDO</td>\n",
       "      <td>1</td>\n",
       "    </tr>\n",
       "    <tr>\n",
       "      <th>4</th>\n",
       "      <td>4</td>\n",
       "      <td>2015-01-01</td>\n",
       "      <td>Jueves</td>\n",
       "      <td>00:15:01</td>\n",
       "      <td>A122</td>\n",
       "      <td>GRAN VIA RAMON Y CAJAL</td>\n",
       "      <td>218</td>\n",
       "      <td>-0.335824</td>\n",
       "      <td>39.460994</td>\n",
       "      <td>2015-01-01 00:15:01</td>\n",
       "      <td>1420071301</td>\n",
       "      <td>4</td>\n",
       "      <td>10122</td>\n",
       "      <td>FLUIDO</td>\n",
       "      <td>1</td>\n",
       "    </tr>\n",
       "  </tbody>\n",
       "</table>\n",
       "</div>"
      ],
      "text/plain": [
       "   index       fecha dia_semana      hora id_tramo               des_tramo  \\\n",
       "0      0  2015-01-01     Jueves  00:15:01     A102          ERNESTO FERRER   \n",
       "1      1  2015-01-01     Jueves  00:15:01     A104           EUGENIA VIÑES   \n",
       "2      2  2015-01-01     Jueves  00:15:01     A124       GUILLEM DE CASTRO   \n",
       "3      3  2015-01-01     Jueves  00:15:01     A127       GUILLEM DE CASTRO   \n",
       "4      4  2015-01-01     Jueves  00:15:01     A122  GRAN VIA RAMON Y CAJAL   \n",
       "\n",
       "   estado  longitud    latitud              tiempo   timestamp  dias     id  \\\n",
       "0      37 -0.354378  39.471478 2015-01-01 00:15:01  1420071301     4  10102   \n",
       "1      33 -0.325181  39.467414 2015-01-01 00:15:01  1420071301     4  10104   \n",
       "2     139 -0.383419  39.470396 2015-01-01 00:15:01  1420071301     4  10124   \n",
       "3     187 -0.384150  39.475677 2015-01-01 00:15:01  1420071301     4  10127   \n",
       "4     218 -0.335824  39.460994 2015-01-01 00:15:01  1420071301     4  10122   \n",
       "\n",
       "  desc_estado  tipo_estado  \n",
       "0      FLUIDO            1  \n",
       "1      FLUIDO            1  \n",
       "2      FLUIDO            1  \n",
       "3      FLUIDO            1  \n",
       "4      FLUIDO            1  "
      ]
     },
     "execution_count": 24,
     "metadata": {},
     "output_type": "execute_result"
    }
   ],
   "source": [
    "#Filtramos los datos de la primera semana de Enero de 2015\n",
    "df_pred = dataML_section[(dataML_section['fecha'] >= '2015-01-01')& \\\n",
    "                              (dataML_section['fecha'] <= '2015-01-07')].reset_index()\n",
    "\n",
    "df_pred.head(5)"
   ]
  },
  {
   "cell_type": "code",
   "execution_count": 29,
   "metadata": {
    "scrolled": true
   },
   "outputs": [
    {
     "data": {
      "text/html": [
       "<div>\n",
       "<style scoped>\n",
       "    .dataframe tbody tr th:only-of-type {\n",
       "        vertical-align: middle;\n",
       "    }\n",
       "\n",
       "    .dataframe tbody tr th {\n",
       "        vertical-align: top;\n",
       "    }\n",
       "\n",
       "    .dataframe thead th {\n",
       "        text-align: right;\n",
       "    }\n",
       "</style>\n",
       "<table border=\"1\" class=\"dataframe\">\n",
       "  <thead>\n",
       "    <tr style=\"text-align: right;\">\n",
       "      <th></th>\n",
       "      <th>fecha</th>\n",
       "      <th>hora</th>\n",
       "      <th>timestamp_pred</th>\n",
       "      <th>dia_pred</th>\n",
       "      <th>dias_pred</th>\n",
       "      <th>id</th>\n",
       "      <th>estado</th>\n",
       "    </tr>\n",
       "  </thead>\n",
       "  <tbody>\n",
       "    <tr>\n",
       "      <th>0</th>\n",
       "      <td>2021-01-01</td>\n",
       "      <td>00:15:01</td>\n",
       "      <td>1609460101</td>\n",
       "      <td>Friday</td>\n",
       "      <td>5</td>\n",
       "      <td>10102</td>\n",
       "      <td>37</td>\n",
       "    </tr>\n",
       "    <tr>\n",
       "      <th>1</th>\n",
       "      <td>2021-01-01</td>\n",
       "      <td>00:15:01</td>\n",
       "      <td>1609460101</td>\n",
       "      <td>Friday</td>\n",
       "      <td>5</td>\n",
       "      <td>10104</td>\n",
       "      <td>33</td>\n",
       "    </tr>\n",
       "    <tr>\n",
       "      <th>2</th>\n",
       "      <td>2021-01-01</td>\n",
       "      <td>00:15:01</td>\n",
       "      <td>1609460101</td>\n",
       "      <td>Friday</td>\n",
       "      <td>5</td>\n",
       "      <td>10124</td>\n",
       "      <td>139</td>\n",
       "    </tr>\n",
       "    <tr>\n",
       "      <th>3</th>\n",
       "      <td>2021-01-01</td>\n",
       "      <td>00:15:01</td>\n",
       "      <td>1609460101</td>\n",
       "      <td>Friday</td>\n",
       "      <td>5</td>\n",
       "      <td>10127</td>\n",
       "      <td>187</td>\n",
       "    </tr>\n",
       "    <tr>\n",
       "      <th>4</th>\n",
       "      <td>2021-01-01</td>\n",
       "      <td>00:15:01</td>\n",
       "      <td>1609460101</td>\n",
       "      <td>Friday</td>\n",
       "      <td>5</td>\n",
       "      <td>10122</td>\n",
       "      <td>218</td>\n",
       "    </tr>\n",
       "    <tr>\n",
       "      <th>...</th>\n",
       "      <td>...</td>\n",
       "      <td>...</td>\n",
       "      <td>...</td>\n",
       "      <td>...</td>\n",
       "      <td>...</td>\n",
       "      <td>...</td>\n",
       "      <td>...</td>\n",
       "    </tr>\n",
       "    <tr>\n",
       "      <th>255745</th>\n",
       "      <td>2021-01-07</td>\n",
       "      <td>23:45:01</td>\n",
       "      <td>1610063101</td>\n",
       "      <td>Thursday</td>\n",
       "      <td>4</td>\n",
       "      <td>2093</td>\n",
       "      <td>17</td>\n",
       "    </tr>\n",
       "    <tr>\n",
       "      <th>255746</th>\n",
       "      <td>2021-01-07</td>\n",
       "      <td>23:45:01</td>\n",
       "      <td>1610063101</td>\n",
       "      <td>Thursday</td>\n",
       "      <td>4</td>\n",
       "      <td>2094</td>\n",
       "      <td>16</td>\n",
       "    </tr>\n",
       "    <tr>\n",
       "      <th>255747</th>\n",
       "      <td>2021-01-07</td>\n",
       "      <td>23:45:01</td>\n",
       "      <td>1610063101</td>\n",
       "      <td>Thursday</td>\n",
       "      <td>4</td>\n",
       "      <td>2095</td>\n",
       "      <td>49</td>\n",
       "    </tr>\n",
       "    <tr>\n",
       "      <th>255748</th>\n",
       "      <td>2021-01-07</td>\n",
       "      <td>23:45:01</td>\n",
       "      <td>1610063101</td>\n",
       "      <td>Thursday</td>\n",
       "      <td>4</td>\n",
       "      <td>2097</td>\n",
       "      <td>59</td>\n",
       "    </tr>\n",
       "    <tr>\n",
       "      <th>255749</th>\n",
       "      <td>2021-01-07</td>\n",
       "      <td>23:45:01</td>\n",
       "      <td>1610063101</td>\n",
       "      <td>Thursday</td>\n",
       "      <td>4</td>\n",
       "      <td>2098</td>\n",
       "      <td>76</td>\n",
       "    </tr>\n",
       "  </tbody>\n",
       "</table>\n",
       "<p>255750 rows × 7 columns</p>\n",
       "</div>"
      ],
      "text/plain": [
       "             fecha      hora  timestamp_pred  dia_pred  dias_pred     id  \\\n",
       "0       2021-01-01  00:15:01      1609460101    Friday          5  10102   \n",
       "1       2021-01-01  00:15:01      1609460101    Friday          5  10104   \n",
       "2       2021-01-01  00:15:01      1609460101    Friday          5  10124   \n",
       "3       2021-01-01  00:15:01      1609460101    Friday          5  10127   \n",
       "4       2021-01-01  00:15:01      1609460101    Friday          5  10122   \n",
       "...            ...       ...             ...       ...        ...    ...   \n",
       "255745  2021-01-07  23:45:01      1610063101  Thursday          4   2093   \n",
       "255746  2021-01-07  23:45:01      1610063101  Thursday          4   2094   \n",
       "255747  2021-01-07  23:45:01      1610063101  Thursday          4   2095   \n",
       "255748  2021-01-07  23:45:01      1610063101  Thursday          4   2097   \n",
       "255749  2021-01-07  23:45:01      1610063101  Thursday          4   2098   \n",
       "\n",
       "        estado  \n",
       "0           37  \n",
       "1           33  \n",
       "2          139  \n",
       "3          187  \n",
       "4          218  \n",
       "...        ...  \n",
       "255745      17  \n",
       "255746      16  \n",
       "255747      49  \n",
       "255748      59  \n",
       "255749      76  \n",
       "\n",
       "[255750 rows x 7 columns]"
      ]
     },
     "execution_count": 29,
     "metadata": {},
     "output_type": "execute_result"
    }
   ],
   "source": [
    "#Actualizamos la fecha a 2021\n",
    "df_pred['fecha'] = df_pred['fecha'].str.replace(r'^2015', '2021')\n",
    "df_pred['dia_pred'] = pd.to_datetime(df_pred['fecha'], format='%Y-%m-%d').dt.day_name()\n",
    "\n",
    "#Convertimos la columna estado a integuer\n",
    "df_pred['estado'] = df_pred['estado'].astype(int)\n",
    "\n",
    "#Unimos columna fecha con columna hora, para crear columna tiempo\n",
    "df_pred['tiempo'] = pd.to_datetime(df_pred['fecha'] + ' ' + df_pred['hora'])\n",
    "\n",
    "#Cambiamos la columna tiempo a datetime\n",
    "df_pred[\"tiempo\"] = df_pred[\"tiempo\"].astype('datetime64[ns]') \n",
    "\n",
    "#Convertimos la columna tiempo a timestamp\n",
    "df_pred['timestamp_pred'] = df_pred['tiempo'].values.astype(np.int64) // 10 ** 9  #Convert to timestamp\n",
    "\n",
    "#Convertimos la columna dia_pred a categórica\n",
    "conditions_pred_days = [(df_pred['dia_pred'] == 'Monday'),\n",
    "                  (df_pred['dia_pred'] == 'Tuesday'),\n",
    "                  (df_pred['dia_pred'] == 'Wednesday'),\n",
    "                  (df_pred['dia_pred'] == 'Thursday'),\n",
    "                  (df_pred['dia_pred'] == 'Friday'),\n",
    "                  (df_pred['dia_pred'] == 'Saturday'),\n",
    "                  (df_pred['dia_pred'] == 'Sunday')]\n",
    "\n",
    "values_pred_days = [1,2,3,4,5,6,7]\n",
    "\n",
    "df_pred['dias_pred'] = np.select(conditions_pred_days,values_pred_days)\n",
    "df_pred['dias_pred'].values.astype(np.int64)\n",
    "\n",
    "df_pred[['fecha','hora','timestamp_pred','dia_pred','dias_pred','id','estado']]"
   ]
  },
  {
   "cell_type": "code",
   "execution_count": 33,
   "metadata": {
    "scrolled": true
   },
   "outputs": [
    {
     "data": {
      "text/html": [
       "<div>\n",
       "<style scoped>\n",
       "    .dataframe tbody tr th:only-of-type {\n",
       "        vertical-align: middle;\n",
       "    }\n",
       "\n",
       "    .dataframe tbody tr th {\n",
       "        vertical-align: top;\n",
       "    }\n",
       "\n",
       "    .dataframe thead th {\n",
       "        text-align: right;\n",
       "    }\n",
       "</style>\n",
       "<table border=\"1\" class=\"dataframe\">\n",
       "  <thead>\n",
       "    <tr style=\"text-align: right;\">\n",
       "      <th></th>\n",
       "      <th>timestamp_pred</th>\n",
       "      <th>dias_pred</th>\n",
       "      <th>id</th>\n",
       "      <th>estado</th>\n",
       "    </tr>\n",
       "  </thead>\n",
       "  <tbody>\n",
       "    <tr>\n",
       "      <th>0</th>\n",
       "      <td>1609460101</td>\n",
       "      <td>5</td>\n",
       "      <td>10102</td>\n",
       "      <td>37</td>\n",
       "    </tr>\n",
       "    <tr>\n",
       "      <th>1</th>\n",
       "      <td>1609460101</td>\n",
       "      <td>5</td>\n",
       "      <td>10104</td>\n",
       "      <td>33</td>\n",
       "    </tr>\n",
       "    <tr>\n",
       "      <th>2</th>\n",
       "      <td>1609460101</td>\n",
       "      <td>5</td>\n",
       "      <td>10124</td>\n",
       "      <td>139</td>\n",
       "    </tr>\n",
       "    <tr>\n",
       "      <th>3</th>\n",
       "      <td>1609460101</td>\n",
       "      <td>5</td>\n",
       "      <td>10127</td>\n",
       "      <td>187</td>\n",
       "    </tr>\n",
       "    <tr>\n",
       "      <th>4</th>\n",
       "      <td>1609460101</td>\n",
       "      <td>5</td>\n",
       "      <td>10122</td>\n",
       "      <td>218</td>\n",
       "    </tr>\n",
       "    <tr>\n",
       "      <th>5</th>\n",
       "      <td>1609460101</td>\n",
       "      <td>5</td>\n",
       "      <td>1013</td>\n",
       "      <td>40</td>\n",
       "    </tr>\n",
       "    <tr>\n",
       "      <th>6</th>\n",
       "      <td>1609460101</td>\n",
       "      <td>5</td>\n",
       "      <td>10130</td>\n",
       "      <td>55</td>\n",
       "    </tr>\n",
       "    <tr>\n",
       "      <th>7</th>\n",
       "      <td>1609460101</td>\n",
       "      <td>5</td>\n",
       "      <td>10131</td>\n",
       "      <td>16</td>\n",
       "    </tr>\n",
       "    <tr>\n",
       "      <th>8</th>\n",
       "      <td>1609460101</td>\n",
       "      <td>5</td>\n",
       "      <td>10132</td>\n",
       "      <td>18</td>\n",
       "    </tr>\n",
       "    <tr>\n",
       "      <th>9</th>\n",
       "      <td>1609460101</td>\n",
       "      <td>5</td>\n",
       "      <td>10133</td>\n",
       "      <td>49</td>\n",
       "    </tr>\n",
       "  </tbody>\n",
       "</table>\n",
       "</div>"
      ],
      "text/plain": [
       "   timestamp_pred  dias_pred     id  estado\n",
       "0      1609460101          5  10102      37\n",
       "1      1609460101          5  10104      33\n",
       "2      1609460101          5  10124     139\n",
       "3      1609460101          5  10127     187\n",
       "4      1609460101          5  10122     218\n",
       "5      1609460101          5   1013      40\n",
       "6      1609460101          5  10130      55\n",
       "7      1609460101          5  10131      16\n",
       "8      1609460101          5  10132      18\n",
       "9      1609460101          5  10133      49"
      ]
     },
     "execution_count": 33,
     "metadata": {},
     "output_type": "execute_result"
    }
   ],
   "source": [
    "df_pred[['timestamp_pred','dias_pred','id','estado']].head(10)"
   ]
  },
  {
   "cell_type": "code",
   "execution_count": 31,
   "metadata": {},
   "outputs": [
    {
     "data": {
      "text/plain": [
       "timestamp_pred    int64\n",
       "dias_pred         int64\n",
       "id                int64\n",
       "estado            int64\n",
       "dtype: object"
      ]
     },
     "execution_count": 31,
     "metadata": {},
     "output_type": "execute_result"
    }
   ],
   "source": [
    "df_pred[['timestamp_pred','dias_pred','id','estado']].dtypes"
   ]
  },
  {
   "cell_type": "code",
   "execution_count": 34,
   "metadata": {},
   "outputs": [
    {
     "name": "stdout",
     "output_type": "stream",
     "text": [
      "Archivo Creado Correctamente\n"
     ]
    }
   ],
   "source": [
    "#Guardamos los datos filtrados anteriormente en un csv\n",
    "pred_data = 'pred_data.csv'\n",
    "df_pred_selection = df_pred[['timestamp_pred','dias_pred','id','estado']]\n",
    "try:\n",
    "    df_pred_selection.to_csv(pred_data,sep=';', index=False, header = True)\n",
    "    print('Archivo Creado Correctamente')\n",
    "except EmptyDataError as ex:\n",
    "    print('Datos Vacíos: \\n',ex)\n",
    "except ParserError as ex:\n",
    "    print('Error Parseo Archivo: \\n',ex)\n",
    "except Exception as ex:\n",
    "    print('Archivo Creado con Errores: \\n',ex)"
   ]
  },
  {
   "cell_type": "markdown",
   "metadata": {},
   "source": [
    "**1.- Logistic Regression**"
   ]
  },
  {
   "cell_type": "code",
   "execution_count": 14,
   "metadata": {},
   "outputs": [],
   "source": [
    "from sklearn.linear_model import LogisticRegression"
   ]
  },
  {
   "cell_type": "code",
   "execution_count": 15,
   "metadata": {},
   "outputs": [
    {
     "data": {
      "text/html": [
       "<div>\n",
       "<style scoped>\n",
       "    .dataframe tbody tr th:only-of-type {\n",
       "        vertical-align: middle;\n",
       "    }\n",
       "\n",
       "    .dataframe tbody tr th {\n",
       "        vertical-align: top;\n",
       "    }\n",
       "\n",
       "    .dataframe thead th {\n",
       "        text-align: right;\n",
       "    }\n",
       "</style>\n",
       "<table border=\"1\" class=\"dataframe\">\n",
       "  <thead>\n",
       "    <tr style=\"text-align: right;\">\n",
       "      <th></th>\n",
       "      <th>timestamp</th>\n",
       "      <th>dias</th>\n",
       "      <th>id</th>\n",
       "      <th>tipo_estado</th>\n",
       "      <th>estado</th>\n",
       "    </tr>\n",
       "  </thead>\n",
       "  <tbody>\n",
       "    <tr>\n",
       "      <th>0</th>\n",
       "      <td>1420071301</td>\n",
       "      <td>4</td>\n",
       "      <td>101</td>\n",
       "      <td>1</td>\n",
       "      <td>140</td>\n",
       "    </tr>\n",
       "    <tr>\n",
       "      <th>1</th>\n",
       "      <td>1420071301</td>\n",
       "      <td>4</td>\n",
       "      <td>103</td>\n",
       "      <td>1</td>\n",
       "      <td>35</td>\n",
       "    </tr>\n",
       "    <tr>\n",
       "      <th>2</th>\n",
       "      <td>1420071301</td>\n",
       "      <td>4</td>\n",
       "      <td>105</td>\n",
       "      <td>1</td>\n",
       "      <td>173</td>\n",
       "    </tr>\n",
       "    <tr>\n",
       "      <th>3</th>\n",
       "      <td>1420071301</td>\n",
       "      <td>4</td>\n",
       "      <td>107</td>\n",
       "      <td>1</td>\n",
       "      <td>120</td>\n",
       "    </tr>\n",
       "    <tr>\n",
       "      <th>4</th>\n",
       "      <td>1420071301</td>\n",
       "      <td>4</td>\n",
       "      <td>108</td>\n",
       "      <td>1</td>\n",
       "      <td>143</td>\n",
       "    </tr>\n",
       "  </tbody>\n",
       "</table>\n",
       "</div>"
      ],
      "text/plain": [
       "    timestamp  dias   id  tipo_estado  estado\n",
       "0  1420071301     4  101            1     140\n",
       "1  1420071301     4  103            1      35\n",
       "2  1420071301     4  105            1     173\n",
       "3  1420071301     4  107            1     120\n",
       "4  1420071301     4  108            1     143"
      ]
     },
     "execution_count": 15,
     "metadata": {},
     "output_type": "execute_result"
    }
   ],
   "source": [
    "dataLR_section = dataML_section_LR.copy()\n",
    "dataLR_section.head(5)"
   ]
  },
  {
   "cell_type": "code",
   "execution_count": 16,
   "metadata": {},
   "outputs": [
    {
     "data": {
      "text/html": [
       "<div>\n",
       "<style scoped>\n",
       "    .dataframe tbody tr th:only-of-type {\n",
       "        vertical-align: middle;\n",
       "    }\n",
       "\n",
       "    .dataframe tbody tr th {\n",
       "        vertical-align: top;\n",
       "    }\n",
       "\n",
       "    .dataframe thead th {\n",
       "        text-align: right;\n",
       "    }\n",
       "</style>\n",
       "<table border=\"1\" class=\"dataframe\">\n",
       "  <thead>\n",
       "    <tr style=\"text-align: right;\">\n",
       "      <th></th>\n",
       "      <th>count</th>\n",
       "      <th>mean</th>\n",
       "      <th>std</th>\n",
       "      <th>min</th>\n",
       "      <th>25%</th>\n",
       "      <th>50%</th>\n",
       "      <th>75%</th>\n",
       "      <th>max</th>\n",
       "    </tr>\n",
       "  </thead>\n",
       "  <tbody>\n",
       "    <tr>\n",
       "      <th>estado</th>\n",
       "      <td>11729306.0</td>\n",
       "      <td>809.073745</td>\n",
       "      <td>1093.543012</td>\n",
       "      <td>1.0</td>\n",
       "      <td>98.0</td>\n",
       "      <td>345.0</td>\n",
       "      <td>1059.0</td>\n",
       "      <td>17982.0</td>\n",
       "    </tr>\n",
       "  </tbody>\n",
       "</table>\n",
       "</div>"
      ],
      "text/plain": [
       "             count        mean          std  min   25%    50%     75%      max\n",
       "estado  11729306.0  809.073745  1093.543012  1.0  98.0  345.0  1059.0  17982.0"
      ]
     },
     "execution_count": 16,
     "metadata": {},
     "output_type": "execute_result"
    }
   ],
   "source": [
    "dataLR_section['estado'].describe().to_frame().T"
   ]
  },
  {
   "cell_type": "code",
   "execution_count": 17,
   "metadata": {},
   "outputs": [
    {
     "data": {
      "text/plain": [
       "timestamp      11729306\n",
       "dias           11729306\n",
       "id             11729306\n",
       "tipo_estado    11729306\n",
       "estado         11729306\n",
       "dtype: int64"
      ]
     },
     "execution_count": 17,
     "metadata": {},
     "output_type": "execute_result"
    }
   ],
   "source": [
    "dataLR_section.count()"
   ]
  },
  {
   "cell_type": "code",
   "execution_count": 18,
   "metadata": {},
   "outputs": [
    {
     "data": {
      "text/plain": [
       "timestamp      int64\n",
       "dias           int64\n",
       "id             int64\n",
       "tipo_estado    int64\n",
       "estado         int64\n",
       "dtype: object"
      ]
     },
     "execution_count": 18,
     "metadata": {},
     "output_type": "execute_result"
    }
   ],
   "source": [
    "dataLR_section.dtypes"
   ]
  },
  {
   "cell_type": "code",
   "execution_count": 19,
   "metadata": {},
   "outputs": [],
   "source": [
    "X = dataLR_section[['timestamp','dias','id','estado']] # Features\n",
    "y = dataLR_section['tipo_estado'] # Target variable"
   ]
  },
  {
   "cell_type": "code",
   "execution_count": 20,
   "metadata": {},
   "outputs": [],
   "source": [
    "#División Train y Test\n",
    "X_train,X_test,y_train,y_test=train_test_split(X,y,test_size=0.25)"
   ]
  },
  {
   "cell_type": "code",
   "execution_count": 21,
   "metadata": {},
   "outputs": [
    {
     "data": {
      "text/plain": [
       "LogisticRegression()"
      ]
     },
     "execution_count": 21,
     "metadata": {},
     "output_type": "execute_result"
    }
   ],
   "source": [
    "# instantiate the model (using the default parameters)\n",
    "logistic = LogisticRegression()\n",
    "\n",
    "# fit the model with data\n",
    "logistic.fit(X_train,y_train)"
   ]
  },
  {
   "cell_type": "code",
   "execution_count": 22,
   "metadata": {},
   "outputs": [
    {
     "name": "stdout",
     "output_type": "stream",
     "text": [
      "Accuracy:  58.572\n"
     ]
    }
   ],
   "source": [
    "score = logistic.score(X_test, y_test)\n",
    "print('Accuracy: ',round(score*100,3))"
   ]
  },
  {
   "cell_type": "code",
   "execution_count": 23,
   "metadata": {
    "scrolled": true
   },
   "outputs": [
    {
     "name": "stdout",
     "output_type": "stream",
     "text": [
      "[1 1 1 ... 1 1 1]\n"
     ]
    }
   ],
   "source": [
    "# predictions\n",
    "y_pred=logistic.predict(X_test)\n",
    "print(y_pred)"
   ]
  },
  {
   "cell_type": "code",
   "execution_count": 24,
   "metadata": {},
   "outputs": [
    {
     "data": {
      "text/plain": [
       "array([[1717529,       0,       0,       0],\n",
       "       [ 676446,       0,       0,       0],\n",
       "       [ 363071,       0,       0,       0],\n",
       "       [ 175281,       0,       0,       0]])"
      ]
     },
     "execution_count": 24,
     "metadata": {},
     "output_type": "execute_result"
    }
   ],
   "source": [
    "cnf_matrix = metrics.confusion_matrix(y_test, y_pred)\n",
    "cnf_matrix"
   ]
  },
  {
   "cell_type": "code",
   "execution_count": 25,
   "metadata": {},
   "outputs": [
    {
     "name": "stderr",
     "output_type": "stream",
     "text": [
      "/usr/local/lib/python3.7/site-packages/sklearn/metrics/_classification.py:1221: UndefinedMetricWarning: Precision and F-score are ill-defined and being set to 0.0 in labels with no predicted samples. Use `zero_division` parameter to control this behavior.\n",
      "  _warn_prf(average, modifier, msg_start, len(result))\n"
     ]
    },
    {
     "name": "stdout",
     "output_type": "stream",
     "text": [
      "              precision    recall  f1-score   support\n",
      "\n",
      "           1       0.59      1.00      0.74   1717529\n",
      "           2       0.00      0.00      0.00    676446\n",
      "           3       0.00      0.00      0.00    363071\n",
      "           4       0.00      0.00      0.00    175281\n",
      "\n",
      "    accuracy                           0.59   2932327\n",
      "   macro avg       0.15      0.25      0.18   2932327\n",
      "weighted avg       0.34      0.59      0.43   2932327\n",
      "\n"
     ]
    }
   ],
   "source": [
    "print(classification_report(y_test,y_pred))"
   ]
  },
  {
   "cell_type": "markdown",
   "metadata": {},
   "source": [
    "**2.- Linear Regression**"
   ]
  },
  {
   "cell_type": "code",
   "execution_count": 66,
   "metadata": {},
   "outputs": [],
   "source": [
    "from sklearn.linear_model import LinearRegression"
   ]
  },
  {
   "cell_type": "code",
   "execution_count": 67,
   "metadata": {},
   "outputs": [
    {
     "data": {
      "text/html": [
       "<div>\n",
       "<style scoped>\n",
       "    .dataframe tbody tr th:only-of-type {\n",
       "        vertical-align: middle;\n",
       "    }\n",
       "\n",
       "    .dataframe tbody tr th {\n",
       "        vertical-align: top;\n",
       "    }\n",
       "\n",
       "    .dataframe thead th {\n",
       "        text-align: right;\n",
       "    }\n",
       "</style>\n",
       "<table border=\"1\" class=\"dataframe\">\n",
       "  <thead>\n",
       "    <tr style=\"text-align: right;\">\n",
       "      <th></th>\n",
       "      <th>timestamp</th>\n",
       "      <th>dias</th>\n",
       "      <th>id</th>\n",
       "      <th>estado</th>\n",
       "      <th>tipo_estado</th>\n",
       "    </tr>\n",
       "  </thead>\n",
       "  <tbody>\n",
       "    <tr>\n",
       "      <th>0</th>\n",
       "      <td>1420071301</td>\n",
       "      <td>4</td>\n",
       "      <td>101</td>\n",
       "      <td>140</td>\n",
       "      <td>1</td>\n",
       "    </tr>\n",
       "    <tr>\n",
       "      <th>1</th>\n",
       "      <td>1420071301</td>\n",
       "      <td>4</td>\n",
       "      <td>103</td>\n",
       "      <td>35</td>\n",
       "      <td>1</td>\n",
       "    </tr>\n",
       "    <tr>\n",
       "      <th>2</th>\n",
       "      <td>1420071301</td>\n",
       "      <td>4</td>\n",
       "      <td>105</td>\n",
       "      <td>173</td>\n",
       "      <td>1</td>\n",
       "    </tr>\n",
       "    <tr>\n",
       "      <th>3</th>\n",
       "      <td>1420071301</td>\n",
       "      <td>4</td>\n",
       "      <td>107</td>\n",
       "      <td>120</td>\n",
       "      <td>1</td>\n",
       "    </tr>\n",
       "    <tr>\n",
       "      <th>4</th>\n",
       "      <td>1420071301</td>\n",
       "      <td>4</td>\n",
       "      <td>108</td>\n",
       "      <td>143</td>\n",
       "      <td>1</td>\n",
       "    </tr>\n",
       "  </tbody>\n",
       "</table>\n",
       "</div>"
      ],
      "text/plain": [
       "    timestamp  dias   id  estado  tipo_estado\n",
       "0  1420071301     4  101     140            1\n",
       "1  1420071301     4  103      35            1\n",
       "2  1420071301     4  105     173            1\n",
       "3  1420071301     4  107     120            1\n",
       "4  1420071301     4  108     143            1"
      ]
     },
     "execution_count": 67,
     "metadata": {},
     "output_type": "execute_result"
    }
   ],
   "source": [
    "dataLiR_section = dataLR_section[['timestamp','dias','id','estado','tipo_estado']].copy()\n",
    "dataLiR_section.head(5)"
   ]
  },
  {
   "cell_type": "code",
   "execution_count": 68,
   "metadata": {},
   "outputs": [
    {
     "data": {
      "text/plain": [
       "timestamp      11729306\n",
       "dias           11729306\n",
       "id             11729306\n",
       "estado         11729306\n",
       "tipo_estado    11729306\n",
       "dtype: int64"
      ]
     },
     "execution_count": 68,
     "metadata": {},
     "output_type": "execute_result"
    }
   ],
   "source": [
    "dataLiR_section.count()"
   ]
  },
  {
   "cell_type": "code",
   "execution_count": 69,
   "metadata": {},
   "outputs": [],
   "source": [
    "X = dataLiR_section[['timestamp','dias','id','estado']] # Features \n",
    "y = dataLiR_section['tipo_estado'] # Target variable"
   ]
  },
  {
   "cell_type": "code",
   "execution_count": 70,
   "metadata": {},
   "outputs": [
    {
     "data": {
      "image/png": "[encoded data removed]",
      "text/plain": [
       "<Figure size 432x288 with 2 Axes>"
      ]
     },
     "metadata": {
      "needs_background": "light"
     },
     "output_type": "display_data"
    }
   ],
   "source": [
    "#Correlación\n",
    "sns.heatmap(data=dataLiR_section.astype({'estado': 'int64'}).corr(),annot=True, cmap='coolwarm');"
   ]
  },
  {
   "cell_type": "code",
   "execution_count": 71,
   "metadata": {},
   "outputs": [],
   "source": [
    "#División Train y Test\n",
    "X_train,X_test,y_train,y_test=train_test_split(X,y,test_size=0.25,random_state=0)"
   ]
  },
  {
   "cell_type": "code",
   "execution_count": 72,
   "metadata": {},
   "outputs": [],
   "source": [
    "#model for Linear Regression\n",
    "linear = LinearRegression()  \n",
    "modelo_LiR = linear.fit(X_train, y_train) #training the algorithm"
   ]
  },
  {
   "cell_type": "code",
   "execution_count": 73,
   "metadata": {},
   "outputs": [
    {
     "name": "stdout",
     "output_type": "stream",
     "text": [
      "Accuracy:  86.743\n"
     ]
    }
   ],
   "source": [
    "#Precisión del Modelo con R2 valores entre 0 y 1. Más cerca de 1 mejor se adapta el modelo\n",
    "print(\"Accuracy: \", round(linear.score(X_test, y_test)*100,3))"
   ]
  },
  {
   "cell_type": "code",
   "execution_count": 74,
   "metadata": {},
   "outputs": [],
   "source": [
    "#Predictions\n",
    "y_pred = modelo_LiR.predict(X_test) "
   ]
  },
  {
   "cell_type": "code",
   "execution_count": 75,
   "metadata": {},
   "outputs": [
    {
     "data": {
      "text/html": [
       "<div>\n",
       "<style scoped>\n",
       "    .dataframe tbody tr th:only-of-type {\n",
       "        vertical-align: middle;\n",
       "    }\n",
       "\n",
       "    .dataframe tbody tr th {\n",
       "        vertical-align: top;\n",
       "    }\n",
       "\n",
       "    .dataframe thead th {\n",
       "        text-align: right;\n",
       "    }\n",
       "</style>\n",
       "<table border=\"1\" class=\"dataframe\">\n",
       "  <thead>\n",
       "    <tr style=\"text-align: right;\">\n",
       "      <th></th>\n",
       "      <th>Actual</th>\n",
       "      <th>Predicción</th>\n",
       "    </tr>\n",
       "  </thead>\n",
       "  <tbody>\n",
       "    <tr>\n",
       "      <th>5140000</th>\n",
       "      <td>1</td>\n",
       "      <td>1</td>\n",
       "    </tr>\n",
       "    <tr>\n",
       "      <th>773111</th>\n",
       "      <td>2</td>\n",
       "      <td>1</td>\n",
       "    </tr>\n",
       "    <tr>\n",
       "      <th>8522900</th>\n",
       "      <td>1</td>\n",
       "      <td>1</td>\n",
       "    </tr>\n",
       "    <tr>\n",
       "      <th>7150502</th>\n",
       "      <td>1</td>\n",
       "      <td>1</td>\n",
       "    </tr>\n",
       "    <tr>\n",
       "      <th>993326</th>\n",
       "      <td>1</td>\n",
       "      <td>1</td>\n",
       "    </tr>\n",
       "  </tbody>\n",
       "</table>\n",
       "</div>"
      ],
      "text/plain": [
       "         Actual  Predicción\n",
       "5140000       1           1\n",
       "773111        2           1\n",
       "8522900       1           1\n",
       "7150502       1           1\n",
       "993326        1           1"
      ]
     },
     "execution_count": 75,
     "metadata": {},
     "output_type": "execute_result"
    }
   ],
   "source": [
    "df_predLiR_section = pd.DataFrame({'Actual': y_test, 'Predicción': y_pred.astype(int)})\n",
    "df_predLiR_section.head(5)"
   ]
  },
  {
   "cell_type": "code",
   "execution_count": 76,
   "metadata": {},
   "outputs": [
    {
     "name": "stdout",
     "output_type": "stream",
     "text": [
      "RMSE:  0.3320872447171154\n"
     ]
    }
   ],
   "source": [
    "# RMSE\n",
    "print('RMSE: ',np.sqrt(metrics.mean_squared_error(y_test, y_pred)))"
   ]
  },
  {
   "cell_type": "markdown",
   "metadata": {},
   "source": [
    "**3.- k-Nearest Neighbors**"
   ]
  },
  {
   "cell_type": "code",
   "execution_count": 26,
   "metadata": {},
   "outputs": [],
   "source": [
    "from sklearn.neighbors import KNeighborsClassifier"
   ]
  },
  {
   "cell_type": "code",
   "execution_count": 28,
   "metadata": {},
   "outputs": [
    {
     "data": {
      "text/html": [
       "<div>\n",
       "<style scoped>\n",
       "    .dataframe tbody tr th:only-of-type {\n",
       "        vertical-align: middle;\n",
       "    }\n",
       "\n",
       "    .dataframe tbody tr th {\n",
       "        vertical-align: top;\n",
       "    }\n",
       "\n",
       "    .dataframe thead th {\n",
       "        text-align: right;\n",
       "    }\n",
       "</style>\n",
       "<table border=\"1\" class=\"dataframe\">\n",
       "  <thead>\n",
       "    <tr style=\"text-align: right;\">\n",
       "      <th></th>\n",
       "      <th>timestamp</th>\n",
       "      <th>dias</th>\n",
       "      <th>id</th>\n",
       "      <th>estado</th>\n",
       "      <th>tipo_estado</th>\n",
       "    </tr>\n",
       "  </thead>\n",
       "  <tbody>\n",
       "    <tr>\n",
       "      <th>0</th>\n",
       "      <td>1420071301</td>\n",
       "      <td>4</td>\n",
       "      <td>101</td>\n",
       "      <td>140</td>\n",
       "      <td>1</td>\n",
       "    </tr>\n",
       "    <tr>\n",
       "      <th>1</th>\n",
       "      <td>1420071301</td>\n",
       "      <td>4</td>\n",
       "      <td>103</td>\n",
       "      <td>35</td>\n",
       "      <td>1</td>\n",
       "    </tr>\n",
       "    <tr>\n",
       "      <th>2</th>\n",
       "      <td>1420071301</td>\n",
       "      <td>4</td>\n",
       "      <td>105</td>\n",
       "      <td>173</td>\n",
       "      <td>1</td>\n",
       "    </tr>\n",
       "    <tr>\n",
       "      <th>3</th>\n",
       "      <td>1420071301</td>\n",
       "      <td>4</td>\n",
       "      <td>107</td>\n",
       "      <td>120</td>\n",
       "      <td>1</td>\n",
       "    </tr>\n",
       "    <tr>\n",
       "      <th>4</th>\n",
       "      <td>1420071301</td>\n",
       "      <td>4</td>\n",
       "      <td>108</td>\n",
       "      <td>143</td>\n",
       "      <td>1</td>\n",
       "    </tr>\n",
       "  </tbody>\n",
       "</table>\n",
       "</div>"
      ],
      "text/plain": [
       "    timestamp  dias   id  estado  tipo_estado\n",
       "0  1420071301     4  101     140            1\n",
       "1  1420071301     4  103      35            1\n",
       "2  1420071301     4  105     173            1\n",
       "3  1420071301     4  107     120            1\n",
       "4  1420071301     4  108     143            1"
      ]
     },
     "execution_count": 28,
     "metadata": {},
     "output_type": "execute_result"
    }
   ],
   "source": [
    "dataKNN_section = dataLR_section[['timestamp','dias','id','estado','tipo_estado']].copy()\n",
    "dataKNN_section.head(5)"
   ]
  },
  {
   "cell_type": "code",
   "execution_count": 29,
   "metadata": {},
   "outputs": [
    {
     "data": {
      "text/plain": [
       "timestamp      11729306\n",
       "dias           11729306\n",
       "id             11729306\n",
       "estado         11729306\n",
       "tipo_estado    11729306\n",
       "dtype: int64"
      ]
     },
     "execution_count": 29,
     "metadata": {},
     "output_type": "execute_result"
    }
   ],
   "source": [
    "dataKNN_section.count()"
   ]
  },
  {
   "cell_type": "code",
   "execution_count": 31,
   "metadata": {},
   "outputs": [],
   "source": [
    "X = dataKNN_section[['timestamp','dias','id','estado']] # Features \n",
    "y = dataKNN_section['tipo_estado'] # Target variable"
   ]
  },
  {
   "cell_type": "code",
   "execution_count": 32,
   "metadata": {},
   "outputs": [],
   "source": [
    "X_train, X_test, y_train, y_test = train_test_split(X, y,test_size=0.25, random_state=0)"
   ]
  },
  {
   "cell_type": "code",
   "execution_count": 33,
   "metadata": {},
   "outputs": [
    {
     "data": {
      "text/plain": [
       "KNeighborsClassifier(n_neighbors=3)"
      ]
     },
     "execution_count": 33,
     "metadata": {},
     "output_type": "execute_result"
    }
   ],
   "source": [
    "#Create KNN Classifier\n",
    "knn = KNeighborsClassifier(n_neighbors=3)\n",
    "\n",
    "#Train the model using the training sets\n",
    "knn.fit(X_train, y_train)"
   ]
  },
  {
   "cell_type": "code",
   "execution_count": 34,
   "metadata": {},
   "outputs": [],
   "source": [
    "#Predict the response for test dataset\n",
    "y_pred = knn.predict(X_test)"
   ]
  },
  {
   "cell_type": "code",
   "execution_count": 35,
   "metadata": {},
   "outputs": [
    {
     "data": {
      "text/html": [
       "<div>\n",
       "<style scoped>\n",
       "    .dataframe tbody tr th:only-of-type {\n",
       "        vertical-align: middle;\n",
       "    }\n",
       "\n",
       "    .dataframe tbody tr th {\n",
       "        vertical-align: top;\n",
       "    }\n",
       "\n",
       "    .dataframe thead th {\n",
       "        text-align: right;\n",
       "    }\n",
       "</style>\n",
       "<table border=\"1\" class=\"dataframe\">\n",
       "  <thead>\n",
       "    <tr style=\"text-align: right;\">\n",
       "      <th></th>\n",
       "      <th>Actual</th>\n",
       "      <th>Predicción</th>\n",
       "    </tr>\n",
       "  </thead>\n",
       "  <tbody>\n",
       "    <tr>\n",
       "      <th>5140000</th>\n",
       "      <td>1</td>\n",
       "      <td>1</td>\n",
       "    </tr>\n",
       "    <tr>\n",
       "      <th>773111</th>\n",
       "      <td>2</td>\n",
       "      <td>1</td>\n",
       "    </tr>\n",
       "    <tr>\n",
       "      <th>8522900</th>\n",
       "      <td>1</td>\n",
       "      <td>1</td>\n",
       "    </tr>\n",
       "    <tr>\n",
       "      <th>7150502</th>\n",
       "      <td>1</td>\n",
       "      <td>1</td>\n",
       "    </tr>\n",
       "    <tr>\n",
       "      <th>993326</th>\n",
       "      <td>1</td>\n",
       "      <td>1</td>\n",
       "    </tr>\n",
       "  </tbody>\n",
       "</table>\n",
       "</div>"
      ],
      "text/plain": [
       "         Actual  Predicción\n",
       "5140000       1           1\n",
       "773111        2           1\n",
       "8522900       1           1\n",
       "7150502       1           1\n",
       "993326        1           1"
      ]
     },
     "execution_count": 35,
     "metadata": {},
     "output_type": "execute_result"
    }
   ],
   "source": [
    "df_predKNN_section = pd.DataFrame({'Actual': y_test, 'Predicción': y_pred})\n",
    "df_predKNN_section.head(5)"
   ]
  },
  {
   "cell_type": "code",
   "execution_count": 36,
   "metadata": {},
   "outputs": [
    {
     "name": "stdout",
     "output_type": "stream",
     "text": [
      "Accuracy: 97.543\n"
     ]
    }
   ],
   "source": [
    "print(\"Accuracy:\",round(metrics.accuracy_score(y_test, y_pred)*100,3))"
   ]
  },
  {
   "cell_type": "markdown",
   "metadata": {},
   "source": [
    "**4.- Random Forest**"
   ]
  },
  {
   "cell_type": "code",
   "execution_count": 86,
   "metadata": {},
   "outputs": [],
   "source": [
    "from sklearn.ensemble import RandomForestClassifier"
   ]
  },
  {
   "cell_type": "code",
   "execution_count": 87,
   "metadata": {},
   "outputs": [
    {
     "data": {
      "text/html": [
       "<div>\n",
       "<style scoped>\n",
       "    .dataframe tbody tr th:only-of-type {\n",
       "        vertical-align: middle;\n",
       "    }\n",
       "\n",
       "    .dataframe tbody tr th {\n",
       "        vertical-align: top;\n",
       "    }\n",
       "\n",
       "    .dataframe thead th {\n",
       "        text-align: right;\n",
       "    }\n",
       "</style>\n",
       "<table border=\"1\" class=\"dataframe\">\n",
       "  <thead>\n",
       "    <tr style=\"text-align: right;\">\n",
       "      <th></th>\n",
       "      <th>timestamp</th>\n",
       "      <th>dias</th>\n",
       "      <th>id</th>\n",
       "      <th>estado</th>\n",
       "      <th>tipo_estado</th>\n",
       "    </tr>\n",
       "  </thead>\n",
       "  <tbody>\n",
       "    <tr>\n",
       "      <th>0</th>\n",
       "      <td>1420071301</td>\n",
       "      <td>4</td>\n",
       "      <td>101</td>\n",
       "      <td>140</td>\n",
       "      <td>1</td>\n",
       "    </tr>\n",
       "    <tr>\n",
       "      <th>1</th>\n",
       "      <td>1420071301</td>\n",
       "      <td>4</td>\n",
       "      <td>103</td>\n",
       "      <td>35</td>\n",
       "      <td>1</td>\n",
       "    </tr>\n",
       "    <tr>\n",
       "      <th>2</th>\n",
       "      <td>1420071301</td>\n",
       "      <td>4</td>\n",
       "      <td>105</td>\n",
       "      <td>173</td>\n",
       "      <td>1</td>\n",
       "    </tr>\n",
       "    <tr>\n",
       "      <th>3</th>\n",
       "      <td>1420071301</td>\n",
       "      <td>4</td>\n",
       "      <td>107</td>\n",
       "      <td>120</td>\n",
       "      <td>1</td>\n",
       "    </tr>\n",
       "    <tr>\n",
       "      <th>4</th>\n",
       "      <td>1420071301</td>\n",
       "      <td>4</td>\n",
       "      <td>108</td>\n",
       "      <td>143</td>\n",
       "      <td>1</td>\n",
       "    </tr>\n",
       "  </tbody>\n",
       "</table>\n",
       "</div>"
      ],
      "text/plain": [
       "    timestamp  dias   id  estado  tipo_estado\n",
       "0  1420071301     4  101     140            1\n",
       "1  1420071301     4  103      35            1\n",
       "2  1420071301     4  105     173            1\n",
       "3  1420071301     4  107     120            1\n",
       "4  1420071301     4  108     143            1"
      ]
     },
     "execution_count": 87,
     "metadata": {},
     "output_type": "execute_result"
    }
   ],
   "source": [
    "dataRF_section = dataLR_section[['timestamp','dias','id','estado','tipo_estado']].copy()\n",
    "dataRF_section.head(5)"
   ]
  },
  {
   "cell_type": "code",
   "execution_count": 88,
   "metadata": {},
   "outputs": [],
   "source": [
    "X = dataRF_section[['timestamp','dias','id','estado']] # Features\n",
    "y = dataRF_section['tipo_estado'] # Target variable"
   ]
  },
  {
   "cell_type": "code",
   "execution_count": 89,
   "metadata": {},
   "outputs": [],
   "source": [
    "X_train, X_test, y_train, y_test = train_test_split(X, y,test_size=0.25, random_state=0)"
   ]
  },
  {
   "cell_type": "code",
   "execution_count": 90,
   "metadata": {},
   "outputs": [
    {
     "name": "stdout",
     "output_type": "stream",
     "text": [
      "Start:  13:45:18\n"
     ]
    }
   ],
   "source": [
    "current_init = datetime.datetime.now()\n",
    "print ('Start: ',current_init.strftime(\"%H:%M:%S\"))"
   ]
  },
  {
   "cell_type": "code",
   "execution_count": 91,
   "metadata": {},
   "outputs": [
    {
     "name": "stderr",
     "output_type": "stream",
     "text": [
      "[Parallel(n_jobs=1)]: Using backend SequentialBackend with 1 concurrent workers.\n"
     ]
    },
    {
     "name": "stdout",
     "output_type": "stream",
     "text": [
      "building tree 1 of 100\n"
     ]
    },
    {
     "name": "stderr",
     "output_type": "stream",
     "text": [
      "[Parallel(n_jobs=1)]: Done   1 out of   1 | elapsed:    9.2s remaining:    0.0s\n"
     ]
    },
    {
     "name": "stdout",
     "output_type": "stream",
     "text": [
      "building tree 2 of 100\n",
      "building tree 3 of 100\n",
      "building tree 4 of 100\n",
      "building tree 5 of 100\n",
      "building tree 6 of 100\n",
      "building tree 7 of 100\n",
      "building tree 8 of 100\n",
      "building tree 9 of 100\n",
      "building tree 10 of 100\n",
      "building tree 11 of 100\n",
      "building tree 12 of 100\n",
      "building tree 13 of 100\n",
      "building tree 14 of 100\n",
      "building tree 15 of 100\n",
      "building tree 16 of 100\n",
      "building tree 17 of 100\n",
      "building tree 18 of 100\n",
      "building tree 19 of 100\n",
      "building tree 20 of 100\n",
      "building tree 21 of 100\n",
      "building tree 22 of 100\n",
      "building tree 23 of 100\n",
      "building tree 24 of 100\n",
      "building tree 25 of 100\n",
      "building tree 26 of 100\n",
      "building tree 27 of 100\n",
      "building tree 28 of 100\n",
      "building tree 29 of 100\n",
      "building tree 30 of 100\n",
      "building tree 31 of 100\n",
      "building tree 32 of 100\n",
      "building tree 33 of 100\n",
      "building tree 34 of 100\n",
      "building tree 35 of 100\n",
      "building tree 36 of 100\n",
      "building tree 37 of 100\n",
      "building tree 38 of 100\n",
      "building tree 39 of 100\n",
      "building tree 40 of 100\n",
      "building tree 41 of 100\n",
      "building tree 42 of 100\n",
      "building tree 43 of 100\n",
      "building tree 44 of 100\n",
      "building tree 45 of 100\n",
      "building tree 46 of 100\n",
      "building tree 47 of 100\n",
      "building tree 48 of 100\n",
      "building tree 49 of 100\n",
      "building tree 50 of 100\n",
      "building tree 51 of 100\n",
      "building tree 52 of 100\n",
      "building tree 53 of 100\n",
      "building tree 54 of 100\n",
      "building tree 55 of 100\n",
      "building tree 56 of 100\n",
      "building tree 57 of 100\n",
      "building tree 58 of 100\n",
      "building tree 59 of 100\n",
      "building tree 60 of 100\n",
      "building tree 61 of 100\n",
      "building tree 62 of 100\n",
      "building tree 63 of 100\n",
      "building tree 64 of 100\n",
      "building tree 65 of 100\n",
      "building tree 66 of 100\n",
      "building tree 67 of 100\n",
      "building tree 68 of 100\n",
      "building tree 69 of 100\n",
      "building tree 70 of 100\n",
      "building tree 71 of 100\n",
      "building tree 72 of 100\n",
      "building tree 73 of 100\n",
      "building tree 74 of 100\n",
      "building tree 75 of 100\n",
      "building tree 76 of 100\n",
      "building tree 77 of 100\n",
      "building tree 78 of 100\n",
      "building tree 79 of 100\n",
      "building tree 80 of 100\n",
      "building tree 81 of 100\n",
      "building tree 82 of 100\n",
      "building tree 83 of 100\n",
      "building tree 84 of 100\n",
      "building tree 85 of 100\n",
      "building tree 86 of 100\n",
      "building tree 87 of 100\n",
      "building tree 88 of 100\n",
      "building tree 89 of 100\n",
      "building tree 90 of 100\n",
      "building tree 91 of 100\n",
      "building tree 92 of 100\n",
      "building tree 93 of 100\n",
      "building tree 94 of 100\n",
      "building tree 95 of 100\n",
      "building tree 96 of 100\n",
      "building tree 97 of 100\n",
      "building tree 98 of 100\n",
      "building tree 99 of 100\n",
      "building tree 100 of 100\n"
     ]
    },
    {
     "name": "stderr",
     "output_type": "stream",
     "text": [
      "[Parallel(n_jobs=1)]: Done 100 out of 100 | elapsed: 12.2min finished\n"
     ]
    },
    {
     "data": {
      "text/plain": [
       "RandomForestClassifier(max_depth=3, max_features='sqrt', verbose=2)"
      ]
     },
     "execution_count": 91,
     "metadata": {},
     "output_type": "execute_result"
    }
   ],
   "source": [
    "# Instantiate model \n",
    "rf = RandomForestClassifier(n_estimators=100,max_depth=3,bootstrap=True,\\\n",
    "                            verbose=2,max_features = 'sqrt')\n",
    "\n",
    "# Train the model on training data\n",
    "rf.fit(X_train, y_train)"
   ]
  },
  {
   "cell_type": "code",
   "execution_count": 92,
   "metadata": {},
   "outputs": [
    {
     "name": "stdout",
     "output_type": "stream",
     "text": [
      "Finish:  13:57:45\n"
     ]
    }
   ],
   "source": [
    "current_end = datetime.datetime.now()\n",
    "print ('Finish: ',current_end.strftime(\"%H:%M:%S\"))"
   ]
  },
  {
   "cell_type": "code",
   "execution_count": 93,
   "metadata": {},
   "outputs": [
    {
     "name": "stderr",
     "output_type": "stream",
     "text": [
      "[Parallel(n_jobs=1)]: Using backend SequentialBackend with 1 concurrent workers.\n",
      "[Parallel(n_jobs=1)]: Done   1 out of   1 | elapsed:    0.2s remaining:    0.0s\n",
      "[Parallel(n_jobs=1)]: Done 100 out of 100 | elapsed:   13.9s finished\n"
     ]
    }
   ],
   "source": [
    "#predictions\n",
    "y_pred=rf.predict(X_test)"
   ]
  },
  {
   "cell_type": "code",
   "execution_count": 94,
   "metadata": {},
   "outputs": [
    {
     "data": {
      "text/html": [
       "<div>\n",
       "<style scoped>\n",
       "    .dataframe tbody tr th:only-of-type {\n",
       "        vertical-align: middle;\n",
       "    }\n",
       "\n",
       "    .dataframe tbody tr th {\n",
       "        vertical-align: top;\n",
       "    }\n",
       "\n",
       "    .dataframe thead th {\n",
       "        text-align: right;\n",
       "    }\n",
       "</style>\n",
       "<table border=\"1\" class=\"dataframe\">\n",
       "  <thead>\n",
       "    <tr style=\"text-align: right;\">\n",
       "      <th></th>\n",
       "      <th>Actual</th>\n",
       "      <th>Predicción</th>\n",
       "    </tr>\n",
       "  </thead>\n",
       "  <tbody>\n",
       "    <tr>\n",
       "      <th>5140000</th>\n",
       "      <td>1</td>\n",
       "      <td>1</td>\n",
       "    </tr>\n",
       "    <tr>\n",
       "      <th>773111</th>\n",
       "      <td>2</td>\n",
       "      <td>2</td>\n",
       "    </tr>\n",
       "    <tr>\n",
       "      <th>8522900</th>\n",
       "      <td>1</td>\n",
       "      <td>1</td>\n",
       "    </tr>\n",
       "    <tr>\n",
       "      <th>7150502</th>\n",
       "      <td>1</td>\n",
       "      <td>1</td>\n",
       "    </tr>\n",
       "    <tr>\n",
       "      <th>993326</th>\n",
       "      <td>1</td>\n",
       "      <td>1</td>\n",
       "    </tr>\n",
       "  </tbody>\n",
       "</table>\n",
       "</div>"
      ],
      "text/plain": [
       "         Actual  Predicción\n",
       "5140000       1           1\n",
       "773111        2           2\n",
       "8522900       1           1\n",
       "7150502       1           1\n",
       "993326        1           1"
      ]
     },
     "execution_count": 94,
     "metadata": {},
     "output_type": "execute_result"
    }
   ],
   "source": [
    "df_predRF_section = pd.DataFrame({'Actual': y_test, 'Predicción': y_pred})\n",
    "df_predRF_section.head(5)"
   ]
  },
  {
   "cell_type": "code",
   "execution_count": 97,
   "metadata": {},
   "outputs": [
    {
     "name": "stdout",
     "output_type": "stream",
     "text": [
      "Accuracy:  94.76\n"
     ]
    }
   ],
   "source": [
    "acc_random = metrics.accuracy_score(y_test, y_pred)*100\n",
    "print('Accuracy: ',round(acc_random,2))"
   ]
  },
  {
   "cell_type": "markdown",
   "metadata": {},
   "source": [
    "**5.- Naive Bayes** "
   ]
  },
  {
   "cell_type": "code",
   "execution_count": 98,
   "metadata": {},
   "outputs": [],
   "source": [
    "#Import Naive Bayes \n",
    "from sklearn.naive_bayes import GaussianNB"
   ]
  },
  {
   "cell_type": "code",
   "execution_count": 99,
   "metadata": {},
   "outputs": [
    {
     "data": {
      "text/html": [
       "<div>\n",
       "<style scoped>\n",
       "    .dataframe tbody tr th:only-of-type {\n",
       "        vertical-align: middle;\n",
       "    }\n",
       "\n",
       "    .dataframe tbody tr th {\n",
       "        vertical-align: top;\n",
       "    }\n",
       "\n",
       "    .dataframe thead th {\n",
       "        text-align: right;\n",
       "    }\n",
       "</style>\n",
       "<table border=\"1\" class=\"dataframe\">\n",
       "  <thead>\n",
       "    <tr style=\"text-align: right;\">\n",
       "      <th></th>\n",
       "      <th>timestamp</th>\n",
       "      <th>dias</th>\n",
       "      <th>id</th>\n",
       "      <th>estado</th>\n",
       "      <th>tipo_estado</th>\n",
       "    </tr>\n",
       "  </thead>\n",
       "  <tbody>\n",
       "    <tr>\n",
       "      <th>0</th>\n",
       "      <td>1420071301</td>\n",
       "      <td>4</td>\n",
       "      <td>101</td>\n",
       "      <td>140</td>\n",
       "      <td>1</td>\n",
       "    </tr>\n",
       "    <tr>\n",
       "      <th>1</th>\n",
       "      <td>1420071301</td>\n",
       "      <td>4</td>\n",
       "      <td>103</td>\n",
       "      <td>35</td>\n",
       "      <td>1</td>\n",
       "    </tr>\n",
       "    <tr>\n",
       "      <th>2</th>\n",
       "      <td>1420071301</td>\n",
       "      <td>4</td>\n",
       "      <td>105</td>\n",
       "      <td>173</td>\n",
       "      <td>1</td>\n",
       "    </tr>\n",
       "    <tr>\n",
       "      <th>3</th>\n",
       "      <td>1420071301</td>\n",
       "      <td>4</td>\n",
       "      <td>107</td>\n",
       "      <td>120</td>\n",
       "      <td>1</td>\n",
       "    </tr>\n",
       "    <tr>\n",
       "      <th>4</th>\n",
       "      <td>1420071301</td>\n",
       "      <td>4</td>\n",
       "      <td>108</td>\n",
       "      <td>143</td>\n",
       "      <td>1</td>\n",
       "    </tr>\n",
       "  </tbody>\n",
       "</table>\n",
       "</div>"
      ],
      "text/plain": [
       "    timestamp  dias   id  estado  tipo_estado\n",
       "0  1420071301     4  101     140            1\n",
       "1  1420071301     4  103      35            1\n",
       "2  1420071301     4  105     173            1\n",
       "3  1420071301     4  107     120            1\n",
       "4  1420071301     4  108     143            1"
      ]
     },
     "execution_count": 99,
     "metadata": {},
     "output_type": "execute_result"
    }
   ],
   "source": [
    "dataNB_section = dataLR_section[['timestamp','dias','id','estado','tipo_estado']].copy()\n",
    "dataNB_section.head(5)"
   ]
  },
  {
   "cell_type": "code",
   "execution_count": 100,
   "metadata": {},
   "outputs": [],
   "source": [
    "X = dataNB_section[['timestamp','dias','id','estado']] # Features\n",
    "y = dataNB_section['tipo_estado'] # Target variable"
   ]
  },
  {
   "cell_type": "code",
   "execution_count": 101,
   "metadata": {},
   "outputs": [],
   "source": [
    "X_train, X_test, y_train, y_test = train_test_split(X, y,test_size=0.25, random_state=0)"
   ]
  },
  {
   "cell_type": "code",
   "execution_count": 102,
   "metadata": {},
   "outputs": [
    {
     "data": {
      "text/plain": [
       "GaussianNB()"
      ]
     },
     "execution_count": 102,
     "metadata": {},
     "output_type": "execute_result"
    }
   ],
   "source": [
    "#Classifier\n",
    "modelo_NB = GaussianNB()\n",
    "\n",
    "#Training the model \n",
    "modelo_NB.fit(X_train, y_train)"
   ]
  },
  {
   "cell_type": "code",
   "execution_count": 103,
   "metadata": {},
   "outputs": [],
   "source": [
    "#Predictions\n",
    "y_pred = modelo_NB.predict(X_test)"
   ]
  },
  {
   "cell_type": "code",
   "execution_count": 104,
   "metadata": {},
   "outputs": [
    {
     "data": {
      "text/html": [
       "<div>\n",
       "<style scoped>\n",
       "    .dataframe tbody tr th:only-of-type {\n",
       "        vertical-align: middle;\n",
       "    }\n",
       "\n",
       "    .dataframe tbody tr th {\n",
       "        vertical-align: top;\n",
       "    }\n",
       "\n",
       "    .dataframe thead th {\n",
       "        text-align: right;\n",
       "    }\n",
       "</style>\n",
       "<table border=\"1\" class=\"dataframe\">\n",
       "  <thead>\n",
       "    <tr style=\"text-align: right;\">\n",
       "      <th></th>\n",
       "      <th>Actual</th>\n",
       "      <th>Predicción</th>\n",
       "    </tr>\n",
       "  </thead>\n",
       "  <tbody>\n",
       "    <tr>\n",
       "      <th>5140000</th>\n",
       "      <td>1</td>\n",
       "      <td>1</td>\n",
       "    </tr>\n",
       "    <tr>\n",
       "      <th>773111</th>\n",
       "      <td>2</td>\n",
       "      <td>1</td>\n",
       "    </tr>\n",
       "    <tr>\n",
       "      <th>8522900</th>\n",
       "      <td>1</td>\n",
       "      <td>1</td>\n",
       "    </tr>\n",
       "    <tr>\n",
       "      <th>7150502</th>\n",
       "      <td>1</td>\n",
       "      <td>1</td>\n",
       "    </tr>\n",
       "    <tr>\n",
       "      <th>993326</th>\n",
       "      <td>1</td>\n",
       "      <td>1</td>\n",
       "    </tr>\n",
       "  </tbody>\n",
       "</table>\n",
       "</div>"
      ],
      "text/plain": [
       "         Actual  Predicción\n",
       "5140000       1           1\n",
       "773111        2           1\n",
       "8522900       1           1\n",
       "7150502       1           1\n",
       "993326        1           1"
      ]
     },
     "execution_count": 104,
     "metadata": {},
     "output_type": "execute_result"
    }
   ],
   "source": [
    "df_predNB_section = pd.DataFrame({'Actual': y_test, 'Predicción': y_pred})\n",
    "df_predNB_section.head(5)"
   ]
  },
  {
   "cell_type": "code",
   "execution_count": 106,
   "metadata": {},
   "outputs": [
    {
     "name": "stdout",
     "output_type": "stream",
     "text": [
      "Accuracy: 91.893\n"
     ]
    }
   ],
   "source": [
    "acc_naive = round(metrics.accuracy_score(y_test, y_pred)*100,3)\n",
    "print(\"Accuracy:\",acc_naive)"
   ]
  },
  {
   "cell_type": "markdown",
   "metadata": {},
   "source": [
    "**6.- SVM**"
   ]
  },
  {
   "cell_type": "code",
   "execution_count": 26,
   "metadata": {},
   "outputs": [],
   "source": [
    "#Import svm model\n",
    "from sklearn import svm"
   ]
  },
  {
   "cell_type": "code",
   "execution_count": 30,
   "metadata": {},
   "outputs": [
    {
     "data": {
      "text/html": [
       "<div>\n",
       "<style scoped>\n",
       "    .dataframe tbody tr th:only-of-type {\n",
       "        vertical-align: middle;\n",
       "    }\n",
       "\n",
       "    .dataframe tbody tr th {\n",
       "        vertical-align: top;\n",
       "    }\n",
       "\n",
       "    .dataframe thead th {\n",
       "        text-align: right;\n",
       "    }\n",
       "</style>\n",
       "<table border=\"1\" class=\"dataframe\">\n",
       "  <thead>\n",
       "    <tr style=\"text-align: right;\">\n",
       "      <th></th>\n",
       "      <th>timestamp</th>\n",
       "      <th>dias</th>\n",
       "      <th>id</th>\n",
       "      <th>estado</th>\n",
       "      <th>tipo_estado</th>\n",
       "    </tr>\n",
       "  </thead>\n",
       "  <tbody>\n",
       "    <tr>\n",
       "      <th>0</th>\n",
       "      <td>1420070400</td>\n",
       "      <td>4</td>\n",
       "      <td>101</td>\n",
       "      <td>1596.896552</td>\n",
       "      <td>3</td>\n",
       "    </tr>\n",
       "    <tr>\n",
       "      <th>1</th>\n",
       "      <td>1420070400</td>\n",
       "      <td>4</td>\n",
       "      <td>103</td>\n",
       "      <td>308.816092</td>\n",
       "      <td>1</td>\n",
       "    </tr>\n",
       "    <tr>\n",
       "      <th>2</th>\n",
       "      <td>1420070400</td>\n",
       "      <td>4</td>\n",
       "      <td>105</td>\n",
       "      <td>1440.793103</td>\n",
       "      <td>2</td>\n",
       "    </tr>\n",
       "    <tr>\n",
       "      <th>3</th>\n",
       "      <td>1420070400</td>\n",
       "      <td>4</td>\n",
       "      <td>107</td>\n",
       "      <td>684.057471</td>\n",
       "      <td>2</td>\n",
       "    </tr>\n",
       "    <tr>\n",
       "      <th>4</th>\n",
       "      <td>1420070400</td>\n",
       "      <td>4</td>\n",
       "      <td>108</td>\n",
       "      <td>711.977011</td>\n",
       "      <td>2</td>\n",
       "    </tr>\n",
       "  </tbody>\n",
       "</table>\n",
       "</div>"
      ],
      "text/plain": [
       "    timestamp  dias   id       estado  tipo_estado\n",
       "0  1420070400     4  101  1596.896552            3\n",
       "1  1420070400     4  103   308.816092            1\n",
       "2  1420070400     4  105  1440.793103            2\n",
       "3  1420070400     4  107   684.057471            2\n",
       "4  1420070400     4  108   711.977011            2"
      ]
     },
     "execution_count": 30,
     "metadata": {},
     "output_type": "execute_result"
    }
   ],
   "source": [
    "dataSVM_section = dataLR_section[['timestamp','dias','id','estado','tipo_estado']].copy()\n",
    "dataSVM_section.head(5)"
   ]
  },
  {
   "cell_type": "code",
   "execution_count": 31,
   "metadata": {},
   "outputs": [
    {
     "data": {
      "text/plain": [
       "timestamp      142182\n",
       "dias           142182\n",
       "id             142182\n",
       "estado         142182\n",
       "tipo_estado    142182\n",
       "dtype: int64"
      ]
     },
     "execution_count": 31,
     "metadata": {},
     "output_type": "execute_result"
    }
   ],
   "source": [
    "dataSVM_section.count()"
   ]
  },
  {
   "cell_type": "code",
   "execution_count": 32,
   "metadata": {},
   "outputs": [],
   "source": [
    "X = dataSVM_section[['timestamp','estado']] # Features \n",
    "y = dataSVM_section['tipo_estado'] # Target variable"
   ]
  },
  {
   "cell_type": "code",
   "execution_count": 33,
   "metadata": {},
   "outputs": [],
   "source": [
    "#División Train y Test\n",
    "X_train,X_test,y_train,y_test=train_test_split(X,y,test_size=0.25,random_state=0)"
   ]
  },
  {
   "cell_type": "code",
   "execution_count": 36,
   "metadata": {},
   "outputs": [
    {
     "name": "stdout",
     "output_type": "stream",
     "text": [
      "Start:  15:52:17\n"
     ]
    }
   ],
   "source": [
    "current_init = datetime.datetime.now()\n",
    "print ('Start: ',current_init.strftime(\"%H:%M:%S\"))"
   ]
  },
  {
   "cell_type": "code",
   "execution_count": null,
   "metadata": {},
   "outputs": [],
   "source": [
    "#Create a svm Classifier\n",
    "modelo_svm = svm.SVC(kernel='linear',C=1,gamma='auto') # Linear Kernel\n",
    "\n",
    "#Train the model using the training sets\n",
    "modelo_svm.fit(X_train, y_train)\n",
    "\n",
    "\n",
    "current_end = datetime.datetime.now()\n",
    "print ('Finish: ',current_end.strftime(\"%H:%M:%S\"))"
   ]
  },
  {
   "cell_type": "code",
   "execution_count": null,
   "metadata": {},
   "outputs": [],
   "source": [
    "#Predict the response for test dataset\n",
    "y_pred = modelo_svm.predict(X_test)\n",
    "y_pred"
   ]
  },
  {
   "cell_type": "code",
   "execution_count": null,
   "metadata": {},
   "outputs": [],
   "source": [
    "# Model Accuracy: how often is the classifier correct?\n",
    "score_svm = metrics.accuracy_score(y_test, y_pred)\n",
    "print(\"Accuracy: \",round(score_svm,3))"
   ]
  },
  {
   "cell_type": "markdown",
   "metadata": {},
   "source": [
    "**Predicciones desde dataset preparado**"
   ]
  },
  {
   "cell_type": "code",
   "execution_count": 37,
   "metadata": {},
   "outputs": [
    {
     "data": {
      "text/html": [
       "<div>\n",
       "<style scoped>\n",
       "    .dataframe tbody tr th:only-of-type {\n",
       "        vertical-align: middle;\n",
       "    }\n",
       "\n",
       "    .dataframe tbody tr th {\n",
       "        vertical-align: top;\n",
       "    }\n",
       "\n",
       "    .dataframe thead th {\n",
       "        text-align: right;\n",
       "    }\n",
       "</style>\n",
       "<table border=\"1\" class=\"dataframe\">\n",
       "  <thead>\n",
       "    <tr style=\"text-align: right;\">\n",
       "      <th></th>\n",
       "      <th>timestamp_pred</th>\n",
       "      <th>dias_pred</th>\n",
       "      <th>id</th>\n",
       "      <th>estado</th>\n",
       "    </tr>\n",
       "  </thead>\n",
       "  <tbody>\n",
       "    <tr>\n",
       "      <th>0</th>\n",
       "      <td>1609460101</td>\n",
       "      <td>5</td>\n",
       "      <td>10102</td>\n",
       "      <td>30</td>\n",
       "    </tr>\n",
       "    <tr>\n",
       "      <th>1</th>\n",
       "      <td>1609460101</td>\n",
       "      <td>5</td>\n",
       "      <td>10104</td>\n",
       "      <td>36</td>\n",
       "    </tr>\n",
       "    <tr>\n",
       "      <th>2</th>\n",
       "      <td>1609460101</td>\n",
       "      <td>5</td>\n",
       "      <td>10124</td>\n",
       "      <td>149</td>\n",
       "    </tr>\n",
       "    <tr>\n",
       "      <th>3</th>\n",
       "      <td>1609460101</td>\n",
       "      <td>5</td>\n",
       "      <td>10127</td>\n",
       "      <td>220</td>\n",
       "    </tr>\n",
       "    <tr>\n",
       "      <th>4</th>\n",
       "      <td>1609460101</td>\n",
       "      <td>5</td>\n",
       "      <td>10122</td>\n",
       "      <td>353</td>\n",
       "    </tr>\n",
       "  </tbody>\n",
       "</table>\n",
       "</div>"
      ],
      "text/plain": [
       "   timestamp_pred  dias_pred     id  estado\n",
       "0      1609460101          5  10102      30\n",
       "1      1609460101          5  10104      36\n",
       "2      1609460101          5  10124     149\n",
       "3      1609460101          5  10127     220\n",
       "4      1609460101          5  10122     353"
      ]
     },
     "execution_count": 37,
     "metadata": {},
     "output_type": "execute_result"
    }
   ],
   "source": [
    "#cargamos el dataset pred_data\n",
    "data_predictions = pd.read_csv('../TFM/Machine_Learning_Data/predictions/pred_data.csv',sep=';',engine='python')\n",
    "data_predictions.head(5)"
   ]
  },
  {
   "cell_type": "code",
   "execution_count": 38,
   "metadata": {},
   "outputs": [
    {
     "data": {
      "text/plain": [
       "timestamp_pred    255750\n",
       "dias_pred         255750\n",
       "id                255750\n",
       "estado            255750\n",
       "dtype: int64"
      ]
     },
     "execution_count": 38,
     "metadata": {},
     "output_type": "execute_result"
    }
   ],
   "source": [
    "data_predictions.count()"
   ]
  },
  {
   "cell_type": "code",
   "execution_count": 39,
   "metadata": {},
   "outputs": [
    {
     "data": {
      "text/plain": [
       "array([1, 1, 1, ..., 1, 1, 1])"
      ]
     },
     "execution_count": 39,
     "metadata": {},
     "output_type": "execute_result"
    }
   ],
   "source": [
    "#realizamos las predicciones sobre el modelo de knn y nuestro dataset preparado\n",
    "new_pred = knn.predict(data_predictions)\n",
    "new_pred"
   ]
  },
  {
   "cell_type": "code",
   "execution_count": 40,
   "metadata": {},
   "outputs": [
    {
     "data": {
      "text/html": [
       "<div>\n",
       "<style scoped>\n",
       "    .dataframe tbody tr th:only-of-type {\n",
       "        vertical-align: middle;\n",
       "    }\n",
       "\n",
       "    .dataframe tbody tr th {\n",
       "        vertical-align: top;\n",
       "    }\n",
       "\n",
       "    .dataframe thead th {\n",
       "        text-align: right;\n",
       "    }\n",
       "</style>\n",
       "<table border=\"1\" class=\"dataframe\">\n",
       "  <thead>\n",
       "    <tr style=\"text-align: right;\">\n",
       "      <th></th>\n",
       "      <th>timestamp_pred</th>\n",
       "      <th>dias_pred</th>\n",
       "      <th>id</th>\n",
       "      <th>estado</th>\n",
       "      <th>predicciones</th>\n",
       "    </tr>\n",
       "  </thead>\n",
       "  <tbody>\n",
       "    <tr>\n",
       "      <th>0</th>\n",
       "      <td>1609460101</td>\n",
       "      <td>5</td>\n",
       "      <td>10102</td>\n",
       "      <td>30</td>\n",
       "      <td>1</td>\n",
       "    </tr>\n",
       "    <tr>\n",
       "      <th>1</th>\n",
       "      <td>1609460101</td>\n",
       "      <td>5</td>\n",
       "      <td>10104</td>\n",
       "      <td>36</td>\n",
       "      <td>1</td>\n",
       "    </tr>\n",
       "    <tr>\n",
       "      <th>2</th>\n",
       "      <td>1609460101</td>\n",
       "      <td>5</td>\n",
       "      <td>10124</td>\n",
       "      <td>149</td>\n",
       "      <td>1</td>\n",
       "    </tr>\n",
       "    <tr>\n",
       "      <th>3</th>\n",
       "      <td>1609460101</td>\n",
       "      <td>5</td>\n",
       "      <td>10127</td>\n",
       "      <td>220</td>\n",
       "      <td>1</td>\n",
       "    </tr>\n",
       "    <tr>\n",
       "      <th>4</th>\n",
       "      <td>1609460101</td>\n",
       "      <td>5</td>\n",
       "      <td>10122</td>\n",
       "      <td>353</td>\n",
       "      <td>1</td>\n",
       "    </tr>\n",
       "  </tbody>\n",
       "</table>\n",
       "</div>"
      ],
      "text/plain": [
       "   timestamp_pred  dias_pred     id  estado  predicciones\n",
       "0      1609460101          5  10102      30             1\n",
       "1      1609460101          5  10104      36             1\n",
       "2      1609460101          5  10124     149             1\n",
       "3      1609460101          5  10127     220             1\n",
       "4      1609460101          5  10122     353             1"
      ]
     },
     "execution_count": 40,
     "metadata": {},
     "output_type": "execute_result"
    }
   ],
   "source": [
    "#unimos las predicciones con el dataset\n",
    "data_predictions['predicciones'] = pd.Series(new_pred)\n",
    "data_predictions.head(5)"
   ]
  },
  {
   "cell_type": "code",
   "execution_count": 41,
   "metadata": {},
   "outputs": [
    {
     "data": {
      "text/plain": [
       "timestamp_pred    255750\n",
       "dias_pred         255750\n",
       "id                255750\n",
       "estado            255750\n",
       "predicciones      255750\n",
       "dtype: int64"
      ]
     },
     "execution_count": 41,
     "metadata": {},
     "output_type": "execute_result"
    }
   ],
   "source": [
    "data_predictions.count()"
   ]
  },
  {
   "cell_type": "code",
   "execution_count": 42,
   "metadata": {},
   "outputs": [
    {
     "data": {
      "text/plain": [
       "timestamp_pred    int64\n",
       "dias_pred         int64\n",
       "id                int64\n",
       "estado            int64\n",
       "predicciones      int64\n",
       "dtype: object"
      ]
     },
     "execution_count": 42,
     "metadata": {},
     "output_type": "execute_result"
    }
   ],
   "source": [
    "data_predictions.dtypes"
   ]
  },
  {
   "cell_type": "code",
   "execution_count": 43,
   "metadata": {},
   "outputs": [
    {
     "name": "stderr",
     "output_type": "stream",
     "text": [
      "/usr/local/lib/python3.7/site-packages/ipykernel_launcher.py:6: SettingWithCopyWarning: \n",
      "A value is trying to be set on a copy of a slice from a DataFrame.\n",
      "Try using .loc[row_indexer,col_indexer] = value instead\n",
      "\n",
      "See the caveats in the documentation: https://pandas.pydata.org/pandas-docs/stable/user_guide/indexing.html#returning-a-view-versus-a-copy\n",
      "  \n"
     ]
    },
    {
     "data": {
      "text/html": [
       "<div>\n",
       "<style scoped>\n",
       "    .dataframe tbody tr th:only-of-type {\n",
       "        vertical-align: middle;\n",
       "    }\n",
       "\n",
       "    .dataframe tbody tr th {\n",
       "        vertical-align: top;\n",
       "    }\n",
       "\n",
       "    .dataframe thead th {\n",
       "        text-align: right;\n",
       "    }\n",
       "</style>\n",
       "<table border=\"1\" class=\"dataframe\">\n",
       "  <thead>\n",
       "    <tr style=\"text-align: right;\">\n",
       "      <th></th>\n",
       "      <th>new_date</th>\n",
       "      <th>new_time</th>\n",
       "      <th>dias_pred</th>\n",
       "      <th>id</th>\n",
       "      <th>estado</th>\n",
       "      <th>predicciones</th>\n",
       "    </tr>\n",
       "  </thead>\n",
       "  <tbody>\n",
       "    <tr>\n",
       "      <th>0</th>\n",
       "      <td>2021-01-01</td>\n",
       "      <td>00:15:00</td>\n",
       "      <td>5</td>\n",
       "      <td>10102</td>\n",
       "      <td>30</td>\n",
       "      <td>1</td>\n",
       "    </tr>\n",
       "    <tr>\n",
       "      <th>1</th>\n",
       "      <td>2021-01-01</td>\n",
       "      <td>00:15:00</td>\n",
       "      <td>5</td>\n",
       "      <td>10104</td>\n",
       "      <td>36</td>\n",
       "      <td>1</td>\n",
       "    </tr>\n",
       "    <tr>\n",
       "      <th>2</th>\n",
       "      <td>2021-01-01</td>\n",
       "      <td>00:15:00</td>\n",
       "      <td>5</td>\n",
       "      <td>10124</td>\n",
       "      <td>149</td>\n",
       "      <td>1</td>\n",
       "    </tr>\n",
       "    <tr>\n",
       "      <th>3</th>\n",
       "      <td>2021-01-01</td>\n",
       "      <td>00:15:00</td>\n",
       "      <td>5</td>\n",
       "      <td>10127</td>\n",
       "      <td>220</td>\n",
       "      <td>1</td>\n",
       "    </tr>\n",
       "    <tr>\n",
       "      <th>4</th>\n",
       "      <td>2021-01-01</td>\n",
       "      <td>00:15:00</td>\n",
       "      <td>5</td>\n",
       "      <td>10122</td>\n",
       "      <td>353</td>\n",
       "      <td>1</td>\n",
       "    </tr>\n",
       "  </tbody>\n",
       "</table>\n",
       "</div>"
      ],
      "text/plain": [
       "     new_date  new_time  dias_pred     id  estado  predicciones\n",
       "0  2021-01-01  00:15:00          5  10102      30             1\n",
       "1  2021-01-01  00:15:00          5  10104      36             1\n",
       "2  2021-01-01  00:15:00          5  10124     149             1\n",
       "3  2021-01-01  00:15:00          5  10127     220             1\n",
       "4  2021-01-01  00:15:00          5  10122     353             1"
      ]
     },
     "execution_count": 43,
     "metadata": {},
     "output_type": "execute_result"
    }
   ],
   "source": [
    "#Reconversión timestamp a fecha y tiempo\n",
    "data_predictions['date_time'] =pd.to_datetime(data_predictions['timestamp_pred'],unit='s')\n",
    "data_predictions['new_date'] = [d.date() for d in data_predictions['date_time']]\n",
    "data_predictions['new_time'] = [d.time() for d in data_predictions['date_time']]\n",
    "dp = data_predictions[['new_date','new_time','dias_pred','id','estado','predicciones']]\n",
    "dp['new_time'] =  [re.sub(r'[\\d:]$','0', str(x)) for x in dp['new_time']]\n",
    "dp.head(5)"
   ]
  },
  {
   "cell_type": "code",
   "execution_count": 44,
   "metadata": {},
   "outputs": [
    {
     "data": {
      "text/html": [
       "<div>\n",
       "<style scoped>\n",
       "    .dataframe tbody tr th:only-of-type {\n",
       "        vertical-align: middle;\n",
       "    }\n",
       "\n",
       "    .dataframe tbody tr th {\n",
       "        vertical-align: top;\n",
       "    }\n",
       "\n",
       "    .dataframe thead th {\n",
       "        text-align: right;\n",
       "    }\n",
       "</style>\n",
       "<table border=\"1\" class=\"dataframe\">\n",
       "  <thead>\n",
       "    <tr style=\"text-align: right;\">\n",
       "      <th></th>\n",
       "      <th>new_date</th>\n",
       "      <th>predicciones</th>\n",
       "    </tr>\n",
       "  </thead>\n",
       "  <tbody>\n",
       "    <tr>\n",
       "      <th>0</th>\n",
       "      <td>2021-01-01</td>\n",
       "      <td>1.313975</td>\n",
       "    </tr>\n",
       "    <tr>\n",
       "      <th>1</th>\n",
       "      <td>2021-01-02</td>\n",
       "      <td>1.340245</td>\n",
       "    </tr>\n",
       "    <tr>\n",
       "      <th>2</th>\n",
       "      <td>2021-01-03</td>\n",
       "      <td>1.346071</td>\n",
       "    </tr>\n",
       "    <tr>\n",
       "      <th>3</th>\n",
       "      <td>2021-01-04</td>\n",
       "      <td>1.425719</td>\n",
       "    </tr>\n",
       "    <tr>\n",
       "      <th>4</th>\n",
       "      <td>2021-01-05</td>\n",
       "      <td>1.328227</td>\n",
       "    </tr>\n",
       "    <tr>\n",
       "      <th>5</th>\n",
       "      <td>2021-01-06</td>\n",
       "      <td>1.412102</td>\n",
       "    </tr>\n",
       "    <tr>\n",
       "      <th>6</th>\n",
       "      <td>2021-01-07</td>\n",
       "      <td>1.424352</td>\n",
       "    </tr>\n",
       "  </tbody>\n",
       "</table>\n",
       "</div>"
      ],
      "text/plain": [
       "     new_date  predicciones\n",
       "0  2021-01-01      1.313975\n",
       "1  2021-01-02      1.340245\n",
       "2  2021-01-03      1.346071\n",
       "3  2021-01-04      1.425719\n",
       "4  2021-01-05      1.328227\n",
       "5  2021-01-06      1.412102\n",
       "6  2021-01-07      1.424352"
      ]
     },
     "execution_count": 44,
     "metadata": {},
     "output_type": "execute_result"
    }
   ],
   "source": [
    "#Obtenmos el estado medio por cada uno de los días\n",
    "data_pred_1_ML = dp.groupby(['new_date'],as_index = False)['predicciones'].mean()\n",
    "\n",
    "data_pred_1_ML.sort_values(by=['new_date'],inplace=True)\n",
    "data_pred_1_ML.set_index('new_date',inplace=True)\n",
    "data_pred_1_ML.reset_index()"
   ]
  },
  {
   "cell_type": "code",
   "execution_count": 45,
   "metadata": {},
   "outputs": [
    {
     "data": {
      "image/png": "[encoded data removed]",
      "text/plain": [
       "<Figure size 720x360 with 1 Axes>"
      ]
     },
     "metadata": {
      "needs_background": "light"
     },
     "output_type": "display_data"
    }
   ],
   "source": [
    "#Gráfica para mostrar la previsión del estado tráfico por días de 1 a 7 de Enero de 2021\n",
    "data_pred_1_ML.plot(kind='bar',color='darkblue',edgecolor='blue',figsize=(10,5))\n",
    "plt.title('Previsión Estado Tráfico 1ª Semana Enero 2021',fontweight='bold',fontsize=14)\n",
    "plt.legend(['predicciones'],loc=\"upper left\",fontsize=8,shadow=True)\n",
    "plt.xlabel('fecha',fontsize=12)\n",
    "plt.ylabel('estado_tráfico',fontsize=12)\n",
    "plt.xticks(rotation=70)\n",
    "plt.subplots_adjust(bottom=1, top=2)\n",
    "plt.show()"
   ]
  },
  {
   "cell_type": "code",
   "execution_count": 46,
   "metadata": {},
   "outputs": [
    {
     "data": {
      "text/html": [
       "<div>\n",
       "<style scoped>\n",
       "    .dataframe tbody tr th:only-of-type {\n",
       "        vertical-align: middle;\n",
       "    }\n",
       "\n",
       "    .dataframe tbody tr th {\n",
       "        vertical-align: top;\n",
       "    }\n",
       "\n",
       "    .dataframe thead th {\n",
       "        text-align: right;\n",
       "    }\n",
       "</style>\n",
       "<table border=\"1\" class=\"dataframe\">\n",
       "  <thead>\n",
       "    <tr style=\"text-align: right;\">\n",
       "      <th></th>\n",
       "      <th>new_time</th>\n",
       "      <th>predicciones</th>\n",
       "    </tr>\n",
       "  </thead>\n",
       "  <tbody>\n",
       "    <tr>\n",
       "      <th>0</th>\n",
       "      <td>00:00:00</td>\n",
       "      <td>1.275348</td>\n",
       "    </tr>\n",
       "    <tr>\n",
       "      <th>1</th>\n",
       "      <td>00:15:00</td>\n",
       "      <td>1.237994</td>\n",
       "    </tr>\n",
       "    <tr>\n",
       "      <th>2</th>\n",
       "      <td>00:30:00</td>\n",
       "      <td>1.257984</td>\n",
       "    </tr>\n",
       "    <tr>\n",
       "      <th>3</th>\n",
       "      <td>00:45:00</td>\n",
       "      <td>1.253025</td>\n",
       "    </tr>\n",
       "    <tr>\n",
       "      <th>4</th>\n",
       "      <td>01:00:00</td>\n",
       "      <td>1.228543</td>\n",
       "    </tr>\n",
       "    <tr>\n",
       "      <th>...</th>\n",
       "      <td>...</td>\n",
       "      <td>...</td>\n",
       "    </tr>\n",
       "    <tr>\n",
       "      <th>91</th>\n",
       "      <td>22:45:00</td>\n",
       "      <td>1.369035</td>\n",
       "    </tr>\n",
       "    <tr>\n",
       "      <th>92</th>\n",
       "      <td>23:00:00</td>\n",
       "      <td>1.338011</td>\n",
       "    </tr>\n",
       "    <tr>\n",
       "      <th>93</th>\n",
       "      <td>23:15:00</td>\n",
       "      <td>1.277876</td>\n",
       "    </tr>\n",
       "    <tr>\n",
       "      <th>94</th>\n",
       "      <td>23:30:00</td>\n",
       "      <td>1.250709</td>\n",
       "    </tr>\n",
       "    <tr>\n",
       "      <th>95</th>\n",
       "      <td>23:45:00</td>\n",
       "      <td>1.231015</td>\n",
       "    </tr>\n",
       "  </tbody>\n",
       "</table>\n",
       "<p>96 rows × 2 columns</p>\n",
       "</div>"
      ],
      "text/plain": [
       "    new_time  predicciones\n",
       "0   00:00:00      1.275348\n",
       "1   00:15:00      1.237994\n",
       "2   00:30:00      1.257984\n",
       "3   00:45:00      1.253025\n",
       "4   01:00:00      1.228543\n",
       "..       ...           ...\n",
       "91  22:45:00      1.369035\n",
       "92  23:00:00      1.338011\n",
       "93  23:15:00      1.277876\n",
       "94  23:30:00      1.250709\n",
       "95  23:45:00      1.231015\n",
       "\n",
       "[96 rows x 2 columns]"
      ]
     },
     "execution_count": 46,
     "metadata": {},
     "output_type": "execute_result"
    }
   ],
   "source": [
    "#Filtrado de datos por Franja Horaria\n",
    "data_pred_2_ML = dp.groupby(['new_time'],as_index = False)['predicciones'].mean()\n",
    "\n",
    "data_pred_2_ML.set_index('new_time',inplace=True)\n",
    "data_pred_2_ML.reset_index()"
   ]
  },
  {
   "cell_type": "code",
   "execution_count": 47,
   "metadata": {},
   "outputs": [
    {
     "data": {
      "image/png": "[encoded data removed]",
      "text/plain": [
       "<Figure size 1440x360 with 1 Axes>"
      ]
     },
     "metadata": {
      "needs_background": "light"
     },
     "output_type": "display_data"
    }
   ],
   "source": [
    "#Gráfica para mostrar el estado tráfico por horas de 1 a 7 de Enero de 2021\n",
    "data_pred_2_ML.plot(kind='bar',color='#40E0D0',edgecolor='blue',figsize=(20,5))\n",
    "plt.title('Previsión Estado Tráfico por Horas 1ª Semana Enero 2021',fontweight='bold',fontsize=14)\n",
    "plt.legend(['previsión'],loc=\"upper left\",fontsize=8,shadow=True)\n",
    "plt.xlabel('hora',fontsize=12)\n",
    "plt.ylabel('estado_tráfico',fontsize=12)\n",
    "plt.xticks(rotation=70)\n",
    "plt.subplots_adjust(bottom=1, top=2)\n",
    "plt.show()"
   ]
  },
  {
   "cell_type": "code",
   "execution_count": 74,
   "metadata": {},
   "outputs": [
    {
     "data": {
      "text/html": [
       "<div>\n",
       "<style scoped>\n",
       "    .dataframe tbody tr th:only-of-type {\n",
       "        vertical-align: middle;\n",
       "    }\n",
       "\n",
       "    .dataframe tbody tr th {\n",
       "        vertical-align: top;\n",
       "    }\n",
       "\n",
       "    .dataframe thead th {\n",
       "        text-align: right;\n",
       "    }\n",
       "</style>\n",
       "<table border=\"1\" class=\"dataframe\">\n",
       "  <thead>\n",
       "    <tr style=\"text-align: right;\">\n",
       "      <th></th>\n",
       "      <th>predicciones</th>\n",
       "    </tr>\n",
       "    <tr>\n",
       "      <th>id</th>\n",
       "      <th></th>\n",
       "    </tr>\n",
       "  </thead>\n",
       "  <tbody>\n",
       "    <tr>\n",
       "      <th>10118</th>\n",
       "      <td>2.000000</td>\n",
       "    </tr>\n",
       "    <tr>\n",
       "      <th>1072</th>\n",
       "      <td>1.937402</td>\n",
       "    </tr>\n",
       "    <tr>\n",
       "      <th>10278</th>\n",
       "      <td>1.929577</td>\n",
       "    </tr>\n",
       "    <tr>\n",
       "      <th>10121</th>\n",
       "      <td>1.921753</td>\n",
       "    </tr>\n",
       "    <tr>\n",
       "      <th>10373</th>\n",
       "      <td>1.921507</td>\n",
       "    </tr>\n",
       "    <tr>\n",
       "      <th>10120</th>\n",
       "      <td>1.918623</td>\n",
       "    </tr>\n",
       "    <tr>\n",
       "      <th>10116</th>\n",
       "      <td>1.918367</td>\n",
       "    </tr>\n",
       "    <tr>\n",
       "      <th>10170</th>\n",
       "      <td>1.912088</td>\n",
       "    </tr>\n",
       "    <tr>\n",
       "      <th>10193</th>\n",
       "      <td>1.907668</td>\n",
       "    </tr>\n",
       "    <tr>\n",
       "      <th>10271</th>\n",
       "      <td>1.906103</td>\n",
       "    </tr>\n",
       "  </tbody>\n",
       "</table>\n",
       "</div>"
      ],
      "text/plain": [
       "       predicciones\n",
       "id                 \n",
       "10118      2.000000\n",
       "1072       1.937402\n",
       "10278      1.929577\n",
       "10121      1.921753\n",
       "10373      1.921507\n",
       "10120      1.918623\n",
       "10116      1.918367\n",
       "10170      1.912088\n",
       "10193      1.907668\n",
       "10271      1.906103"
      ]
     },
     "execution_count": 74,
     "metadata": {},
     "output_type": "execute_result"
    }
   ],
   "source": [
    "#Filtro por los 10 Tramos con mayor volumen de tráfico desde el 1 al 7 de Enero de 2021\n",
    "data_pred_3_ML = dp.groupby(['id'],as_index = False)['predicciones'].mean()\n",
    "\n",
    "data_pred_3_ML.set_index('id',inplace=True)\n",
    "data_pred_3_ML = data_pred_3_ML.nlargest(10, ['predicciones'])\n",
    "data_pred_3_ML"
   ]
  },
  {
   "cell_type": "code",
   "execution_count": 75,
   "metadata": {},
   "outputs": [
    {
     "data": {
      "image/png": "[encoded data removed]",
      "text/plain": [
       "<Figure size 1080x360 with 1 Axes>"
      ]
     },
     "metadata": {
      "needs_background": "light"
     },
     "output_type": "display_data"
    }
   ],
   "source": [
    "#Gráfica para mostrar el estado tráfico por horas de 1 a 7 de Enero de 2021\n",
    "data_pred_3_ML.plot(kind='bar',color='#82e0aa',edgecolor='black',figsize=(15,5))\n",
    "plt.title('Previsión Estado Tráfico por Tramos 1ª Semana Enero 2021',fontweight='bold',fontsize=14)\n",
    "plt.legend(['previsión'],loc=\"upper right\",fontsize=8,shadow=True)\n",
    "plt.xlabel('tramo',fontsize=12)\n",
    "plt.ylabel('estado_tráfico',fontsize=12)\n",
    "plt.xticks(rotation=70)\n",
    "plt.subplots_adjust(bottom=1, top=2)\n",
    "plt.show()"
   ]
  },
  {
   "cell_type": "code",
   "execution_count": 76,
   "metadata": {},
   "outputs": [
    {
     "data": {
      "text/html": [
       "<div>\n",
       "<style scoped>\n",
       "    .dataframe tbody tr th:only-of-type {\n",
       "        vertical-align: middle;\n",
       "    }\n",
       "\n",
       "    .dataframe tbody tr th {\n",
       "        vertical-align: top;\n",
       "    }\n",
       "\n",
       "    .dataframe thead th {\n",
       "        text-align: right;\n",
       "    }\n",
       "</style>\n",
       "<table border=\"1\" class=\"dataframe\">\n",
       "  <thead>\n",
       "    <tr style=\"text-align: right;\">\n",
       "      <th></th>\n",
       "      <th>id</th>\n",
       "      <th>predicciones</th>\n",
       "    </tr>\n",
       "  </thead>\n",
       "  <tbody>\n",
       "    <tr>\n",
       "      <th>0</th>\n",
       "      <td>10118</td>\n",
       "      <td>2.000000</td>\n",
       "    </tr>\n",
       "    <tr>\n",
       "      <th>1</th>\n",
       "      <td>1072</td>\n",
       "      <td>1.937402</td>\n",
       "    </tr>\n",
       "    <tr>\n",
       "      <th>2</th>\n",
       "      <td>10278</td>\n",
       "      <td>1.929577</td>\n",
       "    </tr>\n",
       "    <tr>\n",
       "      <th>3</th>\n",
       "      <td>10121</td>\n",
       "      <td>1.921753</td>\n",
       "    </tr>\n",
       "    <tr>\n",
       "      <th>4</th>\n",
       "      <td>10373</td>\n",
       "      <td>1.921507</td>\n",
       "    </tr>\n",
       "    <tr>\n",
       "      <th>5</th>\n",
       "      <td>10120</td>\n",
       "      <td>1.918623</td>\n",
       "    </tr>\n",
       "    <tr>\n",
       "      <th>6</th>\n",
       "      <td>10116</td>\n",
       "      <td>1.918367</td>\n",
       "    </tr>\n",
       "    <tr>\n",
       "      <th>7</th>\n",
       "      <td>10170</td>\n",
       "      <td>1.912088</td>\n",
       "    </tr>\n",
       "    <tr>\n",
       "      <th>8</th>\n",
       "      <td>10193</td>\n",
       "      <td>1.907668</td>\n",
       "    </tr>\n",
       "    <tr>\n",
       "      <th>9</th>\n",
       "      <td>10271</td>\n",
       "      <td>1.906103</td>\n",
       "    </tr>\n",
       "  </tbody>\n",
       "</table>\n",
       "</div>"
      ],
      "text/plain": [
       "      id  predicciones\n",
       "0  10118      2.000000\n",
       "1   1072      1.937402\n",
       "2  10278      1.929577\n",
       "3  10121      1.921753\n",
       "4  10373      1.921507\n",
       "5  10120      1.918623\n",
       "6  10116      1.918367\n",
       "7  10170      1.912088\n",
       "8  10193      1.907668\n",
       "9  10271      1.906103"
      ]
     },
     "execution_count": 76,
     "metadata": {},
     "output_type": "execute_result"
    }
   ],
   "source": [
    "data_pred_3_ML.reset_index(inplace=True)\n",
    "data_pred_3_ML"
   ]
  },
  {
   "cell_type": "code",
   "execution_count": 94,
   "metadata": {},
   "outputs": [],
   "source": [
    "data_pred_3_ML['des_tramo'] = np.where((data_pred_3_ML['id']==10118),'GERMANÍAS',data_pred_3_ML['id'])\n",
    "data_pred_3_ML['des_tramo'] = np.where((data_pred_3_ML['id']==1072),'AVDA. CID',data_pred_3_ML['des_tramo'])\n",
    "data_pred_3_ML['des_tramo'] = np.where((data_pred_3_ML['id']==10278),'PUENTE DE ARAGÓN',data_pred_3_ML['des_tramo'])\n",
    "data_pred_3_ML['des_tramo'] = np.where((data_pred_3_ML['id']==10121),'GRAN VIA MARQUES DEL TURIA',data_pred_3_ML['des_tramo'])\n",
    "data_pred_3_ML['des_tramo'] = np.where((data_pred_3_ML['id']==10373),'ACCESO SUR (N-332)',data_pred_3_ML['des_tramo'])\n",
    "data_pred_3_ML['des_tramo'] = np.where((data_pred_3_ML['id']==10120),'GRAN VIA MARQUES DEL TURIA',data_pred_3_ML['des_tramo'])\n",
    "data_pred_3_ML['des_tramo'] = np.where((data_pred_3_ML['id']==10116),'GIORGETA',data_pred_3_ML['des_tramo'])\n",
    "data_pred_3_ML['des_tramo'] = np.where((data_pred_3_ML['id']==10170),'NUEVE DE OCTUBRE',data_pred_3_ML['des_tramo'])\n",
    "data_pred_3_ML['des_tramo'] = np.where((data_pred_3_ML['id']==10193),'PIO XII',data_pred_3_ML['des_tramo'])\n",
    "data_pred_3_ML['des_tramo'] = np.where((data_pred_3_ML['id']==10271),'PUENTE DE LAS VIEJAS GLORIAS',data_pred_3_ML['des_tramo'])"
   ]
  },
  {
   "cell_type": "code",
   "execution_count": 95,
   "metadata": {},
   "outputs": [
    {
     "data": {
      "text/html": [
       "<div>\n",
       "<style scoped>\n",
       "    .dataframe tbody tr th:only-of-type {\n",
       "        vertical-align: middle;\n",
       "    }\n",
       "\n",
       "    .dataframe tbody tr th {\n",
       "        vertical-align: top;\n",
       "    }\n",
       "\n",
       "    .dataframe thead th {\n",
       "        text-align: right;\n",
       "    }\n",
       "</style>\n",
       "<table border=\"1\" class=\"dataframe\">\n",
       "  <thead>\n",
       "    <tr style=\"text-align: right;\">\n",
       "      <th></th>\n",
       "      <th>id</th>\n",
       "      <th>des_tramo</th>\n",
       "      <th>predicciones</th>\n",
       "    </tr>\n",
       "  </thead>\n",
       "  <tbody>\n",
       "    <tr>\n",
       "      <th>0</th>\n",
       "      <td>10118</td>\n",
       "      <td>GERMANÍAS</td>\n",
       "      <td>2.000000</td>\n",
       "    </tr>\n",
       "    <tr>\n",
       "      <th>1</th>\n",
       "      <td>1072</td>\n",
       "      <td>AVDA. CID</td>\n",
       "      <td>1.937402</td>\n",
       "    </tr>\n",
       "    <tr>\n",
       "      <th>2</th>\n",
       "      <td>10278</td>\n",
       "      <td>PUENTE DE ARAGÓN</td>\n",
       "      <td>1.929577</td>\n",
       "    </tr>\n",
       "    <tr>\n",
       "      <th>3</th>\n",
       "      <td>10121</td>\n",
       "      <td>GRAN VIA MARQUES DEL TURIA</td>\n",
       "      <td>1.921753</td>\n",
       "    </tr>\n",
       "    <tr>\n",
       "      <th>4</th>\n",
       "      <td>10373</td>\n",
       "      <td>ACCESO SUR (N-332)</td>\n",
       "      <td>1.921507</td>\n",
       "    </tr>\n",
       "    <tr>\n",
       "      <th>5</th>\n",
       "      <td>10120</td>\n",
       "      <td>GRAN VIA MARQUES DEL TURIA</td>\n",
       "      <td>1.918623</td>\n",
       "    </tr>\n",
       "    <tr>\n",
       "      <th>6</th>\n",
       "      <td>10116</td>\n",
       "      <td>GIORGETA</td>\n",
       "      <td>1.918367</td>\n",
       "    </tr>\n",
       "    <tr>\n",
       "      <th>7</th>\n",
       "      <td>10170</td>\n",
       "      <td>NUEVE DE OCTUBRE</td>\n",
       "      <td>1.912088</td>\n",
       "    </tr>\n",
       "    <tr>\n",
       "      <th>8</th>\n",
       "      <td>10193</td>\n",
       "      <td>PIO XII</td>\n",
       "      <td>1.907668</td>\n",
       "    </tr>\n",
       "    <tr>\n",
       "      <th>9</th>\n",
       "      <td>10271</td>\n",
       "      <td>PUENTE DE LAS VIEJAS GLORIAS</td>\n",
       "      <td>1.906103</td>\n",
       "    </tr>\n",
       "  </tbody>\n",
       "</table>\n",
       "</div>"
      ],
      "text/plain": [
       "      id                     des_tramo  predicciones\n",
       "0  10118                     GERMANÍAS      2.000000\n",
       "1   1072                     AVDA. CID      1.937402\n",
       "2  10278              PUENTE DE ARAGÓN      1.929577\n",
       "3  10121    GRAN VIA MARQUES DEL TURIA      1.921753\n",
       "4  10373            ACCESO SUR (N-332)      1.921507\n",
       "5  10120    GRAN VIA MARQUES DEL TURIA      1.918623\n",
       "6  10116                      GIORGETA      1.918367\n",
       "7  10170              NUEVE DE OCTUBRE      1.912088\n",
       "8  10193                       PIO XII      1.907668\n",
       "9  10271  PUENTE DE LAS VIEJAS GLORIAS      1.906103"
      ]
     },
     "execution_count": 95,
     "metadata": {},
     "output_type": "execute_result"
    }
   ],
   "source": [
    "data_pred_3_ML[['id','des_tramo','predicciones']]"
   ]
  },
  {
   "cell_type": "code",
   "execution_count": 105,
   "metadata": {},
   "outputs": [
    {
     "data": {
      "image/png": "[encoded data removed]",
      "text/plain": [
       "<Figure size 1152x576 with 1 Axes>"
      ]
     },
     "metadata": {
      "needs_background": "light"
     },
     "output_type": "display_data"
    }
   ],
   "source": [
    "plt.subplots(figsize = (16,8))\n",
    "ax = plt.axes()\n",
    "sns.barplot(x='predicciones', y='des_tramo', data=data_pred_3_ML,\\\n",
    "            palette = sns.color_palette(\"Set3\"), edgecolor = 'black')\n",
    "ax.set_title('Tramos con Mayor Volumen Tráfico desde 1 a 7 de Enero de 2021',fontsize = 15)\n",
    "plt.show()"
   ]
  }
 ],
 "metadata": {
  "kernelspec": {
   "display_name": "Python 3",
   "language": "python",
   "name": "python3"
  },
  "language_info": {
   "codemirror_mode": {
    "name": "ipython",
    "version": 3
   },
   "file_extension": ".py",
   "mimetype": "text/x-python",
   "name": "python",
   "nbconvert_exporter": "python",
   "pygments_lexer": "ipython3",
   "version": "3.7.6"
  }
 },
 "nbformat": 4,
 "nbformat_minor": 4
}
