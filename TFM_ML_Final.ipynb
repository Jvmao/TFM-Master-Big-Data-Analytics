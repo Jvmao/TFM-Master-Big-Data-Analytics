{
 "cells": [
  {
   "cell_type": "code",
   "execution_count": 1,
   "metadata": {},
   "outputs": [
    {
     "name": "stderr",
     "output_type": "stream",
     "text": [
      "/usr/local/lib/python3.7/site-packages/matplotlib/__init__.py:886: MatplotlibDeprecationWarning: \n",
      "examples.directory is deprecated; in the future, examples will be found relative to the 'datapath' directory.\n",
      "  \"found relative to the 'datapath' directory.\".format(key))\n"
     ]
    }
   ],
   "source": [
    "#Imports\n",
    "# -*- coding: utf-8 -*-\n",
    "\n",
    "import pandas as pd\n",
    "import csv\n",
    "import numpy as np\n",
    "import os\n",
    "import glob\n",
    "import matplotlib.pyplot as plt\n",
    "import seaborn as sns\n",
    "import time\n",
    "import datetime\n",
    "import statistics\n",
    "\n",
    "from sklearn.preprocessing import StandardScaler\n",
    "from sklearn.model_selection import train_test_split\n",
    "from sklearn.metrics import classification_report, confusion_matrix\n",
    "from sklearn import metrics"
   ]
  },
  {
   "cell_type": "code",
   "execution_count": 2,
   "metadata": {},
   "outputs": [
    {
     "data": {
      "text/html": [
       "<div>\n",
       "<style scoped>\n",
       "    .dataframe tbody tr th:only-of-type {\n",
       "        vertical-align: middle;\n",
       "    }\n",
       "\n",
       "    .dataframe tbody tr th {\n",
       "        vertical-align: top;\n",
       "    }\n",
       "\n",
       "    .dataframe thead th {\n",
       "        text-align: right;\n",
       "    }\n",
       "</style>\n",
       "<table border=\"1\" class=\"dataframe\">\n",
       "  <thead>\n",
       "    <tr style=\"text-align: right;\">\n",
       "      <th></th>\n",
       "      <th>year</th>\n",
       "      <th>month</th>\n",
       "      <th>day</th>\n",
       "      <th>hours</th>\n",
       "      <th>minutes</th>\n",
       "      <th>seconds</th>\n",
       "      <th>dias</th>\n",
       "      <th>id</th>\n",
       "      <th>estado</th>\n",
       "    </tr>\n",
       "  </thead>\n",
       "  <tbody>\n",
       "    <tr>\n",
       "      <th>0</th>\n",
       "      <td>2015</td>\n",
       "      <td>1</td>\n",
       "      <td>1</td>\n",
       "      <td>0</td>\n",
       "      <td>15</td>\n",
       "      <td>1</td>\n",
       "      <td>4</td>\n",
       "      <td>10102</td>\n",
       "      <td>37</td>\n",
       "    </tr>\n",
       "    <tr>\n",
       "      <th>1</th>\n",
       "      <td>2015</td>\n",
       "      <td>1</td>\n",
       "      <td>1</td>\n",
       "      <td>0</td>\n",
       "      <td>15</td>\n",
       "      <td>1</td>\n",
       "      <td>4</td>\n",
       "      <td>10104</td>\n",
       "      <td>33</td>\n",
       "    </tr>\n",
       "    <tr>\n",
       "      <th>2</th>\n",
       "      <td>2015</td>\n",
       "      <td>1</td>\n",
       "      <td>1</td>\n",
       "      <td>0</td>\n",
       "      <td>15</td>\n",
       "      <td>1</td>\n",
       "      <td>4</td>\n",
       "      <td>10124</td>\n",
       "      <td>139</td>\n",
       "    </tr>\n",
       "    <tr>\n",
       "      <th>3</th>\n",
       "      <td>2015</td>\n",
       "      <td>1</td>\n",
       "      <td>1</td>\n",
       "      <td>0</td>\n",
       "      <td>15</td>\n",
       "      <td>1</td>\n",
       "      <td>4</td>\n",
       "      <td>10127</td>\n",
       "      <td>187</td>\n",
       "    </tr>\n",
       "    <tr>\n",
       "      <th>4</th>\n",
       "      <td>2015</td>\n",
       "      <td>1</td>\n",
       "      <td>1</td>\n",
       "      <td>0</td>\n",
       "      <td>15</td>\n",
       "      <td>1</td>\n",
       "      <td>4</td>\n",
       "      <td>10122</td>\n",
       "      <td>218</td>\n",
       "    </tr>\n",
       "  </tbody>\n",
       "</table>\n",
       "</div>"
      ],
      "text/plain": [
       "   year  month  day  hours  minutes  seconds  dias     id  estado\n",
       "0  2015      1    1      0       15        1     4  10102      37\n",
       "1  2015      1    1      0       15        1     4  10104      33\n",
       "2  2015      1    1      0       15        1     4  10124     139\n",
       "3  2015      1    1      0       15        1     4  10127     187\n",
       "4  2015      1    1      0       15        1     4  10122     218"
      ]
     },
     "execution_count": 2,
     "metadata": {},
     "output_type": "execute_result"
    }
   ],
   "source": [
    "#Cargamos dataset\n",
    "dataML = pd.read_csv('../TFM/Machine_Learning_Data/datos_ML_split.csv',sep=';',engine='python')\n",
    "dataML.head(5)"
   ]
  },
  {
   "cell_type": "code",
   "execution_count": 3,
   "metadata": {},
   "outputs": [
    {
     "data": {
      "text/plain": [
       "year       int32\n",
       "month      int32\n",
       "day        int32\n",
       "hours      int32\n",
       "minutes    int32\n",
       "seconds    int32\n",
       "dias       int32\n",
       "id         int32\n",
       "estado     int32\n",
       "dtype: object"
      ]
     },
     "execution_count": 3,
     "metadata": {},
     "output_type": "execute_result"
    }
   ],
   "source": [
    "#Tipo de Datos\n",
    "dataML = dataML.astype(np.int32)\n",
    "dataML.dtypes"
   ]
  },
  {
   "cell_type": "code",
   "execution_count": 4,
   "metadata": {},
   "outputs": [
    {
     "name": "stdout",
     "output_type": "stream",
     "text": [
      "Filas:  11899959\n"
     ]
    }
   ],
   "source": [
    "#Comprobamos Filas Totales\n",
    "counter = dataML.shape[0]\n",
    "print('Filas: ',counter)"
   ]
  },
  {
   "cell_type": "code",
   "execution_count": 5,
   "metadata": {},
   "outputs": [
    {
     "data": {
      "text/html": [
       "<div>\n",
       "<style scoped>\n",
       "    .dataframe tbody tr th:only-of-type {\n",
       "        vertical-align: middle;\n",
       "    }\n",
       "\n",
       "    .dataframe tbody tr th {\n",
       "        vertical-align: top;\n",
       "    }\n",
       "\n",
       "    .dataframe thead th {\n",
       "        text-align: right;\n",
       "    }\n",
       "</style>\n",
       "<table border=\"1\" class=\"dataframe\">\n",
       "  <thead>\n",
       "    <tr style=\"text-align: right;\">\n",
       "      <th></th>\n",
       "      <th>year</th>\n",
       "      <th>month</th>\n",
       "      <th>day</th>\n",
       "      <th>hours</th>\n",
       "      <th>minutes</th>\n",
       "      <th>seconds</th>\n",
       "      <th>dias</th>\n",
       "      <th>id</th>\n",
       "      <th>estado</th>\n",
       "    </tr>\n",
       "  </thead>\n",
       "  <tbody>\n",
       "    <tr>\n",
       "      <th>0</th>\n",
       "      <td>2015</td>\n",
       "      <td>1</td>\n",
       "      <td>1</td>\n",
       "      <td>0</td>\n",
       "      <td>15</td>\n",
       "      <td>1</td>\n",
       "      <td>4</td>\n",
       "      <td>10102</td>\n",
       "      <td>37</td>\n",
       "    </tr>\n",
       "    <tr>\n",
       "      <th>1</th>\n",
       "      <td>2015</td>\n",
       "      <td>1</td>\n",
       "      <td>1</td>\n",
       "      <td>0</td>\n",
       "      <td>15</td>\n",
       "      <td>1</td>\n",
       "      <td>4</td>\n",
       "      <td>10104</td>\n",
       "      <td>33</td>\n",
       "    </tr>\n",
       "    <tr>\n",
       "      <th>2</th>\n",
       "      <td>2015</td>\n",
       "      <td>1</td>\n",
       "      <td>1</td>\n",
       "      <td>0</td>\n",
       "      <td>15</td>\n",
       "      <td>1</td>\n",
       "      <td>4</td>\n",
       "      <td>10124</td>\n",
       "      <td>139</td>\n",
       "    </tr>\n",
       "  </tbody>\n",
       "</table>\n",
       "</div>"
      ],
      "text/plain": [
       "   year  month  day  hours  minutes  seconds  dias     id  estado\n",
       "0  2015      1    1      0       15        1     4  10102      37\n",
       "1  2015      1    1      0       15        1     4  10104      33\n",
       "2  2015      1    1      0       15        1     4  10124     139"
      ]
     },
     "execution_count": 5,
     "metadata": {},
     "output_type": "execute_result"
    }
   ],
   "source": [
    "#Comprobamos filas iniciales\n",
    "dataML.head(3)"
   ]
  },
  {
   "cell_type": "code",
   "execution_count": 6,
   "metadata": {},
   "outputs": [
    {
     "data": {
      "text/html": [
       "<div>\n",
       "<style scoped>\n",
       "    .dataframe tbody tr th:only-of-type {\n",
       "        vertical-align: middle;\n",
       "    }\n",
       "\n",
       "    .dataframe tbody tr th {\n",
       "        vertical-align: top;\n",
       "    }\n",
       "\n",
       "    .dataframe thead th {\n",
       "        text-align: right;\n",
       "    }\n",
       "</style>\n",
       "<table border=\"1\" class=\"dataframe\">\n",
       "  <thead>\n",
       "    <tr style=\"text-align: right;\">\n",
       "      <th></th>\n",
       "      <th>year</th>\n",
       "      <th>month</th>\n",
       "      <th>day</th>\n",
       "      <th>hours</th>\n",
       "      <th>minutes</th>\n",
       "      <th>seconds</th>\n",
       "      <th>dias</th>\n",
       "      <th>id</th>\n",
       "      <th>estado</th>\n",
       "    </tr>\n",
       "  </thead>\n",
       "  <tbody>\n",
       "    <tr>\n",
       "      <th>11899956</th>\n",
       "      <td>2015</td>\n",
       "      <td>12</td>\n",
       "      <td>31</td>\n",
       "      <td>23</td>\n",
       "      <td>0</td>\n",
       "      <td>2</td>\n",
       "      <td>4</td>\n",
       "      <td>2095</td>\n",
       "      <td>47</td>\n",
       "    </tr>\n",
       "    <tr>\n",
       "      <th>11899957</th>\n",
       "      <td>2015</td>\n",
       "      <td>12</td>\n",
       "      <td>31</td>\n",
       "      <td>23</td>\n",
       "      <td>0</td>\n",
       "      <td>2</td>\n",
       "      <td>4</td>\n",
       "      <td>2097</td>\n",
       "      <td>44</td>\n",
       "    </tr>\n",
       "    <tr>\n",
       "      <th>11899958</th>\n",
       "      <td>2015</td>\n",
       "      <td>12</td>\n",
       "      <td>31</td>\n",
       "      <td>23</td>\n",
       "      <td>0</td>\n",
       "      <td>2</td>\n",
       "      <td>4</td>\n",
       "      <td>2098</td>\n",
       "      <td>38</td>\n",
       "    </tr>\n",
       "  </tbody>\n",
       "</table>\n",
       "</div>"
      ],
      "text/plain": [
       "          year  month  day  hours  minutes  seconds  dias    id  estado\n",
       "11899956  2015     12   31     23        0        2     4  2095      47\n",
       "11899957  2015     12   31     23        0        2     4  2097      44\n",
       "11899958  2015     12   31     23        0        2     4  2098      38"
      ]
     },
     "execution_count": 6,
     "metadata": {},
     "output_type": "execute_result"
    }
   ],
   "source": [
    "#Comprobamos filas finales\n",
    "dataML.tail(3)"
   ]
  },
  {
   "cell_type": "code",
   "execution_count": 7,
   "metadata": {},
   "outputs": [
    {
     "data": {
      "text/html": [
       "<div>\n",
       "<style scoped>\n",
       "    .dataframe tbody tr th:only-of-type {\n",
       "        vertical-align: middle;\n",
       "    }\n",
       "\n",
       "    .dataframe tbody tr th {\n",
       "        vertical-align: top;\n",
       "    }\n",
       "\n",
       "    .dataframe thead th {\n",
       "        text-align: right;\n",
       "    }\n",
       "</style>\n",
       "<table border=\"1\" class=\"dataframe\">\n",
       "  <thead>\n",
       "    <tr style=\"text-align: right;\">\n",
       "      <th></th>\n",
       "      <th>count</th>\n",
       "      <th>mean</th>\n",
       "      <th>std</th>\n",
       "      <th>min</th>\n",
       "      <th>25%</th>\n",
       "      <th>50%</th>\n",
       "      <th>75%</th>\n",
       "      <th>max</th>\n",
       "    </tr>\n",
       "  </thead>\n",
       "  <tbody>\n",
       "    <tr>\n",
       "      <th>estado</th>\n",
       "      <td>11899959.0</td>\n",
       "      <td>809.628208</td>\n",
       "      <td>1093.308683</td>\n",
       "      <td>1.0</td>\n",
       "      <td>98.0</td>\n",
       "      <td>346.0</td>\n",
       "      <td>1059.0</td>\n",
       "      <td>17982.0</td>\n",
       "    </tr>\n",
       "  </tbody>\n",
       "</table>\n",
       "</div>"
      ],
      "text/plain": [
       "             count        mean          std  min   25%    50%     75%      max\n",
       "estado  11899959.0  809.628208  1093.308683  1.0  98.0  346.0  1059.0  17982.0"
      ]
     },
     "execution_count": 7,
     "metadata": {},
     "output_type": "execute_result"
    }
   ],
   "source": [
    "#Datos Estadísticos\n",
    "dataML['estado'].describe().to_frame().T"
   ]
  },
  {
   "cell_type": "code",
   "execution_count": 53,
   "metadata": {},
   "outputs": [
    {
     "data": {
      "text/html": [
       "<div>\n",
       "<style scoped>\n",
       "    .dataframe tbody tr th:only-of-type {\n",
       "        vertical-align: middle;\n",
       "    }\n",
       "\n",
       "    .dataframe tbody tr th {\n",
       "        vertical-align: top;\n",
       "    }\n",
       "\n",
       "    .dataframe thead th {\n",
       "        text-align: right;\n",
       "    }\n",
       "</style>\n",
       "<table border=\"1\" class=\"dataframe\">\n",
       "  <thead>\n",
       "    <tr style=\"text-align: right;\">\n",
       "      <th></th>\n",
       "      <th>id</th>\n",
       "      <th>estado</th>\n",
       "    </tr>\n",
       "  </thead>\n",
       "  <tbody>\n",
       "    <tr>\n",
       "      <th>355</th>\n",
       "      <td>10373</td>\n",
       "      <td>4279.274944</td>\n",
       "    </tr>\n",
       "    <tr>\n",
       "      <th>67</th>\n",
       "      <td>1072</td>\n",
       "      <td>3938.501210</td>\n",
       "    </tr>\n",
       "    <tr>\n",
       "      <th>245</th>\n",
       "      <td>10193</td>\n",
       "      <td>3476.310089</td>\n",
       "    </tr>\n",
       "    <tr>\n",
       "      <th>375</th>\n",
       "      <td>10406</td>\n",
       "      <td>3466.739141</td>\n",
       "    </tr>\n",
       "    <tr>\n",
       "      <th>373</th>\n",
       "      <td>10398</td>\n",
       "      <td>3236.085731</td>\n",
       "    </tr>\n",
       "    <tr>\n",
       "      <th>75</th>\n",
       "      <td>1082</td>\n",
       "      <td>3112.172468</td>\n",
       "    </tr>\n",
       "    <tr>\n",
       "      <th>0</th>\n",
       "      <td>101</td>\n",
       "      <td>3111.339444</td>\n",
       "    </tr>\n",
       "    <tr>\n",
       "      <th>223</th>\n",
       "      <td>10170</td>\n",
       "      <td>3076.439860</td>\n",
       "    </tr>\n",
       "    <tr>\n",
       "      <th>31</th>\n",
       "      <td>1029</td>\n",
       "      <td>2947.372401</td>\n",
       "    </tr>\n",
       "    <tr>\n",
       "      <th>311</th>\n",
       "      <td>10271</td>\n",
       "      <td>2920.151291</td>\n",
       "    </tr>\n",
       "  </tbody>\n",
       "</table>\n",
       "</div>"
      ],
      "text/plain": [
       "        id       estado\n",
       "355  10373  4279.274944\n",
       "67    1072  3938.501210\n",
       "245  10193  3476.310089\n",
       "375  10406  3466.739141\n",
       "373  10398  3236.085731\n",
       "75    1082  3112.172468\n",
       "0      101  3111.339444\n",
       "223  10170  3076.439860\n",
       "31    1029  2947.372401\n",
       "311  10271  2920.151291"
      ]
     },
     "execution_count": 53,
     "metadata": {},
     "output_type": "execute_result"
    }
   ],
   "source": [
    "#Tramos con mayor incidencia de tráfico\n",
    "df_mean_tramo = dataML.groupby(['id']).estado.mean().to_frame().reset_index()\n",
    "df_mean_tramo = df_mean_tramo.nlargest(10, ['estado']) \n",
    "df_mean_tramo"
   ]
  },
  {
   "cell_type": "markdown",
   "metadata": {},
   "source": [
    "# Métodos Machine Learning"
   ]
  },
  {
   "cell_type": "markdown",
   "metadata": {},
   "source": [
    "### 1.- Linear Regression"
   ]
  },
  {
   "cell_type": "code",
   "execution_count": 33,
   "metadata": {},
   "outputs": [],
   "source": [
    "#importamos paquete Linear Regression desde sklearn\n",
    "from sklearn.linear_model import LinearRegression"
   ]
  },
  {
   "cell_type": "code",
   "execution_count": 34,
   "metadata": {},
   "outputs": [
    {
     "data": {
      "text/html": [
       "<div>\n",
       "<style scoped>\n",
       "    .dataframe tbody tr th:only-of-type {\n",
       "        vertical-align: middle;\n",
       "    }\n",
       "\n",
       "    .dataframe tbody tr th {\n",
       "        vertical-align: top;\n",
       "    }\n",
       "\n",
       "    .dataframe thead th {\n",
       "        text-align: right;\n",
       "    }\n",
       "</style>\n",
       "<table border=\"1\" class=\"dataframe\">\n",
       "  <thead>\n",
       "    <tr style=\"text-align: right;\">\n",
       "      <th></th>\n",
       "      <th>year</th>\n",
       "      <th>month</th>\n",
       "      <th>day</th>\n",
       "      <th>hours</th>\n",
       "      <th>minutes</th>\n",
       "      <th>seconds</th>\n",
       "      <th>dias</th>\n",
       "      <th>id</th>\n",
       "      <th>estado</th>\n",
       "    </tr>\n",
       "  </thead>\n",
       "  <tbody>\n",
       "    <tr>\n",
       "      <th>0</th>\n",
       "      <td>2015</td>\n",
       "      <td>1</td>\n",
       "      <td>1</td>\n",
       "      <td>0</td>\n",
       "      <td>15</td>\n",
       "      <td>1</td>\n",
       "      <td>4</td>\n",
       "      <td>10102</td>\n",
       "      <td>37</td>\n",
       "    </tr>\n",
       "    <tr>\n",
       "      <th>1</th>\n",
       "      <td>2015</td>\n",
       "      <td>1</td>\n",
       "      <td>1</td>\n",
       "      <td>0</td>\n",
       "      <td>15</td>\n",
       "      <td>1</td>\n",
       "      <td>4</td>\n",
       "      <td>10104</td>\n",
       "      <td>33</td>\n",
       "    </tr>\n",
       "    <tr>\n",
       "      <th>2</th>\n",
       "      <td>2015</td>\n",
       "      <td>1</td>\n",
       "      <td>1</td>\n",
       "      <td>0</td>\n",
       "      <td>15</td>\n",
       "      <td>1</td>\n",
       "      <td>4</td>\n",
       "      <td>10124</td>\n",
       "      <td>139</td>\n",
       "    </tr>\n",
       "    <tr>\n",
       "      <th>3</th>\n",
       "      <td>2015</td>\n",
       "      <td>1</td>\n",
       "      <td>1</td>\n",
       "      <td>0</td>\n",
       "      <td>15</td>\n",
       "      <td>1</td>\n",
       "      <td>4</td>\n",
       "      <td>10127</td>\n",
       "      <td>187</td>\n",
       "    </tr>\n",
       "    <tr>\n",
       "      <th>4</th>\n",
       "      <td>2015</td>\n",
       "      <td>1</td>\n",
       "      <td>1</td>\n",
       "      <td>0</td>\n",
       "      <td>15</td>\n",
       "      <td>1</td>\n",
       "      <td>4</td>\n",
       "      <td>10122</td>\n",
       "      <td>218</td>\n",
       "    </tr>\n",
       "  </tbody>\n",
       "</table>\n",
       "</div>"
      ],
      "text/plain": [
       "   year  month  day  hours  minutes  seconds  dias     id  estado\n",
       "0  2015      1    1      0       15        1     4  10102      37\n",
       "1  2015      1    1      0       15        1     4  10104      33\n",
       "2  2015      1    1      0       15        1     4  10124     139\n",
       "3  2015      1    1      0       15        1     4  10127     187\n",
       "4  2015      1    1      0       15        1     4  10122     218"
      ]
     },
     "execution_count": 34,
     "metadata": {},
     "output_type": "execute_result"
    }
   ],
   "source": [
    "#Copiamos dataset\n",
    "dataLR = dataML.copy()\n",
    "\n",
    "dataLR = dataLR.astype(np.int32)\n",
    "dataLR.head(5)"
   ]
  },
  {
   "cell_type": "code",
   "execution_count": 35,
   "metadata": {},
   "outputs": [
    {
     "data": {
      "text/plain": [
       "year       int32\n",
       "month      int32\n",
       "day        int32\n",
       "hours      int32\n",
       "minutes    int32\n",
       "seconds    int32\n",
       "dias       int32\n",
       "id         int32\n",
       "estado     int32\n",
       "dtype: object"
      ]
     },
     "execution_count": 35,
     "metadata": {},
     "output_type": "execute_result"
    }
   ],
   "source": [
    "dataLR.dtypes"
   ]
  },
  {
   "cell_type": "code",
   "execution_count": 36,
   "metadata": {},
   "outputs": [
    {
     "data": {
      "text/plain": [
       "year       11899959\n",
       "month      11899959\n",
       "day        11899959\n",
       "hours      11899959\n",
       "minutes    11899959\n",
       "seconds    11899959\n",
       "dias       11899959\n",
       "id         11899959\n",
       "estado     11899959\n",
       "dtype: int64"
      ]
     },
     "execution_count": 36,
     "metadata": {},
     "output_type": "execute_result"
    }
   ],
   "source": [
    "dataLR.count()"
   ]
  },
  {
   "cell_type": "code",
   "execution_count": 37,
   "metadata": {},
   "outputs": [
    {
     "data": {
      "image/png": "[encoded data removed]",
      "text/plain": [
       "<Figure size 1152x576 with 2 Axes>"
      ]
     },
     "metadata": {
      "needs_background": "light"
     },
     "output_type": "display_data"
    }
   ],
   "source": [
    "#Correlación de las variables con respecto a estado\n",
    "fig, ax = plt.subplots(figsize=(16,8))\n",
    "sns.heatmap(data=dataLR.astype({'estado': 'int32'}).corr(),annot=True,vmax=1.0, cmap='coolwarm',\\\n",
    "            linewidths=.5, ax=ax);"
   ]
  },
  {
   "cell_type": "code",
   "execution_count": 38,
   "metadata": {},
   "outputs": [],
   "source": [
    "#Selección variables independientes y dependientes\n",
    "X = dataLR[['year','month','day','hours','minutes','seconds','dias','id']] # Features \n",
    "y = dataLR['estado'] # Target variable"
   ]
  },
  {
   "cell_type": "code",
   "execution_count": 39,
   "metadata": {},
   "outputs": [],
   "source": [
    "#División Train y Test\n",
    "X_train,X_test,y_train,y_test=train_test_split(X,y,test_size=0.25,random_state=42)"
   ]
  },
  {
   "cell_type": "code",
   "execution_count": 40,
   "metadata": {},
   "outputs": [
    {
     "name": "stdout",
     "output_type": "stream",
     "text": [
      "Entrenamiento:  8924969\n",
      "Test:           2974990\n"
     ]
    }
   ],
   "source": [
    "print('Entrenamiento: ',X_train.shape[0])\n",
    "print('Test:          ',X_test.shape[0])"
   ]
  },
  {
   "cell_type": "code",
   "execution_count": 41,
   "metadata": {},
   "outputs": [],
   "source": [
    "#Definición Modelo\n",
    "linear = LinearRegression()  \n",
    "modelo_LR = linear.fit(X_train, y_train) "
   ]
  },
  {
   "cell_type": "code",
   "execution_count": 42,
   "metadata": {},
   "outputs": [
    {
     "name": "stdout",
     "output_type": "stream",
     "text": [
      "Start:  15:14:00\n",
      "Finish:  15:14:00\n"
     ]
    }
   ],
   "source": [
    "#Predictions\n",
    "current_init = datetime.datetime.now()\n",
    "print ('Start: ',current_init.strftime(\"%H:%M:%S\"))\n",
    "\n",
    "y_pred = modelo_LR.predict(X_test) \n",
    "\n",
    "current_end = datetime.datetime.now()\n",
    "print ('Finish: ',current_end.strftime(\"%H:%M:%S\"))"
   ]
  },
  {
   "cell_type": "code",
   "execution_count": 43,
   "metadata": {},
   "outputs": [
    {
     "data": {
      "text/html": [
       "<div>\n",
       "<style scoped>\n",
       "    .dataframe tbody tr th:only-of-type {\n",
       "        vertical-align: middle;\n",
       "    }\n",
       "\n",
       "    .dataframe tbody tr th {\n",
       "        vertical-align: top;\n",
       "    }\n",
       "\n",
       "    .dataframe thead th {\n",
       "        text-align: right;\n",
       "    }\n",
       "</style>\n",
       "<table border=\"1\" class=\"dataframe\">\n",
       "  <thead>\n",
       "    <tr style=\"text-align: right;\">\n",
       "      <th></th>\n",
       "      <th>Actual</th>\n",
       "      <th>Predicción</th>\n",
       "    </tr>\n",
       "  </thead>\n",
       "  <tbody>\n",
       "    <tr>\n",
       "      <th>6882520</th>\n",
       "      <td>3530</td>\n",
       "      <td>1079</td>\n",
       "    </tr>\n",
       "    <tr>\n",
       "      <th>10611524</th>\n",
       "      <td>140</td>\n",
       "      <td>1068</td>\n",
       "    </tr>\n",
       "    <tr>\n",
       "      <th>5007573</th>\n",
       "      <td>3243</td>\n",
       "      <td>821</td>\n",
       "    </tr>\n",
       "    <tr>\n",
       "      <th>1553010</th>\n",
       "      <td>968</td>\n",
       "      <td>1082</td>\n",
       "    </tr>\n",
       "    <tr>\n",
       "      <th>9606822</th>\n",
       "      <td>70</td>\n",
       "      <td>654</td>\n",
       "    </tr>\n",
       "  </tbody>\n",
       "</table>\n",
       "</div>"
      ],
      "text/plain": [
       "          Actual  Predicción\n",
       "6882520     3530        1079\n",
       "10611524     140        1068\n",
       "5007573     3243         821\n",
       "1553010      968        1082\n",
       "9606822       70         654"
      ]
     },
     "execution_count": 43,
     "metadata": {},
     "output_type": "execute_result"
    }
   ],
   "source": [
    "df_predLiR_section = pd.DataFrame({'Actual': y_test, 'Predicción': y_pred.astype(int)})\n",
    "df_predLiR_section.head(5)"
   ]
  },
  {
   "cell_type": "code",
   "execution_count": 44,
   "metadata": {},
   "outputs": [
    {
     "name": "stdout",
     "output_type": "stream",
     "text": [
      "Accuracy Linear Regression:  5.832\n"
     ]
    }
   ],
   "source": [
    "#Precisión del Modelo con R2 valores entre 0 y 1. Más cerca de 1 mejor se adapta el modelo\n",
    "print(\"Accuracy Linear Regression: \", round(linear.score(X_test, y_test)*100,3))"
   ]
  },
  {
   "cell_type": "code",
   "execution_count": 45,
   "metadata": {},
   "outputs": [
    {
     "name": "stdout",
     "output_type": "stream",
     "text": [
      "RMSE Linear Regression:  1060.522\n"
     ]
    }
   ],
   "source": [
    "#RMSE\n",
    "print('RMSE Linear Regression: ',round(np.sqrt(metrics.mean_squared_error(y_test, y_pred)),3))"
   ]
  },
  {
   "cell_type": "markdown",
   "metadata": {},
   "source": [
    "### 2.- KNN"
   ]
  },
  {
   "cell_type": "code",
   "execution_count": 46,
   "metadata": {},
   "outputs": [],
   "source": [
    "#importamos paquete KNN desde sklearn\n",
    "from sklearn.neighbors import KNeighborsClassifier"
   ]
  },
  {
   "cell_type": "code",
   "execution_count": 47,
   "metadata": {},
   "outputs": [
    {
     "data": {
      "text/html": [
       "<div>\n",
       "<style scoped>\n",
       "    .dataframe tbody tr th:only-of-type {\n",
       "        vertical-align: middle;\n",
       "    }\n",
       "\n",
       "    .dataframe tbody tr th {\n",
       "        vertical-align: top;\n",
       "    }\n",
       "\n",
       "    .dataframe thead th {\n",
       "        text-align: right;\n",
       "    }\n",
       "</style>\n",
       "<table border=\"1\" class=\"dataframe\">\n",
       "  <thead>\n",
       "    <tr style=\"text-align: right;\">\n",
       "      <th></th>\n",
       "      <th>year</th>\n",
       "      <th>month</th>\n",
       "      <th>day</th>\n",
       "      <th>hours</th>\n",
       "      <th>minutes</th>\n",
       "      <th>seconds</th>\n",
       "      <th>dias</th>\n",
       "      <th>id</th>\n",
       "      <th>estado</th>\n",
       "    </tr>\n",
       "  </thead>\n",
       "  <tbody>\n",
       "    <tr>\n",
       "      <th>0</th>\n",
       "      <td>2015</td>\n",
       "      <td>1</td>\n",
       "      <td>1</td>\n",
       "      <td>0</td>\n",
       "      <td>15</td>\n",
       "      <td>1</td>\n",
       "      <td>4</td>\n",
       "      <td>10102</td>\n",
       "      <td>37</td>\n",
       "    </tr>\n",
       "    <tr>\n",
       "      <th>1</th>\n",
       "      <td>2015</td>\n",
       "      <td>1</td>\n",
       "      <td>1</td>\n",
       "      <td>0</td>\n",
       "      <td>15</td>\n",
       "      <td>1</td>\n",
       "      <td>4</td>\n",
       "      <td>10104</td>\n",
       "      <td>33</td>\n",
       "    </tr>\n",
       "    <tr>\n",
       "      <th>2</th>\n",
       "      <td>2015</td>\n",
       "      <td>1</td>\n",
       "      <td>1</td>\n",
       "      <td>0</td>\n",
       "      <td>15</td>\n",
       "      <td>1</td>\n",
       "      <td>4</td>\n",
       "      <td>10124</td>\n",
       "      <td>139</td>\n",
       "    </tr>\n",
       "    <tr>\n",
       "      <th>3</th>\n",
       "      <td>2015</td>\n",
       "      <td>1</td>\n",
       "      <td>1</td>\n",
       "      <td>0</td>\n",
       "      <td>15</td>\n",
       "      <td>1</td>\n",
       "      <td>4</td>\n",
       "      <td>10127</td>\n",
       "      <td>187</td>\n",
       "    </tr>\n",
       "    <tr>\n",
       "      <th>4</th>\n",
       "      <td>2015</td>\n",
       "      <td>1</td>\n",
       "      <td>1</td>\n",
       "      <td>0</td>\n",
       "      <td>15</td>\n",
       "      <td>1</td>\n",
       "      <td>4</td>\n",
       "      <td>10122</td>\n",
       "      <td>218</td>\n",
       "    </tr>\n",
       "  </tbody>\n",
       "</table>\n",
       "</div>"
      ],
      "text/plain": [
       "   year  month  day  hours  minutes  seconds  dias     id  estado\n",
       "0  2015      1    1      0       15        1     4  10102      37\n",
       "1  2015      1    1      0       15        1     4  10104      33\n",
       "2  2015      1    1      0       15        1     4  10124     139\n",
       "3  2015      1    1      0       15        1     4  10127     187\n",
       "4  2015      1    1      0       15        1     4  10122     218"
      ]
     },
     "execution_count": 47,
     "metadata": {},
     "output_type": "execute_result"
    }
   ],
   "source": [
    "dataKNN = dataML.copy()\n",
    "\n",
    "dataKNN = dataKNN.astype(np.int32)\n",
    "dataKNN.head(5)"
   ]
  },
  {
   "cell_type": "code",
   "execution_count": 48,
   "metadata": {},
   "outputs": [
    {
     "data": {
      "text/plain": [
       "year       11899959\n",
       "month      11899959\n",
       "day        11899959\n",
       "hours      11899959\n",
       "minutes    11899959\n",
       "seconds    11899959\n",
       "dias       11899959\n",
       "id         11899959\n",
       "estado     11899959\n",
       "dtype: int64"
      ]
     },
     "execution_count": 48,
     "metadata": {},
     "output_type": "execute_result"
    }
   ],
   "source": [
    "dataKNN.count()"
   ]
  },
  {
   "cell_type": "code",
   "execution_count": 49,
   "metadata": {},
   "outputs": [],
   "source": [
    "#Selección variables independientes y dependientes\n",
    "X = dataKNN[['year','month','day','hours','minutes','seconds','dias','id']] # Features \n",
    "y = dataKNN['estado'] # Target variable"
   ]
  },
  {
   "cell_type": "code",
   "execution_count": 50,
   "metadata": {},
   "outputs": [],
   "source": [
    "#División Train y Test\n",
    "X_train,X_test,y_train,y_test=train_test_split(X,y,test_size=0.25,random_state=42)"
   ]
  },
  {
   "cell_type": "code",
   "execution_count": 51,
   "metadata": {},
   "outputs": [
    {
     "data": {
      "text/plain": [
       "KNeighborsClassifier(n_neighbors=2)"
      ]
     },
     "execution_count": 51,
     "metadata": {},
     "output_type": "execute_result"
    }
   ],
   "source": [
    "#Definición Número de vecinos a incluir en el modelo\n",
    "knn = KNeighborsClassifier(n_neighbors=2)\n",
    "\n",
    "#Entrenamiento del modelo\n",
    "knn.fit(X_train, y_train)"
   ]
  },
  {
   "cell_type": "code",
   "execution_count": 54,
   "metadata": {},
   "outputs": [
    {
     "name": "stdout",
     "output_type": "stream",
     "text": [
      "Start:  15:29:05\n",
      "Finish:  15:34:47\n"
     ]
    }
   ],
   "source": [
    "current_init = datetime.datetime.now()\n",
    "print ('Start: ',current_init.strftime(\"%H:%M:%S\"))\n",
    "\n",
    "#Prediction\n",
    "y_pred = knn.predict(X_test)\n",
    "\n",
    "current_end = datetime.datetime.now()\n",
    "print ('Finish: ',current_end.strftime(\"%H:%M:%S\"))"
   ]
  },
  {
   "cell_type": "code",
   "execution_count": 55,
   "metadata": {},
   "outputs": [
    {
     "data": {
      "text/html": [
       "<div>\n",
       "<style scoped>\n",
       "    .dataframe tbody tr th:only-of-type {\n",
       "        vertical-align: middle;\n",
       "    }\n",
       "\n",
       "    .dataframe tbody tr th {\n",
       "        vertical-align: top;\n",
       "    }\n",
       "\n",
       "    .dataframe thead th {\n",
       "        text-align: right;\n",
       "    }\n",
       "</style>\n",
       "<table border=\"1\" class=\"dataframe\">\n",
       "  <thead>\n",
       "    <tr style=\"text-align: right;\">\n",
       "      <th></th>\n",
       "      <th>Actual</th>\n",
       "      <th>Predicción</th>\n",
       "    </tr>\n",
       "  </thead>\n",
       "  <tbody>\n",
       "    <tr>\n",
       "      <th>6882520</th>\n",
       "      <td>3530</td>\n",
       "      <td>1775</td>\n",
       "    </tr>\n",
       "    <tr>\n",
       "      <th>10611524</th>\n",
       "      <td>140</td>\n",
       "      <td>140</td>\n",
       "    </tr>\n",
       "    <tr>\n",
       "      <th>5007573</th>\n",
       "      <td>3243</td>\n",
       "      <td>2868</td>\n",
       "    </tr>\n",
       "    <tr>\n",
       "      <th>1553010</th>\n",
       "      <td>968</td>\n",
       "      <td>919</td>\n",
       "    </tr>\n",
       "    <tr>\n",
       "      <th>9606822</th>\n",
       "      <td>70</td>\n",
       "      <td>7</td>\n",
       "    </tr>\n",
       "  </tbody>\n",
       "</table>\n",
       "</div>"
      ],
      "text/plain": [
       "          Actual  Predicción\n",
       "6882520     3530        1775\n",
       "10611524     140         140\n",
       "5007573     3243        2868\n",
       "1553010      968         919\n",
       "9606822       70           7"
      ]
     },
     "execution_count": 55,
     "metadata": {},
     "output_type": "execute_result"
    }
   ],
   "source": [
    "df_predKNN = pd.DataFrame({'Actual': y_test, 'Predicción': y_pred})\n",
    "df_predKNN.head(5)"
   ]
  },
  {
   "cell_type": "code",
   "execution_count": 56,
   "metadata": {},
   "outputs": [
    {
     "name": "stdout",
     "output_type": "stream",
     "text": [
      "Accuracy KNN:  6.734\n"
     ]
    }
   ],
   "source": [
    "#Precisión del Modelo \n",
    "print(\"Accuracy KNN: \", round(knn.score(X_test, y_test)*100,3))"
   ]
  },
  {
   "cell_type": "code",
   "execution_count": 57,
   "metadata": {},
   "outputs": [
    {
     "name": "stdout",
     "output_type": "stream",
     "text": [
      "RMSE KNN:  709.493\n"
     ]
    }
   ],
   "source": [
    "#RMSE\n",
    "print('RMSE KNN: ',round(np.sqrt(metrics.mean_squared_error(y_test, y_pred)),3))"
   ]
  },
  {
   "cell_type": "markdown",
   "metadata": {},
   "source": [
    "### 3.- Random Forest"
   ]
  },
  {
   "cell_type": "code",
   "execution_count": 193,
   "metadata": {},
   "outputs": [],
   "source": [
    "#importamos paquete Random Forest desde sklearn\n",
    "from sklearn.ensemble import RandomForestClassifier"
   ]
  },
  {
   "cell_type": "markdown",
   "metadata": {},
   "source": [
    "Por falta memoria en el ordenador dividimos el dataset en varias partes para ejecutar este algoritmo\n",
    "y posteriormente extraemos la media de RMSE"
   ]
  },
  {
   "cell_type": "code",
   "execution_count": 214,
   "metadata": {},
   "outputs": [
    {
     "data": {
      "text/html": [
       "<div>\n",
       "<style scoped>\n",
       "    .dataframe tbody tr th:only-of-type {\n",
       "        vertical-align: middle;\n",
       "    }\n",
       "\n",
       "    .dataframe tbody tr th {\n",
       "        vertical-align: top;\n",
       "    }\n",
       "\n",
       "    .dataframe thead th {\n",
       "        text-align: right;\n",
       "    }\n",
       "</style>\n",
       "<table border=\"1\" class=\"dataframe\">\n",
       "  <thead>\n",
       "    <tr style=\"text-align: right;\">\n",
       "      <th></th>\n",
       "      <th>timestamp</th>\n",
       "      <th>dias</th>\n",
       "      <th>id</th>\n",
       "      <th>estado</th>\n",
       "    </tr>\n",
       "  </thead>\n",
       "  <tbody>\n",
       "    <tr>\n",
       "      <th>0</th>\n",
       "      <td>1420071301</td>\n",
       "      <td>4</td>\n",
       "      <td>10102</td>\n",
       "      <td>37</td>\n",
       "    </tr>\n",
       "    <tr>\n",
       "      <th>1</th>\n",
       "      <td>1420071301</td>\n",
       "      <td>4</td>\n",
       "      <td>10104</td>\n",
       "      <td>33</td>\n",
       "    </tr>\n",
       "    <tr>\n",
       "      <th>2</th>\n",
       "      <td>1420071301</td>\n",
       "      <td>4</td>\n",
       "      <td>10124</td>\n",
       "      <td>139</td>\n",
       "    </tr>\n",
       "    <tr>\n",
       "      <th>3</th>\n",
       "      <td>1420071301</td>\n",
       "      <td>4</td>\n",
       "      <td>10127</td>\n",
       "      <td>187</td>\n",
       "    </tr>\n",
       "    <tr>\n",
       "      <th>4</th>\n",
       "      <td>1420071301</td>\n",
       "      <td>4</td>\n",
       "      <td>10122</td>\n",
       "      <td>218</td>\n",
       "    </tr>\n",
       "  </tbody>\n",
       "</table>\n",
       "</div>"
      ],
      "text/plain": [
       "    timestamp  dias     id  estado\n",
       "0  1420071301     4  10102      37\n",
       "1  1420071301     4  10104      33\n",
       "2  1420071301     4  10124     139\n",
       "3  1420071301     4  10127     187\n",
       "4  1420071301     4  10122     218"
      ]
     },
     "execution_count": 214,
     "metadata": {},
     "output_type": "execute_result"
    }
   ],
   "source": [
    "#Primer set\n",
    "#con un millón de filas tarda aproximadamente 2h:30 min\n",
    "dataRF = dataML.iloc[0:500000,:].copy()\n",
    "\n",
    "dataRF.head(5)"
   ]
  },
  {
   "cell_type": "code",
   "execution_count": 215,
   "metadata": {},
   "outputs": [
    {
     "data": {
      "text/plain": [
       "timestamp    int32\n",
       "dias         int32\n",
       "id           int32\n",
       "estado       int32\n",
       "dtype: object"
      ]
     },
     "execution_count": 215,
     "metadata": {},
     "output_type": "execute_result"
    }
   ],
   "source": [
    "dataRF = dataRF.astype(np.int32)\n",
    "dataRF.dtypes\n",
    "#dataRF.count()"
   ]
  },
  {
   "cell_type": "code",
   "execution_count": 216,
   "metadata": {},
   "outputs": [],
   "source": [
    "#Selección variables independientes y dependientes\n",
    "X = dataRF[['timestamp','dias','id']] # Features \n",
    "y = dataRF['estado'] # Target variable"
   ]
  },
  {
   "cell_type": "code",
   "execution_count": 217,
   "metadata": {},
   "outputs": [],
   "source": [
    "#División Train y Test\n",
    "X_train,X_test,y_train,y_test=train_test_split(X,y,test_size=0.25,random_state=42)"
   ]
  },
  {
   "cell_type": "code",
   "execution_count": 218,
   "metadata": {},
   "outputs": [
    {
     "name": "stderr",
     "output_type": "stream",
     "text": [
      "[Parallel(n_jobs=1)]: Using backend SequentialBackend with 1 concurrent workers.\n",
      "[Parallel(n_jobs=1)]: Done   1 out of   1 | elapsed:    0.1s remaining:    0.0s\n"
     ]
    },
    {
     "name": "stdout",
     "output_type": "stream",
     "text": [
      "building tree 1 of 100\n",
      "building tree 2 of 100\n",
      "building tree 3 of 100\n",
      "building tree 4 of 100\n",
      "building tree 5 of 100\n",
      "building tree 6 of 100\n",
      "building tree 7 of 100\n",
      "building tree 8 of 100\n",
      "building tree 9 of 100\n",
      "building tree 10 of 100\n",
      "building tree 11 of 100\n",
      "building tree 12 of 100\n",
      "building tree 13 of 100\n",
      "building tree 14 of 100\n",
      "building tree 15 of 100\n",
      "building tree 16 of 100\n",
      "building tree 17 of 100\n",
      "building tree 18 of 100\n",
      "building tree 19 of 100\n",
      "building tree 20 of 100\n",
      "building tree 21 of 100\n",
      "building tree 22 of 100\n",
      "building tree 23 of 100\n",
      "building tree 24 of 100\n",
      "building tree 25 of 100\n",
      "building tree 26 of 100\n",
      "building tree 27 of 100\n",
      "building tree 28 of 100\n",
      "building tree 29 of 100\n",
      "building tree 30 of 100\n",
      "building tree 31 of 100\n",
      "building tree 32 of 100\n",
      "building tree 33 of 100\n",
      "building tree 34 of 100\n",
      "building tree 35 of 100\n",
      "building tree 36 of 100\n",
      "building tree 37 of 100\n",
      "building tree 38 of 100\n",
      "building tree 39 of 100\n",
      "building tree 40 of 100\n",
      "building tree 41 of 100\n",
      "building tree 42 of 100\n",
      "building tree 43 of 100\n",
      "building tree 44 of 100\n",
      "building tree 45 of 100\n",
      "building tree 46 of 100\n",
      "building tree 47 of 100\n",
      "building tree 48 of 100\n",
      "building tree 49 of 100\n",
      "building tree 50 of 100\n",
      "building tree 51 of 100\n",
      "building tree 52 of 100\n",
      "building tree 53 of 100\n",
      "building tree 54 of 100\n",
      "building tree 55 of 100\n",
      "building tree 56 of 100\n",
      "building tree 57 of 100\n",
      "building tree 58 of 100\n",
      "building tree 59 of 100\n",
      "building tree 60 of 100\n",
      "building tree 61 of 100\n",
      "building tree 62 of 100\n",
      "building tree 63 of 100\n",
      "building tree 64 of 100\n",
      "building tree 65 of 100\n",
      "building tree 66 of 100\n",
      "building tree 67 of 100\n",
      "building tree 68 of 100\n",
      "building tree 69 of 100\n",
      "building tree 70 of 100\n",
      "building tree 71 of 100\n",
      "building tree 72 of 100\n",
      "building tree 73 of 100\n",
      "building tree 74 of 100\n",
      "building tree 75 of 100\n",
      "building tree 76 of 100\n",
      "building tree 77 of 100\n",
      "building tree 78 of 100\n",
      "building tree 79 of 100\n",
      "building tree 80 of 100\n",
      "building tree 81 of 100\n",
      "building tree 82 of 100\n",
      "building tree 83 of 100\n",
      "building tree 84 of 100\n",
      "building tree 85 of 100\n",
      "building tree 86 of 100\n",
      "building tree 87 of 100\n",
      "building tree 88 of 100\n",
      "building tree 89 of 100\n",
      "building tree 90 of 100\n",
      "building tree 91 of 100\n",
      "building tree 92 of 100\n",
      "building tree 93 of 100\n",
      "building tree 94 of 100\n",
      "building tree 95 of 100\n",
      "building tree 96 of 100\n",
      "building tree 97 of 100\n",
      "building tree 98 of 100\n",
      "building tree 99 of 100\n",
      "building tree 100 of 100\n"
     ]
    },
    {
     "name": "stderr",
     "output_type": "stream",
     "text": [
      "[Parallel(n_jobs=1)]: Done 100 out of 100 | elapsed:    9.3s finished\n"
     ]
    },
    {
     "data": {
      "text/plain": [
       "RandomForestClassifier(max_depth=1, max_features='sqrt', verbose=2)"
      ]
     },
     "execution_count": 218,
     "metadata": {},
     "output_type": "execute_result"
    }
   ],
   "source": [
    "# Instantiate model \n",
    "rf = RandomForestClassifier(n_estimators=100,max_depth=1,bootstrap=True,verbose=2,max_features = 'sqrt')\n",
    "\n",
    "# Train the model on training data\n",
    "rf.fit(X_train, y_train)"
   ]
  },
  {
   "cell_type": "code",
   "execution_count": 219,
   "metadata": {},
   "outputs": [
    {
     "name": "stdout",
     "output_type": "stream",
     "text": [
      "Start:  11:36:44\n"
     ]
    },
    {
     "name": "stderr",
     "output_type": "stream",
     "text": [
      "[Parallel(n_jobs=1)]: Using backend SequentialBackend with 1 concurrent workers.\n",
      "[Parallel(n_jobs=1)]: Done   1 out of   1 | elapsed:  1.2min remaining:    0.0s\n",
      "[Parallel(n_jobs=1)]: Done 100 out of 100 | elapsed: 186.9min finished\n"
     ]
    },
    {
     "name": "stdout",
     "output_type": "stream",
     "text": [
      "Finish:  14:45:06\n"
     ]
    }
   ],
   "source": [
    "current_init = datetime.datetime.now()\n",
    "print ('Start: ',current_init.strftime(\"%H:%M:%S\"))\n",
    "\n",
    "#predictions\n",
    "y_pred=rf.predict(X_test)\n",
    "\n",
    "current_end = datetime.datetime.now()\n",
    "print ('Finish: ',current_end.strftime(\"%H:%M:%S\"))"
   ]
  },
  {
   "cell_type": "code",
   "execution_count": 220,
   "metadata": {},
   "outputs": [
    {
     "data": {
      "text/html": [
       "<div>\n",
       "<style scoped>\n",
       "    .dataframe tbody tr th:only-of-type {\n",
       "        vertical-align: middle;\n",
       "    }\n",
       "\n",
       "    .dataframe tbody tr th {\n",
       "        vertical-align: top;\n",
       "    }\n",
       "\n",
       "    .dataframe thead th {\n",
       "        text-align: right;\n",
       "    }\n",
       "</style>\n",
       "<table border=\"1\" class=\"dataframe\">\n",
       "  <thead>\n",
       "    <tr style=\"text-align: right;\">\n",
       "      <th></th>\n",
       "      <th>Actual</th>\n",
       "      <th>Predicción</th>\n",
       "    </tr>\n",
       "  </thead>\n",
       "  <tbody>\n",
       "    <tr>\n",
       "      <th>194257</th>\n",
       "      <td>1302</td>\n",
       "      <td>4</td>\n",
       "    </tr>\n",
       "    <tr>\n",
       "      <th>396319</th>\n",
       "      <td>255</td>\n",
       "      <td>4</td>\n",
       "    </tr>\n",
       "    <tr>\n",
       "      <th>138738</th>\n",
       "      <td>308</td>\n",
       "      <td>4</td>\n",
       "    </tr>\n",
       "    <tr>\n",
       "      <th>66570</th>\n",
       "      <td>298</td>\n",
       "      <td>4</td>\n",
       "    </tr>\n",
       "    <tr>\n",
       "      <th>149424</th>\n",
       "      <td>111</td>\n",
       "      <td>4</td>\n",
       "    </tr>\n",
       "  </tbody>\n",
       "</table>\n",
       "</div>"
      ],
      "text/plain": [
       "        Actual  Predicción\n",
       "194257    1302           4\n",
       "396319     255           4\n",
       "138738     308           4\n",
       "66570      298           4\n",
       "149424     111           4"
      ]
     },
     "execution_count": 220,
     "metadata": {},
     "output_type": "execute_result"
    }
   ],
   "source": [
    "df_predRF = pd.DataFrame({'Actual': y_test, 'Predicción': y_pred})\n",
    "df_predRF.head(5)"
   ]
  },
  {
   "cell_type": "code",
   "execution_count": 221,
   "metadata": {},
   "outputs": [
    {
     "name": "stdout",
     "output_type": "stream",
     "text": [
      "Accuracy RF:  0.953\n"
     ]
    }
   ],
   "source": [
    "acc_random = metrics.accuracy_score(y_test, y_pred)*100\n",
    "print('Accuracy RF: ',round(acc_random,3))"
   ]
  },
  {
   "cell_type": "code",
   "execution_count": 222,
   "metadata": {},
   "outputs": [
    {
     "name": "stdout",
     "output_type": "stream",
     "text": [
      "RMSE RF:  1799707.012\n"
     ]
    }
   ],
   "source": [
    "#RMSE RF\n",
    "rmse = []\n",
    "\n",
    "RMSE_1 = metrics.mean_squared_error(y_test, y_pred)\n",
    "print('RMSE RF: ',round(RMSE_1,3))\n",
    "\n",
    "\n",
    "rmse.append(RMSE_1)"
   ]
  },
  {
   "cell_type": "code",
   "execution_count": 108,
   "metadata": {},
   "outputs": [
    {
     "name": "stdout",
     "output_type": "stream",
     "text": [
      "[1681073.6452444445]\n"
     ]
    }
   ],
   "source": [
    "#Media Total RMSE de cada partición\n",
    "print(rmse)"
   ]
  },
  {
   "cell_type": "markdown",
   "metadata": {},
   "source": [
    "### 4.- Random Forest Regressor"
   ]
  },
  {
   "cell_type": "code",
   "execution_count": 76,
   "metadata": {},
   "outputs": [],
   "source": [
    "from sklearn.ensemble import RandomForestRegressor"
   ]
  },
  {
   "cell_type": "code",
   "execution_count": 77,
   "metadata": {},
   "outputs": [
    {
     "data": {
      "text/html": [
       "<div>\n",
       "<style scoped>\n",
       "    .dataframe tbody tr th:only-of-type {\n",
       "        vertical-align: middle;\n",
       "    }\n",
       "\n",
       "    .dataframe tbody tr th {\n",
       "        vertical-align: top;\n",
       "    }\n",
       "\n",
       "    .dataframe thead th {\n",
       "        text-align: right;\n",
       "    }\n",
       "</style>\n",
       "<table border=\"1\" class=\"dataframe\">\n",
       "  <thead>\n",
       "    <tr style=\"text-align: right;\">\n",
       "      <th></th>\n",
       "      <th>year</th>\n",
       "      <th>month</th>\n",
       "      <th>day</th>\n",
       "      <th>hours</th>\n",
       "      <th>minutes</th>\n",
       "      <th>seconds</th>\n",
       "      <th>dias</th>\n",
       "      <th>id</th>\n",
       "      <th>estado</th>\n",
       "    </tr>\n",
       "  </thead>\n",
       "  <tbody>\n",
       "    <tr>\n",
       "      <th>0</th>\n",
       "      <td>2015</td>\n",
       "      <td>1</td>\n",
       "      <td>1</td>\n",
       "      <td>0</td>\n",
       "      <td>15</td>\n",
       "      <td>1</td>\n",
       "      <td>4</td>\n",
       "      <td>10102</td>\n",
       "      <td>37</td>\n",
       "    </tr>\n",
       "    <tr>\n",
       "      <th>1</th>\n",
       "      <td>2015</td>\n",
       "      <td>1</td>\n",
       "      <td>1</td>\n",
       "      <td>0</td>\n",
       "      <td>15</td>\n",
       "      <td>1</td>\n",
       "      <td>4</td>\n",
       "      <td>10104</td>\n",
       "      <td>33</td>\n",
       "    </tr>\n",
       "    <tr>\n",
       "      <th>2</th>\n",
       "      <td>2015</td>\n",
       "      <td>1</td>\n",
       "      <td>1</td>\n",
       "      <td>0</td>\n",
       "      <td>15</td>\n",
       "      <td>1</td>\n",
       "      <td>4</td>\n",
       "      <td>10124</td>\n",
       "      <td>139</td>\n",
       "    </tr>\n",
       "    <tr>\n",
       "      <th>3</th>\n",
       "      <td>2015</td>\n",
       "      <td>1</td>\n",
       "      <td>1</td>\n",
       "      <td>0</td>\n",
       "      <td>15</td>\n",
       "      <td>1</td>\n",
       "      <td>4</td>\n",
       "      <td>10127</td>\n",
       "      <td>187</td>\n",
       "    </tr>\n",
       "    <tr>\n",
       "      <th>4</th>\n",
       "      <td>2015</td>\n",
       "      <td>1</td>\n",
       "      <td>1</td>\n",
       "      <td>0</td>\n",
       "      <td>15</td>\n",
       "      <td>1</td>\n",
       "      <td>4</td>\n",
       "      <td>10122</td>\n",
       "      <td>218</td>\n",
       "    </tr>\n",
       "  </tbody>\n",
       "</table>\n",
       "</div>"
      ],
      "text/plain": [
       "   year  month  day  hours  minutes  seconds  dias     id  estado\n",
       "0  2015      1    1      0       15        1     4  10102      37\n",
       "1  2015      1    1      0       15        1     4  10104      33\n",
       "2  2015      1    1      0       15        1     4  10124     139\n",
       "3  2015      1    1      0       15        1     4  10127     187\n",
       "4  2015      1    1      0       15        1     4  10122     218"
      ]
     },
     "execution_count": 77,
     "metadata": {},
     "output_type": "execute_result"
    }
   ],
   "source": [
    "dataRFr = dataML.copy()\n",
    "dataRFr = dataRFr.astype(np.int32)\n",
    "\n",
    "dataRFr.head(5)"
   ]
  },
  {
   "cell_type": "code",
   "execution_count": 78,
   "metadata": {},
   "outputs": [],
   "source": [
    "#Selección variables independientes y dependientes\n",
    "X = dataRFr[['year','month','day','hours','minutes','seconds','dias','id']] # Features \n",
    "y = dataRFr['estado'] # Target variable"
   ]
  },
  {
   "cell_type": "code",
   "execution_count": 79,
   "metadata": {},
   "outputs": [],
   "source": [
    "#División Train y Test\n",
    "X_train,X_test,y_train,y_test=train_test_split(X,y,test_size=0.25)"
   ]
  },
  {
   "cell_type": "code",
   "execution_count": 80,
   "metadata": {},
   "outputs": [
    {
     "name": "stderr",
     "output_type": "stream",
     "text": [
      "[Parallel(n_jobs=1)]: Using backend SequentialBackend with 1 concurrent workers.\n"
     ]
    },
    {
     "name": "stdout",
     "output_type": "stream",
     "text": [
      "building tree 1 of 100\n"
     ]
    },
    {
     "name": "stderr",
     "output_type": "stream",
     "text": [
      "[Parallel(n_jobs=1)]: Done   1 out of   1 | elapsed:   19.8s remaining:    0.0s\n"
     ]
    },
    {
     "name": "stdout",
     "output_type": "stream",
     "text": [
      "building tree 2 of 100\n",
      "building tree 3 of 100\n",
      "building tree 4 of 100\n",
      "building tree 5 of 100\n",
      "building tree 6 of 100\n",
      "building tree 7 of 100\n",
      "building tree 8 of 100\n",
      "building tree 9 of 100\n",
      "building tree 10 of 100\n",
      "building tree 11 of 100\n",
      "building tree 12 of 100\n",
      "building tree 13 of 100\n",
      "building tree 14 of 100\n",
      "building tree 15 of 100\n",
      "building tree 16 of 100\n",
      "building tree 17 of 100\n",
      "building tree 18 of 100\n",
      "building tree 19 of 100\n",
      "building tree 20 of 100\n",
      "building tree 21 of 100\n",
      "building tree 22 of 100\n",
      "building tree 23 of 100\n",
      "building tree 24 of 100\n",
      "building tree 25 of 100\n",
      "building tree 26 of 100\n",
      "building tree 27 of 100\n",
      "building tree 28 of 100\n",
      "building tree 29 of 100\n",
      "building tree 30 of 100\n",
      "building tree 31 of 100\n",
      "building tree 32 of 100\n",
      "building tree 33 of 100\n",
      "building tree 34 of 100\n",
      "building tree 35 of 100\n",
      "building tree 36 of 100\n",
      "building tree 37 of 100\n",
      "building tree 38 of 100\n",
      "building tree 39 of 100\n",
      "building tree 40 of 100\n",
      "building tree 41 of 100\n",
      "building tree 42 of 100\n",
      "building tree 43 of 100\n",
      "building tree 44 of 100\n",
      "building tree 45 of 100\n",
      "building tree 46 of 100\n",
      "building tree 47 of 100\n",
      "building tree 48 of 100\n",
      "building tree 49 of 100\n",
      "building tree 50 of 100\n",
      "building tree 51 of 100\n",
      "building tree 52 of 100\n",
      "building tree 53 of 100\n",
      "building tree 54 of 100\n",
      "building tree 55 of 100\n",
      "building tree 56 of 100\n",
      "building tree 57 of 100\n",
      "building tree 58 of 100\n",
      "building tree 59 of 100\n",
      "building tree 60 of 100\n",
      "building tree 61 of 100\n",
      "building tree 62 of 100\n",
      "building tree 63 of 100\n",
      "building tree 64 of 100\n",
      "building tree 65 of 100\n",
      "building tree 66 of 100\n",
      "building tree 67 of 100\n",
      "building tree 68 of 100\n",
      "building tree 69 of 100\n",
      "building tree 70 of 100\n",
      "building tree 71 of 100\n",
      "building tree 72 of 100\n",
      "building tree 73 of 100\n",
      "building tree 74 of 100\n",
      "building tree 75 of 100\n",
      "building tree 76 of 100\n",
      "building tree 77 of 100\n",
      "building tree 78 of 100\n",
      "building tree 79 of 100\n",
      "building tree 80 of 100\n",
      "building tree 81 of 100\n",
      "building tree 82 of 100\n",
      "building tree 83 of 100\n",
      "building tree 84 of 100\n",
      "building tree 85 of 100\n",
      "building tree 86 of 100\n",
      "building tree 87 of 100\n",
      "building tree 88 of 100\n",
      "building tree 89 of 100\n",
      "building tree 90 of 100\n",
      "building tree 91 of 100\n",
      "building tree 92 of 100\n",
      "building tree 93 of 100\n",
      "building tree 94 of 100\n",
      "building tree 95 of 100\n",
      "building tree 96 of 100\n",
      "building tree 97 of 100\n",
      "building tree 98 of 100\n",
      "building tree 99 of 100\n",
      "building tree 100 of 100\n"
     ]
    },
    {
     "name": "stderr",
     "output_type": "stream",
     "text": [
      "[Parallel(n_jobs=1)]: Done 100 out of 100 | elapsed: 34.5min finished\n"
     ]
    },
    {
     "data": {
      "text/plain": [
       "RandomForestRegressor(max_depth=8, random_state=42, verbose=2)"
      ]
     },
     "execution_count": 80,
     "metadata": {},
     "output_type": "execute_result"
    }
   ],
   "source": [
    "rfr = RandomForestRegressor(n_estimators=100,max_depth=8,bootstrap=True,verbose=2,\\\n",
    "                            max_features = 'auto',random_state = 42)\n",
    "\n",
    "# Train the model on training data\n",
    "rfr.fit(X_train, y_train)"
   ]
  },
  {
   "cell_type": "code",
   "execution_count": 81,
   "metadata": {},
   "outputs": [
    {
     "name": "stdout",
     "output_type": "stream",
     "text": [
      "Start:  16:50:26\n"
     ]
    },
    {
     "name": "stderr",
     "output_type": "stream",
     "text": [
      "[Parallel(n_jobs=1)]: Using backend SequentialBackend with 1 concurrent workers.\n",
      "[Parallel(n_jobs=1)]: Done   1 out of   1 | elapsed:    0.2s remaining:    0.0s\n"
     ]
    },
    {
     "name": "stdout",
     "output_type": "stream",
     "text": [
      "Finish:  16:50:39\n"
     ]
    },
    {
     "name": "stderr",
     "output_type": "stream",
     "text": [
      "[Parallel(n_jobs=1)]: Done 100 out of 100 | elapsed:   12.8s finished\n"
     ]
    }
   ],
   "source": [
    "current_init = datetime.datetime.now()\n",
    "print ('Start: ',current_init.strftime(\"%H:%M:%S\"))\n",
    "\n",
    "#predictions\n",
    "y_pred=rfr.predict(X_test)\n",
    "\n",
    "current_end = datetime.datetime.now()\n",
    "print ('Finish: ',current_end.strftime(\"%H:%M:%S\"))"
   ]
  },
  {
   "cell_type": "code",
   "execution_count": 82,
   "metadata": {},
   "outputs": [
    {
     "name": "stdout",
     "output_type": "stream",
     "text": [
      "RMSE RANDOM FOREST:  815.851\n"
     ]
    }
   ],
   "source": [
    "#RMSE\n",
    "print('RMSE RANDOM FOREST: ',round(np.sqrt(metrics.mean_squared_error(y_test, y_pred)),3))"
   ]
  },
  {
   "cell_type": "markdown",
   "metadata": {},
   "source": [
    "### 5.- Naive Bayes"
   ]
  },
  {
   "cell_type": "code",
   "execution_count": 8,
   "metadata": {},
   "outputs": [],
   "source": [
    "#Import Naive Bayes \n",
    "from sklearn.naive_bayes import GaussianNB\n",
    "#from sklearn.naive_bayes import MultinomialNB"
   ]
  },
  {
   "cell_type": "code",
   "execution_count": 21,
   "metadata": {},
   "outputs": [
    {
     "data": {
      "text/html": [
       "<div>\n",
       "<style scoped>\n",
       "    .dataframe tbody tr th:only-of-type {\n",
       "        vertical-align: middle;\n",
       "    }\n",
       "\n",
       "    .dataframe tbody tr th {\n",
       "        vertical-align: top;\n",
       "    }\n",
       "\n",
       "    .dataframe thead th {\n",
       "        text-align: right;\n",
       "    }\n",
       "</style>\n",
       "<table border=\"1\" class=\"dataframe\">\n",
       "  <thead>\n",
       "    <tr style=\"text-align: right;\">\n",
       "      <th></th>\n",
       "      <th>year</th>\n",
       "      <th>month</th>\n",
       "      <th>day</th>\n",
       "      <th>hours</th>\n",
       "      <th>minutes</th>\n",
       "      <th>seconds</th>\n",
       "      <th>dias</th>\n",
       "      <th>id</th>\n",
       "      <th>estado</th>\n",
       "    </tr>\n",
       "  </thead>\n",
       "  <tbody>\n",
       "    <tr>\n",
       "      <th>10000001</th>\n",
       "      <td>2015</td>\n",
       "      <td>11</td>\n",
       "      <td>8</td>\n",
       "      <td>13</td>\n",
       "      <td>0</td>\n",
       "      <td>1</td>\n",
       "      <td>7</td>\n",
       "      <td>10111</td>\n",
       "      <td>1104</td>\n",
       "    </tr>\n",
       "    <tr>\n",
       "      <th>10000002</th>\n",
       "      <td>2015</td>\n",
       "      <td>11</td>\n",
       "      <td>8</td>\n",
       "      <td>13</td>\n",
       "      <td>0</td>\n",
       "      <td>1</td>\n",
       "      <td>7</td>\n",
       "      <td>10112</td>\n",
       "      <td>720</td>\n",
       "    </tr>\n",
       "    <tr>\n",
       "      <th>10000003</th>\n",
       "      <td>2015</td>\n",
       "      <td>11</td>\n",
       "      <td>8</td>\n",
       "      <td>13</td>\n",
       "      <td>0</td>\n",
       "      <td>1</td>\n",
       "      <td>7</td>\n",
       "      <td>10113</td>\n",
       "      <td>255</td>\n",
       "    </tr>\n",
       "    <tr>\n",
       "      <th>10000004</th>\n",
       "      <td>2015</td>\n",
       "      <td>11</td>\n",
       "      <td>8</td>\n",
       "      <td>13</td>\n",
       "      <td>0</td>\n",
       "      <td>1</td>\n",
       "      <td>7</td>\n",
       "      <td>10114</td>\n",
       "      <td>633</td>\n",
       "    </tr>\n",
       "    <tr>\n",
       "      <th>10000005</th>\n",
       "      <td>2015</td>\n",
       "      <td>11</td>\n",
       "      <td>8</td>\n",
       "      <td>13</td>\n",
       "      <td>0</td>\n",
       "      <td>1</td>\n",
       "      <td>7</td>\n",
       "      <td>10115</td>\n",
       "      <td>178</td>\n",
       "    </tr>\n",
       "  </tbody>\n",
       "</table>\n",
       "</div>"
      ],
      "text/plain": [
       "          year  month  day  hours  minutes  seconds  dias     id  estado\n",
       "10000001  2015     11    8     13        0        1     7  10111    1104\n",
       "10000002  2015     11    8     13        0        1     7  10112     720\n",
       "10000003  2015     11    8     13        0        1     7  10113     255\n",
       "10000004  2015     11    8     13        0        1     7  10114     633\n",
       "10000005  2015     11    8     13        0        1     7  10115     178"
      ]
     },
     "execution_count": 21,
     "metadata": {},
     "output_type": "execute_result"
    }
   ],
   "source": [
    "#dataNB = dataML.copy()\n",
    "#dataNB = dataML.iloc[0:200000,:].copy()\n",
    "#dataNB = dataML.iloc[0:2000000,:].copy()\n",
    "#dataNB = dataML.iloc[2000001:4000000,:].copy()\n",
    "#dataNB = dataML.iloc[4000001:6000000,:].copy()\n",
    "#dataNB = dataML.iloc[6000001:8000000,:].copy()\n",
    "#dataNB = dataML.iloc[8000001:10000000,:].copy()\n",
    "dataNB = dataML.iloc[10000001:11899959,:].copy()\n",
    "dataNB = dataNB.astype(np.int32)\n",
    "dataNB.head(5)"
   ]
  },
  {
   "cell_type": "code",
   "execution_count": 22,
   "metadata": {},
   "outputs": [
    {
     "data": {
      "text/plain": [
       "year       int32\n",
       "month      int32\n",
       "day        int32\n",
       "hours      int32\n",
       "minutes    int32\n",
       "seconds    int32\n",
       "dias       int32\n",
       "id         int32\n",
       "estado     int32\n",
       "dtype: object"
      ]
     },
     "execution_count": 22,
     "metadata": {},
     "output_type": "execute_result"
    }
   ],
   "source": [
    "dataNB.dtypes"
   ]
  },
  {
   "cell_type": "code",
   "execution_count": 23,
   "metadata": {},
   "outputs": [
    {
     "data": {
      "text/plain": [
       "year       1899958\n",
       "month      1899958\n",
       "day        1899958\n",
       "hours      1899958\n",
       "minutes    1899958\n",
       "seconds    1899958\n",
       "dias       1899958\n",
       "id         1899958\n",
       "estado     1899958\n",
       "dtype: int64"
      ]
     },
     "execution_count": 23,
     "metadata": {},
     "output_type": "execute_result"
    }
   ],
   "source": [
    "dataNB.count()"
   ]
  },
  {
   "cell_type": "code",
   "execution_count": 24,
   "metadata": {},
   "outputs": [],
   "source": [
    "#Selección variables independientes y dependientes\n",
    "X = dataNB[['year','month','day','hours','minutes','seconds','dias','id']] # Features \n",
    "y = dataNB['estado'] # Target variable"
   ]
  },
  {
   "cell_type": "code",
   "execution_count": 25,
   "metadata": {},
   "outputs": [],
   "source": [
    "#División Train y Test\n",
    "X_train,X_test,y_train,y_test=train_test_split(X,y,test_size=0.25)"
   ]
  },
  {
   "cell_type": "code",
   "execution_count": 26,
   "metadata": {},
   "outputs": [],
   "source": [
    "sc = StandardScaler()\n",
    "X_train = sc.fit_transform(X_train)\n",
    "X_test = sc.transform(X_test)"
   ]
  },
  {
   "cell_type": "code",
   "execution_count": 27,
   "metadata": {},
   "outputs": [
    {
     "data": {
      "text/plain": [
       "GaussianNB()"
      ]
     },
     "execution_count": 27,
     "metadata": {},
     "output_type": "execute_result"
    }
   ],
   "source": [
    "#Classifier\n",
    "modelo_NB = GaussianNB()\n",
    "#modelo_NB = MultinomialNB(alpha=0.001, class_prior=None, fit_prior=True)\n",
    "#Training the model \n",
    "modelo_NB.fit(X_train, y_train)"
   ]
  },
  {
   "cell_type": "code",
   "execution_count": 28,
   "metadata": {},
   "outputs": [
    {
     "name": "stdout",
     "output_type": "stream",
     "text": [
      "Start:  13:16:48\n",
      "Finish:  13:55:55\n"
     ]
    }
   ],
   "source": [
    "current_init = datetime.datetime.now()\n",
    "print ('Start: ',current_init.strftime(\"%H:%M:%S\"))\n",
    "\n",
    "#Predictions\n",
    "y_pred = modelo_NB.predict(X_test)\n",
    "\n",
    "current_end = datetime.datetime.now()\n",
    "print ('Finish: ',current_end.strftime(\"%H:%M:%S\"))"
   ]
  },
  {
   "cell_type": "code",
   "execution_count": 29,
   "metadata": {},
   "outputs": [
    {
     "data": {
      "text/html": [
       "<div>\n",
       "<style scoped>\n",
       "    .dataframe tbody tr th:only-of-type {\n",
       "        vertical-align: middle;\n",
       "    }\n",
       "\n",
       "    .dataframe tbody tr th {\n",
       "        vertical-align: top;\n",
       "    }\n",
       "\n",
       "    .dataframe thead th {\n",
       "        text-align: right;\n",
       "    }\n",
       "</style>\n",
       "<table border=\"1\" class=\"dataframe\">\n",
       "  <thead>\n",
       "    <tr style=\"text-align: right;\">\n",
       "      <th></th>\n",
       "      <th>Actual</th>\n",
       "      <th>Predicción</th>\n",
       "    </tr>\n",
       "  </thead>\n",
       "  <tbody>\n",
       "    <tr>\n",
       "      <th>11021849</th>\n",
       "      <td>203</td>\n",
       "      <td>7147</td>\n",
       "    </tr>\n",
       "    <tr>\n",
       "      <th>11397238</th>\n",
       "      <td>37</td>\n",
       "      <td>6161</td>\n",
       "    </tr>\n",
       "    <tr>\n",
       "      <th>11129876</th>\n",
       "      <td>1718</td>\n",
       "      <td>7502</td>\n",
       "    </tr>\n",
       "    <tr>\n",
       "      <th>11251709</th>\n",
       "      <td>118</td>\n",
       "      <td>6341</td>\n",
       "    </tr>\n",
       "    <tr>\n",
       "      <th>11074675</th>\n",
       "      <td>75</td>\n",
       "      <td>6310</td>\n",
       "    </tr>\n",
       "  </tbody>\n",
       "</table>\n",
       "</div>"
      ],
      "text/plain": [
       "          Actual  Predicción\n",
       "11021849     203        7147\n",
       "11397238      37        6161\n",
       "11129876    1718        7502\n",
       "11251709     118        6341\n",
       "11074675      75        6310"
      ]
     },
     "execution_count": 29,
     "metadata": {},
     "output_type": "execute_result"
    }
   ],
   "source": [
    "df_predNB = pd.DataFrame({'Actual': y_test, 'Predicción': y_pred})\n",
    "df_predNB.head(5)"
   ]
  },
  {
   "cell_type": "code",
   "execution_count": 30,
   "metadata": {},
   "outputs": [
    {
     "name": "stdout",
     "output_type": "stream",
     "text": [
      "Accuracy NB:  0.009\n"
     ]
    }
   ],
   "source": [
    "#Precisión del Modelo \n",
    "acc_NB = metrics.accuracy_score(y_test, y_pred)*100\n",
    "print('Accuracy NB: ',round(acc_NB,3))"
   ]
  },
  {
   "cell_type": "code",
   "execution_count": 31,
   "metadata": {},
   "outputs": [
    {
     "name": "stdout",
     "output_type": "stream",
     "text": [
      "RMSE PARCIAL NB:  6029.654\n"
     ]
    }
   ],
   "source": [
    "#RMSE de NB\n",
    "print('RMSE PARCIAL NB: ',round(np.sqrt(metrics.mean_squared_error(y_test, y_pred)),3))"
   ]
  },
  {
   "cell_type": "code",
   "execution_count": 32,
   "metadata": {},
   "outputs": [
    {
     "name": "stdout",
     "output_type": "stream",
     "text": [
      "RMSE TOTAL NB: 6034.13\n"
     ]
    }
   ],
   "source": [
    "#RMSE - 0:2000000           = 6025.122\n",
    "#RMSE - 2000001 - 4000000   = 6207.478\n",
    "#RMSE - 4000001 - 6000000   = 6164.226\n",
    "#RMSE - 6000001 - 8000000   = 5625.369\n",
    "#RMSE - 8000001 - 10000000  = 6152.952\n",
    "#RMSE - 10000001 - 11899959 = 6029.654\n",
    "\n",
    "rmse_NB = statistics.mean([6025.122,6207.478,6164.226,5625.369,6152.952,6029.654])\n",
    "print('RMSE TOTAL NB:',round(rmse_NB,2))"
   ]
  },
  {
   "cell_type": "markdown",
   "metadata": {},
   "source": [
    "### Neural Network"
   ]
  },
  {
   "cell_type": "code",
   "execution_count": 94,
   "metadata": {},
   "outputs": [],
   "source": [
    "import tensorflow as tf\n",
    "from tensorflow.keras import Sequential\n",
    "from tensorflow.keras.layers import Dense, Dropout\n",
    "from tensorflow import keras\n",
    "\n",
    "from sklearn.preprocessing import StandardScaler,LabelEncoder, OneHotEncoder\n",
    "from sklearn.compose import make_column_transformer, ColumnTransformer"
   ]
  },
  {
   "cell_type": "code",
   "execution_count": 95,
   "metadata": {},
   "outputs": [
    {
     "name": "stdout",
     "output_type": "stream",
     "text": [
      "Versión TensorFlow:  2.3.0\n"
     ]
    }
   ],
   "source": [
    "print('Versión TensorFlow: ',tf.__version__)"
   ]
  },
  {
   "cell_type": "code",
   "execution_count": 96,
   "metadata": {},
   "outputs": [
    {
     "data": {
      "text/html": [
       "<div>\n",
       "<style scoped>\n",
       "    .dataframe tbody tr th:only-of-type {\n",
       "        vertical-align: middle;\n",
       "    }\n",
       "\n",
       "    .dataframe tbody tr th {\n",
       "        vertical-align: top;\n",
       "    }\n",
       "\n",
       "    .dataframe thead th {\n",
       "        text-align: right;\n",
       "    }\n",
       "</style>\n",
       "<table border=\"1\" class=\"dataframe\">\n",
       "  <thead>\n",
       "    <tr style=\"text-align: right;\">\n",
       "      <th></th>\n",
       "      <th>year</th>\n",
       "      <th>month</th>\n",
       "      <th>day</th>\n",
       "      <th>hours</th>\n",
       "      <th>minutes</th>\n",
       "      <th>seconds</th>\n",
       "      <th>dias</th>\n",
       "      <th>id</th>\n",
       "      <th>estado</th>\n",
       "    </tr>\n",
       "  </thead>\n",
       "  <tbody>\n",
       "    <tr>\n",
       "      <th>0</th>\n",
       "      <td>2015</td>\n",
       "      <td>1</td>\n",
       "      <td>1</td>\n",
       "      <td>0</td>\n",
       "      <td>15</td>\n",
       "      <td>1</td>\n",
       "      <td>4</td>\n",
       "      <td>10102</td>\n",
       "      <td>37</td>\n",
       "    </tr>\n",
       "    <tr>\n",
       "      <th>1</th>\n",
       "      <td>2015</td>\n",
       "      <td>1</td>\n",
       "      <td>1</td>\n",
       "      <td>0</td>\n",
       "      <td>15</td>\n",
       "      <td>1</td>\n",
       "      <td>4</td>\n",
       "      <td>10104</td>\n",
       "      <td>33</td>\n",
       "    </tr>\n",
       "    <tr>\n",
       "      <th>2</th>\n",
       "      <td>2015</td>\n",
       "      <td>1</td>\n",
       "      <td>1</td>\n",
       "      <td>0</td>\n",
       "      <td>15</td>\n",
       "      <td>1</td>\n",
       "      <td>4</td>\n",
       "      <td>10124</td>\n",
       "      <td>139</td>\n",
       "    </tr>\n",
       "    <tr>\n",
       "      <th>3</th>\n",
       "      <td>2015</td>\n",
       "      <td>1</td>\n",
       "      <td>1</td>\n",
       "      <td>0</td>\n",
       "      <td>15</td>\n",
       "      <td>1</td>\n",
       "      <td>4</td>\n",
       "      <td>10127</td>\n",
       "      <td>187</td>\n",
       "    </tr>\n",
       "    <tr>\n",
       "      <th>4</th>\n",
       "      <td>2015</td>\n",
       "      <td>1</td>\n",
       "      <td>1</td>\n",
       "      <td>0</td>\n",
       "      <td>15</td>\n",
       "      <td>1</td>\n",
       "      <td>4</td>\n",
       "      <td>10122</td>\n",
       "      <td>218</td>\n",
       "    </tr>\n",
       "  </tbody>\n",
       "</table>\n",
       "</div>"
      ],
      "text/plain": [
       "   year  month  day  hours  minutes  seconds  dias     id  estado\n",
       "0  2015      1    1      0       15        1     4  10102      37\n",
       "1  2015      1    1      0       15        1     4  10104      33\n",
       "2  2015      1    1      0       15        1     4  10124     139\n",
       "3  2015      1    1      0       15        1     4  10127     187\n",
       "4  2015      1    1      0       15        1     4  10122     218"
      ]
     },
     "execution_count": 96,
     "metadata": {},
     "output_type": "execute_result"
    }
   ],
   "source": [
    "dataNN = dataML.copy()\n",
    "dataNN = dataNN.astype(np.int32)\n",
    "dataNN.head(5)"
   ]
  },
  {
   "cell_type": "code",
   "execution_count": 97,
   "metadata": {},
   "outputs": [],
   "source": [
    "#Selección variables independientes y dependientes\n",
    "X = dataNN[['year','month','day','hours','minutes','seconds','dias','id']] # Features \n",
    "y = dataNN['estado'] # Target variable"
   ]
  },
  {
   "cell_type": "code",
   "execution_count": 98,
   "metadata": {},
   "outputs": [],
   "source": [
    "#División Train y Test\n",
    "X_train,X_test,y_train,y_test=train_test_split(X,y,test_size=0.25,random_state=42)"
   ]
  },
  {
   "cell_type": "code",
   "execution_count": 99,
   "metadata": {},
   "outputs": [
    {
     "name": "stdout",
     "output_type": "stream",
     "text": [
      "(8924969, 8) (2974990, 8) (8924969,) (2974990,)\n"
     ]
    }
   ],
   "source": [
    "print(X_train.shape, X_test.shape, y_train.shape, y_test.shape)"
   ]
  },
  {
   "cell_type": "code",
   "execution_count": 100,
   "metadata": {},
   "outputs": [
    {
     "name": "stdout",
     "output_type": "stream",
     "text": [
      "Entrenamiento:  (8924969, 8)\n",
      "Test:  (2974990, 8)\n"
     ]
    }
   ],
   "source": [
    "print('Entrenamiento: ',X_train.shape)\n",
    "print('Test: ', X_test.shape)"
   ]
  },
  {
   "cell_type": "code",
   "execution_count": 101,
   "metadata": {},
   "outputs": [],
   "source": [
    "# Define the scaler \n",
    "scaler = StandardScaler().fit(X_train)\n",
    "\n",
    "# Scale the train set\n",
    "X_train = scaler.transform(X_train)\n",
    "\n",
    "# Scale the test set\n",
    "X_test = scaler.transform(X_test)"
   ]
  },
  {
   "cell_type": "code",
   "execution_count": 102,
   "metadata": {},
   "outputs": [],
   "source": [
    "#determine the number of input features\n",
    "\n",
    "model = keras.Sequential()\n",
    "model.add(Dense(12, activation='relu', kernel_initializer='he_normal',input_dim=8)) #capa oculta\n",
    "model.add( Dropout(0.5) ) #avoid overfitting\n",
    "\n",
    "model.add(Dense(8,activation='relu', kernel_initializer='he_normal')) #capa oculta\n",
    "model.add( Dropout(0.5) )\n",
    "\n",
    "model.add(Dense(4,activation='relu', kernel_initializer='he_normal')) #capa oculta\n",
    "model.add( Dropout(0.5) )\n",
    "\n",
    "model.add(Dense(1,activation='sigmoid')) #capa salida\n",
    "model.add( Dropout(0.5) )"
   ]
  },
  {
   "cell_type": "code",
   "execution_count": 103,
   "metadata": {},
   "outputs": [
    {
     "name": "stdout",
     "output_type": "stream",
     "text": [
      "Model: \"sequential\"\n",
      "_________________________________________________________________\n",
      "Layer (type)                 Output Shape              Param #   \n",
      "=================================================================\n",
      "dense (Dense)                (None, 12)                108       \n",
      "_________________________________________________________________\n",
      "dropout (Dropout)            (None, 12)                0         \n",
      "_________________________________________________________________\n",
      "dense_1 (Dense)              (None, 8)                 104       \n",
      "_________________________________________________________________\n",
      "dropout_1 (Dropout)          (None, 8)                 0         \n",
      "_________________________________________________________________\n",
      "dense_2 (Dense)              (None, 4)                 36        \n",
      "_________________________________________________________________\n",
      "dropout_2 (Dropout)          (None, 4)                 0         \n",
      "_________________________________________________________________\n",
      "dense_3 (Dense)              (None, 1)                 5         \n",
      "_________________________________________________________________\n",
      "dropout_3 (Dropout)          (None, 1)                 0         \n",
      "=================================================================\n",
      "Total params: 253\n",
      "Trainable params: 253\n",
      "Non-trainable params: 0\n",
      "_________________________________________________________________\n"
     ]
    }
   ],
   "source": [
    "#model.compile(optimizer='adam', loss='binary_crossentropy', metrics=['accuracy'])\n",
    "model.compile(optimizer='adam',\\\n",
    "              loss='mean_squared_error',\\\n",
    "              metrics=['mse'])\n",
    "model.summary()"
   ]
  },
  {
   "cell_type": "code",
   "execution_count": 110,
   "metadata": {},
   "outputs": [
    {
     "name": "stdout",
     "output_type": "stream",
     "text": [
      "Epoch 1/50\n",
      "6/6 [==============================] - 3s 495ms/step - loss: 1849963.5000 - mse: 1849963.5000 - val_loss: 1847315.3750 - val_mse: 1847315.3750\n",
      "Epoch 2/50\n",
      "6/6 [==============================] - 2s 365ms/step - loss: 1849962.7500 - mse: 1849962.7500 - val_loss: 1847315.3750 - val_mse: 1847315.3750\n",
      "Epoch 3/50\n",
      "6/6 [==============================] - 2s 376ms/step - loss: 1849963.1250 - mse: 1849963.1250 - val_loss: 1847315.3750 - val_mse: 1847315.3750\n",
      "Epoch 4/50\n",
      "6/6 [==============================] - 3s 466ms/step - loss: 1849961.5000 - mse: 1849961.5000 - val_loss: 1847315.1250 - val_mse: 1847315.1250\n",
      "Epoch 5/50\n",
      "6/6 [==============================] - 3s 424ms/step - loss: 1849961.3750 - mse: 1849961.3750 - val_loss: 1847315.1250 - val_mse: 1847315.1250\n",
      "Epoch 6/50\n",
      "6/6 [==============================] - 2s 388ms/step - loss: 1849960.7500 - mse: 1849960.7500 - val_loss: 1847315.1250 - val_mse: 1847315.1250\n",
      "Epoch 7/50\n",
      "6/6 [==============================] - 2s 379ms/step - loss: 1849959.3750 - mse: 1849959.3750 - val_loss: 1847315.1250 - val_mse: 1847315.1250\n",
      "Epoch 8/50\n",
      "6/6 [==============================] - 3s 425ms/step - loss: 1849959.5000 - mse: 1849959.5000 - val_loss: 1847315.1250 - val_mse: 1847315.1250\n",
      "Epoch 9/50\n",
      "6/6 [==============================] - 2s 368ms/step - loss: 1849958.7500 - mse: 1849958.7500 - val_loss: 1847315.1250 - val_mse: 1847315.1250\n",
      "Epoch 10/50\n",
      "6/6 [==============================] - 2s 376ms/step - loss: 1849956.0000 - mse: 1849956.0000 - val_loss: 1847315.1250 - val_mse: 1847315.1250\n",
      "Epoch 11/50\n",
      "6/6 [==============================] - 2s 374ms/step - loss: 1849956.5000 - mse: 1849956.5000 - val_loss: 1847315.1250 - val_mse: 1847315.1250\n",
      "Epoch 12/50\n",
      "6/6 [==============================] - 2s 399ms/step - loss: 1849955.5000 - mse: 1849955.5000 - val_loss: 1847315.1250 - val_mse: 1847315.1250\n",
      "Epoch 13/50\n",
      "6/6 [==============================] - 2s 391ms/step - loss: 1849955.6250 - mse: 1849955.6250 - val_loss: 1847315.1250 - val_mse: 1847315.1250\n",
      "Epoch 14/50\n",
      "6/6 [==============================] - 2s 374ms/step - loss: 1849954.5000 - mse: 1849954.5000 - val_loss: 1847315.1250 - val_mse: 1847315.1250\n",
      "Epoch 15/50\n",
      "6/6 [==============================] - 2s 395ms/step - loss: 1849953.2500 - mse: 1849953.2500 - val_loss: 1847315.1250 - val_mse: 1847315.1250\n",
      "Epoch 16/50\n",
      "6/6 [==============================] - 2s 380ms/step - loss: 1849953.8750 - mse: 1849953.8750 - val_loss: 1847315.1250 - val_mse: 1847315.1250\n",
      "Epoch 17/50\n",
      "6/6 [==============================] - 2s 372ms/step - loss: 1849951.1250 - mse: 1849951.1250 - val_loss: 1847315.1250 - val_mse: 1847315.1250\n",
      "Epoch 18/50\n",
      "6/6 [==============================] - 2s 384ms/step - loss: 1849951.8750 - mse: 1849951.8750 - val_loss: 1847315.1250 - val_mse: 1847315.1250\n",
      "Epoch 19/50\n",
      "6/6 [==============================] - 2s 407ms/step - loss: 1849950.1250 - mse: 1849950.1250 - val_loss: 1847315.1250 - val_mse: 1847315.1250\n",
      "Epoch 20/50\n",
      "6/6 [==============================] - 2s 374ms/step - loss: 1849947.5000 - mse: 1849947.5000 - val_loss: 1847315.1250 - val_mse: 1847315.1250\n",
      "Epoch 21/50\n",
      "6/6 [==============================] - 2s 384ms/step - loss: 1849947.6250 - mse: 1849947.6250 - val_loss: 1847315.1250 - val_mse: 1847315.1250\n",
      "Epoch 22/50\n",
      "6/6 [==============================] - 2s 383ms/step - loss: 1849947.7500 - mse: 1849947.7500 - val_loss: 1847315.1250 - val_mse: 1847315.1250\n",
      "Epoch 23/50\n",
      "6/6 [==============================] - 2s 416ms/step - loss: 1849946.2500 - mse: 1849946.2500 - val_loss: 1847315.1250 - val_mse: 1847315.1250\n",
      "Epoch 24/50\n",
      "6/6 [==============================] - 2s 386ms/step - loss: 1849946.3750 - mse: 1849946.3750 - val_loss: 1847315.1250 - val_mse: 1847315.1250\n",
      "Epoch 25/50\n",
      "6/6 [==============================] - 2s 373ms/step - loss: 1849944.2500 - mse: 1849944.2500 - val_loss: 1847315.1250 - val_mse: 1847315.1250\n",
      "Epoch 26/50\n",
      "6/6 [==============================] - 2s 378ms/step - loss: 1849943.0000 - mse: 1849943.0000 - val_loss: 1847315.1250 - val_mse: 1847315.1250\n",
      "Epoch 27/50\n",
      "6/6 [==============================] - 2s 384ms/step - loss: 1849943.3750 - mse: 1849943.3750 - val_loss: 1847315.1250 - val_mse: 1847315.1250\n",
      "Epoch 28/50\n",
      "6/6 [==============================] - 2s 393ms/step - loss: 1849941.2500 - mse: 1849941.2500 - val_loss: 1847315.1250 - val_mse: 1847315.1250\n",
      "Epoch 29/50\n",
      "6/6 [==============================] - 2s 373ms/step - loss: 1849941.0000 - mse: 1849941.0000 - val_loss: 1847315.1250 - val_mse: 1847315.1250\n",
      "Epoch 30/50\n",
      "6/6 [==============================] - 3s 434ms/step - loss: 1849939.7500 - mse: 1849939.7500 - val_loss: 1847315.1250 - val_mse: 1847315.1250\n",
      "Epoch 31/50\n",
      "6/6 [==============================] - 2s 375ms/step - loss: 1849939.3750 - mse: 1849939.3750 - val_loss: 1847315.1250 - val_mse: 1847315.1250\n",
      "Epoch 32/50\n",
      "6/6 [==============================] - 3s 446ms/step - loss: 1849939.7500 - mse: 1849939.7500 - val_loss: 1847315.1250 - val_mse: 1847315.1250\n",
      "Epoch 33/50\n",
      "6/6 [==============================] - 3s 516ms/step - loss: 1849940.5000 - mse: 1849940.5000 - val_loss: 1847315.1250 - val_mse: 1847315.1250\n",
      "Epoch 34/50\n",
      "6/6 [==============================] - 3s 472ms/step - loss: 1849939.0000 - mse: 1849939.0000 - val_loss: 1847315.1250 - val_mse: 1847315.1250\n",
      "Epoch 35/50\n",
      "6/6 [==============================] - 3s 493ms/step - loss: 1849939.1250 - mse: 1849939.1250 - val_loss: 1847315.1250 - val_mse: 1847315.1250\n",
      "Epoch 36/50\n",
      "6/6 [==============================] - 3s 480ms/step - loss: 1849937.5000 - mse: 1849937.5000 - val_loss: 1847315.1250 - val_mse: 1847315.1250\n",
      "Epoch 37/50\n",
      "6/6 [==============================] - 3s 422ms/step - loss: 1849934.8750 - mse: 1849934.8750 - val_loss: 1847315.1250 - val_mse: 1847315.1250\n",
      "Epoch 38/50\n",
      "6/6 [==============================] - 3s 418ms/step - loss: 1849936.7500 - mse: 1849936.7500 - val_loss: 1847315.1250 - val_mse: 1847315.1250\n",
      "Epoch 39/50\n",
      "6/6 [==============================] - 3s 421ms/step - loss: 1849935.7500 - mse: 1849935.7500 - val_loss: 1847315.1250 - val_mse: 1847315.1250\n",
      "Epoch 40/50\n",
      "6/6 [==============================] - 3s 478ms/step - loss: 1849934.3750 - mse: 1849934.3750 - val_loss: 1847315.1250 - val_mse: 1847315.1250\n",
      "Epoch 41/50\n",
      "6/6 [==============================] - 3s 419ms/step - loss: 1849933.3750 - mse: 1849933.3750 - val_loss: 1847315.1250 - val_mse: 1847315.1250\n",
      "Epoch 42/50\n",
      "6/6 [==============================] - 3s 419ms/step - loss: 1849935.3750 - mse: 1849935.3750 - val_loss: 1847315.1250 - val_mse: 1847315.1250\n",
      "Epoch 43/50\n",
      "6/6 [==============================] - 2s 404ms/step - loss: 1849932.2500 - mse: 1849932.2500 - val_loss: 1847315.1250 - val_mse: 1847315.1250\n",
      "Epoch 44/50\n",
      "6/6 [==============================] - 2s 368ms/step - loss: 1849934.1250 - mse: 1849934.1250 - val_loss: 1847315.1250 - val_mse: 1847315.1250\n",
      "Epoch 45/50\n",
      "6/6 [==============================] - 2s 384ms/step - loss: 1849932.7500 - mse: 1849932.7500 - val_loss: 1847315.1250 - val_mse: 1847315.1250\n",
      "Epoch 46/50\n",
      "6/6 [==============================] - 2s 364ms/step - loss: 1849933.1250 - mse: 1849933.1250 - val_loss: 1847315.1250 - val_mse: 1847315.1250\n",
      "Epoch 47/50\n",
      "6/6 [==============================] - 2s 371ms/step - loss: 1849931.1250 - mse: 1849931.1250 - val_loss: 1847315.1250 - val_mse: 1847315.1250\n",
      "Epoch 48/50\n",
      "6/6 [==============================] - 2s 353ms/step - loss: 1849932.1250 - mse: 1849932.1250 - val_loss: 1847315.1250 - val_mse: 1847315.1250\n",
      "Epoch 49/50\n",
      "6/6 [==============================] - 2s 377ms/step - loss: 1849930.3750 - mse: 1849930.3750 - val_loss: 1847315.1250 - val_mse: 1847315.1250\n",
      "Epoch 50/50\n",
      "6/6 [==============================] - 2s 368ms/step - loss: 1849931.6250 - mse: 1849931.6250 - val_loss: 1847315.1250 - val_mse: 1847315.1250\n"
     ]
    },
    {
     "data": {
      "text/plain": [
       "<tensorflow.python.keras.callbacks.History at 0x14c94b810>"
      ]
     },
     "execution_count": 110,
     "metadata": {},
     "output_type": "execute_result"
    }
   ],
   "source": [
    "model_NN = model.fit(X_train, y_train, \\\n",
    "                    batch_size=1500000, \\\n",
    "                    epochs=50, \\\n",
    "                    verbose=1, \\\n",
    "                    shuffle=True,\\\n",
    "                    validation_data=(X_test, y_test))\n",
    "model_NN"
   ]
  },
  {
   "cell_type": "code",
   "execution_count": 111,
   "metadata": {},
   "outputs": [
    {
     "name": "stdout",
     "output_type": "stream",
     "text": [
      "Start:  17:08:53\n",
      "Finish:  17:09:29\n"
     ]
    }
   ],
   "source": [
    "current_init = datetime.datetime.now()\n",
    "print ('Start: ',current_init.strftime(\"%H:%M:%S\"))\n",
    "\n",
    "#Model Predictions\n",
    "y_pred = model.predict(X_test)\n",
    "\n",
    "current_end = datetime.datetime.now()\n",
    "print ('Finish: ',current_end.strftime(\"%H:%M:%S\"))"
   ]
  },
  {
   "cell_type": "code",
   "execution_count": 131,
   "metadata": {},
   "outputs": [
    {
     "data": {
      "text/plain": [
       "array([[1.],\n",
       "       [1.],\n",
       "       [1.],\n",
       "       ...,\n",
       "       [1.],\n",
       "       [1.],\n",
       "       [1.]], dtype=float32)"
      ]
     },
     "execution_count": 131,
     "metadata": {},
     "output_type": "execute_result"
    }
   ],
   "source": [
    "y_pred"
   ]
  },
  {
   "cell_type": "code",
   "execution_count": 112,
   "metadata": {},
   "outputs": [
    {
     "name": "stdout",
     "output_type": "stream",
     "text": [
      "Start:  17:09:33\n",
      "Accuracy: 1847303.12\n",
      "Finish:  17:10:11\n"
     ]
    }
   ],
   "source": [
    "current_init = datetime.datetime.now()\n",
    "print ('Start: ',current_init.strftime(\"%H:%M:%S\"))\n",
    "\n",
    "# evaluate the model\n",
    "loss, acc_nn = model.evaluate(X_test, y_test,verbose=0)\n",
    "print('Accuracy: %.2f' % (acc_nn))\n",
    "\n",
    "current_end = datetime.datetime.now()\n",
    "print ('Finish: ',current_end.strftime(\"%H:%M:%S\"))"
   ]
  },
  {
   "cell_type": "code",
   "execution_count": 113,
   "metadata": {},
   "outputs": [
    {
     "name": "stdout",
     "output_type": "stream",
     "text": [
      "RMSE NN 1359.155\n"
     ]
    }
   ],
   "source": [
    "import math\n",
    "rmse_nn = math.sqrt(acc_nn)\n",
    "print('RMSE NN',round(rmse_nn,3))"
   ]
  },
  {
   "cell_type": "markdown",
   "metadata": {},
   "source": [
    "### Comparación Modelos"
   ]
  },
  {
   "cell_type": "code",
   "execution_count": 83,
   "metadata": {},
   "outputs": [
    {
     "data": {
      "text/html": [
       "<style  type=\"text/css\" >\n",
       "#T_6f648b16_7393_11eb_9e6a_f0189802bde0row0_col0,#T_6f648b16_7393_11eb_9e6a_f0189802bde0row0_col1,#T_6f648b16_7393_11eb_9e6a_f0189802bde0row0_col2,#T_6f648b16_7393_11eb_9e6a_f0189802bde0row0_col3,#T_6f648b16_7393_11eb_9e6a_f0189802bde0row0_col4{\n",
       "            background-color:  #d6eaf8;\n",
       "            color:   #FFC300 ;\n",
       "            border-color:  black;\n",
       "        }</style><table id=\"T_6f648b16_7393_11eb_9e6a_f0189802bde0\" ><thead>    <tr>        <th class=\"col_heading level0 col0\" >Regresión Lineal</th>        <th class=\"col_heading level0 col1\" >K-NN</th>        <th class=\"col_heading level0 col2\" >Random Forest</th>        <th class=\"col_heading level0 col3\" >Naive-Bayes</th>        <th class=\"col_heading level0 col4\" >Redes Neuronales</th>    </tr></thead><tbody>\n",
       "                <tr>\n",
       "                                <td id=\"T_6f648b16_7393_11eb_9e6a_f0189802bde0row0_col0\" class=\"data row0 col0\" >1060.52</td>\n",
       "                        <td id=\"T_6f648b16_7393_11eb_9e6a_f0189802bde0row0_col1\" class=\"data row0 col1\" >709.49</td>\n",
       "                        <td id=\"T_6f648b16_7393_11eb_9e6a_f0189802bde0row0_col2\" class=\"data row0 col2\" >815.85</td>\n",
       "                        <td id=\"T_6f648b16_7393_11eb_9e6a_f0189802bde0row0_col3\" class=\"data row0 col3\" >6034.13</td>\n",
       "                        <td id=\"T_6f648b16_7393_11eb_9e6a_f0189802bde0row0_col4\" class=\"data row0 col4\" >1359.15</td>\n",
       "            </tr>\n",
       "    </tbody></table>"
      ],
      "text/plain": [
       "<pandas.io.formats.style.Styler at 0x12b626290>"
      ]
     },
     "execution_count": 83,
     "metadata": {},
     "output_type": "execute_result"
    }
   ],
   "source": [
    "rmse_values = [1060.522,709.493,815.851,6034.13,1359.155]\n",
    "\n",
    "df_rmse = pd.DataFrame([rmse_values],columns=['Regresión Lineal','K-NN','Random Forest','Naive-Bayes',\\\n",
    "                                            'Redes Neuronales'])\n",
    "\n",
    "df_rmse.style.format({\"Regresión Lineal\": \"{:.2f}\", \n",
    "                        \"K-NN\": \"{:.2f}\",\n",
    "                        \"Random Forest\": \"{:.2f}\",\n",
    "                        \"Naive-Bayes\": \"{:.2f}\",\n",
    "                        \"Redes Neuronales\":\"{:.2f}\"})\\\n",
    "             .hide_index()\\\n",
    "             .set_properties(**{'background-color': '#d6eaf8',                                                   \n",
    "                                'color': ' #FFC300 ',                       \n",
    "                                'border-color': 'black'})"
   ]
  },
  {
   "cell_type": "markdown",
   "metadata": {},
   "source": [
    "## Predicciones sobre Modelos"
   ]
  },
  {
   "cell_type": "code",
   "execution_count": 65,
   "metadata": {
    "scrolled": true
   },
   "outputs": [
    {
     "data": {
      "text/html": [
       "<div>\n",
       "<style scoped>\n",
       "    .dataframe tbody tr th:only-of-type {\n",
       "        vertical-align: middle;\n",
       "    }\n",
       "\n",
       "    .dataframe tbody tr th {\n",
       "        vertical-align: top;\n",
       "    }\n",
       "\n",
       "    .dataframe thead th {\n",
       "        text-align: right;\n",
       "    }\n",
       "</style>\n",
       "<table border=\"1\" class=\"dataframe\">\n",
       "  <thead>\n",
       "    <tr style=\"text-align: right;\">\n",
       "      <th></th>\n",
       "      <th>year</th>\n",
       "      <th>month</th>\n",
       "      <th>day</th>\n",
       "      <th>hours</th>\n",
       "      <th>minutes</th>\n",
       "      <th>seconds</th>\n",
       "      <th>dias</th>\n",
       "      <th>id</th>\n",
       "    </tr>\n",
       "  </thead>\n",
       "  <tbody>\n",
       "    <tr>\n",
       "      <th>0</th>\n",
       "      <td>2021</td>\n",
       "      <td>3</td>\n",
       "      <td>17</td>\n",
       "      <td>9</td>\n",
       "      <td>0</td>\n",
       "      <td>0</td>\n",
       "      <td>3</td>\n",
       "      <td>10373</td>\n",
       "    </tr>\n",
       "    <tr>\n",
       "      <th>1</th>\n",
       "      <td>2021</td>\n",
       "      <td>3</td>\n",
       "      <td>17</td>\n",
       "      <td>9</td>\n",
       "      <td>0</td>\n",
       "      <td>0</td>\n",
       "      <td>3</td>\n",
       "      <td>1072</td>\n",
       "    </tr>\n",
       "    <tr>\n",
       "      <th>2</th>\n",
       "      <td>2021</td>\n",
       "      <td>3</td>\n",
       "      <td>17</td>\n",
       "      <td>9</td>\n",
       "      <td>0</td>\n",
       "      <td>0</td>\n",
       "      <td>3</td>\n",
       "      <td>10193</td>\n",
       "    </tr>\n",
       "    <tr>\n",
       "      <th>3</th>\n",
       "      <td>2021</td>\n",
       "      <td>3</td>\n",
       "      <td>17</td>\n",
       "      <td>14</td>\n",
       "      <td>0</td>\n",
       "      <td>0</td>\n",
       "      <td>3</td>\n",
       "      <td>10373</td>\n",
       "    </tr>\n",
       "    <tr>\n",
       "      <th>4</th>\n",
       "      <td>2021</td>\n",
       "      <td>3</td>\n",
       "      <td>17</td>\n",
       "      <td>14</td>\n",
       "      <td>0</td>\n",
       "      <td>0</td>\n",
       "      <td>3</td>\n",
       "      <td>1072</td>\n",
       "    </tr>\n",
       "    <tr>\n",
       "      <th>5</th>\n",
       "      <td>2021</td>\n",
       "      <td>3</td>\n",
       "      <td>17</td>\n",
       "      <td>14</td>\n",
       "      <td>0</td>\n",
       "      <td>0</td>\n",
       "      <td>3</td>\n",
       "      <td>10193</td>\n",
       "    </tr>\n",
       "    <tr>\n",
       "      <th>6</th>\n",
       "      <td>2021</td>\n",
       "      <td>3</td>\n",
       "      <td>17</td>\n",
       "      <td>19</td>\n",
       "      <td>0</td>\n",
       "      <td>0</td>\n",
       "      <td>3</td>\n",
       "      <td>10373</td>\n",
       "    </tr>\n",
       "    <tr>\n",
       "      <th>7</th>\n",
       "      <td>2021</td>\n",
       "      <td>3</td>\n",
       "      <td>17</td>\n",
       "      <td>19</td>\n",
       "      <td>0</td>\n",
       "      <td>0</td>\n",
       "      <td>3</td>\n",
       "      <td>1072</td>\n",
       "    </tr>\n",
       "    <tr>\n",
       "      <th>8</th>\n",
       "      <td>2021</td>\n",
       "      <td>3</td>\n",
       "      <td>17</td>\n",
       "      <td>19</td>\n",
       "      <td>0</td>\n",
       "      <td>0</td>\n",
       "      <td>3</td>\n",
       "      <td>10193</td>\n",
       "    </tr>\n",
       "    <tr>\n",
       "      <th>9</th>\n",
       "      <td>2021</td>\n",
       "      <td>5</td>\n",
       "      <td>14</td>\n",
       "      <td>9</td>\n",
       "      <td>0</td>\n",
       "      <td>0</td>\n",
       "      <td>5</td>\n",
       "      <td>10373</td>\n",
       "    </tr>\n",
       "  </tbody>\n",
       "</table>\n",
       "</div>"
      ],
      "text/plain": [
       "   year  month  day  hours  minutes  seconds  dias     id\n",
       "0  2021      3   17      9        0        0     3  10373\n",
       "1  2021      3   17      9        0        0     3   1072\n",
       "2  2021      3   17      9        0        0     3  10193\n",
       "3  2021      3   17     14        0        0     3  10373\n",
       "4  2021      3   17     14        0        0     3   1072\n",
       "5  2021      3   17     14        0        0     3  10193\n",
       "6  2021      3   17     19        0        0     3  10373\n",
       "7  2021      3   17     19        0        0     3   1072\n",
       "8  2021      3   17     19        0        0     3  10193\n",
       "9  2021      5   14      9        0        0     5  10373"
      ]
     },
     "execution_count": 65,
     "metadata": {},
     "output_type": "execute_result"
    }
   ],
   "source": [
    "#Cargamos dataset\n",
    "dataML_pred = pd.read_csv('../../TFM/Machine_Learning_Data/predictions/pred_data_zone.csv',sep=';',engine='python')\n",
    "\n",
    "dataML_pred.head(10)"
   ]
  },
  {
   "cell_type": "code",
   "execution_count": 66,
   "metadata": {},
   "outputs": [
    {
     "data": {
      "text/html": [
       "<div>\n",
       "<style scoped>\n",
       "    .dataframe tbody tr th:only-of-type {\n",
       "        vertical-align: middle;\n",
       "    }\n",
       "\n",
       "    .dataframe tbody tr th {\n",
       "        vertical-align: top;\n",
       "    }\n",
       "\n",
       "    .dataframe thead th {\n",
       "        text-align: right;\n",
       "    }\n",
       "</style>\n",
       "<table border=\"1\" class=\"dataframe\">\n",
       "  <thead>\n",
       "    <tr style=\"text-align: right;\">\n",
       "      <th></th>\n",
       "      <th>year</th>\n",
       "      <th>month</th>\n",
       "      <th>day</th>\n",
       "      <th>hours</th>\n",
       "      <th>minutes</th>\n",
       "      <th>seconds</th>\n",
       "      <th>dias</th>\n",
       "      <th>id</th>\n",
       "    </tr>\n",
       "  </thead>\n",
       "  <tbody>\n",
       "    <tr>\n",
       "      <th>0</th>\n",
       "      <td>2021</td>\n",
       "      <td>3</td>\n",
       "      <td>17</td>\n",
       "      <td>9</td>\n",
       "      <td>0</td>\n",
       "      <td>0</td>\n",
       "      <td>3</td>\n",
       "      <td>10373</td>\n",
       "    </tr>\n",
       "    <tr>\n",
       "      <th>1</th>\n",
       "      <td>2021</td>\n",
       "      <td>3</td>\n",
       "      <td>17</td>\n",
       "      <td>9</td>\n",
       "      <td>0</td>\n",
       "      <td>0</td>\n",
       "      <td>3</td>\n",
       "      <td>1072</td>\n",
       "    </tr>\n",
       "    <tr>\n",
       "      <th>2</th>\n",
       "      <td>2021</td>\n",
       "      <td>3</td>\n",
       "      <td>17</td>\n",
       "      <td>9</td>\n",
       "      <td>0</td>\n",
       "      <td>0</td>\n",
       "      <td>3</td>\n",
       "      <td>10193</td>\n",
       "    </tr>\n",
       "    <tr>\n",
       "      <th>3</th>\n",
       "      <td>2021</td>\n",
       "      <td>3</td>\n",
       "      <td>17</td>\n",
       "      <td>14</td>\n",
       "      <td>0</td>\n",
       "      <td>0</td>\n",
       "      <td>3</td>\n",
       "      <td>10373</td>\n",
       "    </tr>\n",
       "    <tr>\n",
       "      <th>4</th>\n",
       "      <td>2021</td>\n",
       "      <td>3</td>\n",
       "      <td>17</td>\n",
       "      <td>14</td>\n",
       "      <td>0</td>\n",
       "      <td>0</td>\n",
       "      <td>3</td>\n",
       "      <td>1072</td>\n",
       "    </tr>\n",
       "  </tbody>\n",
       "</table>\n",
       "</div>"
      ],
      "text/plain": [
       "   year  month  day  hours  minutes  seconds  dias     id\n",
       "0  2021      3   17      9        0        0     3  10373\n",
       "1  2021      3   17      9        0        0     3   1072\n",
       "2  2021      3   17      9        0        0     3  10193\n",
       "3  2021      3   17     14        0        0     3  10373\n",
       "4  2021      3   17     14        0        0     3   1072"
      ]
     },
     "execution_count": 66,
     "metadata": {},
     "output_type": "execute_result"
    }
   ],
   "source": [
    "#dataML_pred = dataML_pred[(dataML_pred['id'] == 10373)].reset_index(drop=True)\n",
    "dataML_pred.head(5)"
   ]
  },
  {
   "cell_type": "code",
   "execution_count": 67,
   "metadata": {},
   "outputs": [
    {
     "data": {
      "text/plain": [
       "year       36\n",
       "month      36\n",
       "day        36\n",
       "hours      36\n",
       "minutes    36\n",
       "seconds    36\n",
       "dias       36\n",
       "id         36\n",
       "dtype: int64"
      ]
     },
     "execution_count": 67,
     "metadata": {},
     "output_type": "execute_result"
    }
   ],
   "source": [
    "dataML_pred.count()"
   ]
  },
  {
   "cell_type": "markdown",
   "metadata": {},
   "source": [
    "**Predictions Linear Regression**"
   ]
  },
  {
   "cell_type": "code",
   "execution_count": 68,
   "metadata": {},
   "outputs": [
    {
     "data": {
      "text/html": [
       "<div>\n",
       "<style scoped>\n",
       "    .dataframe tbody tr th:only-of-type {\n",
       "        vertical-align: middle;\n",
       "    }\n",
       "\n",
       "    .dataframe tbody tr th {\n",
       "        vertical-align: top;\n",
       "    }\n",
       "\n",
       "    .dataframe thead th {\n",
       "        text-align: right;\n",
       "    }\n",
       "</style>\n",
       "<table border=\"1\" class=\"dataframe\">\n",
       "  <thead>\n",
       "    <tr style=\"text-align: right;\">\n",
       "      <th></th>\n",
       "      <th>year</th>\n",
       "      <th>month</th>\n",
       "      <th>day</th>\n",
       "      <th>hours</th>\n",
       "      <th>minutes</th>\n",
       "      <th>seconds</th>\n",
       "      <th>dias</th>\n",
       "      <th>id</th>\n",
       "    </tr>\n",
       "  </thead>\n",
       "  <tbody>\n",
       "    <tr>\n",
       "      <th>0</th>\n",
       "      <td>2021</td>\n",
       "      <td>3</td>\n",
       "      <td>17</td>\n",
       "      <td>9</td>\n",
       "      <td>0</td>\n",
       "      <td>0</td>\n",
       "      <td>3</td>\n",
       "      <td>10373</td>\n",
       "    </tr>\n",
       "    <tr>\n",
       "      <th>1</th>\n",
       "      <td>2021</td>\n",
       "      <td>3</td>\n",
       "      <td>17</td>\n",
       "      <td>9</td>\n",
       "      <td>0</td>\n",
       "      <td>0</td>\n",
       "      <td>3</td>\n",
       "      <td>1072</td>\n",
       "    </tr>\n",
       "    <tr>\n",
       "      <th>2</th>\n",
       "      <td>2021</td>\n",
       "      <td>3</td>\n",
       "      <td>17</td>\n",
       "      <td>9</td>\n",
       "      <td>0</td>\n",
       "      <td>0</td>\n",
       "      <td>3</td>\n",
       "      <td>10193</td>\n",
       "    </tr>\n",
       "    <tr>\n",
       "      <th>3</th>\n",
       "      <td>2021</td>\n",
       "      <td>3</td>\n",
       "      <td>17</td>\n",
       "      <td>14</td>\n",
       "      <td>0</td>\n",
       "      <td>0</td>\n",
       "      <td>3</td>\n",
       "      <td>10373</td>\n",
       "    </tr>\n",
       "    <tr>\n",
       "      <th>4</th>\n",
       "      <td>2021</td>\n",
       "      <td>3</td>\n",
       "      <td>17</td>\n",
       "      <td>14</td>\n",
       "      <td>0</td>\n",
       "      <td>0</td>\n",
       "      <td>3</td>\n",
       "      <td>1072</td>\n",
       "    </tr>\n",
       "  </tbody>\n",
       "</table>\n",
       "</div>"
      ],
      "text/plain": [
       "   year  month  day  hours  minutes  seconds  dias     id\n",
       "0  2021      3   17      9        0        0     3  10373\n",
       "1  2021      3   17      9        0        0     3   1072\n",
       "2  2021      3   17      9        0        0     3  10193\n",
       "3  2021      3   17     14        0        0     3  10373\n",
       "4  2021      3   17     14        0        0     3   1072"
      ]
     },
     "execution_count": 68,
     "metadata": {},
     "output_type": "execute_result"
    }
   ],
   "source": [
    "data_pred_linear = dataML_pred.copy()\n",
    "data_pred_linear = data_pred_linear.astype(np.int32)\n",
    "data_pred_linear.head(5)"
   ]
  },
  {
   "cell_type": "code",
   "execution_count": 69,
   "metadata": {},
   "outputs": [
    {
     "data": {
      "text/plain": [
       "array([ 794.33938499,  679.17421347,  792.11062132,  977.33320285,\n",
       "        862.16803133,  975.10443918, 1160.32702071, 1045.16184919,\n",
       "       1158.09825704,  733.87194219,  618.70677068,  731.64317853,\n",
       "        916.86576005,  801.70058854,  914.63699639, 1099.85957791,\n",
       "        984.6944064 , 1097.63081425,  719.1846364 ,  604.01946488,\n",
       "        716.95587273,  902.17845426,  787.01328274,  899.94969059,\n",
       "       1085.17227212,  970.0071006 , 1082.94350845,  734.5047773 ,\n",
       "        619.33960579,  732.27601364,  917.49859516,  802.33342365,\n",
       "        915.2698315 , 1100.49241302,  985.3272415 , 1098.26364936])"
      ]
     },
     "execution_count": 69,
     "metadata": {},
     "output_type": "execute_result"
    }
   ],
   "source": [
    "#realizamos las predicciones sobre el modelo de knn y nuestro dataset preparado\n",
    "new_pred_linear = linear.predict(data_pred_linear)\n",
    "new_pred_linear"
   ]
  },
  {
   "cell_type": "code",
   "execution_count": 70,
   "metadata": {},
   "outputs": [
    {
     "data": {
      "text/html": [
       "<div>\n",
       "<style scoped>\n",
       "    .dataframe tbody tr th:only-of-type {\n",
       "        vertical-align: middle;\n",
       "    }\n",
       "\n",
       "    .dataframe tbody tr th {\n",
       "        vertical-align: top;\n",
       "    }\n",
       "\n",
       "    .dataframe thead th {\n",
       "        text-align: right;\n",
       "    }\n",
       "</style>\n",
       "<table border=\"1\" class=\"dataframe\">\n",
       "  <thead>\n",
       "    <tr style=\"text-align: right;\">\n",
       "      <th></th>\n",
       "      <th>year</th>\n",
       "      <th>month</th>\n",
       "      <th>day</th>\n",
       "      <th>hours</th>\n",
       "      <th>minutes</th>\n",
       "      <th>seconds</th>\n",
       "      <th>dias</th>\n",
       "      <th>id</th>\n",
       "      <th>pred_linear</th>\n",
       "    </tr>\n",
       "  </thead>\n",
       "  <tbody>\n",
       "    <tr>\n",
       "      <th>0</th>\n",
       "      <td>2021</td>\n",
       "      <td>3</td>\n",
       "      <td>17</td>\n",
       "      <td>9</td>\n",
       "      <td>0</td>\n",
       "      <td>0</td>\n",
       "      <td>3</td>\n",
       "      <td>10373</td>\n",
       "      <td>794.339385</td>\n",
       "    </tr>\n",
       "    <tr>\n",
       "      <th>1</th>\n",
       "      <td>2021</td>\n",
       "      <td>3</td>\n",
       "      <td>17</td>\n",
       "      <td>9</td>\n",
       "      <td>0</td>\n",
       "      <td>0</td>\n",
       "      <td>3</td>\n",
       "      <td>1072</td>\n",
       "      <td>679.174213</td>\n",
       "    </tr>\n",
       "    <tr>\n",
       "      <th>2</th>\n",
       "      <td>2021</td>\n",
       "      <td>3</td>\n",
       "      <td>17</td>\n",
       "      <td>9</td>\n",
       "      <td>0</td>\n",
       "      <td>0</td>\n",
       "      <td>3</td>\n",
       "      <td>10193</td>\n",
       "      <td>792.110621</td>\n",
       "    </tr>\n",
       "    <tr>\n",
       "      <th>3</th>\n",
       "      <td>2021</td>\n",
       "      <td>3</td>\n",
       "      <td>17</td>\n",
       "      <td>14</td>\n",
       "      <td>0</td>\n",
       "      <td>0</td>\n",
       "      <td>3</td>\n",
       "      <td>10373</td>\n",
       "      <td>977.333203</td>\n",
       "    </tr>\n",
       "    <tr>\n",
       "      <th>4</th>\n",
       "      <td>2021</td>\n",
       "      <td>3</td>\n",
       "      <td>17</td>\n",
       "      <td>14</td>\n",
       "      <td>0</td>\n",
       "      <td>0</td>\n",
       "      <td>3</td>\n",
       "      <td>1072</td>\n",
       "      <td>862.168031</td>\n",
       "    </tr>\n",
       "  </tbody>\n",
       "</table>\n",
       "</div>"
      ],
      "text/plain": [
       "   year  month  day  hours  minutes  seconds  dias     id  pred_linear\n",
       "0  2021      3   17      9        0        0     3  10373   794.339385\n",
       "1  2021      3   17      9        0        0     3   1072   679.174213\n",
       "2  2021      3   17      9        0        0     3  10193   792.110621\n",
       "3  2021      3   17     14        0        0     3  10373   977.333203\n",
       "4  2021      3   17     14        0        0     3   1072   862.168031"
      ]
     },
     "execution_count": 70,
     "metadata": {},
     "output_type": "execute_result"
    }
   ],
   "source": [
    "#unimos las predicciones con el dataset\n",
    "data_pred_linear['pred_linear'] = pd.Series(new_pred_linear)\n",
    "data_pred_linear.head(5)"
   ]
  },
  {
   "cell_type": "code",
   "execution_count": 71,
   "metadata": {},
   "outputs": [
    {
     "data": {
      "text/plain": [
       "year           36\n",
       "month          36\n",
       "day            36\n",
       "hours          36\n",
       "minutes        36\n",
       "seconds        36\n",
       "dias           36\n",
       "id             36\n",
       "pred_linear    36\n",
       "dtype: int64"
      ]
     },
     "execution_count": 71,
     "metadata": {},
     "output_type": "execute_result"
    }
   ],
   "source": [
    "data_pred_linear.count()"
   ]
  },
  {
   "cell_type": "markdown",
   "metadata": {},
   "source": [
    "**Predicitions KNN**"
   ]
  },
  {
   "cell_type": "code",
   "execution_count": 72,
   "metadata": {},
   "outputs": [
    {
     "data": {
      "text/html": [
       "<div>\n",
       "<style scoped>\n",
       "    .dataframe tbody tr th:only-of-type {\n",
       "        vertical-align: middle;\n",
       "    }\n",
       "\n",
       "    .dataframe tbody tr th {\n",
       "        vertical-align: top;\n",
       "    }\n",
       "\n",
       "    .dataframe thead th {\n",
       "        text-align: right;\n",
       "    }\n",
       "</style>\n",
       "<table border=\"1\" class=\"dataframe\">\n",
       "  <thead>\n",
       "    <tr style=\"text-align: right;\">\n",
       "      <th></th>\n",
       "      <th>year</th>\n",
       "      <th>month</th>\n",
       "      <th>day</th>\n",
       "      <th>hours</th>\n",
       "      <th>minutes</th>\n",
       "      <th>seconds</th>\n",
       "      <th>dias</th>\n",
       "      <th>id</th>\n",
       "    </tr>\n",
       "  </thead>\n",
       "  <tbody>\n",
       "    <tr>\n",
       "      <th>0</th>\n",
       "      <td>2021</td>\n",
       "      <td>3</td>\n",
       "      <td>17</td>\n",
       "      <td>9</td>\n",
       "      <td>0</td>\n",
       "      <td>0</td>\n",
       "      <td>3</td>\n",
       "      <td>10373</td>\n",
       "    </tr>\n",
       "    <tr>\n",
       "      <th>1</th>\n",
       "      <td>2021</td>\n",
       "      <td>3</td>\n",
       "      <td>17</td>\n",
       "      <td>9</td>\n",
       "      <td>0</td>\n",
       "      <td>0</td>\n",
       "      <td>3</td>\n",
       "      <td>1072</td>\n",
       "    </tr>\n",
       "    <tr>\n",
       "      <th>2</th>\n",
       "      <td>2021</td>\n",
       "      <td>3</td>\n",
       "      <td>17</td>\n",
       "      <td>9</td>\n",
       "      <td>0</td>\n",
       "      <td>0</td>\n",
       "      <td>3</td>\n",
       "      <td>10193</td>\n",
       "    </tr>\n",
       "    <tr>\n",
       "      <th>3</th>\n",
       "      <td>2021</td>\n",
       "      <td>3</td>\n",
       "      <td>17</td>\n",
       "      <td>14</td>\n",
       "      <td>0</td>\n",
       "      <td>0</td>\n",
       "      <td>3</td>\n",
       "      <td>10373</td>\n",
       "    </tr>\n",
       "    <tr>\n",
       "      <th>4</th>\n",
       "      <td>2021</td>\n",
       "      <td>3</td>\n",
       "      <td>17</td>\n",
       "      <td>14</td>\n",
       "      <td>0</td>\n",
       "      <td>0</td>\n",
       "      <td>3</td>\n",
       "      <td>1072</td>\n",
       "    </tr>\n",
       "  </tbody>\n",
       "</table>\n",
       "</div>"
      ],
      "text/plain": [
       "   year  month  day  hours  minutes  seconds  dias     id\n",
       "0  2021      3   17      9        0        0     3  10373\n",
       "1  2021      3   17      9        0        0     3   1072\n",
       "2  2021      3   17      9        0        0     3  10193\n",
       "3  2021      3   17     14        0        0     3  10373\n",
       "4  2021      3   17     14        0        0     3   1072"
      ]
     },
     "execution_count": 72,
     "metadata": {},
     "output_type": "execute_result"
    }
   ],
   "source": [
    "data_pred_KNN = dataML_pred.copy()\n",
    "data_pred_KNN = data_pred_KNN.astype(np.int32)\n",
    "data_pred_KNN.head(5)"
   ]
  },
  {
   "cell_type": "code",
   "execution_count": 73,
   "metadata": {},
   "outputs": [
    {
     "data": {
      "text/plain": [
       "array([8215, 4323, 3445, 5321, 5156, 2583, 2176, 4680, 3509, 2456, 7598,\n",
       "       7748, 2176,  229, 2937, 7654, 7450, 3409, 2340,  367, 3438, 1685,\n",
       "       3234, 4997, 1692, 4964, 2778,  991,  944,  604, 3326, 3213, 6942,\n",
       "       1689, 2956, 3707], dtype=int32)"
      ]
     },
     "execution_count": 73,
     "metadata": {},
     "output_type": "execute_result"
    }
   ],
   "source": [
    "#realizamos las predicciones sobre el modelo de knn y nuestro dataset preparado\n",
    "new_pred_knn = knn.predict(data_pred_KNN)\n",
    "new_pred_knn"
   ]
  },
  {
   "cell_type": "code",
   "execution_count": 74,
   "metadata": {},
   "outputs": [
    {
     "data": {
      "text/html": [
       "<div>\n",
       "<style scoped>\n",
       "    .dataframe tbody tr th:only-of-type {\n",
       "        vertical-align: middle;\n",
       "    }\n",
       "\n",
       "    .dataframe tbody tr th {\n",
       "        vertical-align: top;\n",
       "    }\n",
       "\n",
       "    .dataframe thead th {\n",
       "        text-align: right;\n",
       "    }\n",
       "</style>\n",
       "<table border=\"1\" class=\"dataframe\">\n",
       "  <thead>\n",
       "    <tr style=\"text-align: right;\">\n",
       "      <th></th>\n",
       "      <th>year</th>\n",
       "      <th>month</th>\n",
       "      <th>day</th>\n",
       "      <th>hours</th>\n",
       "      <th>minutes</th>\n",
       "      <th>seconds</th>\n",
       "      <th>dias</th>\n",
       "      <th>id</th>\n",
       "      <th>pred_KNN</th>\n",
       "    </tr>\n",
       "  </thead>\n",
       "  <tbody>\n",
       "    <tr>\n",
       "      <th>0</th>\n",
       "      <td>2021</td>\n",
       "      <td>3</td>\n",
       "      <td>17</td>\n",
       "      <td>9</td>\n",
       "      <td>0</td>\n",
       "      <td>0</td>\n",
       "      <td>3</td>\n",
       "      <td>10373</td>\n",
       "      <td>8215</td>\n",
       "    </tr>\n",
       "    <tr>\n",
       "      <th>1</th>\n",
       "      <td>2021</td>\n",
       "      <td>3</td>\n",
       "      <td>17</td>\n",
       "      <td>9</td>\n",
       "      <td>0</td>\n",
       "      <td>0</td>\n",
       "      <td>3</td>\n",
       "      <td>1072</td>\n",
       "      <td>4323</td>\n",
       "    </tr>\n",
       "    <tr>\n",
       "      <th>2</th>\n",
       "      <td>2021</td>\n",
       "      <td>3</td>\n",
       "      <td>17</td>\n",
       "      <td>9</td>\n",
       "      <td>0</td>\n",
       "      <td>0</td>\n",
       "      <td>3</td>\n",
       "      <td>10193</td>\n",
       "      <td>3445</td>\n",
       "    </tr>\n",
       "    <tr>\n",
       "      <th>3</th>\n",
       "      <td>2021</td>\n",
       "      <td>3</td>\n",
       "      <td>17</td>\n",
       "      <td>14</td>\n",
       "      <td>0</td>\n",
       "      <td>0</td>\n",
       "      <td>3</td>\n",
       "      <td>10373</td>\n",
       "      <td>5321</td>\n",
       "    </tr>\n",
       "    <tr>\n",
       "      <th>4</th>\n",
       "      <td>2021</td>\n",
       "      <td>3</td>\n",
       "      <td>17</td>\n",
       "      <td>14</td>\n",
       "      <td>0</td>\n",
       "      <td>0</td>\n",
       "      <td>3</td>\n",
       "      <td>1072</td>\n",
       "      <td>5156</td>\n",
       "    </tr>\n",
       "  </tbody>\n",
       "</table>\n",
       "</div>"
      ],
      "text/plain": [
       "   year  month  day  hours  minutes  seconds  dias     id  pred_KNN\n",
       "0  2021      3   17      9        0        0     3  10373      8215\n",
       "1  2021      3   17      9        0        0     3   1072      4323\n",
       "2  2021      3   17      9        0        0     3  10193      3445\n",
       "3  2021      3   17     14        0        0     3  10373      5321\n",
       "4  2021      3   17     14        0        0     3   1072      5156"
      ]
     },
     "execution_count": 74,
     "metadata": {},
     "output_type": "execute_result"
    }
   ],
   "source": [
    "#unimos las predicciones con el dataset\n",
    "data_pred_KNN['pred_KNN'] = pd.Series(new_pred_knn)\n",
    "data_pred_KNN.head(5)"
   ]
  },
  {
   "cell_type": "code",
   "execution_count": 75,
   "metadata": {},
   "outputs": [
    {
     "data": {
      "text/plain": [
       "year       36\n",
       "month      36\n",
       "day        36\n",
       "hours      36\n",
       "minutes    36\n",
       "seconds    36\n",
       "dias       36\n",
       "id         36\n",
       "dtype: int64"
      ]
     },
     "execution_count": 75,
     "metadata": {},
     "output_type": "execute_result"
    }
   ],
   "source": [
    "dataML_pred.count()"
   ]
  },
  {
   "cell_type": "markdown",
   "metadata": {},
   "source": [
    "**Predictions Random Forest**"
   ]
  },
  {
   "cell_type": "code",
   "execution_count": 84,
   "metadata": {},
   "outputs": [
    {
     "data": {
      "text/html": [
       "<div>\n",
       "<style scoped>\n",
       "    .dataframe tbody tr th:only-of-type {\n",
       "        vertical-align: middle;\n",
       "    }\n",
       "\n",
       "    .dataframe tbody tr th {\n",
       "        vertical-align: top;\n",
       "    }\n",
       "\n",
       "    .dataframe thead th {\n",
       "        text-align: right;\n",
       "    }\n",
       "</style>\n",
       "<table border=\"1\" class=\"dataframe\">\n",
       "  <thead>\n",
       "    <tr style=\"text-align: right;\">\n",
       "      <th></th>\n",
       "      <th>year</th>\n",
       "      <th>month</th>\n",
       "      <th>day</th>\n",
       "      <th>hours</th>\n",
       "      <th>minutes</th>\n",
       "      <th>seconds</th>\n",
       "      <th>dias</th>\n",
       "      <th>id</th>\n",
       "    </tr>\n",
       "  </thead>\n",
       "  <tbody>\n",
       "    <tr>\n",
       "      <th>0</th>\n",
       "      <td>2021</td>\n",
       "      <td>3</td>\n",
       "      <td>17</td>\n",
       "      <td>9</td>\n",
       "      <td>0</td>\n",
       "      <td>0</td>\n",
       "      <td>3</td>\n",
       "      <td>10373</td>\n",
       "    </tr>\n",
       "    <tr>\n",
       "      <th>1</th>\n",
       "      <td>2021</td>\n",
       "      <td>3</td>\n",
       "      <td>17</td>\n",
       "      <td>9</td>\n",
       "      <td>0</td>\n",
       "      <td>0</td>\n",
       "      <td>3</td>\n",
       "      <td>1072</td>\n",
       "    </tr>\n",
       "    <tr>\n",
       "      <th>2</th>\n",
       "      <td>2021</td>\n",
       "      <td>3</td>\n",
       "      <td>17</td>\n",
       "      <td>9</td>\n",
       "      <td>0</td>\n",
       "      <td>0</td>\n",
       "      <td>3</td>\n",
       "      <td>10193</td>\n",
       "    </tr>\n",
       "    <tr>\n",
       "      <th>3</th>\n",
       "      <td>2021</td>\n",
       "      <td>3</td>\n",
       "      <td>17</td>\n",
       "      <td>14</td>\n",
       "      <td>0</td>\n",
       "      <td>0</td>\n",
       "      <td>3</td>\n",
       "      <td>10373</td>\n",
       "    </tr>\n",
       "    <tr>\n",
       "      <th>4</th>\n",
       "      <td>2021</td>\n",
       "      <td>3</td>\n",
       "      <td>17</td>\n",
       "      <td>14</td>\n",
       "      <td>0</td>\n",
       "      <td>0</td>\n",
       "      <td>3</td>\n",
       "      <td>1072</td>\n",
       "    </tr>\n",
       "  </tbody>\n",
       "</table>\n",
       "</div>"
      ],
      "text/plain": [
       "   year  month  day  hours  minutes  seconds  dias     id\n",
       "0  2021      3   17      9        0        0     3  10373\n",
       "1  2021      3   17      9        0        0     3   1072\n",
       "2  2021      3   17      9        0        0     3  10193\n",
       "3  2021      3   17     14        0        0     3  10373\n",
       "4  2021      3   17     14        0        0     3   1072"
      ]
     },
     "execution_count": 84,
     "metadata": {},
     "output_type": "execute_result"
    }
   ],
   "source": [
    "data_pred_RF = dataML_pred.copy()\n",
    "data_pred_RF = data_pred_RF.astype(np.int32)\n",
    "data_pred_RF.head(5)"
   ]
  },
  {
   "cell_type": "code",
   "execution_count": 85,
   "metadata": {},
   "outputs": [
    {
     "name": "stderr",
     "output_type": "stream",
     "text": [
      "[Parallel(n_jobs=1)]: Using backend SequentialBackend with 1 concurrent workers.\n",
      "[Parallel(n_jobs=1)]: Done   1 out of   1 | elapsed:    0.0s remaining:    0.0s\n",
      "[Parallel(n_jobs=1)]: Done 100 out of 100 | elapsed:    0.0s finished\n"
     ]
    },
    {
     "data": {
      "text/plain": [
       "array([2205.33909626, 1709.63535215, 1218.90320522, 2205.33909626,\n",
       "       1709.63535215, 1218.90320522, 2205.33909626, 1709.63535215,\n",
       "       1218.90320522, 2205.33909626, 1709.63535215, 1218.90320522,\n",
       "       2205.33909626, 1709.63535215, 1218.90320522, 2205.33909626,\n",
       "       1709.63535215, 1218.90320522, 2205.33909626, 1709.63535215,\n",
       "       1218.90320522, 2205.33909626, 1709.63535215, 1218.90320522,\n",
       "       2205.33909626, 1709.63535215, 1218.90320522, 2205.33909626,\n",
       "       1709.63535215, 1218.90320522, 2205.33909626, 1709.63535215,\n",
       "       1218.90320522, 2205.33909626, 1709.63535215, 1218.90320522])"
      ]
     },
     "execution_count": 85,
     "metadata": {},
     "output_type": "execute_result"
    }
   ],
   "source": [
    "#realizamos las predicciones sobre el modelo de knn y nuestro dataset preparado\n",
    "new_pred_RF = rfr.predict(data_pred_RF)\n",
    "new_pred_RF"
   ]
  },
  {
   "cell_type": "code",
   "execution_count": 86,
   "metadata": {},
   "outputs": [
    {
     "data": {
      "text/html": [
       "<div>\n",
       "<style scoped>\n",
       "    .dataframe tbody tr th:only-of-type {\n",
       "        vertical-align: middle;\n",
       "    }\n",
       "\n",
       "    .dataframe tbody tr th {\n",
       "        vertical-align: top;\n",
       "    }\n",
       "\n",
       "    .dataframe thead th {\n",
       "        text-align: right;\n",
       "    }\n",
       "</style>\n",
       "<table border=\"1\" class=\"dataframe\">\n",
       "  <thead>\n",
       "    <tr style=\"text-align: right;\">\n",
       "      <th></th>\n",
       "      <th>year</th>\n",
       "      <th>month</th>\n",
       "      <th>day</th>\n",
       "      <th>hours</th>\n",
       "      <th>minutes</th>\n",
       "      <th>seconds</th>\n",
       "      <th>dias</th>\n",
       "      <th>id</th>\n",
       "      <th>pred_RF</th>\n",
       "    </tr>\n",
       "  </thead>\n",
       "  <tbody>\n",
       "    <tr>\n",
       "      <th>0</th>\n",
       "      <td>2021</td>\n",
       "      <td>3</td>\n",
       "      <td>17</td>\n",
       "      <td>9</td>\n",
       "      <td>0</td>\n",
       "      <td>0</td>\n",
       "      <td>3</td>\n",
       "      <td>10373</td>\n",
       "      <td>2205.339096</td>\n",
       "    </tr>\n",
       "    <tr>\n",
       "      <th>1</th>\n",
       "      <td>2021</td>\n",
       "      <td>3</td>\n",
       "      <td>17</td>\n",
       "      <td>9</td>\n",
       "      <td>0</td>\n",
       "      <td>0</td>\n",
       "      <td>3</td>\n",
       "      <td>1072</td>\n",
       "      <td>1709.635352</td>\n",
       "    </tr>\n",
       "    <tr>\n",
       "      <th>2</th>\n",
       "      <td>2021</td>\n",
       "      <td>3</td>\n",
       "      <td>17</td>\n",
       "      <td>9</td>\n",
       "      <td>0</td>\n",
       "      <td>0</td>\n",
       "      <td>3</td>\n",
       "      <td>10193</td>\n",
       "      <td>1218.903205</td>\n",
       "    </tr>\n",
       "    <tr>\n",
       "      <th>3</th>\n",
       "      <td>2021</td>\n",
       "      <td>3</td>\n",
       "      <td>17</td>\n",
       "      <td>14</td>\n",
       "      <td>0</td>\n",
       "      <td>0</td>\n",
       "      <td>3</td>\n",
       "      <td>10373</td>\n",
       "      <td>2205.339096</td>\n",
       "    </tr>\n",
       "    <tr>\n",
       "      <th>4</th>\n",
       "      <td>2021</td>\n",
       "      <td>3</td>\n",
       "      <td>17</td>\n",
       "      <td>14</td>\n",
       "      <td>0</td>\n",
       "      <td>0</td>\n",
       "      <td>3</td>\n",
       "      <td>1072</td>\n",
       "      <td>1709.635352</td>\n",
       "    </tr>\n",
       "  </tbody>\n",
       "</table>\n",
       "</div>"
      ],
      "text/plain": [
       "   year  month  day  hours  minutes  seconds  dias     id      pred_RF\n",
       "0  2021      3   17      9        0        0     3  10373  2205.339096\n",
       "1  2021      3   17      9        0        0     3   1072  1709.635352\n",
       "2  2021      3   17      9        0        0     3  10193  1218.903205\n",
       "3  2021      3   17     14        0        0     3  10373  2205.339096\n",
       "4  2021      3   17     14        0        0     3   1072  1709.635352"
      ]
     },
     "execution_count": 86,
     "metadata": {},
     "output_type": "execute_result"
    }
   ],
   "source": [
    "#unimos las predicciones con el dataset\n",
    "data_pred_RF['pred_RF'] = pd.Series(new_pred_RF)\n",
    "data_pred_RF.head(5)"
   ]
  },
  {
   "cell_type": "code",
   "execution_count": 87,
   "metadata": {},
   "outputs": [
    {
     "data": {
      "text/plain": [
       "year       36\n",
       "month      36\n",
       "day        36\n",
       "hours      36\n",
       "minutes    36\n",
       "seconds    36\n",
       "dias       36\n",
       "id         36\n",
       "pred_RF    36\n",
       "dtype: int64"
      ]
     },
     "execution_count": 87,
     "metadata": {},
     "output_type": "execute_result"
    }
   ],
   "source": [
    "data_pred_RF.count()"
   ]
  },
  {
   "cell_type": "markdown",
   "metadata": {},
   "source": [
    "**Predictions Naive Bayes**"
   ]
  },
  {
   "cell_type": "code",
   "execution_count": 88,
   "metadata": {},
   "outputs": [
    {
     "data": {
      "text/html": [
       "<div>\n",
       "<style scoped>\n",
       "    .dataframe tbody tr th:only-of-type {\n",
       "        vertical-align: middle;\n",
       "    }\n",
       "\n",
       "    .dataframe tbody tr th {\n",
       "        vertical-align: top;\n",
       "    }\n",
       "\n",
       "    .dataframe thead th {\n",
       "        text-align: right;\n",
       "    }\n",
       "</style>\n",
       "<table border=\"1\" class=\"dataframe\">\n",
       "  <thead>\n",
       "    <tr style=\"text-align: right;\">\n",
       "      <th></th>\n",
       "      <th>year</th>\n",
       "      <th>month</th>\n",
       "      <th>day</th>\n",
       "      <th>hours</th>\n",
       "      <th>minutes</th>\n",
       "      <th>seconds</th>\n",
       "      <th>dias</th>\n",
       "      <th>id</th>\n",
       "    </tr>\n",
       "  </thead>\n",
       "  <tbody>\n",
       "    <tr>\n",
       "      <th>0</th>\n",
       "      <td>2021</td>\n",
       "      <td>3</td>\n",
       "      <td>17</td>\n",
       "      <td>9</td>\n",
       "      <td>0</td>\n",
       "      <td>0</td>\n",
       "      <td>3</td>\n",
       "      <td>10373</td>\n",
       "    </tr>\n",
       "    <tr>\n",
       "      <th>1</th>\n",
       "      <td>2021</td>\n",
       "      <td>3</td>\n",
       "      <td>17</td>\n",
       "      <td>9</td>\n",
       "      <td>0</td>\n",
       "      <td>0</td>\n",
       "      <td>3</td>\n",
       "      <td>1072</td>\n",
       "    </tr>\n",
       "    <tr>\n",
       "      <th>2</th>\n",
       "      <td>2021</td>\n",
       "      <td>3</td>\n",
       "      <td>17</td>\n",
       "      <td>9</td>\n",
       "      <td>0</td>\n",
       "      <td>0</td>\n",
       "      <td>3</td>\n",
       "      <td>10193</td>\n",
       "    </tr>\n",
       "    <tr>\n",
       "      <th>3</th>\n",
       "      <td>2021</td>\n",
       "      <td>3</td>\n",
       "      <td>17</td>\n",
       "      <td>14</td>\n",
       "      <td>0</td>\n",
       "      <td>0</td>\n",
       "      <td>3</td>\n",
       "      <td>10373</td>\n",
       "    </tr>\n",
       "    <tr>\n",
       "      <th>4</th>\n",
       "      <td>2021</td>\n",
       "      <td>3</td>\n",
       "      <td>17</td>\n",
       "      <td>14</td>\n",
       "      <td>0</td>\n",
       "      <td>0</td>\n",
       "      <td>3</td>\n",
       "      <td>1072</td>\n",
       "    </tr>\n",
       "  </tbody>\n",
       "</table>\n",
       "</div>"
      ],
      "text/plain": [
       "   year  month  day  hours  minutes  seconds  dias     id\n",
       "0  2021      3   17      9        0        0     3  10373\n",
       "1  2021      3   17      9        0        0     3   1072\n",
       "2  2021      3   17      9        0        0     3  10193\n",
       "3  2021      3   17     14        0        0     3  10373\n",
       "4  2021      3   17     14        0        0     3   1072"
      ]
     },
     "execution_count": 88,
     "metadata": {},
     "output_type": "execute_result"
    }
   ],
   "source": [
    "data_pred_NB = dataML_pred.copy()\n",
    "data_pred_NB = data_pred_NB.astype(np.int32)\n",
    "data_pred_NB.head(5)"
   ]
  },
  {
   "cell_type": "code",
   "execution_count": 89,
   "metadata": {},
   "outputs": [
    {
     "data": {
      "text/plain": [
       "array([2, 2, 2, 2, 2, 2, 2, 2, 2, 2, 2, 2, 2, 2, 2, 2, 2, 2, 2, 2, 2, 2,\n",
       "       2, 2, 2, 2, 2, 2, 2, 2, 2, 2, 2, 2, 2, 2], dtype=int32)"
      ]
     },
     "execution_count": 89,
     "metadata": {},
     "output_type": "execute_result"
    }
   ],
   "source": [
    "#realizamos las predicciones sobre el modelo de knn y nuestro dataset preparado\n",
    "new_data_pred_NB = modelo_NB.predict(data_pred_NB)\n",
    "new_data_pred_NB"
   ]
  },
  {
   "cell_type": "code",
   "execution_count": 90,
   "metadata": {},
   "outputs": [
    {
     "data": {
      "text/html": [
       "<div>\n",
       "<style scoped>\n",
       "    .dataframe tbody tr th:only-of-type {\n",
       "        vertical-align: middle;\n",
       "    }\n",
       "\n",
       "    .dataframe tbody tr th {\n",
       "        vertical-align: top;\n",
       "    }\n",
       "\n",
       "    .dataframe thead th {\n",
       "        text-align: right;\n",
       "    }\n",
       "</style>\n",
       "<table border=\"1\" class=\"dataframe\">\n",
       "  <thead>\n",
       "    <tr style=\"text-align: right;\">\n",
       "      <th></th>\n",
       "      <th>year</th>\n",
       "      <th>month</th>\n",
       "      <th>day</th>\n",
       "      <th>hours</th>\n",
       "      <th>minutes</th>\n",
       "      <th>seconds</th>\n",
       "      <th>dias</th>\n",
       "      <th>id</th>\n",
       "      <th>pred_RF</th>\n",
       "    </tr>\n",
       "  </thead>\n",
       "  <tbody>\n",
       "    <tr>\n",
       "      <th>0</th>\n",
       "      <td>2021</td>\n",
       "      <td>3</td>\n",
       "      <td>17</td>\n",
       "      <td>9</td>\n",
       "      <td>0</td>\n",
       "      <td>0</td>\n",
       "      <td>3</td>\n",
       "      <td>10373</td>\n",
       "      <td>2</td>\n",
       "    </tr>\n",
       "    <tr>\n",
       "      <th>1</th>\n",
       "      <td>2021</td>\n",
       "      <td>3</td>\n",
       "      <td>17</td>\n",
       "      <td>9</td>\n",
       "      <td>0</td>\n",
       "      <td>0</td>\n",
       "      <td>3</td>\n",
       "      <td>1072</td>\n",
       "      <td>2</td>\n",
       "    </tr>\n",
       "    <tr>\n",
       "      <th>2</th>\n",
       "      <td>2021</td>\n",
       "      <td>3</td>\n",
       "      <td>17</td>\n",
       "      <td>9</td>\n",
       "      <td>0</td>\n",
       "      <td>0</td>\n",
       "      <td>3</td>\n",
       "      <td>10193</td>\n",
       "      <td>2</td>\n",
       "    </tr>\n",
       "    <tr>\n",
       "      <th>3</th>\n",
       "      <td>2021</td>\n",
       "      <td>3</td>\n",
       "      <td>17</td>\n",
       "      <td>14</td>\n",
       "      <td>0</td>\n",
       "      <td>0</td>\n",
       "      <td>3</td>\n",
       "      <td>10373</td>\n",
       "      <td>2</td>\n",
       "    </tr>\n",
       "    <tr>\n",
       "      <th>4</th>\n",
       "      <td>2021</td>\n",
       "      <td>3</td>\n",
       "      <td>17</td>\n",
       "      <td>14</td>\n",
       "      <td>0</td>\n",
       "      <td>0</td>\n",
       "      <td>3</td>\n",
       "      <td>1072</td>\n",
       "      <td>2</td>\n",
       "    </tr>\n",
       "  </tbody>\n",
       "</table>\n",
       "</div>"
      ],
      "text/plain": [
       "   year  month  day  hours  minutes  seconds  dias     id  pred_RF\n",
       "0  2021      3   17      9        0        0     3  10373        2\n",
       "1  2021      3   17      9        0        0     3   1072        2\n",
       "2  2021      3   17      9        0        0     3  10193        2\n",
       "3  2021      3   17     14        0        0     3  10373        2\n",
       "4  2021      3   17     14        0        0     3   1072        2"
      ]
     },
     "execution_count": 90,
     "metadata": {},
     "output_type": "execute_result"
    }
   ],
   "source": [
    "#unimos las predicciones con el dataset\n",
    "data_pred_NB['pred_RF'] = pd.Series(new_data_pred_NB)\n",
    "data_pred_NB.head(5)"
   ]
  },
  {
   "cell_type": "code",
   "execution_count": 91,
   "metadata": {},
   "outputs": [
    {
     "data": {
      "text/plain": [
       "year       36\n",
       "month      36\n",
       "day        36\n",
       "hours      36\n",
       "minutes    36\n",
       "seconds    36\n",
       "dias       36\n",
       "id         36\n",
       "pred_RF    36\n",
       "dtype: int64"
      ]
     },
     "execution_count": 91,
     "metadata": {},
     "output_type": "execute_result"
    }
   ],
   "source": [
    "data_pred_NB.count()"
   ]
  },
  {
   "cell_type": "markdown",
   "metadata": {},
   "source": [
    "**Predictions Neural Network**"
   ]
  },
  {
   "cell_type": "code",
   "execution_count": 120,
   "metadata": {},
   "outputs": [
    {
     "data": {
      "text/html": [
       "<div>\n",
       "<style scoped>\n",
       "    .dataframe tbody tr th:only-of-type {\n",
       "        vertical-align: middle;\n",
       "    }\n",
       "\n",
       "    .dataframe tbody tr th {\n",
       "        vertical-align: top;\n",
       "    }\n",
       "\n",
       "    .dataframe thead th {\n",
       "        text-align: right;\n",
       "    }\n",
       "</style>\n",
       "<table border=\"1\" class=\"dataframe\">\n",
       "  <thead>\n",
       "    <tr style=\"text-align: right;\">\n",
       "      <th></th>\n",
       "      <th>year</th>\n",
       "      <th>month</th>\n",
       "      <th>day</th>\n",
       "      <th>hours</th>\n",
       "      <th>minutes</th>\n",
       "      <th>seconds</th>\n",
       "      <th>dias</th>\n",
       "      <th>id</th>\n",
       "    </tr>\n",
       "  </thead>\n",
       "  <tbody>\n",
       "    <tr>\n",
       "      <th>0</th>\n",
       "      <td>2021</td>\n",
       "      <td>3</td>\n",
       "      <td>17</td>\n",
       "      <td>9</td>\n",
       "      <td>0</td>\n",
       "      <td>0</td>\n",
       "      <td>3</td>\n",
       "      <td>10373</td>\n",
       "    </tr>\n",
       "    <tr>\n",
       "      <th>1</th>\n",
       "      <td>2021</td>\n",
       "      <td>3</td>\n",
       "      <td>17</td>\n",
       "      <td>9</td>\n",
       "      <td>0</td>\n",
       "      <td>0</td>\n",
       "      <td>3</td>\n",
       "      <td>1072</td>\n",
       "    </tr>\n",
       "    <tr>\n",
       "      <th>2</th>\n",
       "      <td>2021</td>\n",
       "      <td>3</td>\n",
       "      <td>17</td>\n",
       "      <td>9</td>\n",
       "      <td>0</td>\n",
       "      <td>0</td>\n",
       "      <td>3</td>\n",
       "      <td>10193</td>\n",
       "    </tr>\n",
       "    <tr>\n",
       "      <th>3</th>\n",
       "      <td>2021</td>\n",
       "      <td>3</td>\n",
       "      <td>17</td>\n",
       "      <td>14</td>\n",
       "      <td>0</td>\n",
       "      <td>0</td>\n",
       "      <td>3</td>\n",
       "      <td>10373</td>\n",
       "    </tr>\n",
       "    <tr>\n",
       "      <th>4</th>\n",
       "      <td>2021</td>\n",
       "      <td>3</td>\n",
       "      <td>17</td>\n",
       "      <td>14</td>\n",
       "      <td>0</td>\n",
       "      <td>0</td>\n",
       "      <td>3</td>\n",
       "      <td>1072</td>\n",
       "    </tr>\n",
       "  </tbody>\n",
       "</table>\n",
       "</div>"
      ],
      "text/plain": [
       "   year  month  day  hours  minutes  seconds  dias     id\n",
       "0  2021      3   17      9        0        0     3  10373\n",
       "1  2021      3   17      9        0        0     3   1072\n",
       "2  2021      3   17      9        0        0     3  10193\n",
       "3  2021      3   17     14        0        0     3  10373\n",
       "4  2021      3   17     14        0        0     3   1072"
      ]
     },
     "execution_count": 120,
     "metadata": {},
     "output_type": "execute_result"
    }
   ],
   "source": [
    "data_pred_NN = dataML_pred.copy()\n",
    "data_pred_NN = data_pred_NN.astype(np.int32)\n",
    "data_pred_NN.head(5)"
   ]
  },
  {
   "cell_type": "code",
   "execution_count": 138,
   "metadata": {},
   "outputs": [],
   "source": [
    "#realizamos las predicciones sobre el modelo de knn y nuestro dataset preparado\n",
    "new_data_pred_NN = model.predict(data_pred_NN)"
   ]
  },
  {
   "cell_type": "code",
   "execution_count": 149,
   "metadata": {},
   "outputs": [
    {
     "data": {
      "text/plain": [
       "array([[1.],\n",
       "       [1.],\n",
       "       [1.],\n",
       "       [1.],\n",
       "       [1.],\n",
       "       [1.],\n",
       "       [1.],\n",
       "       [1.],\n",
       "       [1.],\n",
       "       [1.],\n",
       "       [1.],\n",
       "       [1.],\n",
       "       [1.],\n",
       "       [1.],\n",
       "       [1.],\n",
       "       [1.],\n",
       "       [1.],\n",
       "       [1.],\n",
       "       [1.],\n",
       "       [1.],\n",
       "       [1.],\n",
       "       [1.],\n",
       "       [1.],\n",
       "       [1.],\n",
       "       [1.],\n",
       "       [1.],\n",
       "       [1.],\n",
       "       [1.],\n",
       "       [1.],\n",
       "       [1.],\n",
       "       [1.],\n",
       "       [1.],\n",
       "       [1.],\n",
       "       [1.],\n",
       "       [1.],\n",
       "       [1.]], dtype=float32)"
      ]
     },
     "execution_count": 149,
     "metadata": {},
     "output_type": "execute_result"
    }
   ],
   "source": [
    "np.array(new_data_pred_NN)"
   ]
  },
  {
   "cell_type": "code",
   "execution_count": 150,
   "metadata": {},
   "outputs": [
    {
     "ename": "Exception",
     "evalue": "Data must be 1-dimensional",
     "output_type": "error",
     "traceback": [
      "\u001b[0;31m---------------------------------------------------------------------------\u001b[0m",
      "\u001b[0;31mException\u001b[0m                                 Traceback (most recent call last)",
      "\u001b[0;32m<ipython-input-150-2380a0bbdbc2>\u001b[0m in \u001b[0;36m<module>\u001b[0;34m\u001b[0m\n\u001b[1;32m      1\u001b[0m \u001b[0;31m#unimos las predicciones con el dataset\u001b[0m\u001b[0;34m\u001b[0m\u001b[0;34m\u001b[0m\u001b[0;34m\u001b[0m\u001b[0m\n\u001b[0;32m----> 2\u001b[0;31m \u001b[0mdata_pred_NN\u001b[0m\u001b[0;34m[\u001b[0m\u001b[0;34m'pred_NN'\u001b[0m\u001b[0;34m]\u001b[0m \u001b[0;34m=\u001b[0m \u001b[0mpd\u001b[0m\u001b[0;34m.\u001b[0m\u001b[0mSeries\u001b[0m\u001b[0;34m(\u001b[0m\u001b[0mnew_data_pred_NN\u001b[0m\u001b[0;34m)\u001b[0m\u001b[0;34m\u001b[0m\u001b[0;34m\u001b[0m\u001b[0m\n\u001b[0m\u001b[1;32m      3\u001b[0m \u001b[0mdata_pred_NN\u001b[0m\u001b[0;34m\u001b[0m\u001b[0;34m\u001b[0m\u001b[0m\n",
      "\u001b[0;32m/usr/local/lib/python3.7/site-packages/pandas/core/series.py\u001b[0m in \u001b[0;36m__init__\u001b[0;34m(self, data, index, dtype, name, copy, fastpath)\u001b[0m\n\u001b[1;32m    325\u001b[0m                     \u001b[0mdata\u001b[0m \u001b[0;34m=\u001b[0m \u001b[0mdata\u001b[0m\u001b[0;34m.\u001b[0m\u001b[0mcopy\u001b[0m\u001b[0;34m(\u001b[0m\u001b[0;34m)\u001b[0m\u001b[0;34m\u001b[0m\u001b[0;34m\u001b[0m\u001b[0m\n\u001b[1;32m    326\u001b[0m             \u001b[0;32melse\u001b[0m\u001b[0;34m:\u001b[0m\u001b[0;34m\u001b[0m\u001b[0;34m\u001b[0m\u001b[0m\n\u001b[0;32m--> 327\u001b[0;31m                 \u001b[0mdata\u001b[0m \u001b[0;34m=\u001b[0m \u001b[0msanitize_array\u001b[0m\u001b[0;34m(\u001b[0m\u001b[0mdata\u001b[0m\u001b[0;34m,\u001b[0m \u001b[0mindex\u001b[0m\u001b[0;34m,\u001b[0m \u001b[0mdtype\u001b[0m\u001b[0;34m,\u001b[0m \u001b[0mcopy\u001b[0m\u001b[0;34m,\u001b[0m \u001b[0mraise_cast_failure\u001b[0m\u001b[0;34m=\u001b[0m\u001b[0;32mTrue\u001b[0m\u001b[0;34m)\u001b[0m\u001b[0;34m\u001b[0m\u001b[0;34m\u001b[0m\u001b[0m\n\u001b[0m\u001b[1;32m    328\u001b[0m \u001b[0;34m\u001b[0m\u001b[0m\n\u001b[1;32m    329\u001b[0m                 \u001b[0mdata\u001b[0m \u001b[0;34m=\u001b[0m \u001b[0mSingleBlockManager\u001b[0m\u001b[0;34m.\u001b[0m\u001b[0mfrom_array\u001b[0m\u001b[0;34m(\u001b[0m\u001b[0mdata\u001b[0m\u001b[0;34m,\u001b[0m \u001b[0mindex\u001b[0m\u001b[0;34m)\u001b[0m\u001b[0;34m\u001b[0m\u001b[0;34m\u001b[0m\u001b[0m\n",
      "\u001b[0;32m/usr/local/lib/python3.7/site-packages/pandas/core/construction.py\u001b[0m in \u001b[0;36msanitize_array\u001b[0;34m(data, index, dtype, copy, raise_cast_failure)\u001b[0m\n\u001b[1;32m    490\u001b[0m     \u001b[0;32melif\u001b[0m \u001b[0msubarr\u001b[0m\u001b[0;34m.\u001b[0m\u001b[0mndim\u001b[0m \u001b[0;34m>\u001b[0m \u001b[0;36m1\u001b[0m\u001b[0;34m:\u001b[0m\u001b[0;34m\u001b[0m\u001b[0;34m\u001b[0m\u001b[0m\n\u001b[1;32m    491\u001b[0m         \u001b[0;32mif\u001b[0m \u001b[0misinstance\u001b[0m\u001b[0;34m(\u001b[0m\u001b[0mdata\u001b[0m\u001b[0;34m,\u001b[0m \u001b[0mnp\u001b[0m\u001b[0;34m.\u001b[0m\u001b[0mndarray\u001b[0m\u001b[0;34m)\u001b[0m\u001b[0;34m:\u001b[0m\u001b[0;34m\u001b[0m\u001b[0;34m\u001b[0m\u001b[0m\n\u001b[0;32m--> 492\u001b[0;31m             \u001b[0;32mraise\u001b[0m \u001b[0mException\u001b[0m\u001b[0;34m(\u001b[0m\u001b[0;34m\"Data must be 1-dimensional\"\u001b[0m\u001b[0;34m)\u001b[0m\u001b[0;34m\u001b[0m\u001b[0;34m\u001b[0m\u001b[0m\n\u001b[0m\u001b[1;32m    493\u001b[0m         \u001b[0;32melse\u001b[0m\u001b[0;34m:\u001b[0m\u001b[0;34m\u001b[0m\u001b[0;34m\u001b[0m\u001b[0m\n\u001b[1;32m    494\u001b[0m             \u001b[0msubarr\u001b[0m \u001b[0;34m=\u001b[0m \u001b[0mcom\u001b[0m\u001b[0;34m.\u001b[0m\u001b[0masarray_tuplesafe\u001b[0m\u001b[0;34m(\u001b[0m\u001b[0mdata\u001b[0m\u001b[0;34m,\u001b[0m \u001b[0mdtype\u001b[0m\u001b[0;34m=\u001b[0m\u001b[0mdtype\u001b[0m\u001b[0;34m)\u001b[0m\u001b[0;34m\u001b[0m\u001b[0;34m\u001b[0m\u001b[0m\n",
      "\u001b[0;31mException\u001b[0m: Data must be 1-dimensional"
     ]
    }
   ],
   "source": [
    "#unimos las predicciones con el dataset\n",
    "data_pred_NN['pred_NN'] = pd.Series(new_data_pred_NN)\n",
    "data_pred_NN"
   ]
  },
  {
   "cell_type": "markdown",
   "metadata": {},
   "source": [
    "### Dataframe Final"
   ]
  },
  {
   "cell_type": "code",
   "execution_count": 157,
   "metadata": {},
   "outputs": [
    {
     "data": {
      "text/html": [
       "<div>\n",
       "<style scoped>\n",
       "    .dataframe tbody tr th:only-of-type {\n",
       "        vertical-align: middle;\n",
       "    }\n",
       "\n",
       "    .dataframe tbody tr th {\n",
       "        vertical-align: top;\n",
       "    }\n",
       "\n",
       "    .dataframe thead th {\n",
       "        text-align: right;\n",
       "    }\n",
       "</style>\n",
       "<table border=\"1\" class=\"dataframe\">\n",
       "  <thead>\n",
       "    <tr style=\"text-align: right;\">\n",
       "      <th></th>\n",
       "      <th>year</th>\n",
       "      <th>month</th>\n",
       "      <th>day</th>\n",
       "      <th>hours</th>\n",
       "      <th>minutes</th>\n",
       "      <th>seconds</th>\n",
       "      <th>dias</th>\n",
       "      <th>id</th>\n",
       "      <th>pred_KNN</th>\n",
       "      <th>pred_RF</th>\n",
       "      <th>pred_linear</th>\n",
       "      <th>desc_tramo</th>\n",
       "    </tr>\n",
       "  </thead>\n",
       "  <tbody>\n",
       "    <tr>\n",
       "      <th>0</th>\n",
       "      <td>2021</td>\n",
       "      <td>3</td>\n",
       "      <td>17</td>\n",
       "      <td>9</td>\n",
       "      <td>0</td>\n",
       "      <td>0</td>\n",
       "      <td>3</td>\n",
       "      <td>10373</td>\n",
       "      <td>8215</td>\n",
       "      <td>2205.34</td>\n",
       "      <td>794.34</td>\n",
       "      <td>Acceso Sur (N-332)</td>\n",
       "    </tr>\n",
       "    <tr>\n",
       "      <th>1</th>\n",
       "      <td>2021</td>\n",
       "      <td>3</td>\n",
       "      <td>17</td>\n",
       "      <td>9</td>\n",
       "      <td>0</td>\n",
       "      <td>0</td>\n",
       "      <td>3</td>\n",
       "      <td>1072</td>\n",
       "      <td>4323</td>\n",
       "      <td>1709.64</td>\n",
       "      <td>679.17</td>\n",
       "      <td>Avenida del Cid</td>\n",
       "    </tr>\n",
       "    <tr>\n",
       "      <th>2</th>\n",
       "      <td>2021</td>\n",
       "      <td>3</td>\n",
       "      <td>17</td>\n",
       "      <td>9</td>\n",
       "      <td>0</td>\n",
       "      <td>0</td>\n",
       "      <td>3</td>\n",
       "      <td>10193</td>\n",
       "      <td>3445</td>\n",
       "      <td>1218.90</td>\n",
       "      <td>792.11</td>\n",
       "      <td>Avenida PIO XII</td>\n",
       "    </tr>\n",
       "    <tr>\n",
       "      <th>3</th>\n",
       "      <td>2021</td>\n",
       "      <td>3</td>\n",
       "      <td>17</td>\n",
       "      <td>14</td>\n",
       "      <td>0</td>\n",
       "      <td>0</td>\n",
       "      <td>3</td>\n",
       "      <td>10373</td>\n",
       "      <td>5321</td>\n",
       "      <td>2205.34</td>\n",
       "      <td>977.33</td>\n",
       "      <td>Acceso Sur (N-332)</td>\n",
       "    </tr>\n",
       "    <tr>\n",
       "      <th>4</th>\n",
       "      <td>2021</td>\n",
       "      <td>3</td>\n",
       "      <td>17</td>\n",
       "      <td>14</td>\n",
       "      <td>0</td>\n",
       "      <td>0</td>\n",
       "      <td>3</td>\n",
       "      <td>1072</td>\n",
       "      <td>5156</td>\n",
       "      <td>1709.64</td>\n",
       "      <td>862.17</td>\n",
       "      <td>Avenida del Cid</td>\n",
       "    </tr>\n",
       "    <tr>\n",
       "      <th>5</th>\n",
       "      <td>2021</td>\n",
       "      <td>3</td>\n",
       "      <td>17</td>\n",
       "      <td>14</td>\n",
       "      <td>0</td>\n",
       "      <td>0</td>\n",
       "      <td>3</td>\n",
       "      <td>10193</td>\n",
       "      <td>2583</td>\n",
       "      <td>1218.90</td>\n",
       "      <td>975.10</td>\n",
       "      <td>Avenida PIO XII</td>\n",
       "    </tr>\n",
       "    <tr>\n",
       "      <th>6</th>\n",
       "      <td>2021</td>\n",
       "      <td>3</td>\n",
       "      <td>17</td>\n",
       "      <td>19</td>\n",
       "      <td>0</td>\n",
       "      <td>0</td>\n",
       "      <td>3</td>\n",
       "      <td>10373</td>\n",
       "      <td>2176</td>\n",
       "      <td>2205.34</td>\n",
       "      <td>1160.33</td>\n",
       "      <td>Acceso Sur (N-332)</td>\n",
       "    </tr>\n",
       "    <tr>\n",
       "      <th>7</th>\n",
       "      <td>2021</td>\n",
       "      <td>3</td>\n",
       "      <td>17</td>\n",
       "      <td>19</td>\n",
       "      <td>0</td>\n",
       "      <td>0</td>\n",
       "      <td>3</td>\n",
       "      <td>1072</td>\n",
       "      <td>4680</td>\n",
       "      <td>1709.64</td>\n",
       "      <td>1045.16</td>\n",
       "      <td>Avenida del Cid</td>\n",
       "    </tr>\n",
       "    <tr>\n",
       "      <th>8</th>\n",
       "      <td>2021</td>\n",
       "      <td>3</td>\n",
       "      <td>17</td>\n",
       "      <td>19</td>\n",
       "      <td>0</td>\n",
       "      <td>0</td>\n",
       "      <td>3</td>\n",
       "      <td>10193</td>\n",
       "      <td>3509</td>\n",
       "      <td>1218.90</td>\n",
       "      <td>1158.10</td>\n",
       "      <td>Avenida PIO XII</td>\n",
       "    </tr>\n",
       "    <tr>\n",
       "      <th>9</th>\n",
       "      <td>2021</td>\n",
       "      <td>5</td>\n",
       "      <td>14</td>\n",
       "      <td>9</td>\n",
       "      <td>0</td>\n",
       "      <td>0</td>\n",
       "      <td>5</td>\n",
       "      <td>10373</td>\n",
       "      <td>2456</td>\n",
       "      <td>2205.34</td>\n",
       "      <td>733.87</td>\n",
       "      <td>Acceso Sur (N-332)</td>\n",
       "    </tr>\n",
       "    <tr>\n",
       "      <th>10</th>\n",
       "      <td>2021</td>\n",
       "      <td>5</td>\n",
       "      <td>14</td>\n",
       "      <td>9</td>\n",
       "      <td>0</td>\n",
       "      <td>0</td>\n",
       "      <td>5</td>\n",
       "      <td>1072</td>\n",
       "      <td>7598</td>\n",
       "      <td>1709.64</td>\n",
       "      <td>618.71</td>\n",
       "      <td>Avenida del Cid</td>\n",
       "    </tr>\n",
       "    <tr>\n",
       "      <th>11</th>\n",
       "      <td>2021</td>\n",
       "      <td>5</td>\n",
       "      <td>14</td>\n",
       "      <td>9</td>\n",
       "      <td>0</td>\n",
       "      <td>0</td>\n",
       "      <td>5</td>\n",
       "      <td>10193</td>\n",
       "      <td>7748</td>\n",
       "      <td>1218.90</td>\n",
       "      <td>731.64</td>\n",
       "      <td>Avenida PIO XII</td>\n",
       "    </tr>\n",
       "    <tr>\n",
       "      <th>12</th>\n",
       "      <td>2021</td>\n",
       "      <td>5</td>\n",
       "      <td>14</td>\n",
       "      <td>14</td>\n",
       "      <td>0</td>\n",
       "      <td>0</td>\n",
       "      <td>5</td>\n",
       "      <td>10373</td>\n",
       "      <td>2176</td>\n",
       "      <td>2205.34</td>\n",
       "      <td>916.87</td>\n",
       "      <td>Acceso Sur (N-332)</td>\n",
       "    </tr>\n",
       "    <tr>\n",
       "      <th>13</th>\n",
       "      <td>2021</td>\n",
       "      <td>5</td>\n",
       "      <td>14</td>\n",
       "      <td>14</td>\n",
       "      <td>0</td>\n",
       "      <td>0</td>\n",
       "      <td>5</td>\n",
       "      <td>1072</td>\n",
       "      <td>229</td>\n",
       "      <td>1709.64</td>\n",
       "      <td>801.70</td>\n",
       "      <td>Avenida del Cid</td>\n",
       "    </tr>\n",
       "    <tr>\n",
       "      <th>14</th>\n",
       "      <td>2021</td>\n",
       "      <td>5</td>\n",
       "      <td>14</td>\n",
       "      <td>14</td>\n",
       "      <td>0</td>\n",
       "      <td>0</td>\n",
       "      <td>5</td>\n",
       "      <td>10193</td>\n",
       "      <td>2937</td>\n",
       "      <td>1218.90</td>\n",
       "      <td>914.64</td>\n",
       "      <td>Avenida PIO XII</td>\n",
       "    </tr>\n",
       "    <tr>\n",
       "      <th>15</th>\n",
       "      <td>2021</td>\n",
       "      <td>5</td>\n",
       "      <td>14</td>\n",
       "      <td>19</td>\n",
       "      <td>0</td>\n",
       "      <td>0</td>\n",
       "      <td>5</td>\n",
       "      <td>10373</td>\n",
       "      <td>7654</td>\n",
       "      <td>2205.34</td>\n",
       "      <td>1099.86</td>\n",
       "      <td>Acceso Sur (N-332)</td>\n",
       "    </tr>\n",
       "    <tr>\n",
       "      <th>16</th>\n",
       "      <td>2021</td>\n",
       "      <td>5</td>\n",
       "      <td>14</td>\n",
       "      <td>19</td>\n",
       "      <td>0</td>\n",
       "      <td>0</td>\n",
       "      <td>5</td>\n",
       "      <td>1072</td>\n",
       "      <td>7450</td>\n",
       "      <td>1709.64</td>\n",
       "      <td>984.69</td>\n",
       "      <td>Avenida del Cid</td>\n",
       "    </tr>\n",
       "    <tr>\n",
       "      <th>17</th>\n",
       "      <td>2021</td>\n",
       "      <td>5</td>\n",
       "      <td>14</td>\n",
       "      <td>19</td>\n",
       "      <td>0</td>\n",
       "      <td>0</td>\n",
       "      <td>5</td>\n",
       "      <td>10193</td>\n",
       "      <td>3409</td>\n",
       "      <td>1218.90</td>\n",
       "      <td>1097.63</td>\n",
       "      <td>Avenida PIO XII</td>\n",
       "    </tr>\n",
       "    <tr>\n",
       "      <th>18</th>\n",
       "      <td>2021</td>\n",
       "      <td>7</td>\n",
       "      <td>1</td>\n",
       "      <td>9</td>\n",
       "      <td>0</td>\n",
       "      <td>0</td>\n",
       "      <td>4</td>\n",
       "      <td>10373</td>\n",
       "      <td>2340</td>\n",
       "      <td>2205.34</td>\n",
       "      <td>719.18</td>\n",
       "      <td>Acceso Sur (N-332)</td>\n",
       "    </tr>\n",
       "    <tr>\n",
       "      <th>19</th>\n",
       "      <td>2021</td>\n",
       "      <td>7</td>\n",
       "      <td>1</td>\n",
       "      <td>9</td>\n",
       "      <td>0</td>\n",
       "      <td>0</td>\n",
       "      <td>4</td>\n",
       "      <td>1072</td>\n",
       "      <td>367</td>\n",
       "      <td>1709.64</td>\n",
       "      <td>604.02</td>\n",
       "      <td>Avenida del Cid</td>\n",
       "    </tr>\n",
       "    <tr>\n",
       "      <th>20</th>\n",
       "      <td>2021</td>\n",
       "      <td>7</td>\n",
       "      <td>1</td>\n",
       "      <td>9</td>\n",
       "      <td>0</td>\n",
       "      <td>0</td>\n",
       "      <td>4</td>\n",
       "      <td>10193</td>\n",
       "      <td>3438</td>\n",
       "      <td>1218.90</td>\n",
       "      <td>716.96</td>\n",
       "      <td>Avenida PIO XII</td>\n",
       "    </tr>\n",
       "    <tr>\n",
       "      <th>21</th>\n",
       "      <td>2021</td>\n",
       "      <td>7</td>\n",
       "      <td>1</td>\n",
       "      <td>14</td>\n",
       "      <td>0</td>\n",
       "      <td>0</td>\n",
       "      <td>4</td>\n",
       "      <td>10373</td>\n",
       "      <td>1685</td>\n",
       "      <td>2205.34</td>\n",
       "      <td>902.18</td>\n",
       "      <td>Acceso Sur (N-332)</td>\n",
       "    </tr>\n",
       "    <tr>\n",
       "      <th>22</th>\n",
       "      <td>2021</td>\n",
       "      <td>7</td>\n",
       "      <td>1</td>\n",
       "      <td>14</td>\n",
       "      <td>0</td>\n",
       "      <td>0</td>\n",
       "      <td>4</td>\n",
       "      <td>1072</td>\n",
       "      <td>3234</td>\n",
       "      <td>1709.64</td>\n",
       "      <td>787.01</td>\n",
       "      <td>Avenida del Cid</td>\n",
       "    </tr>\n",
       "    <tr>\n",
       "      <th>23</th>\n",
       "      <td>2021</td>\n",
       "      <td>7</td>\n",
       "      <td>1</td>\n",
       "      <td>14</td>\n",
       "      <td>0</td>\n",
       "      <td>0</td>\n",
       "      <td>4</td>\n",
       "      <td>10193</td>\n",
       "      <td>4997</td>\n",
       "      <td>1218.90</td>\n",
       "      <td>899.95</td>\n",
       "      <td>Avenida PIO XII</td>\n",
       "    </tr>\n",
       "    <tr>\n",
       "      <th>24</th>\n",
       "      <td>2021</td>\n",
       "      <td>7</td>\n",
       "      <td>1</td>\n",
       "      <td>19</td>\n",
       "      <td>0</td>\n",
       "      <td>0</td>\n",
       "      <td>4</td>\n",
       "      <td>10373</td>\n",
       "      <td>1692</td>\n",
       "      <td>2205.34</td>\n",
       "      <td>1085.17</td>\n",
       "      <td>Acceso Sur (N-332)</td>\n",
       "    </tr>\n",
       "    <tr>\n",
       "      <th>25</th>\n",
       "      <td>2021</td>\n",
       "      <td>7</td>\n",
       "      <td>1</td>\n",
       "      <td>19</td>\n",
       "      <td>0</td>\n",
       "      <td>0</td>\n",
       "      <td>4</td>\n",
       "      <td>1072</td>\n",
       "      <td>4964</td>\n",
       "      <td>1709.64</td>\n",
       "      <td>970.01</td>\n",
       "      <td>Avenida del Cid</td>\n",
       "    </tr>\n",
       "    <tr>\n",
       "      <th>26</th>\n",
       "      <td>2021</td>\n",
       "      <td>7</td>\n",
       "      <td>1</td>\n",
       "      <td>19</td>\n",
       "      <td>0</td>\n",
       "      <td>0</td>\n",
       "      <td>4</td>\n",
       "      <td>10193</td>\n",
       "      <td>2778</td>\n",
       "      <td>1218.90</td>\n",
       "      <td>1082.94</td>\n",
       "      <td>Avenida PIO XII</td>\n",
       "    </tr>\n",
       "    <tr>\n",
       "      <th>27</th>\n",
       "      <td>2021</td>\n",
       "      <td>12</td>\n",
       "      <td>24</td>\n",
       "      <td>9</td>\n",
       "      <td>0</td>\n",
       "      <td>0</td>\n",
       "      <td>5</td>\n",
       "      <td>10373</td>\n",
       "      <td>991</td>\n",
       "      <td>2205.34</td>\n",
       "      <td>734.50</td>\n",
       "      <td>Acceso Sur (N-332)</td>\n",
       "    </tr>\n",
       "    <tr>\n",
       "      <th>28</th>\n",
       "      <td>2021</td>\n",
       "      <td>12</td>\n",
       "      <td>24</td>\n",
       "      <td>9</td>\n",
       "      <td>0</td>\n",
       "      <td>0</td>\n",
       "      <td>5</td>\n",
       "      <td>1072</td>\n",
       "      <td>944</td>\n",
       "      <td>1709.64</td>\n",
       "      <td>619.34</td>\n",
       "      <td>Avenida del Cid</td>\n",
       "    </tr>\n",
       "    <tr>\n",
       "      <th>29</th>\n",
       "      <td>2021</td>\n",
       "      <td>12</td>\n",
       "      <td>24</td>\n",
       "      <td>9</td>\n",
       "      <td>0</td>\n",
       "      <td>0</td>\n",
       "      <td>5</td>\n",
       "      <td>10193</td>\n",
       "      <td>604</td>\n",
       "      <td>1218.90</td>\n",
       "      <td>732.28</td>\n",
       "      <td>Avenida PIO XII</td>\n",
       "    </tr>\n",
       "    <tr>\n",
       "      <th>30</th>\n",
       "      <td>2021</td>\n",
       "      <td>12</td>\n",
       "      <td>24</td>\n",
       "      <td>14</td>\n",
       "      <td>0</td>\n",
       "      <td>0</td>\n",
       "      <td>5</td>\n",
       "      <td>10373</td>\n",
       "      <td>3326</td>\n",
       "      <td>2205.34</td>\n",
       "      <td>917.50</td>\n",
       "      <td>Acceso Sur (N-332)</td>\n",
       "    </tr>\n",
       "    <tr>\n",
       "      <th>31</th>\n",
       "      <td>2021</td>\n",
       "      <td>12</td>\n",
       "      <td>24</td>\n",
       "      <td>14</td>\n",
       "      <td>0</td>\n",
       "      <td>0</td>\n",
       "      <td>5</td>\n",
       "      <td>1072</td>\n",
       "      <td>3213</td>\n",
       "      <td>1709.64</td>\n",
       "      <td>802.33</td>\n",
       "      <td>Avenida del Cid</td>\n",
       "    </tr>\n",
       "    <tr>\n",
       "      <th>32</th>\n",
       "      <td>2021</td>\n",
       "      <td>12</td>\n",
       "      <td>24</td>\n",
       "      <td>14</td>\n",
       "      <td>0</td>\n",
       "      <td>0</td>\n",
       "      <td>5</td>\n",
       "      <td>10193</td>\n",
       "      <td>6942</td>\n",
       "      <td>1218.90</td>\n",
       "      <td>915.27</td>\n",
       "      <td>Avenida PIO XII</td>\n",
       "    </tr>\n",
       "    <tr>\n",
       "      <th>33</th>\n",
       "      <td>2021</td>\n",
       "      <td>12</td>\n",
       "      <td>24</td>\n",
       "      <td>19</td>\n",
       "      <td>0</td>\n",
       "      <td>0</td>\n",
       "      <td>5</td>\n",
       "      <td>10373</td>\n",
       "      <td>1689</td>\n",
       "      <td>2205.34</td>\n",
       "      <td>1100.49</td>\n",
       "      <td>Acceso Sur (N-332)</td>\n",
       "    </tr>\n",
       "    <tr>\n",
       "      <th>34</th>\n",
       "      <td>2021</td>\n",
       "      <td>12</td>\n",
       "      <td>24</td>\n",
       "      <td>19</td>\n",
       "      <td>0</td>\n",
       "      <td>0</td>\n",
       "      <td>5</td>\n",
       "      <td>1072</td>\n",
       "      <td>2956</td>\n",
       "      <td>1709.64</td>\n",
       "      <td>985.33</td>\n",
       "      <td>Avenida del Cid</td>\n",
       "    </tr>\n",
       "    <tr>\n",
       "      <th>35</th>\n",
       "      <td>2021</td>\n",
       "      <td>12</td>\n",
       "      <td>24</td>\n",
       "      <td>19</td>\n",
       "      <td>0</td>\n",
       "      <td>0</td>\n",
       "      <td>5</td>\n",
       "      <td>10193</td>\n",
       "      <td>3707</td>\n",
       "      <td>1218.90</td>\n",
       "      <td>1098.26</td>\n",
       "      <td>Avenida PIO XII</td>\n",
       "    </tr>\n",
       "  </tbody>\n",
       "</table>\n",
       "</div>"
      ],
      "text/plain": [
       "    year  month  day  hours  minutes  seconds  dias     id  pred_KNN  pred_RF  \\\n",
       "0   2021      3   17      9        0        0     3  10373      8215  2205.34   \n",
       "1   2021      3   17      9        0        0     3   1072      4323  1709.64   \n",
       "2   2021      3   17      9        0        0     3  10193      3445  1218.90   \n",
       "3   2021      3   17     14        0        0     3  10373      5321  2205.34   \n",
       "4   2021      3   17     14        0        0     3   1072      5156  1709.64   \n",
       "5   2021      3   17     14        0        0     3  10193      2583  1218.90   \n",
       "6   2021      3   17     19        0        0     3  10373      2176  2205.34   \n",
       "7   2021      3   17     19        0        0     3   1072      4680  1709.64   \n",
       "8   2021      3   17     19        0        0     3  10193      3509  1218.90   \n",
       "9   2021      5   14      9        0        0     5  10373      2456  2205.34   \n",
       "10  2021      5   14      9        0        0     5   1072      7598  1709.64   \n",
       "11  2021      5   14      9        0        0     5  10193      7748  1218.90   \n",
       "12  2021      5   14     14        0        0     5  10373      2176  2205.34   \n",
       "13  2021      5   14     14        0        0     5   1072       229  1709.64   \n",
       "14  2021      5   14     14        0        0     5  10193      2937  1218.90   \n",
       "15  2021      5   14     19        0        0     5  10373      7654  2205.34   \n",
       "16  2021      5   14     19        0        0     5   1072      7450  1709.64   \n",
       "17  2021      5   14     19        0        0     5  10193      3409  1218.90   \n",
       "18  2021      7    1      9        0        0     4  10373      2340  2205.34   \n",
       "19  2021      7    1      9        0        0     4   1072       367  1709.64   \n",
       "20  2021      7    1      9        0        0     4  10193      3438  1218.90   \n",
       "21  2021      7    1     14        0        0     4  10373      1685  2205.34   \n",
       "22  2021      7    1     14        0        0     4   1072      3234  1709.64   \n",
       "23  2021      7    1     14        0        0     4  10193      4997  1218.90   \n",
       "24  2021      7    1     19        0        0     4  10373      1692  2205.34   \n",
       "25  2021      7    1     19        0        0     4   1072      4964  1709.64   \n",
       "26  2021      7    1     19        0        0     4  10193      2778  1218.90   \n",
       "27  2021     12   24      9        0        0     5  10373       991  2205.34   \n",
       "28  2021     12   24      9        0        0     5   1072       944  1709.64   \n",
       "29  2021     12   24      9        0        0     5  10193       604  1218.90   \n",
       "30  2021     12   24     14        0        0     5  10373      3326  2205.34   \n",
       "31  2021     12   24     14        0        0     5   1072      3213  1709.64   \n",
       "32  2021     12   24     14        0        0     5  10193      6942  1218.90   \n",
       "33  2021     12   24     19        0        0     5  10373      1689  2205.34   \n",
       "34  2021     12   24     19        0        0     5   1072      2956  1709.64   \n",
       "35  2021     12   24     19        0        0     5  10193      3707  1218.90   \n",
       "\n",
       "    pred_linear          desc_tramo  \n",
       "0        794.34  Acceso Sur (N-332)  \n",
       "1        679.17     Avenida del Cid  \n",
       "2        792.11     Avenida PIO XII  \n",
       "3        977.33  Acceso Sur (N-332)  \n",
       "4        862.17     Avenida del Cid  \n",
       "5        975.10     Avenida PIO XII  \n",
       "6       1160.33  Acceso Sur (N-332)  \n",
       "7       1045.16     Avenida del Cid  \n",
       "8       1158.10     Avenida PIO XII  \n",
       "9        733.87  Acceso Sur (N-332)  \n",
       "10       618.71     Avenida del Cid  \n",
       "11       731.64     Avenida PIO XII  \n",
       "12       916.87  Acceso Sur (N-332)  \n",
       "13       801.70     Avenida del Cid  \n",
       "14       914.64     Avenida PIO XII  \n",
       "15      1099.86  Acceso Sur (N-332)  \n",
       "16       984.69     Avenida del Cid  \n",
       "17      1097.63     Avenida PIO XII  \n",
       "18       719.18  Acceso Sur (N-332)  \n",
       "19       604.02     Avenida del Cid  \n",
       "20       716.96     Avenida PIO XII  \n",
       "21       902.18  Acceso Sur (N-332)  \n",
       "22       787.01     Avenida del Cid  \n",
       "23       899.95     Avenida PIO XII  \n",
       "24      1085.17  Acceso Sur (N-332)  \n",
       "25       970.01     Avenida del Cid  \n",
       "26      1082.94     Avenida PIO XII  \n",
       "27       734.50  Acceso Sur (N-332)  \n",
       "28       619.34     Avenida del Cid  \n",
       "29       732.28     Avenida PIO XII  \n",
       "30       917.50  Acceso Sur (N-332)  \n",
       "31       802.33     Avenida del Cid  \n",
       "32       915.27     Avenida PIO XII  \n",
       "33      1100.49  Acceso Sur (N-332)  \n",
       "34       985.33     Avenida del Cid  \n",
       "35      1098.26     Avenida PIO XII  "
      ]
     },
     "execution_count": 157,
     "metadata": {},
     "output_type": "execute_result"
    }
   ],
   "source": [
    "dataML_pred['desc_tramo'] = \\\n",
    "np.where(\n",
    "    (dataML_pred['id'] == 10373), 'Acceso Sur (N-332)',\\\n",
    "    np.where(\n",
    "        (dataML_pred['id'] == 1072), 'Avenida del Cid',\\\n",
    "        np.where(\n",
    "            (dataML_pred['id'] == 10193), 'Avenida PIO XII',''\\\n",
    "        )\n",
    "    )\n",
    ")\n",
    "\n",
    "dataML_pred['pred_linear']= new_pred_linear.round(2)\n",
    "dataML_pred['pred_KNN'] = new_pred_knn.round(2)\n",
    "dataML_pred['pred_RF'] = new_pred_RF.round(2)\n",
    "\n",
    "\n",
    "dataML_pred"
   ]
  },
  {
   "cell_type": "code",
   "execution_count": 158,
   "metadata": {},
   "outputs": [
    {
     "name": "stdout",
     "output_type": "stream",
     "text": [
      "Archivo Creado Correctamente\n"
     ]
    }
   ],
   "source": [
    "#Guardamos los datos filtrados anteriormente en un csv\n",
    "final_data = 'final_data.csv'\n",
    "try:\n",
    "    dataML_pred.to_csv(final_data,sep=';', index=False, header = True)\n",
    "    print('Archivo Creado Correctamente')\n",
    "except EmptyDataError as ex:\n",
    "    print('Datos Vacíos: \\n',ex)\n",
    "except ParserError as ex:\n",
    "    print('Error Parseo Archivo: \\n',ex)\n",
    "except Exception as ex:\n",
    "    print('Archivo Creado con Errores: \\n',ex)"
   ]
  },
  {
   "cell_type": "code",
   "execution_count": 2,
   "metadata": {},
   "outputs": [
    {
     "data": {
      "text/html": [
       "<div>\n",
       "<style scoped>\n",
       "    .dataframe tbody tr th:only-of-type {\n",
       "        vertical-align: middle;\n",
       "    }\n",
       "\n",
       "    .dataframe tbody tr th {\n",
       "        vertical-align: top;\n",
       "    }\n",
       "\n",
       "    .dataframe thead th {\n",
       "        text-align: right;\n",
       "    }\n",
       "</style>\n",
       "<table border=\"1\" class=\"dataframe\">\n",
       "  <thead>\n",
       "    <tr style=\"text-align: right;\">\n",
       "      <th></th>\n",
       "      <th>fecha</th>\n",
       "      <th>hora</th>\n",
       "      <th>dias</th>\n",
       "      <th>id</th>\n",
       "      <th>pred_KNN</th>\n",
       "      <th>pred_RF</th>\n",
       "      <th>pred_linear</th>\n",
       "      <th>desc_tramo</th>\n",
       "    </tr>\n",
       "  </thead>\n",
       "  <tbody>\n",
       "    <tr>\n",
       "      <th>0</th>\n",
       "      <td>2021-03-17</td>\n",
       "      <td>9:00:00</td>\n",
       "      <td>3</td>\n",
       "      <td>10373</td>\n",
       "      <td>8215</td>\n",
       "      <td>2205,34</td>\n",
       "      <td>794,34</td>\n",
       "      <td>Acceso Sur (N-332)</td>\n",
       "    </tr>\n",
       "    <tr>\n",
       "      <th>1</th>\n",
       "      <td>2021-03-17</td>\n",
       "      <td>9:00:00</td>\n",
       "      <td>3</td>\n",
       "      <td>1072</td>\n",
       "      <td>4323</td>\n",
       "      <td>1709,64</td>\n",
       "      <td>679,17</td>\n",
       "      <td>Avenida del Cid</td>\n",
       "    </tr>\n",
       "    <tr>\n",
       "      <th>2</th>\n",
       "      <td>2021-03-17</td>\n",
       "      <td>9:00:00</td>\n",
       "      <td>3</td>\n",
       "      <td>10193</td>\n",
       "      <td>3445</td>\n",
       "      <td>1218,9</td>\n",
       "      <td>792,11</td>\n",
       "      <td>Avenida PIO XII</td>\n",
       "    </tr>\n",
       "    <tr>\n",
       "      <th>3</th>\n",
       "      <td>2021-03-17</td>\n",
       "      <td>14:00:00</td>\n",
       "      <td>3</td>\n",
       "      <td>10373</td>\n",
       "      <td>5321</td>\n",
       "      <td>2205,34</td>\n",
       "      <td>977,33</td>\n",
       "      <td>Acceso Sur (N-332)</td>\n",
       "    </tr>\n",
       "    <tr>\n",
       "      <th>4</th>\n",
       "      <td>2021-03-17</td>\n",
       "      <td>14:00:00</td>\n",
       "      <td>3</td>\n",
       "      <td>1072</td>\n",
       "      <td>5156</td>\n",
       "      <td>1709,64</td>\n",
       "      <td>862,17</td>\n",
       "      <td>Avenida del Cid</td>\n",
       "    </tr>\n",
       "  </tbody>\n",
       "</table>\n",
       "</div>"
      ],
      "text/plain": [
       "        fecha      hora  dias     id  pred_KNN  pred_RF pred_linear  \\\n",
       "0  2021-03-17   9:00:00     3  10373      8215  2205,34      794,34   \n",
       "1  2021-03-17   9:00:00     3   1072      4323  1709,64      679,17   \n",
       "2  2021-03-17   9:00:00     3  10193      3445   1218,9      792,11   \n",
       "3  2021-03-17  14:00:00     3  10373      5321  2205,34      977,33   \n",
       "4  2021-03-17  14:00:00     3   1072      5156  1709,64      862,17   \n",
       "\n",
       "           desc_tramo  \n",
       "0  Acceso Sur (N-332)  \n",
       "1     Avenida del Cid  \n",
       "2     Avenida PIO XII  \n",
       "3  Acceso Sur (N-332)  \n",
       "4     Avenida del Cid  "
      ]
     },
     "execution_count": 2,
     "metadata": {},
     "output_type": "execute_result"
    }
   ],
   "source": [
    "#Cargamos dataset\n",
    "dataML_pred = pd.read_csv('../../TFM/Machine_Learning_Data/f_data.csv',sep=';',engine='python')\n",
    "dataML_pred.head(5)"
   ]
  },
  {
   "cell_type": "code",
   "execution_count": 3,
   "metadata": {},
   "outputs": [
    {
     "data": {
      "text/plain": [
       "fecha          36\n",
       "hora           36\n",
       "dias           36\n",
       "id             36\n",
       "pred_KNN       36\n",
       "pred_RF        36\n",
       "pred_linear    36\n",
       "desc_tramo     36\n",
       "dtype: int64"
      ]
     },
     "execution_count": 3,
     "metadata": {},
     "output_type": "execute_result"
    }
   ],
   "source": [
    "dataML_pred.count()"
   ]
  },
  {
   "cell_type": "code",
   "execution_count": null,
   "metadata": {},
   "outputs": [],
   "source": []
  }
 ],
 "metadata": {
  "kernelspec": {
   "display_name": "Python 3",
   "language": "python",
   "name": "python3"
  },
  "language_info": {
   "codemirror_mode": {
    "name": "ipython",
    "version": 3
   },
   "file_extension": ".py",
   "mimetype": "text/x-python",
   "name": "python",
   "nbconvert_exporter": "python",
   "pygments_lexer": "ipython3",
   "version": "3.7.6"
  }
 },
 "nbformat": 4,
 "nbformat_minor": 4
}
