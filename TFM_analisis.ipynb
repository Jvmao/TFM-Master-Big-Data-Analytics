{
 "cells": [
  {
   "cell_type": "markdown",
   "metadata": {},
   "source": [
    "# 2.- Análisis Dataset"
   ]
  },
  {
   "cell_type": "code",
   "execution_count": 1,
   "metadata": {},
   "outputs": [
    {
     "name": "stderr",
     "output_type": "stream",
     "text": [
      "/usr/local/lib/python3.7/site-packages/matplotlib/__init__.py:886: MatplotlibDeprecationWarning: \n",
      "examples.directory is deprecated; in the future, examples will be found relative to the 'datapath' directory.\n",
      "  \"found relative to the 'datapath' directory.\".format(key))\n"
     ]
    }
   ],
   "source": [
    "# -*- coding: utf-8 -*-\n",
    "\n",
    "#Imports\n",
    "import pandas as pd\n",
    "import csv\n",
    "import numpy as np\n",
    "import os\n",
    "import glob\n",
    "import matplotlib.pyplot as plt\n",
    "from matplotlib.dates import DateFormatter\n",
    "import seaborn as sns\n",
    "import datetime"
   ]
  },
  {
   "cell_type": "code",
   "execution_count": 2,
   "metadata": {},
   "outputs": [],
   "source": [
    "# disable chained assignments\n",
    "pd.options.mode.chained_assignment = None "
   ]
  },
  {
   "cell_type": "code",
   "execution_count": 18,
   "metadata": {},
   "outputs": [
    {
     "name": "stdout",
     "output_type": "stream",
     "text": [
      "['clean_data_11_noviembre2015.csv', 'clean_data_08_agosto2015.csv', 'clean_data_06_junio2015.csv', 'clean_data_09_septiembre2015.csv', 'clean_data_07_julio2015.csv', 'clean_data_04_abril2015.csv', 'clean_data_05_mayo2015.csv', 'clean_data_10_octubre2015.csv', 'clean_data_03_marzo2015.csv', 'clean_data_01_enero2015.csv', 'clean_data_12_diciembre2015.csv', 'clean_data_02_febrero2015.csv']\n"
     ]
    }
   ],
   "source": [
    "#Buscamos todos los csv procesados anteriormente\n",
    "extension = 'csv'\n",
    "csv_files = [i for i in glob.glob('*.{}'.format(extension))]\n",
    "print(csv_files)"
   ]
  },
  {
   "cell_type": "code",
   "execution_count": 19,
   "metadata": {
    "scrolled": true
   },
   "outputs": [],
   "source": [
    "#Concatenamos los csv en un solo dataframe \n",
    "colnames=['fecha', 'dia_semana', 'hora', 'id_tramo','des_tramo','estado','longitud','latitud']\n",
    "big_frame = pd.concat([pd.read_csv(f, sep=';',names=colnames) for f in csv_files])"
   ]
  },
  {
   "cell_type": "code",
   "execution_count": 20,
   "metadata": {
    "scrolled": true
   },
   "outputs": [
    {
     "data": {
      "text/html": [
       "<div>\n",
       "<style scoped>\n",
       "    .dataframe tbody tr th:only-of-type {\n",
       "        vertical-align: middle;\n",
       "    }\n",
       "\n",
       "    .dataframe tbody tr th {\n",
       "        vertical-align: top;\n",
       "    }\n",
       "\n",
       "    .dataframe thead th {\n",
       "        text-align: right;\n",
       "    }\n",
       "</style>\n",
       "<table border=\"1\" class=\"dataframe\">\n",
       "  <thead>\n",
       "    <tr style=\"text-align: right;\">\n",
       "      <th></th>\n",
       "      <th>fecha</th>\n",
       "      <th>dia_semana</th>\n",
       "      <th>hora</th>\n",
       "      <th>id_tramo</th>\n",
       "      <th>des_tramo</th>\n",
       "      <th>estado</th>\n",
       "      <th>longitud</th>\n",
       "      <th>latitud</th>\n",
       "    </tr>\n",
       "  </thead>\n",
       "  <tbody>\n",
       "    <tr>\n",
       "      <th>0</th>\n",
       "      <td>2015-04-11</td>\n",
       "      <td>Sábado</td>\n",
       "      <td>12:30:01</td>\n",
       "      <td>A101</td>\n",
       "      <td>EN CORTS, CARRERA</td>\n",
       "      <td>0</td>\n",
       "      <td>-0.364338</td>\n",
       "      <td>39.453003</td>\n",
       "    </tr>\n",
       "    <tr>\n",
       "      <th>1</th>\n",
       "      <td>2015-04-11</td>\n",
       "      <td>Sábado</td>\n",
       "      <td>12:30:01</td>\n",
       "      <td>A102</td>\n",
       "      <td>ERNESTO FERRER</td>\n",
       "      <td>320</td>\n",
       "      <td>-0.354378</td>\n",
       "      <td>39.471478</td>\n",
       "    </tr>\n",
       "    <tr>\n",
       "      <th>2</th>\n",
       "      <td>2015-04-11</td>\n",
       "      <td>Sábado</td>\n",
       "      <td>12:30:01</td>\n",
       "      <td>A104</td>\n",
       "      <td>EUGENIA VIÑES</td>\n",
       "      <td>444</td>\n",
       "      <td>-0.325181</td>\n",
       "      <td>39.467414</td>\n",
       "    </tr>\n",
       "    <tr>\n",
       "      <th>3</th>\n",
       "      <td>2015-04-11</td>\n",
       "      <td>Sábado</td>\n",
       "      <td>12:30:01</td>\n",
       "      <td>A167</td>\n",
       "      <td>NICASIO BENLLOCH</td>\n",
       "      <td>517</td>\n",
       "      <td>-0.390403</td>\n",
       "      <td>39.488247</td>\n",
       "    </tr>\n",
       "    <tr>\n",
       "      <th>4</th>\n",
       "      <td>2015-04-11</td>\n",
       "      <td>Sábado</td>\n",
       "      <td>12:30:01</td>\n",
       "      <td>A168</td>\n",
       "      <td>NICASIO BENLLOCH</td>\n",
       "      <td>559</td>\n",
       "      <td>-0.400075</td>\n",
       "      <td>39.495816</td>\n",
       "    </tr>\n",
       "    <tr>\n",
       "      <th>...</th>\n",
       "      <td>...</td>\n",
       "      <td>...</td>\n",
       "      <td>...</td>\n",
       "      <td>...</td>\n",
       "      <td>...</td>\n",
       "      <td>...</td>\n",
       "      <td>...</td>\n",
       "      <td>...</td>\n",
       "    </tr>\n",
       "    <tr>\n",
       "      <th>1031231</th>\n",
       "      <td>2015-02-21</td>\n",
       "      <td>Sábado</td>\n",
       "      <td>14:45:01</td>\n",
       "      <td>B93</td>\n",
       "      <td>REINA DOÑA GERMANA</td>\n",
       "      <td>180</td>\n",
       "      <td>-0.365681</td>\n",
       "      <td>39.463985</td>\n",
       "    </tr>\n",
       "    <tr>\n",
       "      <th>1031232</th>\n",
       "      <td>2015-02-21</td>\n",
       "      <td>Sábado</td>\n",
       "      <td>14:45:01</td>\n",
       "      <td>B94</td>\n",
       "      <td>RIO TAJO</td>\n",
       "      <td>39</td>\n",
       "      <td>-0.329917</td>\n",
       "      <td>39.476542</td>\n",
       "    </tr>\n",
       "    <tr>\n",
       "      <th>1031233</th>\n",
       "      <td>2015-02-21</td>\n",
       "      <td>Sábado</td>\n",
       "      <td>14:45:01</td>\n",
       "      <td>B95</td>\n",
       "      <td>RODRÍGUEZ DE CEPEDA</td>\n",
       "      <td>157</td>\n",
       "      <td>-0.352085</td>\n",
       "      <td>39.468331</td>\n",
       "    </tr>\n",
       "    <tr>\n",
       "      <th>1031234</th>\n",
       "      <td>2015-02-21</td>\n",
       "      <td>Sábado</td>\n",
       "      <td>14:45:01</td>\n",
       "      <td>B97</td>\n",
       "      <td>SAGASTA</td>\n",
       "      <td>261</td>\n",
       "      <td>-0.373892</td>\n",
       "      <td>39.469853</td>\n",
       "    </tr>\n",
       "    <tr>\n",
       "      <th>1031235</th>\n",
       "      <td>2015-02-21</td>\n",
       "      <td>Sábado</td>\n",
       "      <td>14:45:01</td>\n",
       "      <td>B98</td>\n",
       "      <td>SANTA AMALIA</td>\n",
       "      <td>180</td>\n",
       "      <td>-0.372333</td>\n",
       "      <td>39.481233</td>\n",
       "    </tr>\n",
       "  </tbody>\n",
       "</table>\n",
       "<p>12311384 rows × 8 columns</p>\n",
       "</div>"
      ],
      "text/plain": [
       "              fecha dia_semana      hora id_tramo            des_tramo  \\\n",
       "0        2015-04-11     Sábado  12:30:01     A101    EN CORTS, CARRERA   \n",
       "1        2015-04-11     Sábado  12:30:01     A102       ERNESTO FERRER   \n",
       "2        2015-04-11     Sábado  12:30:01     A104        EUGENIA VIÑES   \n",
       "3        2015-04-11     Sábado  12:30:01     A167     NICASIO BENLLOCH   \n",
       "4        2015-04-11     Sábado  12:30:01     A168     NICASIO BENLLOCH   \n",
       "...             ...        ...       ...      ...                  ...   \n",
       "1031231  2015-02-21     Sábado  14:45:01      B93   REINA DOÑA GERMANA   \n",
       "1031232  2015-02-21     Sábado  14:45:01      B94             RIO TAJO   \n",
       "1031233  2015-02-21     Sábado  14:45:01      B95  RODRÍGUEZ DE CEPEDA   \n",
       "1031234  2015-02-21     Sábado  14:45:01      B97              SAGASTA   \n",
       "1031235  2015-02-21     Sábado  14:45:01      B98         SANTA AMALIA   \n",
       "\n",
       "         estado  longitud    latitud  \n",
       "0             0 -0.364338  39.453003  \n",
       "1           320 -0.354378  39.471478  \n",
       "2           444 -0.325181  39.467414  \n",
       "3           517 -0.390403  39.488247  \n",
       "4           559 -0.400075  39.495816  \n",
       "...         ...       ...        ...  \n",
       "1031231     180 -0.365681  39.463985  \n",
       "1031232      39 -0.329917  39.476542  \n",
       "1031233     157 -0.352085  39.468331  \n",
       "1031234     261 -0.373892  39.469853  \n",
       "1031235     180 -0.372333  39.481233  \n",
       "\n",
       "[12311384 rows x 8 columns]"
      ]
     },
     "execution_count": 20,
     "metadata": {},
     "output_type": "execute_result"
    }
   ],
   "source": [
    "big_frame"
   ]
  },
  {
   "cell_type": "code",
   "execution_count": 21,
   "metadata": {},
   "outputs": [],
   "source": [
    "big_frame['estado'] = pd.to_numeric(big_frame['estado'], errors=\"coerce\")\n",
    "big_frame['estado'] = big_frame['estado'].fillna(0).astype(np.int64)"
   ]
  },
  {
   "cell_type": "code",
   "execution_count": 22,
   "metadata": {},
   "outputs": [
    {
     "data": {
      "text/plain": [
       "fecha          object\n",
       "dia_semana     object\n",
       "hora           object\n",
       "id_tramo       object\n",
       "des_tramo      object\n",
       "estado          int64\n",
       "longitud      float64\n",
       "latitud       float64\n",
       "dtype: object"
      ]
     },
     "execution_count": 22,
     "metadata": {},
     "output_type": "execute_result"
    }
   ],
   "source": [
    "#Tipo de datos\n",
    "big_frame.dtypes"
   ]
  },
  {
   "cell_type": "code",
   "execution_count": 23,
   "metadata": {},
   "outputs": [
    {
     "data": {
      "text/plain": [
       "fecha         12311384\n",
       "dia_semana    12311384\n",
       "hora          12311384\n",
       "id_tramo      12311384\n",
       "des_tramo     12311384\n",
       "estado        12311384\n",
       "longitud      12311384\n",
       "latitud       12311384\n",
       "dtype: int64"
      ]
     },
     "execution_count": 23,
     "metadata": {},
     "output_type": "execute_result"
    }
   ],
   "source": [
    "#Contamos todas las filas\n",
    "big_frame.count()"
   ]
  },
  {
   "cell_type": "code",
   "execution_count": 19,
   "metadata": {
    "scrolled": true
   },
   "outputs": [
    {
     "data": {
      "text/plain": [
       "fecha         0\n",
       "dia_semana    0\n",
       "hora          0\n",
       "id_tramo      0\n",
       "des_tramo     0\n",
       "estado        0\n",
       "longitud      0\n",
       "latitud       0\n",
       "dtype: int64"
      ]
     },
     "execution_count": 19,
     "metadata": {},
     "output_type": "execute_result"
    }
   ],
   "source": [
    "#Comprobamos si existe algún valor nulo en el dataframe\n",
    "big_frame.isna().sum()"
   ]
  },
  {
   "cell_type": "code",
   "execution_count": 28,
   "metadata": {},
   "outputs": [
    {
     "name": "stdout",
     "output_type": "stream",
     "text": [
      "Dataset Shape:     (12311384, 8)\n",
      "Filas Duplicadas:  85284\n"
     ]
    }
   ],
   "source": [
    "#Filas Totales del Dataset\n",
    "print('Dataset Shape:    ',big_frame.shape)\n",
    "\n",
    "#Contamos valores duplicados \n",
    "dup = big_frame.duplicated().sum()\n",
    "print('Filas Duplicadas: ',dup)"
   ]
  },
  {
   "cell_type": "code",
   "execution_count": 29,
   "metadata": {},
   "outputs": [
    {
     "name": "stdout",
     "output_type": "stream",
     "text": [
      "Dataset Shape:     (12226100, 8)\n"
     ]
    }
   ],
   "source": [
    "#Eliminamos Filas Duplicadas\n",
    "big_frame.drop_duplicates(inplace=True)\n",
    "print('Dataset Shape:    ',big_frame.shape)"
   ]
  },
  {
   "cell_type": "code",
   "execution_count": 30,
   "metadata": {},
   "outputs": [
    {
     "data": {
      "text/plain": [
       "fecha         0\n",
       "dia_semana    0\n",
       "hora          0\n",
       "id_tramo      0\n",
       "des_tramo     0\n",
       "estado        0\n",
       "longitud      0\n",
       "latitud       0\n",
       "dtype: int64"
      ]
     },
     "execution_count": 30,
     "metadata": {},
     "output_type": "execute_result"
    }
   ],
   "source": [
    "#Comprobamos si existe algún valor nulo en el dataframe\n",
    "big_frame.isna().sum()"
   ]
  },
  {
   "cell_type": "code",
   "execution_count": 31,
   "metadata": {},
   "outputs": [
    {
     "name": "stdout",
     "output_type": "stream",
     "text": [
      "Valores Negativos Columna Estado =  0\n"
     ]
    }
   ],
   "source": [
    "#Comprobación si existe algún valor menor a cero en la columna estado\n",
    "negativo = big_frame['estado'][big_frame.estado < 0].count()\n",
    "print('Valores Negativos Columna Estado = ',negativo)"
   ]
  },
  {
   "cell_type": "code",
   "execution_count": 34,
   "metadata": {
    "scrolled": true
   },
   "outputs": [],
   "source": [
    "#Filtrar aquellos datos con estado > 0 y ordenamos por fecha y hora\n",
    "big_frame_filter1 = big_frame[big_frame.estado > 0].sort_values(by=['fecha','hora'], ascending=True)"
   ]
  },
  {
   "cell_type": "code",
   "execution_count": 37,
   "metadata": {},
   "outputs": [
    {
     "data": {
      "text/html": [
       "<div>\n",
       "<style scoped>\n",
       "    .dataframe tbody tr th:only-of-type {\n",
       "        vertical-align: middle;\n",
       "    }\n",
       "\n",
       "    .dataframe tbody tr th {\n",
       "        vertical-align: top;\n",
       "    }\n",
       "\n",
       "    .dataframe thead th {\n",
       "        text-align: right;\n",
       "    }\n",
       "</style>\n",
       "<table border=\"1\" class=\"dataframe\">\n",
       "  <thead>\n",
       "    <tr style=\"text-align: right;\">\n",
       "      <th></th>\n",
       "      <th>fecha</th>\n",
       "      <th>dia_semana</th>\n",
       "      <th>hora</th>\n",
       "      <th>id_tramo</th>\n",
       "      <th>des_tramo</th>\n",
       "      <th>estado</th>\n",
       "      <th>longitud</th>\n",
       "      <th>latitud</th>\n",
       "    </tr>\n",
       "  </thead>\n",
       "  <tbody>\n",
       "    <tr>\n",
       "      <th>461852</th>\n",
       "      <td>2015-01-01</td>\n",
       "      <td>Jueves</td>\n",
       "      <td>00:15:01</td>\n",
       "      <td>A102</td>\n",
       "      <td>ERNESTO FERRER</td>\n",
       "      <td>37</td>\n",
       "      <td>-0.354378</td>\n",
       "      <td>39.471478</td>\n",
       "    </tr>\n",
       "    <tr>\n",
       "      <th>461853</th>\n",
       "      <td>2015-01-01</td>\n",
       "      <td>Jueves</td>\n",
       "      <td>00:15:01</td>\n",
       "      <td>A104</td>\n",
       "      <td>EUGENIA VIÑES</td>\n",
       "      <td>33</td>\n",
       "      <td>-0.325181</td>\n",
       "      <td>39.467414</td>\n",
       "    </tr>\n",
       "    <tr>\n",
       "      <th>461854</th>\n",
       "      <td>2015-01-01</td>\n",
       "      <td>Jueves</td>\n",
       "      <td>00:15:01</td>\n",
       "      <td>A124</td>\n",
       "      <td>GUILLEM DE CASTRO</td>\n",
       "      <td>139</td>\n",
       "      <td>-0.383419</td>\n",
       "      <td>39.470396</td>\n",
       "    </tr>\n",
       "    <tr>\n",
       "      <th>461855</th>\n",
       "      <td>2015-01-01</td>\n",
       "      <td>Jueves</td>\n",
       "      <td>00:15:01</td>\n",
       "      <td>A127</td>\n",
       "      <td>GUILLEM DE CASTRO</td>\n",
       "      <td>187</td>\n",
       "      <td>-0.384150</td>\n",
       "      <td>39.475677</td>\n",
       "    </tr>\n",
       "    <tr>\n",
       "      <th>461856</th>\n",
       "      <td>2015-01-01</td>\n",
       "      <td>Jueves</td>\n",
       "      <td>00:15:01</td>\n",
       "      <td>A122</td>\n",
       "      <td>GRAN VIA RAMON Y CAJAL</td>\n",
       "      <td>218</td>\n",
       "      <td>-0.335824</td>\n",
       "      <td>39.460994</td>\n",
       "    </tr>\n",
       "  </tbody>\n",
       "</table>\n",
       "</div>"
      ],
      "text/plain": [
       "             fecha dia_semana      hora id_tramo               des_tramo  \\\n",
       "461852  2015-01-01     Jueves  00:15:01     A102          ERNESTO FERRER   \n",
       "461853  2015-01-01     Jueves  00:15:01     A104           EUGENIA VIÑES   \n",
       "461854  2015-01-01     Jueves  00:15:01     A124       GUILLEM DE CASTRO   \n",
       "461855  2015-01-01     Jueves  00:15:01     A127       GUILLEM DE CASTRO   \n",
       "461856  2015-01-01     Jueves  00:15:01     A122  GRAN VIA RAMON Y CAJAL   \n",
       "\n",
       "        estado  longitud    latitud  \n",
       "461852      37 -0.354378  39.471478  \n",
       "461853      33 -0.325181  39.467414  \n",
       "461854     139 -0.383419  39.470396  \n",
       "461855     187 -0.384150  39.475677  \n",
       "461856     218 -0.335824  39.460994  "
      ]
     },
     "execution_count": 37,
     "metadata": {},
     "output_type": "execute_result"
    }
   ],
   "source": [
    "big_frame_filter1.head(5)"
   ]
  },
  {
   "cell_type": "code",
   "execution_count": 33,
   "metadata": {},
   "outputs": [
    {
     "name": "stdout",
     "output_type": "stream",
     "text": [
      "Valores por Columna\n",
      "--------------------\n",
      "fecha         11817827\n",
      "dia_semana    11817827\n",
      "hora          11817827\n",
      "id_tramo      11817827\n",
      "des_tramo     11817827\n",
      "estado        11817827\n",
      "longitud      11817827\n",
      "latitud       11817827\n",
      "dtype: int64\n",
      "--------------------\n",
      "Dimensión DataFrame ->  (11817827, 8)\n",
      "--------------------\n"
     ]
    }
   ],
   "source": [
    "print('Valores por Columna')\n",
    "print('-'*20)\n",
    "print(big_frame_filter1.count())\n",
    "print('-'*20)\n",
    "print('Dimensión DataFrame -> ',big_frame_filter1.shape)\n",
    "print('-'*20)"
   ]
  },
  {
   "cell_type": "code",
   "execution_count": 38,
   "metadata": {},
   "outputs": [
    {
     "name": "stdout",
     "output_type": "stream",
     "text": [
      "--------------------\n",
      "Dimensión DataFrame ->  (11817827, 8)\n",
      "--------------------\n"
     ]
    }
   ],
   "source": [
    "print('-'*20)\n",
    "print('Dimensión DataFrame -> ',big_frame_filter1.shape)\n",
    "print('-'*20)"
   ]
  },
  {
   "cell_type": "code",
   "execution_count": 40,
   "metadata": {},
   "outputs": [
    {
     "data": {
      "text/html": [
       "<div>\n",
       "<style scoped>\n",
       "    .dataframe tbody tr th:only-of-type {\n",
       "        vertical-align: middle;\n",
       "    }\n",
       "\n",
       "    .dataframe tbody tr th {\n",
       "        vertical-align: top;\n",
       "    }\n",
       "\n",
       "    .dataframe thead th {\n",
       "        text-align: right;\n",
       "    }\n",
       "</style>\n",
       "<table border=\"1\" class=\"dataframe\">\n",
       "  <thead>\n",
       "    <tr style=\"text-align: right;\">\n",
       "      <th></th>\n",
       "      <th>count</th>\n",
       "      <th>mean</th>\n",
       "      <th>std</th>\n",
       "      <th>min</th>\n",
       "      <th>25%</th>\n",
       "      <th>50%</th>\n",
       "      <th>75%</th>\n",
       "      <th>max</th>\n",
       "    </tr>\n",
       "  </thead>\n",
       "  <tbody>\n",
       "    <tr>\n",
       "      <th>estado</th>\n",
       "      <td>11817827.0</td>\n",
       "      <td>809.592015</td>\n",
       "      <td>1093.228395</td>\n",
       "      <td>1.0</td>\n",
       "      <td>98.0</td>\n",
       "      <td>346.0</td>\n",
       "      <td>1059.0</td>\n",
       "      <td>17982.0</td>\n",
       "    </tr>\n",
       "  </tbody>\n",
       "</table>\n",
       "</div>"
      ],
      "text/plain": [
       "             count        mean          std  min   25%    50%     75%      max\n",
       "estado  11817827.0  809.592015  1093.228395  1.0  98.0  346.0  1059.0  17982.0"
      ]
     },
     "execution_count": 40,
     "metadata": {},
     "output_type": "execute_result"
    }
   ],
   "source": [
    "#Resumen estadístico de la columna estado\n",
    "big_frame_filter1['estado'].describe().to_frame().T"
   ]
  },
  {
   "cell_type": "code",
   "execution_count": 41,
   "metadata": {},
   "outputs": [
    {
     "data": {
      "text/plain": [
       "<matplotlib.axes._subplots.AxesSubplot at 0x124e32590>"
      ]
     },
     "execution_count": 41,
     "metadata": {},
     "output_type": "execute_result"
    },
    {
     "data": {
      "image/png": "[encoded data removed]",
      "text/plain": [
       "<Figure size 720x360 with 1 Axes>"
      ]
     },
     "metadata": {
      "needs_background": "light"
     },
     "output_type": "display_data"
    }
   ],
   "source": [
    "#Mostramos las frequencias de estado en una gráfica\n",
    "big_frame_filter1['estado'].plot(bins=10, kind=\"hist\",figsize=(10,5))"
   ]
  },
  {
   "cell_type": "code",
   "execution_count": 42,
   "metadata": {
    "scrolled": true
   },
   "outputs": [
    {
     "data": {
      "text/html": [
       "<div>\n",
       "<style scoped>\n",
       "    .dataframe tbody tr th:only-of-type {\n",
       "        vertical-align: middle;\n",
       "    }\n",
       "\n",
       "    .dataframe tbody tr th {\n",
       "        vertical-align: top;\n",
       "    }\n",
       "\n",
       "    .dataframe thead th {\n",
       "        text-align: right;\n",
       "    }\n",
       "</style>\n",
       "<table border=\"1\" class=\"dataframe\">\n",
       "  <thead>\n",
       "    <tr style=\"text-align: right;\">\n",
       "      <th></th>\n",
       "      <th>fecha</th>\n",
       "      <th>hora</th>\n",
       "      <th>dia_semana</th>\n",
       "      <th>id_tramo</th>\n",
       "      <th>des_tramo</th>\n",
       "      <th>estado</th>\n",
       "    </tr>\n",
       "  </thead>\n",
       "  <tbody>\n",
       "    <tr>\n",
       "      <th>339047</th>\n",
       "      <td>2015-05-21</td>\n",
       "      <td>23:00:01</td>\n",
       "      <td>Jueves</td>\n",
       "      <td>A398</td>\n",
       "      <td>HNOS MACHADO(JUAN XXIII-CONST)</td>\n",
       "      <td>17982</td>\n",
       "    </tr>\n",
       "    <tr>\n",
       "      <th>816555</th>\n",
       "      <td>2015-05-21</td>\n",
       "      <td>23:15:01</td>\n",
       "      <td>Jueves</td>\n",
       "      <td>A398</td>\n",
       "      <td>HNOS MACHADO(JUAN XXIII-CONST)</td>\n",
       "      <td>17982</td>\n",
       "    </tr>\n",
       "    <tr>\n",
       "      <th>1147393</th>\n",
       "      <td>2015-05-21</td>\n",
       "      <td>23:30:01</td>\n",
       "      <td>Jueves</td>\n",
       "      <td>A398</td>\n",
       "      <td>HNOS MACHADO(JUAN XXIII-CONST)</td>\n",
       "      <td>17982</td>\n",
       "    </tr>\n",
       "    <tr>\n",
       "      <th>465945</th>\n",
       "      <td>2015-05-21</td>\n",
       "      <td>23:45:01</td>\n",
       "      <td>Jueves</td>\n",
       "      <td>A398</td>\n",
       "      <td>HNOS MACHADO(JUAN XXIII-CONST)</td>\n",
       "      <td>17982</td>\n",
       "    </tr>\n",
       "    <tr>\n",
       "      <th>1025853</th>\n",
       "      <td>2015-05-22</td>\n",
       "      <td>00:00:01</td>\n",
       "      <td>Viernes</td>\n",
       "      <td>A398</td>\n",
       "      <td>HNOS MACHADO(JUAN XXIII-CONST)</td>\n",
       "      <td>17982</td>\n",
       "    </tr>\n",
       "    <tr>\n",
       "      <th>184091</th>\n",
       "      <td>2015-05-22</td>\n",
       "      <td>00:15:01</td>\n",
       "      <td>Viernes</td>\n",
       "      <td>A398</td>\n",
       "      <td>HNOS MACHADO(JUAN XXIII-CONST)</td>\n",
       "      <td>17982</td>\n",
       "    </tr>\n",
       "    <tr>\n",
       "      <th>524987</th>\n",
       "      <td>2015-05-22</td>\n",
       "      <td>00:30:01</td>\n",
       "      <td>Viernes</td>\n",
       "      <td>A398</td>\n",
       "      <td>HNOS MACHADO(JUAN XXIII-CONST)</td>\n",
       "      <td>17982</td>\n",
       "    </tr>\n",
       "    <tr>\n",
       "      <th>1129231</th>\n",
       "      <td>2015-05-22</td>\n",
       "      <td>00:45:01</td>\n",
       "      <td>Viernes</td>\n",
       "      <td>A398</td>\n",
       "      <td>HNOS MACHADO(JUAN XXIII-CONST)</td>\n",
       "      <td>17982</td>\n",
       "    </tr>\n",
       "    <tr>\n",
       "      <th>644719</th>\n",
       "      <td>2015-05-22</td>\n",
       "      <td>01:00:02</td>\n",
       "      <td>Viernes</td>\n",
       "      <td>A398</td>\n",
       "      <td>HNOS MACHADO(JUAN XXIII-CONST)</td>\n",
       "      <td>17982</td>\n",
       "    </tr>\n",
       "    <tr>\n",
       "      <th>615879</th>\n",
       "      <td>2015-05-22</td>\n",
       "      <td>01:15:01</td>\n",
       "      <td>Viernes</td>\n",
       "      <td>A398</td>\n",
       "      <td>HNOS MACHADO(JUAN XXIII-CONST)</td>\n",
       "      <td>17982</td>\n",
       "    </tr>\n",
       "    <tr>\n",
       "      <th>940535</th>\n",
       "      <td>2015-05-22</td>\n",
       "      <td>01:30:01</td>\n",
       "      <td>Viernes</td>\n",
       "      <td>A398</td>\n",
       "      <td>HNOS MACHADO(JUAN XXIII-CONST)</td>\n",
       "      <td>17982</td>\n",
       "    </tr>\n",
       "    <tr>\n",
       "      <th>374859</th>\n",
       "      <td>2015-05-22</td>\n",
       "      <td>01:45:01</td>\n",
       "      <td>Viernes</td>\n",
       "      <td>A398</td>\n",
       "      <td>HNOS MACHADO(JUAN XXIII-CONST)</td>\n",
       "      <td>17982</td>\n",
       "    </tr>\n",
       "  </tbody>\n",
       "</table>\n",
       "</div>"
      ],
      "text/plain": [
       "              fecha      hora dia_semana id_tramo  \\\n",
       "339047   2015-05-21  23:00:01     Jueves     A398   \n",
       "816555   2015-05-21  23:15:01     Jueves     A398   \n",
       "1147393  2015-05-21  23:30:01     Jueves     A398   \n",
       "465945   2015-05-21  23:45:01     Jueves     A398   \n",
       "1025853  2015-05-22  00:00:01    Viernes     A398   \n",
       "184091   2015-05-22  00:15:01    Viernes     A398   \n",
       "524987   2015-05-22  00:30:01    Viernes     A398   \n",
       "1129231  2015-05-22  00:45:01    Viernes     A398   \n",
       "644719   2015-05-22  01:00:02    Viernes     A398   \n",
       "615879   2015-05-22  01:15:01    Viernes     A398   \n",
       "940535   2015-05-22  01:30:01    Viernes     A398   \n",
       "374859   2015-05-22  01:45:01    Viernes     A398   \n",
       "\n",
       "                              des_tramo  estado  \n",
       "339047   HNOS MACHADO(JUAN XXIII-CONST)   17982  \n",
       "816555   HNOS MACHADO(JUAN XXIII-CONST)   17982  \n",
       "1147393  HNOS MACHADO(JUAN XXIII-CONST)   17982  \n",
       "465945   HNOS MACHADO(JUAN XXIII-CONST)   17982  \n",
       "1025853  HNOS MACHADO(JUAN XXIII-CONST)   17982  \n",
       "184091   HNOS MACHADO(JUAN XXIII-CONST)   17982  \n",
       "524987   HNOS MACHADO(JUAN XXIII-CONST)   17982  \n",
       "1129231  HNOS MACHADO(JUAN XXIII-CONST)   17982  \n",
       "644719   HNOS MACHADO(JUAN XXIII-CONST)   17982  \n",
       "615879   HNOS MACHADO(JUAN XXIII-CONST)   17982  \n",
       "940535   HNOS MACHADO(JUAN XXIII-CONST)   17982  \n",
       "374859   HNOS MACHADO(JUAN XXIII-CONST)   17982  "
      ]
     },
     "execution_count": 42,
     "metadata": {},
     "output_type": "execute_result"
    }
   ],
   "source": [
    "#Buscamos la fecha,hora,día y la calle con más tráfico registrado\n",
    "df_filter1 = big_frame_filter1['estado'] == big_frame_filter1['estado'].max()\n",
    "big_frame_filter1[['fecha','hora','dia_semana','id_tramo','des_tramo','estado']][df_filter1]"
   ]
  },
  {
   "cell_type": "code",
   "execution_count": 15,
   "metadata": {},
   "outputs": [
    {
     "data": {
      "text/html": [
       "<div>\n",
       "<style scoped>\n",
       "    .dataframe tbody tr th:only-of-type {\n",
       "        vertical-align: middle;\n",
       "    }\n",
       "\n",
       "    .dataframe tbody tr th {\n",
       "        vertical-align: top;\n",
       "    }\n",
       "\n",
       "    .dataframe thead th {\n",
       "        text-align: right;\n",
       "    }\n",
       "</style>\n",
       "<table border=\"1\" class=\"dataframe\">\n",
       "  <thead>\n",
       "    <tr style=\"text-align: right;\">\n",
       "      <th></th>\n",
       "      <th>fecha</th>\n",
       "      <th>dia_semana</th>\n",
       "      <th>hora</th>\n",
       "      <th>id_tramo</th>\n",
       "      <th>des_tramo</th>\n",
       "      <th>estado</th>\n",
       "      <th>longitud</th>\n",
       "      <th>latitud</th>\n",
       "    </tr>\n",
       "  </thead>\n",
       "  <tbody>\n",
       "    <tr>\n",
       "      <th>0</th>\n",
       "      <td>2015-01-01</td>\n",
       "      <td>Jueves</td>\n",
       "      <td>00:15:01</td>\n",
       "      <td>A102</td>\n",
       "      <td>ERNESTO FERRER</td>\n",
       "      <td>37</td>\n",
       "      <td>-0.354378</td>\n",
       "      <td>39.471478</td>\n",
       "    </tr>\n",
       "    <tr>\n",
       "      <th>1</th>\n",
       "      <td>2015-01-01</td>\n",
       "      <td>Jueves</td>\n",
       "      <td>00:15:01</td>\n",
       "      <td>A104</td>\n",
       "      <td>EUGENIA VIÑES</td>\n",
       "      <td>33</td>\n",
       "      <td>-0.325181</td>\n",
       "      <td>39.467414</td>\n",
       "    </tr>\n",
       "    <tr>\n",
       "      <th>2</th>\n",
       "      <td>2015-01-01</td>\n",
       "      <td>Jueves</td>\n",
       "      <td>00:15:01</td>\n",
       "      <td>A124</td>\n",
       "      <td>GUILLEM DE CASTRO</td>\n",
       "      <td>139</td>\n",
       "      <td>-0.383419</td>\n",
       "      <td>39.470396</td>\n",
       "    </tr>\n",
       "    <tr>\n",
       "      <th>3</th>\n",
       "      <td>2015-01-01</td>\n",
       "      <td>Jueves</td>\n",
       "      <td>00:15:01</td>\n",
       "      <td>A127</td>\n",
       "      <td>GUILLEM DE CASTRO</td>\n",
       "      <td>187</td>\n",
       "      <td>-0.384150</td>\n",
       "      <td>39.475677</td>\n",
       "    </tr>\n",
       "    <tr>\n",
       "      <th>4</th>\n",
       "      <td>2015-01-01</td>\n",
       "      <td>Jueves</td>\n",
       "      <td>00:15:01</td>\n",
       "      <td>A122</td>\n",
       "      <td>GRAN VIA RAMON Y CAJAL</td>\n",
       "      <td>218</td>\n",
       "      <td>-0.335824</td>\n",
       "      <td>39.460994</td>\n",
       "    </tr>\n",
       "    <tr>\n",
       "      <th>5</th>\n",
       "      <td>2015-01-01</td>\n",
       "      <td>Jueves</td>\n",
       "      <td>00:15:01</td>\n",
       "      <td>A13</td>\n",
       "      <td>ALBORAIA</td>\n",
       "      <td>40</td>\n",
       "      <td>-0.368968</td>\n",
       "      <td>39.485116</td>\n",
       "    </tr>\n",
       "    <tr>\n",
       "      <th>6</th>\n",
       "      <td>2015-01-01</td>\n",
       "      <td>Jueves</td>\n",
       "      <td>00:15:01</td>\n",
       "      <td>A130</td>\n",
       "      <td>HERNAN CORTES</td>\n",
       "      <td>55</td>\n",
       "      <td>-0.371882</td>\n",
       "      <td>39.469184</td>\n",
       "    </tr>\n",
       "    <tr>\n",
       "      <th>7</th>\n",
       "      <td>2015-01-01</td>\n",
       "      <td>Jueves</td>\n",
       "      <td>00:15:01</td>\n",
       "      <td>A131</td>\n",
       "      <td>ISABEL DE VILLENA</td>\n",
       "      <td>16</td>\n",
       "      <td>-0.325794</td>\n",
       "      <td>39.479083</td>\n",
       "    </tr>\n",
       "    <tr>\n",
       "      <th>8</th>\n",
       "      <td>2015-01-01</td>\n",
       "      <td>Jueves</td>\n",
       "      <td>00:15:01</td>\n",
       "      <td>A132</td>\n",
       "      <td>ISABEL LA CATOLICA</td>\n",
       "      <td>18</td>\n",
       "      <td>-0.371171</td>\n",
       "      <td>39.469726</td>\n",
       "    </tr>\n",
       "    <tr>\n",
       "      <th>9</th>\n",
       "      <td>2015-01-01</td>\n",
       "      <td>Jueves</td>\n",
       "      <td>00:15:01</td>\n",
       "      <td>A133</td>\n",
       "      <td>ISLAS CANARIAS</td>\n",
       "      <td>49</td>\n",
       "      <td>-0.335863</td>\n",
       "      <td>39.461000</td>\n",
       "    </tr>\n",
       "  </tbody>\n",
       "</table>\n",
       "</div>"
      ],
      "text/plain": [
       "        fecha dia_semana      hora id_tramo               des_tramo  estado  \\\n",
       "0  2015-01-01     Jueves  00:15:01     A102          ERNESTO FERRER      37   \n",
       "1  2015-01-01     Jueves  00:15:01     A104           EUGENIA VIÑES      33   \n",
       "2  2015-01-01     Jueves  00:15:01     A124       GUILLEM DE CASTRO     139   \n",
       "3  2015-01-01     Jueves  00:15:01     A127       GUILLEM DE CASTRO     187   \n",
       "4  2015-01-01     Jueves  00:15:01     A122  GRAN VIA RAMON Y CAJAL     218   \n",
       "5  2015-01-01     Jueves  00:15:01      A13                ALBORAIA      40   \n",
       "6  2015-01-01     Jueves  00:15:01     A130           HERNAN CORTES      55   \n",
       "7  2015-01-01     Jueves  00:15:01     A131       ISABEL DE VILLENA      16   \n",
       "8  2015-01-01     Jueves  00:15:01     A132      ISABEL LA CATOLICA      18   \n",
       "9  2015-01-01     Jueves  00:15:01     A133          ISLAS CANARIAS      49   \n",
       "\n",
       "   longitud    latitud  \n",
       "0 -0.354378  39.471478  \n",
       "1 -0.325181  39.467414  \n",
       "2 -0.383419  39.470396  \n",
       "3 -0.384150  39.475677  \n",
       "4 -0.335824  39.460994  \n",
       "5 -0.368968  39.485116  \n",
       "6 -0.371882  39.469184  \n",
       "7 -0.325794  39.479083  \n",
       "8 -0.371171  39.469726  \n",
       "9 -0.335863  39.461000  "
      ]
     },
     "execution_count": 15,
     "metadata": {},
     "output_type": "execute_result"
    }
   ],
   "source": [
    "big_frame2 = pd.read_csv('/Users/josemarti/Documents/TFM/csv_bigdata/datos_filtrados.csv', sep=';')\n",
    "big_frame2.head(10)"
   ]
  },
  {
   "cell_type": "code",
   "execution_count": 54,
   "metadata": {},
   "outputs": [
    {
     "data": {
      "text/plain": [
       "fecha          object\n",
       "dia_semana     object\n",
       "hora           object\n",
       "id_tramo       object\n",
       "des_tramo      object\n",
       "estado          int64\n",
       "longitud      float64\n",
       "latitud       float64\n",
       "dtype: object"
      ]
     },
     "execution_count": 54,
     "metadata": {},
     "output_type": "execute_result"
    }
   ],
   "source": [
    "#Tipo de datos\n",
    "big_frame2.dtypes"
   ]
  },
  {
   "cell_type": "code",
   "execution_count": 55,
   "metadata": {},
   "outputs": [
    {
     "name": "stdout",
     "output_type": "stream",
     "text": [
      "<class 'pandas.core.frame.DataFrame'>\n",
      "RangeIndex: 11817827 entries, 0 to 11817826\n",
      "Data columns (total 8 columns):\n",
      " #   Column      Dtype  \n",
      "---  ------      -----  \n",
      " 0   fecha       object \n",
      " 1   dia_semana  object \n",
      " 2   hora        object \n",
      " 3   id_tramo    object \n",
      " 4   des_tramo   object \n",
      " 5   estado      int64  \n",
      " 6   longitud    float64\n",
      " 7   latitud     float64\n",
      "dtypes: float64(2), int64(1), object(5)\n",
      "memory usage: 721.3+ MB\n"
     ]
    }
   ],
   "source": [
    "big_frame2.info()"
   ]
  },
  {
   "cell_type": "code",
   "execution_count": 56,
   "metadata": {},
   "outputs": [
    {
     "data": {
      "text/html": [
       "<div>\n",
       "<style scoped>\n",
       "    .dataframe tbody tr th:only-of-type {\n",
       "        vertical-align: middle;\n",
       "    }\n",
       "\n",
       "    .dataframe tbody tr th {\n",
       "        vertical-align: top;\n",
       "    }\n",
       "\n",
       "    .dataframe thead th {\n",
       "        text-align: right;\n",
       "    }\n",
       "</style>\n",
       "<table border=\"1\" class=\"dataframe\">\n",
       "  <thead>\n",
       "    <tr style=\"text-align: right;\">\n",
       "      <th></th>\n",
       "      <th>count</th>\n",
       "      <th>mean</th>\n",
       "      <th>std</th>\n",
       "      <th>min</th>\n",
       "      <th>25%</th>\n",
       "      <th>50%</th>\n",
       "      <th>75%</th>\n",
       "      <th>max</th>\n",
       "    </tr>\n",
       "  </thead>\n",
       "  <tbody>\n",
       "    <tr>\n",
       "      <th>estado</th>\n",
       "      <td>11817827.0</td>\n",
       "      <td>809.592015</td>\n",
       "      <td>1093.228395</td>\n",
       "      <td>1.0</td>\n",
       "      <td>98.0</td>\n",
       "      <td>346.0</td>\n",
       "      <td>1059.0</td>\n",
       "      <td>17982.0</td>\n",
       "    </tr>\n",
       "  </tbody>\n",
       "</table>\n",
       "</div>"
      ],
      "text/plain": [
       "             count        mean          std  min   25%    50%     75%      max\n",
       "estado  11817827.0  809.592015  1093.228395  1.0  98.0  346.0  1059.0  17982.0"
      ]
     },
     "execution_count": 56,
     "metadata": {},
     "output_type": "execute_result"
    }
   ],
   "source": [
    "big_frame2['estado'].describe().to_frame().T"
   ]
  },
  {
   "cell_type": "code",
   "execution_count": 57,
   "metadata": {},
   "outputs": [
    {
     "data": {
      "text/plain": [
       "fecha         11817827\n",
       "dia_semana    11817827\n",
       "hora          11817827\n",
       "id_tramo      11817827\n",
       "des_tramo     11817827\n",
       "estado        11817827\n",
       "longitud      11817827\n",
       "latitud       11817827\n",
       "dtype: int64"
      ]
     },
     "execution_count": 57,
     "metadata": {},
     "output_type": "execute_result"
    }
   ],
   "source": [
    "#Contamos todas las filas\n",
    "big_frame2.count()"
   ]
  },
  {
   "cell_type": "code",
   "execution_count": 58,
   "metadata": {},
   "outputs": [
    {
     "data": {
      "text/plain": [
       "fecha         0\n",
       "dia_semana    0\n",
       "hora          0\n",
       "id_tramo      0\n",
       "des_tramo     0\n",
       "estado        0\n",
       "longitud      0\n",
       "latitud       0\n",
       "dtype: int64"
      ]
     },
     "execution_count": 58,
     "metadata": {},
     "output_type": "execute_result"
    }
   ],
   "source": [
    "#Comprobamos si existe algún valor nulo en el dataframe\n",
    "big_frame2.isna().sum()"
   ]
  },
  {
   "cell_type": "code",
   "execution_count": 59,
   "metadata": {},
   "outputs": [
    {
     "name": "stdout",
     "output_type": "stream",
     "text": [
      "Valores Negativos Columna Estado =  0\n"
     ]
    }
   ],
   "source": [
    "#Comprobación si existe algún valor menor a cero en la columna estado\n",
    "negativo = big_frame2['estado'][big_frame2.estado < 0].count()\n",
    "print('Valores Negativos Columna Estado = ',negativo)"
   ]
  },
  {
   "cell_type": "code",
   "execution_count": 60,
   "metadata": {},
   "outputs": [
    {
     "name": "stdout",
     "output_type": "stream",
     "text": [
      "Valores Cero Columna Estado =  0\n"
     ]
    }
   ],
   "source": [
    "#Comprobación si existe algún valor igual a cero en la columna estado\n",
    "cero = big_frame2['estado'][big_frame2.estado == 0].count()\n",
    "print('Valores Cero Columna Estado = ',cero)"
   ]
  },
  {
   "cell_type": "code",
   "execution_count": 61,
   "metadata": {},
   "outputs": [
    {
     "name": "stdout",
     "output_type": "stream",
     "text": [
      "Dataset Shape:     (11817827, 8)\n",
      "Filas Duplicadas:  0\n"
     ]
    }
   ],
   "source": [
    "shape = big_frame2.shape\n",
    "print('Dataset Shape:    ',shape)\n",
    "\n",
    "dupli = big_frame2.duplicated().sum()\n",
    "print('Filas Duplicadas: ',dupli)"
   ]
  },
  {
   "cell_type": "code",
   "execution_count": 62,
   "metadata": {},
   "outputs": [
    {
     "data": {
      "image/png": "[encoded data removed]",
      "text/plain": [
       "<Figure size 432x288 with 2 Axes>"
      ]
     },
     "metadata": {
      "needs_background": "light"
     },
     "output_type": "display_data"
    }
   ],
   "source": [
    "#Correlación\n",
    "sns.heatmap(data=big_frame2.astype({'estado': 'int64'}).corr(),annot=True, cmap='coolwarm');"
   ]
  },
  {
   "cell_type": "code",
   "execution_count": 63,
   "metadata": {
    "scrolled": true
   },
   "outputs": [
    {
     "data": {
      "text/html": [
       "<div>\n",
       "<style scoped>\n",
       "    .dataframe tbody tr th:only-of-type {\n",
       "        vertical-align: middle;\n",
       "    }\n",
       "\n",
       "    .dataframe tbody tr th {\n",
       "        vertical-align: top;\n",
       "    }\n",
       "\n",
       "    .dataframe thead th {\n",
       "        text-align: right;\n",
       "    }\n",
       "</style>\n",
       "<table border=\"1\" class=\"dataframe\">\n",
       "  <thead>\n",
       "    <tr style=\"text-align: right;\">\n",
       "      <th></th>\n",
       "      <th>fecha</th>\n",
       "      <th>estado</th>\n",
       "    </tr>\n",
       "  </thead>\n",
       "  <tbody>\n",
       "    <tr>\n",
       "      <th>0</th>\n",
       "      <td>2015-09-29</td>\n",
       "      <td>1638.717109</td>\n",
       "    </tr>\n",
       "    <tr>\n",
       "      <th>1</th>\n",
       "      <td>2015-09-25</td>\n",
       "      <td>1475.486227</td>\n",
       "    </tr>\n",
       "    <tr>\n",
       "      <th>2</th>\n",
       "      <td>2015-11-09</td>\n",
       "      <td>1453.500845</td>\n",
       "    </tr>\n",
       "    <tr>\n",
       "      <th>3</th>\n",
       "      <td>2015-09-22</td>\n",
       "      <td>1429.115099</td>\n",
       "    </tr>\n",
       "    <tr>\n",
       "      <th>4</th>\n",
       "      <td>2015-02-08</td>\n",
       "      <td>1341.575682</td>\n",
       "    </tr>\n",
       "    <tr>\n",
       "      <th>5</th>\n",
       "      <td>2015-01-08</td>\n",
       "      <td>1341.575682</td>\n",
       "    </tr>\n",
       "    <tr>\n",
       "      <th>6</th>\n",
       "      <td>2015-10-20</td>\n",
       "      <td>1317.342945</td>\n",
       "    </tr>\n",
       "    <tr>\n",
       "      <th>7</th>\n",
       "      <td>2015-03-12</td>\n",
       "      <td>1303.176215</td>\n",
       "    </tr>\n",
       "    <tr>\n",
       "      <th>8</th>\n",
       "      <td>2015-10-16</td>\n",
       "      <td>1293.494030</td>\n",
       "    </tr>\n",
       "    <tr>\n",
       "      <th>9</th>\n",
       "      <td>2015-04-21</td>\n",
       "      <td>1271.678716</td>\n",
       "    </tr>\n",
       "  </tbody>\n",
       "</table>\n",
       "</div>"
      ],
      "text/plain": [
       "        fecha       estado\n",
       "0  2015-09-29  1638.717109\n",
       "1  2015-09-25  1475.486227\n",
       "2  2015-11-09  1453.500845\n",
       "3  2015-09-22  1429.115099\n",
       "4  2015-02-08  1341.575682\n",
       "5  2015-01-08  1341.575682\n",
       "6  2015-10-20  1317.342945\n",
       "7  2015-03-12  1303.176215\n",
       "8  2015-10-16  1293.494030\n",
       "9  2015-04-21  1271.678716"
      ]
     },
     "execution_count": 63,
     "metadata": {},
     "output_type": "execute_result"
    }
   ],
   "source": [
    "#Agrupamos por fecha y media de la columna estado\n",
    "df_filter2 = big_frame2.groupby(big_frame2['fecha']).estado.mean()\n",
    "\n",
    "#10 Valores con mayor media\n",
    "df_date = df_filter2.sort_values(ascending=False).to_frame().head(10)\n",
    "df_date.reset_index()"
   ]
  },
  {
   "cell_type": "code",
   "execution_count": 21,
   "metadata": {},
   "outputs": [
    {
     "data": {
      "text/plain": [
       "Text(0, 0.5, 'tráfico')"
      ]
     },
     "execution_count": 21,
     "metadata": {},
     "output_type": "execute_result"
    },
    {
     "data": {
      "image/png": "[encoded data removed]",
      "text/plain": [
       "<Figure size 1008x432 with 1 Axes>"
      ]
     },
     "metadata": {
      "needs_background": "light"
     },
     "output_type": "display_data"
    }
   ],
   "source": [
    "#Mostrando en un gráfico los días con media de tráfico más alta\n",
    "df_date.plot.bar(color='darkgreen',edgecolor='blue',figsize=(14,6))\n",
    "plt.xticks(rotation=70)\n",
    "plt.xlabel('fecha',fontsize=12)\n",
    "plt.ylabel('tráfico',fontsize=12)"
   ]
  },
  {
   "cell_type": "code",
   "execution_count": 64,
   "metadata": {},
   "outputs": [
    {
     "data": {
      "text/html": [
       "<div>\n",
       "<style scoped>\n",
       "    .dataframe tbody tr th:only-of-type {\n",
       "        vertical-align: middle;\n",
       "    }\n",
       "\n",
       "    .dataframe tbody tr th {\n",
       "        vertical-align: top;\n",
       "    }\n",
       "\n",
       "    .dataframe thead th {\n",
       "        text-align: right;\n",
       "    }\n",
       "</style>\n",
       "<table border=\"1\" class=\"dataframe\">\n",
       "  <thead>\n",
       "    <tr style=\"text-align: right;\">\n",
       "      <th></th>\n",
       "      <th>dia_semana</th>\n",
       "      <th>estado</th>\n",
       "    </tr>\n",
       "  </thead>\n",
       "  <tbody>\n",
       "    <tr>\n",
       "      <th>0</th>\n",
       "      <td>Lunes</td>\n",
       "      <td>842.428084</td>\n",
       "    </tr>\n",
       "    <tr>\n",
       "      <th>1</th>\n",
       "      <td>Martes</td>\n",
       "      <td>838.947633</td>\n",
       "    </tr>\n",
       "    <tr>\n",
       "      <th>2</th>\n",
       "      <td>Miércoles</td>\n",
       "      <td>875.684213</td>\n",
       "    </tr>\n",
       "    <tr>\n",
       "      <th>3</th>\n",
       "      <td>Jueves</td>\n",
       "      <td>821.097058</td>\n",
       "    </tr>\n",
       "    <tr>\n",
       "      <th>4</th>\n",
       "      <td>Viernes</td>\n",
       "      <td>857.395718</td>\n",
       "    </tr>\n",
       "    <tr>\n",
       "      <th>5</th>\n",
       "      <td>Sábado</td>\n",
       "      <td>732.732248</td>\n",
       "    </tr>\n",
       "    <tr>\n",
       "      <th>6</th>\n",
       "      <td>Domingo</td>\n",
       "      <td>699.030915</td>\n",
       "    </tr>\n",
       "  </tbody>\n",
       "</table>\n",
       "</div>"
      ],
      "text/plain": [
       "  dia_semana      estado\n",
       "0      Lunes  842.428084\n",
       "1     Martes  838.947633\n",
       "2  Miércoles  875.684213\n",
       "3     Jueves  821.097058\n",
       "4    Viernes  857.395718\n",
       "5     Sábado  732.732248\n",
       "6    Domingo  699.030915"
      ]
     },
     "execution_count": 64,
     "metadata": {},
     "output_type": "execute_result"
    }
   ],
   "source": [
    "#Agrupamos por día de la semana\n",
    "week_days = [ 'Lunes', 'Martes', 'Miércoles', 'Jueves', 'Viernes', 'Sábado', 'Domingo']\n",
    "df_filter3 = big_frame2.groupby(big_frame2['dia_semana']).estado.mean().reindex(week_days) \n",
    "\n",
    "#Valores con mayor media\n",
    "df_day = df_filter3.to_frame()\n",
    "df_day.reset_index()"
   ]
  },
  {
   "cell_type": "code",
   "execution_count": 65,
   "metadata": {},
   "outputs": [
    {
     "data": {
      "text/plain": [
       "Text(0, 0.5, 'tráfico')"
      ]
     },
     "execution_count": 65,
     "metadata": {},
     "output_type": "execute_result"
    },
    {
     "data": {
      "image/png": "[encoded data removed]",
      "text/plain": [
       "<Figure size 1008x432 with 1 Axes>"
      ]
     },
     "metadata": {
      "needs_background": "light"
     },
     "output_type": "display_data"
    }
   ],
   "source": [
    "#Mostrando en un gráfico la media por días\n",
    "df_day.plot.bar(color='darkblue',edgecolor='green',figsize=(14,6))\n",
    "plt.xticks(rotation=70)\n",
    "plt.xlabel('dia_semana',fontsize=12)\n",
    "plt.ylabel('tráfico',fontsize=12)"
   ]
  },
  {
   "cell_type": "code",
   "execution_count": 24,
   "metadata": {},
   "outputs": [
    {
     "data": {
      "image/png": "[encoded data removed]",
      "text/plain": [
       "<Figure size 720x360 with 1 Axes>"
      ]
     },
     "metadata": {
      "needs_background": "light"
     },
     "output_type": "display_data"
    }
   ],
   "source": [
    "#Función Densidad\n",
    "fig, ax = plt.subplots()\n",
    "big_frame2['estado'].plot.kde(bw_method=0.1,ax=ax, legend=False, title='Función de Densidad')\n",
    "big_frame2['estado'].plot.hist(density=True, ax=ax,bins=35,color='darkorange',edgecolor='black',figsize=(10,5))\n",
    "ax.set_ylabel('Probabilidad')\n",
    "ax.grid(axis='y')\n",
    "ax.set_facecolor('#d8dcd6')\n"
   ]
  },
  {
   "cell_type": "markdown",
   "metadata": {},
   "source": [
    "### PySpark"
   ]
  },
  {
   "cell_type": "code",
   "execution_count": 3,
   "metadata": {},
   "outputs": [],
   "source": [
    "#Añadimos pyspark\n",
    "from pyspark import SparkContext\n",
    "from pyspark.sql import SQLContext, Row\n",
    "from pyspark.sql import SparkSession"
   ]
  },
  {
   "cell_type": "code",
   "execution_count": 4,
   "metadata": {},
   "outputs": [],
   "source": [
    "'''spark = SparkSession.builder.master(\"local\").appName(\"SQL\")\\\n",
    "                    .config(\"spark.driver.memory\", '100g')\\\n",
    "                    .config('spark.executor.memory', '100g')\\\n",
    "                    .config('spark.dynamicAllocation.enabled', True)\\\n",
    "                    .config('spark.dynamicAllocation.maxExecutors', 25)\\\n",
    "                    .config('spark.driver.memoryOverhead','512')\\\n",
    "                    .config('spark.executor.memoryOverhead', '512')\\\n",
    "                    .config(\"spark.sql.autoBroadcastJoinThreshold\", \"-1\")\\\n",
    "                    .getOrCreate()'''\n",
    "\n",
    "spark = SparkSession.builder.master(\"local\")\\\n",
    "                    .appName(\"SQL\")\\\n",
    "                    .getOrCreate()\n",
    "\n",
    "datos_csv = '/Users/josemarti/Documents/TFM/csv_bigdata/datos_filtrados.csv'\n",
    "\n",
    "sparkDF = spark.read.csv(datos_csv,sep=\";\",inferSchema=True, header=True)"
   ]
  },
  {
   "cell_type": "code",
   "execution_count": 5,
   "metadata": {
    "scrolled": true
   },
   "outputs": [
    {
     "name": "stdout",
     "output_type": "stream",
     "text": [
      "+----------+----------+--------+--------+--------------------+------+--------------------+-----------------+\n",
      "|     fecha|dia_semana|    hora|id_tramo|           des_tramo|estado|            longitud|          latitud|\n",
      "+----------+----------+--------+--------+--------------------+------+--------------------+-----------------+\n",
      "|2015-01-01|    Jueves|00:15:01|    A102|      ERNESTO FERRER|    37|-0.35437838198609495|39.47147835741698|\n",
      "|2015-01-01|    Jueves|00:15:01|    A104|       EUGENIA VIÑES|    33|  -0.325180858768075| 39.4674141947662|\n",
      "|2015-01-01|    Jueves|00:15:01|    A124|   GUILLEM DE CASTRO|   139|  -0.383419190245633|39.47039591991992|\n",
      "|2015-01-01|    Jueves|00:15:01|    A127|   GUILLEM DE CASTRO|   187|-0.38414999407094397|39.47567727076167|\n",
      "|2015-01-01|    Jueves|00:15:01|    A122|GRAN VIA RAMON Y ...|   218|  -0.335823864828404|39.46099418685265|\n",
      "|2015-01-01|    Jueves|00:15:01|     A13|            ALBORAIA|    40|-0.36896799549695797|39.48511609354037|\n",
      "|2015-01-01|    Jueves|00:15:01|    A130|       HERNAN CORTES|    55| -0.3718818950818571|39.46918388753968|\n",
      "|2015-01-01|    Jueves|00:15:01|    A131|   ISABEL DE VILLENA|    16|  -0.325793803159248|39.47908335415352|\n",
      "|2015-01-01|    Jueves|00:15:01|    A132|  ISABEL LA CATOLICA|    18|-0.37117062123917105|39.46972624589078|\n",
      "|2015-01-01|    Jueves|00:15:01|    A133|      ISLAS CANARIAS|    49|-0.33586289944932496|39.46100005452257|\n",
      "+----------+----------+--------+--------+--------------------+------+--------------------+-----------------+\n",
      "only showing top 10 rows\n",
      "\n"
     ]
    }
   ],
   "source": [
    "#Creación Tabla Temporal Tráfico\n",
    "sparkDF.createOrReplaceTempView(\"trafico\")\n",
    "\n",
    "#Realizamos la siguiente consulta\n",
    "query1 = \"SELECT * FROM trafico\"\n",
    "\n",
    "#Mostramos los resultados de las 10 primeras filas\n",
    "df_spark = spark.sql(query1).show(10)\n",
    "df_spark"
   ]
  },
  {
   "cell_type": "code",
   "execution_count": 6,
   "metadata": {},
   "outputs": [
    {
     "name": "stdout",
     "output_type": "stream",
     "text": [
      "Columnas:  ['fecha', 'dia_semana', 'hora', 'id_tramo', 'des_tramo', 'estado', 'longitud', 'latitud']\n",
      "Filas:  11817827\n"
     ]
    }
   ],
   "source": [
    "print('Columnas: ',sparkDF.columns)\n",
    "print('Filas: ',sparkDF.count())"
   ]
  },
  {
   "cell_type": "code",
   "execution_count": 7,
   "metadata": {},
   "outputs": [
    {
     "name": "stdout",
     "output_type": "stream",
     "text": [
      "root\n",
      " |-- fecha: string (nullable = true)\n",
      " |-- dia_semana: string (nullable = true)\n",
      " |-- hora: string (nullable = true)\n",
      " |-- id_tramo: string (nullable = true)\n",
      " |-- des_tramo: string (nullable = true)\n",
      " |-- estado: integer (nullable = true)\n",
      " |-- longitud: double (nullable = true)\n",
      " |-- latitud: double (nullable = true)\n",
      "\n"
     ]
    }
   ],
   "source": [
    "sparkDF.printSchema()"
   ]
  },
  {
   "cell_type": "code",
   "execution_count": 8,
   "metadata": {},
   "outputs": [
    {
     "name": "stdout",
     "output_type": "stream",
     "text": [
      "+-------+-----------------+\n",
      "|summary|           estado|\n",
      "+-------+-----------------+\n",
      "|  count|         11817827|\n",
      "|   mean|809.5920146741021|\n",
      "| stddev|1093.228394911496|\n",
      "|    min|                1|\n",
      "|    max|            17982|\n",
      "+-------+-----------------+\n",
      "\n"
     ]
    }
   ],
   "source": [
    "sparkDF.describe(['estado']).show()"
   ]
  },
  {
   "cell_type": "code",
   "execution_count": 14,
   "metadata": {
    "scrolled": true
   },
   "outputs": [
    {
     "data": {
      "text/html": [
       "<div>\n",
       "<style scoped>\n",
       "    .dataframe tbody tr th:only-of-type {\n",
       "        vertical-align: middle;\n",
       "    }\n",
       "\n",
       "    .dataframe tbody tr th {\n",
       "        vertical-align: top;\n",
       "    }\n",
       "\n",
       "    .dataframe thead th {\n",
       "        text-align: right;\n",
       "    }\n",
       "</style>\n",
       "<table border=\"1\" class=\"dataframe\">\n",
       "  <thead>\n",
       "    <tr style=\"text-align: right;\">\n",
       "      <th></th>\n",
       "      <th>id_tramo</th>\n",
       "      <th>des_tramo</th>\n",
       "      <th>tramo</th>\n",
       "    </tr>\n",
       "  </thead>\n",
       "  <tbody>\n",
       "    <tr>\n",
       "      <th>0</th>\n",
       "      <td>A1</td>\n",
       "      <td>ACCESO BARCELONA Entre V-21 y Ronda Norte</td>\n",
       "      <td>29578</td>\n",
       "    </tr>\n",
       "    <tr>\n",
       "      <th>1</th>\n",
       "      <td>A10</td>\n",
       "      <td>ALAMEDA, PASEO DE</td>\n",
       "      <td>29527</td>\n",
       "    </tr>\n",
       "    <tr>\n",
       "      <th>2</th>\n",
       "      <td>A102</td>\n",
       "      <td>ERNESTO FERRER</td>\n",
       "      <td>29414</td>\n",
       "    </tr>\n",
       "    <tr>\n",
       "      <th>3</th>\n",
       "      <td>A104</td>\n",
       "      <td>EUGENIA VIÑES</td>\n",
       "      <td>29537</td>\n",
       "    </tr>\n",
       "    <tr>\n",
       "      <th>4</th>\n",
       "      <td>A105</td>\n",
       "      <td>FILIPINAS</td>\n",
       "      <td>29498</td>\n",
       "    </tr>\n",
       "    <tr>\n",
       "      <th>...</th>\n",
       "      <td>...</td>\n",
       "      <td>...</td>\n",
       "      <td>...</td>\n",
       "    </tr>\n",
       "    <tr>\n",
       "      <th>398</th>\n",
       "      <td>B93</td>\n",
       "      <td>REINA DOÑA GERMANA</td>\n",
       "      <td>28466</td>\n",
       "    </tr>\n",
       "    <tr>\n",
       "      <th>399</th>\n",
       "      <td>B94</td>\n",
       "      <td>RIO TAJO</td>\n",
       "      <td>29133</td>\n",
       "    </tr>\n",
       "    <tr>\n",
       "      <th>400</th>\n",
       "      <td>B95</td>\n",
       "      <td>RODRÍGUEZ DE CEPEDA</td>\n",
       "      <td>28979</td>\n",
       "    </tr>\n",
       "    <tr>\n",
       "      <th>401</th>\n",
       "      <td>B97</td>\n",
       "      <td>SAGASTA</td>\n",
       "      <td>28704</td>\n",
       "    </tr>\n",
       "    <tr>\n",
       "      <th>402</th>\n",
       "      <td>B98</td>\n",
       "      <td>SANTA AMALIA</td>\n",
       "      <td>28881</td>\n",
       "    </tr>\n",
       "  </tbody>\n",
       "</table>\n",
       "<p>403 rows × 3 columns</p>\n",
       "</div>"
      ],
      "text/plain": [
       "    id_tramo                                  des_tramo  tramo\n",
       "0         A1  ACCESO BARCELONA Entre V-21 y Ronda Norte  29578\n",
       "1        A10                          ALAMEDA, PASEO DE  29527\n",
       "2       A102                             ERNESTO FERRER  29414\n",
       "3       A104                              EUGENIA VIÑES  29537\n",
       "4       A105                                  FILIPINAS  29498\n",
       "..       ...                                        ...    ...\n",
       "398      B93                         REINA DOÑA GERMANA  28466\n",
       "399      B94                                   RIO TAJO  29133\n",
       "400      B95                        RODRÍGUEZ DE CEPEDA  28979\n",
       "401      B97                                    SAGASTA  28704\n",
       "402      B98                               SANTA AMALIA  28881\n",
       "\n",
       "[403 rows x 3 columns]"
      ]
     },
     "execution_count": 14,
     "metadata": {},
     "output_type": "execute_result"
    }
   ],
   "source": [
    "query2 = 'SELECT id_tramo,des_tramo,count(id_tramo) as tramo FROM trafico GROUP BY id_tramo,des_tramo ORDER BY 1'\n",
    "df_spark1 = spark.sql(query2)\n",
    "df_spark1.toPandas()"
   ]
  },
  {
   "cell_type": "code",
   "execution_count": 29,
   "metadata": {},
   "outputs": [
    {
     "name": "stdout",
     "output_type": "stream",
     "text": [
      "17:45:06\n"
     ]
    }
   ],
   "source": [
    "current_init = datetime.datetime.now()\n",
    "print (current_init.strftime(\"%H:%M:%S\"))"
   ]
  },
  {
   "cell_type": "code",
   "execution_count": 30,
   "metadata": {
    "scrolled": true
   },
   "outputs": [
    {
     "name": "stdout",
     "output_type": "stream",
     "text": [
      "+----------+--------+-----+--------+------+\n",
      "|     fecha|    hora|  dia|id_tramo| media|\n",
      "+----------+--------+-----+--------+------+\n",
      "|2015-01-01|00:00:01|Lunes|    A252|1757.0|\n",
      "|2015-01-01|00:00:01|Lunes|    A295| 310.0|\n",
      "|2015-01-01|00:00:01|Lunes|    A195| 143.0|\n",
      "|2015-01-01|00:00:01|Lunes|    A132| 169.0|\n",
      "|2015-01-01|00:00:01|Lunes|     B42|  83.0|\n",
      "|2015-01-01|00:00:01|Lunes|     B74| 248.0|\n",
      "|2015-01-01|00:00:01|Lunes|    A261| 365.0|\n",
      "|2015-01-01|00:00:01|Lunes|    A360|1179.0|\n",
      "|2015-01-01|00:00:01|Lunes|    A186|1447.0|\n",
      "|2015-01-01|00:00:01|Lunes|    A134| 241.0|\n",
      "|2015-01-01|00:00:01|Lunes|     A90| 228.0|\n",
      "|2015-01-01|00:00:01|Lunes|    A141| 193.0|\n",
      "|2015-01-01|00:00:01|Lunes|    A408|1196.0|\n",
      "|2015-01-01|00:00:01|Lunes|     A33|1238.0|\n",
      "|2015-01-01|00:00:01|Lunes|    A129| 456.0|\n",
      "|2015-01-01|00:00:01|Lunes|     B53|  41.0|\n",
      "|2015-01-01|00:00:01|Lunes|    A275| 304.0|\n",
      "|2015-01-01|00:00:01|Lunes|    A287| 681.0|\n",
      "|2015-01-01|00:00:01|Lunes|    A234|1083.0|\n",
      "|2015-01-01|00:00:01|Lunes|     B31|  34.0|\n",
      "+----------+--------+-----+--------+------+\n",
      "only showing top 20 rows\n",
      "\n"
     ]
    }
   ],
   "source": [
    "query3 = \"SELECT \\\n",
    "            to_date(fecha,'yyyy-mm-dd') as fecha,\\\n",
    "            hora,\\\n",
    "            dia_semana as dia,\\\n",
    "            id_tramo,\\\n",
    "            avg(estado) as media\\\n",
    "            FROM trafico \\\n",
    "            WHERE to_date(fecha,'yyyy-mm-dd') >= '2015-01-01'\\\n",
    "            AND to_date(fecha,'yyyy-mm-dd') <= '2015-12-31'\\\n",
    "            GROUP BY fecha,hora,dia_semana,id_tramo \\\n",
    "            HAVING avg(estado) < 3256.5\\\n",
    "            ORDER BY 1,2,3\"\n",
    "df_spark2 = spark.sql(query3)\n",
    "df_spark2.show()"
   ]
  },
  {
   "cell_type": "code",
   "execution_count": 31,
   "metadata": {},
   "outputs": [
    {
     "name": "stdout",
     "output_type": "stream",
     "text": [
      "17:59:04\n"
     ]
    }
   ],
   "source": [
    "current_end = datetime.datetime.now()\n",
    "print (current_end.strftime(\"%H:%M:%S\"))"
   ]
  },
  {
   "cell_type": "code",
   "execution_count": 22,
   "metadata": {
    "scrolled": true
   },
   "outputs": [
    {
     "data": {
      "text/html": [
       "<div>\n",
       "<style scoped>\n",
       "    .dataframe tbody tr th:only-of-type {\n",
       "        vertical-align: middle;\n",
       "    }\n",
       "\n",
       "    .dataframe tbody tr th {\n",
       "        vertical-align: top;\n",
       "    }\n",
       "\n",
       "    .dataframe thead th {\n",
       "        text-align: right;\n",
       "    }\n",
       "</style>\n",
       "<table border=\"1\" class=\"dataframe\">\n",
       "  <thead>\n",
       "    <tr style=\"text-align: right;\">\n",
       "      <th></th>\n",
       "      <th>fecha</th>\n",
       "      <th>media</th>\n",
       "    </tr>\n",
       "  </thead>\n",
       "  <tbody>\n",
       "    <tr>\n",
       "      <th>0</th>\n",
       "      <td>2015-01-01</td>\n",
       "      <td>493.433296</td>\n",
       "    </tr>\n",
       "    <tr>\n",
       "      <th>1</th>\n",
       "      <td>2015-01-02</td>\n",
       "      <td>583.876004</td>\n",
       "    </tr>\n",
       "    <tr>\n",
       "      <th>2</th>\n",
       "      <td>2015-01-03</td>\n",
       "      <td>613.272727</td>\n",
       "    </tr>\n",
       "    <tr>\n",
       "      <th>3</th>\n",
       "      <td>2015-01-04</td>\n",
       "      <td>937.628987</td>\n",
       "    </tr>\n",
       "    <tr>\n",
       "      <th>4</th>\n",
       "      <td>2015-01-05</td>\n",
       "      <td>555.306586</td>\n",
       "    </tr>\n",
       "    <tr>\n",
       "      <th>...</th>\n",
       "      <td>...</td>\n",
       "      <td>...</td>\n",
       "    </tr>\n",
       "    <tr>\n",
       "      <th>349</th>\n",
       "      <td>2015-12-27</td>\n",
       "      <td>618.328742</td>\n",
       "    </tr>\n",
       "    <tr>\n",
       "      <th>350</th>\n",
       "      <td>2015-12-28</td>\n",
       "      <td>784.022130</td>\n",
       "    </tr>\n",
       "    <tr>\n",
       "      <th>351</th>\n",
       "      <td>2015-12-29</td>\n",
       "      <td>845.548183</td>\n",
       "    </tr>\n",
       "    <tr>\n",
       "      <th>352</th>\n",
       "      <td>2015-12-30</td>\n",
       "      <td>850.371451</td>\n",
       "    </tr>\n",
       "    <tr>\n",
       "      <th>353</th>\n",
       "      <td>2015-12-31</td>\n",
       "      <td>696.151985</td>\n",
       "    </tr>\n",
       "  </tbody>\n",
       "</table>\n",
       "<p>354 rows × 2 columns</p>\n",
       "</div>"
      ],
      "text/plain": [
       "          fecha       media\n",
       "0    2015-01-01  493.433296\n",
       "1    2015-01-02  583.876004\n",
       "2    2015-01-03  613.272727\n",
       "3    2015-01-04  937.628987\n",
       "4    2015-01-05  555.306586\n",
       "..          ...         ...\n",
       "349  2015-12-27  618.328742\n",
       "350  2015-12-28  784.022130\n",
       "351  2015-12-29  845.548183\n",
       "352  2015-12-30  850.371451\n",
       "353  2015-12-31  696.151985\n",
       "\n",
       "[354 rows x 2 columns]"
      ]
     },
     "execution_count": 22,
     "metadata": {},
     "output_type": "execute_result"
    }
   ],
   "source": [
    "query5 = 'SELECT fecha,avg(estado) as media FROM trafico GROUP BY fecha ORDER BY 1'\n",
    "df_spark3 = spark.sql(query5)\n",
    "df_spark3.toPandas()"
   ]
  },
  {
   "cell_type": "code",
   "execution_count": 8,
   "metadata": {},
   "outputs": [
    {
     "name": "stdout",
     "output_type": "stream",
     "text": [
      "+----------+----------+--------+--------------------+------------------+\n",
      "|     fecha|dia_semana|id_tramo|           des_tramo|             media|\n",
      "+----------+----------+--------+--------------------+------------------+\n",
      "|2015-01-01|    Jueves|      A1|ACCESO BARCELONA ...| 1596.896551724138|\n",
      "|2015-01-01|    Jueves|     A10|   ALAMEDA, PASEO DE| 747.6321839080459|\n",
      "|2015-01-01|    Jueves|    A102|      ERNESTO FERRER|139.72413793103448|\n",
      "|2015-01-01|    Jueves|    A104|       EUGENIA VIÑES|461.01149425287355|\n",
      "|2015-01-01|    Jueves|    A105|           FILIPINAS| 579.9176470588235|\n",
      "|2015-01-01|    Jueves|    A106|          FONTANARES| 181.1264367816092|\n",
      "|2015-01-01|    Jueves|    A107|      FRANCIA, AVDA.| 240.3793103448276|\n",
      "|2015-01-01|    Jueves|    A108|         GASCO OLIAG|250.88505747126436|\n",
      "|2015-01-01|    Jueves|    A109|      GASPAR AGUILAR|419.01176470588234|\n",
      "|2015-01-01|    Jueves|     A11|ALAMEDA, PROLONGA...|  210.632183908046|\n",
      "+----------+----------+--------+--------------------+------------------+\n",
      "only showing top 10 rows\n",
      "\n"
     ]
    }
   ],
   "source": [
    "query6 = \"SELECT \\\n",
    "            to_date(fecha,'yyyy-mm-dd') as fecha,\\\n",
    "            dia_semana,\\\n",
    "            id_tramo,\\\n",
    "            des_tramo,\\\n",
    "            avg(estado) as media\\\n",
    "            FROM trafico \\\n",
    "            WHERE to_date(fecha,'yyyy-mm-dd') >= '2015-01-01'\\\n",
    "            AND to_date(fecha,'yyyy-mm-dd') <= '2015-12-31'\\\n",
    "            GROUP BY fecha,dia_semana,id_tramo,des_tramo\\\n",
    "            HAVING avg(estado) < 3256.5\\\n",
    "            ORDER BY 1,2,3\"\n",
    "df_spark5 = spark.sql(query6)\n",
    "#df_spark5.toPandas()\n",
    "df_spark5.show(10)"
   ]
  },
  {
   "cell_type": "code",
   "execution_count": 18,
   "metadata": {},
   "outputs": [
    {
     "name": "stdout",
     "output_type": "stream",
     "text": [
      "+--------+--------------------+\n",
      "|id_tramo|           des_tramo|\n",
      "+--------+--------------------+\n",
      "|    A116|            GIORGETA|\n",
      "|    A118|           GERMANÍAS|\n",
      "|    A120|GRAN VIA MARQUES ...|\n",
      "|    A121|GRAN VIA MARQUES ...|\n",
      "|    A170|    NUEVE DE OCTUBRE|\n",
      "|    A193|             PIO XII|\n",
      "|    A271|PUENTE DE LAS VIE...|\n",
      "|    A278|    PUENTE DE ARAGÓN|\n",
      "|    A373|  ACCESO SUR (N-332)|\n",
      "|     A72|          AVDA. CID,|\n",
      "+--------+--------------------+\n",
      "\n"
     ]
    }
   ],
   "source": [
    "query_tramo = \"SELECT id_tramo,des_tramo FROM trafico WHERE id_tramo \\\n",
    "                IN ('A118','A72','A278','A121','A373','A120','A116','A170','A193','A271') \\\n",
    "                GROUP BY id_tramo,des_tramo\\\n",
    "                ORDER BY 1,2\"\n",
    "\n",
    "df_spark_tramo = spark.sql(query_tramo)\n",
    "df_spark_tramo.show()"
   ]
  },
  {
   "cell_type": "code",
   "execution_count": 19,
   "metadata": {},
   "outputs": [
    {
     "data": {
      "text/html": [
       "<div>\n",
       "<style scoped>\n",
       "    .dataframe tbody tr th:only-of-type {\n",
       "        vertical-align: middle;\n",
       "    }\n",
       "\n",
       "    .dataframe tbody tr th {\n",
       "        vertical-align: top;\n",
       "    }\n",
       "\n",
       "    .dataframe thead th {\n",
       "        text-align: right;\n",
       "    }\n",
       "</style>\n",
       "<table border=\"1\" class=\"dataframe\">\n",
       "  <thead>\n",
       "    <tr style=\"text-align: right;\">\n",
       "      <th></th>\n",
       "      <th>id_tramo</th>\n",
       "      <th>des_tramo</th>\n",
       "    </tr>\n",
       "  </thead>\n",
       "  <tbody>\n",
       "    <tr>\n",
       "      <th>0</th>\n",
       "      <td>A116</td>\n",
       "      <td>GIORGETA</td>\n",
       "    </tr>\n",
       "    <tr>\n",
       "      <th>1</th>\n",
       "      <td>A118</td>\n",
       "      <td>GERMANÍAS</td>\n",
       "    </tr>\n",
       "    <tr>\n",
       "      <th>2</th>\n",
       "      <td>A120</td>\n",
       "      <td>GRAN VIA MARQUES DEL TURIA</td>\n",
       "    </tr>\n",
       "    <tr>\n",
       "      <th>3</th>\n",
       "      <td>A121</td>\n",
       "      <td>GRAN VIA MARQUES DEL TURIA</td>\n",
       "    </tr>\n",
       "    <tr>\n",
       "      <th>4</th>\n",
       "      <td>A170</td>\n",
       "      <td>NUEVE DE OCTUBRE</td>\n",
       "    </tr>\n",
       "    <tr>\n",
       "      <th>5</th>\n",
       "      <td>A193</td>\n",
       "      <td>PIO XII</td>\n",
       "    </tr>\n",
       "    <tr>\n",
       "      <th>6</th>\n",
       "      <td>A271</td>\n",
       "      <td>PUENTE DE LAS VIEJAS GLORIAS</td>\n",
       "    </tr>\n",
       "    <tr>\n",
       "      <th>7</th>\n",
       "      <td>A278</td>\n",
       "      <td>PUENTE DE ARAGÓN</td>\n",
       "    </tr>\n",
       "    <tr>\n",
       "      <th>8</th>\n",
       "      <td>A373</td>\n",
       "      <td>ACCESO SUR (N-332)</td>\n",
       "    </tr>\n",
       "    <tr>\n",
       "      <th>9</th>\n",
       "      <td>A72</td>\n",
       "      <td>AVDA. CID,</td>\n",
       "    </tr>\n",
       "  </tbody>\n",
       "</table>\n",
       "</div>"
      ],
      "text/plain": [
       "  id_tramo                     des_tramo\n",
       "0     A116                      GIORGETA\n",
       "1     A118                     GERMANÍAS\n",
       "2     A120    GRAN VIA MARQUES DEL TURIA\n",
       "3     A121    GRAN VIA MARQUES DEL TURIA\n",
       "4     A170              NUEVE DE OCTUBRE\n",
       "5     A193                       PIO XII\n",
       "6     A271  PUENTE DE LAS VIEJAS GLORIAS\n",
       "7     A278              PUENTE DE ARAGÓN\n",
       "8     A373            ACCESO SUR (N-332)\n",
       "9      A72                    AVDA. CID,"
      ]
     },
     "execution_count": 19,
     "metadata": {},
     "output_type": "execute_result"
    }
   ],
   "source": [
    "df_spark_tramo.toPandas()"
   ]
  }
 ],
 "metadata": {
  "kernelspec": {
   "display_name": "Python 3",
   "language": "python",
   "name": "python3"
  },
  "language_info": {
   "codemirror_mode": {
    "name": "ipython",
    "version": 3
   },
   "file_extension": ".py",
   "mimetype": "text/x-python",
   "name": "python",
   "nbconvert_exporter": "python",
   "pygments_lexer": "ipython3",
   "version": "3.7.6"
  }
 },
 "nbformat": 4,
 "nbformat_minor": 2
}
